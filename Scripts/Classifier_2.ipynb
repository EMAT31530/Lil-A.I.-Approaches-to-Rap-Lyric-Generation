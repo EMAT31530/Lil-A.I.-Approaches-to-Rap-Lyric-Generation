{
  "nbformat": 4,
  "nbformat_minor": 0,
  "metadata": {
    "colab": {
      "name": "Classifier 2.ipynb",
      "provenance": [],
      "collapsed_sections": []
    },
    "kernelspec": {
      "name": "python3",
      "display_name": "Python 3"
    }
  },
  "cells": [
    {
      "cell_type": "code",
      "metadata": {
        "id": "a2soZZFioEfp"
      },
      "source": [
        "# I have copied and pasted some txt files in here for our data, not the best way for now but this is testing that the bayes functions work"
      ],
      "execution_count": null,
      "outputs": []
    },
    {
      "cell_type": "code",
      "metadata": {
        "id": "hD--jHMuoaY2"
      },
      "source": [
        "from sklearn.naive_bayes import MultinomialNB\n",
        "from sklearn.feature_extraction.text import CountVectorizer\n",
        "from sklearn.pipeline import Pipeline"
      ],
      "execution_count": 23,
      "outputs": []
    },
    {
      "cell_type": "code",
      "metadata": {
        "colab": {
          "base_uri": "https://localhost:8080/"
        },
        "id": "BKIZ2OdSpkCW",
        "outputId": "d4efbf31-ea9c-4d6c-c75a-d96ff52bab9b"
      },
      "source": [
        "from google.colab import drive\n",
        "drive.mount('/content/drive')"
      ],
      "execution_count": 15,
      "outputs": [
        {
          "output_type": "stream",
          "text": [
            "Mounted at /content/drive\n"
          ],
          "name": "stdout"
        }
      ]
    },
    {
      "cell_type": "code",
      "metadata": {
        "id": "u-cT4JryxhY4"
      },
      "source": [
        "# All Rock\n",
        "rock1 = open('/content/drive/My Drive/Colab Notebooks/AllRock.txt', 'r').read()\n",
        "rock = ''.join([i for i in rock1 if not i.isdigit()]).replace(\"\\n\", \" \").lower().replace(\".\", \"\").replace(\"!\", \"\").replace(\"?\", \"\").replace(\",\", \"\").replace(\"\", \"\").replace(\"'\", \"\").replace(\")\", \"\").replace(\"(\", \"\").split(' ')"
      ],
      "execution_count": 74,
      "outputs": []
    },
    {
      "cell_type": "code",
      "metadata": {
        "id": "mx7owvzQz7Gm"
      },
      "source": [
        "# All Pop\n",
        "pop1 = open('/content/drive/My Drive/Colab Notebooks/AllPop.txt', 'r').read()\n",
        "pop = ''.join([i for i in pop1 if not i.isdigit()]).replace(\"\\n\", \" \").lower().replace(\".\", \"\").replace(\"!\", \"\").replace(\"?\", \"\").replace(\",\", \"\").replace(\"\", \"\").replace(\"'\", \"\").replace(\")\", \"\").replace(\"(\", \"\").split(' ')"
      ],
      "execution_count": 75,
      "outputs": []
    },
    {
      "cell_type": "code",
      "metadata": {
        "id": "Qe_47m4C0Lat"
      },
      "source": [
        "# All Country\n",
        "country1 = open('/content/drive/My Drive/Colab Notebooks/AllCountry.txt', 'r').read()\n",
        "country = ''.join([i for i in country1 if not i.isdigit()]).replace(\"\\n\", \" \").lower().replace(\".\", \"\").replace(\"!\", \"\").replace(\"?\", \"\").replace(\",\", \"\").replace(\"\", \"\").replace(\"'\", \"\").replace(\")\", \"\").replace(\"(\", \"\").split(' ')"
      ],
      "execution_count": 76,
      "outputs": []
    },
    {
      "cell_type": "code",
      "metadata": {
        "id": "F_X52bkY0Ldp"
      },
      "source": [
        "# All Rap\n",
        "rap1 = open('/content/drive/My Drive/Colab Notebooks/AllLyrics.txt', 'r').read()\n",
        "rap = ''.join([i for i in rap1 if not i.isdigit()]).replace(\"\\n\", \" \").lower().replace(\".\", \"\").replace(\"!\", \"\").replace(\"?\", \"\").replace(\",\", \"\").replace(\"\", \"\").replace(\"'\", \"\").replace(\")\", \"\").replace(\"(\", \"\").split(' ')"
      ],
      "execution_count": 77,
      "outputs": []
    },
    {
      "cell_type": "code",
      "metadata": {
        "colab": {
          "base_uri": "https://localhost:8080/"
        },
        "id": "lY4w_RTW0LhC",
        "outputId": "e3881d32-4e1b-4582-e3e4-ae8c1ca60129"
      },
      "source": [
        "len(rock)"
      ],
      "execution_count": 78,
      "outputs": [
        {
          "output_type": "execute_result",
          "data": {
            "text/plain": [
              "72424"
            ]
          },
          "metadata": {
            "tags": []
          },
          "execution_count": 78
        }
      ]
    },
    {
      "cell_type": "code",
      "metadata": {
        "colab": {
          "base_uri": "https://localhost:8080/"
        },
        "id": "EBe_WyiB0LkH",
        "outputId": "30ba2604-da71-4015-8675-20a488e1e523"
      },
      "source": [
        "len(country)"
      ],
      "execution_count": 79,
      "outputs": [
        {
          "output_type": "execute_result",
          "data": {
            "text/plain": [
              "40133"
            ]
          },
          "metadata": {
            "tags": []
          },
          "execution_count": 79
        }
      ]
    },
    {
      "cell_type": "code",
      "metadata": {
        "colab": {
          "base_uri": "https://localhost:8080/"
        },
        "id": "CORhdZ-I0-8-",
        "outputId": "17fc1eab-4d87-4780-a4e5-8c9aa5522e72"
      },
      "source": [
        "len(pop)"
      ],
      "execution_count": 80,
      "outputs": [
        {
          "output_type": "execute_result",
          "data": {
            "text/plain": [
              "96752"
            ]
          },
          "metadata": {
            "tags": []
          },
          "execution_count": 80
        }
      ]
    },
    {
      "cell_type": "code",
      "metadata": {
        "colab": {
          "base_uri": "https://localhost:8080/"
        },
        "id": "Nj0IT2UN1Auz",
        "outputId": "bf5afb9c-c800-448c-d23b-5f1b0096ce34"
      },
      "source": [
        "len(rap)"
      ],
      "execution_count": 81,
      "outputs": [
        {
          "output_type": "execute_result",
          "data": {
            "text/plain": [
              "316190"
            ]
          },
          "metadata": {
            "tags": []
          },
          "execution_count": 81
        }
      ]
    },
    {
      "cell_type": "code",
      "metadata": {
        "id": "Cf12DtEK1Hu8"
      },
      "source": [
        "# Varying lengths - can improve on this in future - will train on 20000 words (choosing groups of 200 words as this is about average song length)\n",
        "# Make Training data - taking every odd 200 words as training\n",
        "SONG_LENGTH = 200\n",
        "TRAIN_LENGTH = 20000 # having same test length\n",
        "RANGE = 20000/200\n",
        "# Rock\n",
        "Train_Rock = sum([rock[i*SONG_LENGTH:(i+1)*SONG_LENGTH] for i in range(0,2*int(TRAIN_LENGTH/SONG_LENGTH),2)], [])\n",
        "# Country\n",
        "Train_Country = sum([country[i*SONG_LENGTH:(i+1)*SONG_LENGTH] for i in range(0,2*int(TRAIN_LENGTH/SONG_LENGTH),2)], [])\n",
        "# Pop\n",
        "Train_Pop = sum([pop[i*SONG_LENGTH:(i+1)*SONG_LENGTH] for i in range(0,2*int(TRAIN_LENGTH/SONG_LENGTH),2)], [])\n",
        "# Rap\n",
        "Train_Rap = sum([rap[i*SONG_LENGTH:(i+1)*SONG_LENGTH] for i in range(0,2*int(TRAIN_LENGTH/SONG_LENGTH),2)], [])\n",
        "\n",
        "# Make Test data - same but every even 200 words\n",
        "# Rock\n",
        "Test_Rock = sum([rock[(i+1)*SONG_LENGTH:(i+2)*SONG_LENGTH] for i in range(0,2*int(TRAIN_LENGTH/SONG_LENGTH),2)], [])\n",
        "# Country\n",
        "Test_Country = sum([country[(i+1)*SONG_LENGTH:(i+2)*SONG_LENGTH] for i in range(0,2*int(TRAIN_LENGTH/SONG_LENGTH),2)], [])\n",
        "# Pop\n",
        "Test_Pop = sum([pop[(i+1)*SONG_LENGTH:(i+2)*SONG_LENGTH] for i in range(0,2*int(TRAIN_LENGTH/SONG_LENGTH),2)], [])\n",
        "# Rap\n",
        "Test_Rap = sum([rap[(i+1)*SONG_LENGTH:(i+2)*SONG_LENGTH] for i in range(0,2*int(TRAIN_LENGTH/SONG_LENGTH),2)], [])"
      ],
      "execution_count": 119,
      "outputs": []
    },
    {
      "cell_type": "code",
      "metadata": {
        "id": "SpiS-laZo_A_"
      },
      "source": [
        "# Train classes\n",
        "Train_classRock = ['rock']*TRAIN_LENGTH\n",
        "Train_classCountry = ['country']*TRAIN_LENGTH\n",
        "Train_classPop = ['pop']*TRAIN_LENGTH\n",
        "Train_classRap = ['rap']*TRAIN_LENGTH\n",
        "# Test classes\n",
        "Test_classRock = ['rock']*TRAIN_LENGTH\n",
        "Test_classCountry = ['country']*TRAIN_LENGTH\n",
        "Test_classPop = ['pop']*TRAIN_LENGTH\n",
        "Test_classRap = ['rap']*TRAIN_LENGTH"
      ],
      "execution_count": 120,
      "outputs": []
    },
    {
      "cell_type": "code",
      "metadata": {
        "id": "H9Nb3viS2EeH"
      },
      "source": [
        "# Combine train lyrics and classes\n",
        "Train_Vocabulary = Train_Rock+Train_Country+Train_Pop+Train_Rap\n",
        "Train_Class = Train_classRock+Train_classCountry+Train_classPop+Train_classRap\n",
        "# Combine test lyrics and classes\n",
        "Test_Vocabulary = Test_Rock+Test_Country+Test_Pop+Test_Rap\n",
        "Test_Class = Test_classRock+Test_classCountry+Test_classPop+Test_classRap"
      ],
      "execution_count": 121,
      "outputs": []
    },
    {
      "cell_type": "code",
      "metadata": {
        "colab": {
          "base_uri": "https://localhost:8080/"
        },
        "id": "vs6WSXLA2En9",
        "outputId": "55b639cd-9de6-4af1-94e2-a9e0f6cee69d"
      },
      "source": [
        "# just word frequency\n",
        "# countvectorizer uses simple word counts\n",
        "classifier = Pipeline([('vector', CountVectorizer()), ('classifier', MultinomialNB(alpha=0))]) \n",
        "# can figure out what alpha is best - info on one of the scikit links above\n",
        "\n",
        "# training - obviously need different data to train\n",
        "classifier.fit(Train_Vocabulary, Train_Class)  "
      ],
      "execution_count": 122,
      "outputs": [
        {
          "output_type": "stream",
          "text": [
            "/usr/local/lib/python3.6/dist-packages/sklearn/naive_bayes.py:507: UserWarning: alpha too small will result in numeric errors, setting alpha = 1.0e-10\n",
            "  'setting alpha = %.1e' % _ALPHA_MIN)\n"
          ],
          "name": "stderr"
        },
        {
          "output_type": "execute_result",
          "data": {
            "text/plain": [
              "Pipeline(memory=None,\n",
              "         steps=[('vector',\n",
              "                 CountVectorizer(analyzer='word', binary=False,\n",
              "                                 decode_error='strict',\n",
              "                                 dtype=<class 'numpy.int64'>, encoding='utf-8',\n",
              "                                 input='content', lowercase=True, max_df=1.0,\n",
              "                                 max_features=None, min_df=1,\n",
              "                                 ngram_range=(1, 1), preprocessor=None,\n",
              "                                 stop_words=None, strip_accents=None,\n",
              "                                 token_pattern='(?u)\\\\b\\\\w\\\\w+\\\\b',\n",
              "                                 tokenizer=None, vocabulary=None)),\n",
              "                ('classifier',\n",
              "                 MultinomialNB(alpha=0, class_prior=None, fit_prior=True))],\n",
              "         verbose=False)"
            ]
          },
          "metadata": {
            "tags": []
          },
          "execution_count": 122
        }
      ]
    },
    {
      "cell_type": "code",
      "metadata": {
        "colab": {
          "base_uri": "https://localhost:8080/"
        },
        "id": "JY5fJqSd2EsS",
        "outputId": "47777dd8-8842-4846-c5f4-ea9bb53b4294"
      },
      "source": [
        "# to see how our model predicts test lyrics\n",
        "classified = classifier.predict(Test_Vocabulary) \n",
        "np.mean(classified == Test_Class) "
      ],
      "execution_count": 123,
      "outputs": [
        {
          "output_type": "execute_result",
          "data": {
            "text/plain": [
              "0.3917875"
            ]
          },
          "metadata": {
            "tags": []
          },
          "execution_count": 123
        }
      ]
    },
    {
      "cell_type": "code",
      "metadata": {
        "colab": {
          "base_uri": "https://localhost:8080/"
        },
        "id": "BpcwRk2F2E0B",
        "outputId": "e79f5fc5-7ea5-45f3-d1c7-9a4b3e8f60c3"
      },
      "source": [
        "# how does the classifier classify genre of each line (the lyrics were generated by function on Markov_6)\n",
        "classifier.predict(['Bumpin i meant for you call my ninja like',\n",
        " 'Biz dont take their baby mommas ninja frick you nasty boy you',\n",
        " 'Shifty sticks and pray and flee the frick all of you',\n",
        " 'Glocks but all ill die slow',\n",
        " 'Wondering if im askin blunt sip champagne range rover been outside for',\n",
        " 'And youre so take that crown two pounds you know',\n",
        " 'Publishing i thought i get witcha can i could cop',\n",
        " 'Miss the more cause you in the right one',\n",
        " 'Onyx and them hoes i love',\n",
        " 'Gat call me puff daddy biggie gots ta like',\n",
        " 'Everything around me shit b***** in ya imma stay yappin when',\n",
        " 'Hum all about fingers in the loot im',\n",
        " 'Rollem up heard whos this yeah keep on top sky is',\n",
        " 'Drunk of ninjaz from now drop to',\n",
        " 'Declinin windin like flypaper neighbor slow down',\n",
        " 'Expensive cars i tote my crew i only got enough heart',\n",
        " 'Lame dudes whos next move but the drugs to spit phrases thatll',\n",
        " 'Guy well its cool and your poop so hard to',\n",
        " 'Clap wit my life in ma little nasty boy',\n",
        " 'Dial you should too much better man played',\n",
        " 'Lali like that you frick doin all mcs have'])"
      ],
      "execution_count": 124,
      "outputs": [
        {
          "output_type": "execute_result",
          "data": {
            "text/plain": [
              "array(['rap', 'rap', 'country', 'pop', 'rap', 'pop', 'rap', 'rock', 'rap',\n",
              "       'pop', 'rap', 'pop', 'rap', 'rock', 'rap', 'rap', 'rap', 'rap',\n",
              "       'rap', 'rap', 'rap'], dtype='<U7')"
            ]
          },
          "metadata": {
            "tags": []
          },
          "execution_count": 124
        }
      ]
    },
    {
      "cell_type": "code",
      "metadata": {
        "colab": {
          "base_uri": "https://localhost:8080/"
        },
        "id": "HK_sEs5nBpDw",
        "outputId": "e683f40f-37c8-41d4-84dc-3166cfd1dd73"
      },
      "source": [
        "14/21"
      ],
      "execution_count": 125,
      "outputs": [
        {
          "output_type": "execute_result",
          "data": {
            "text/plain": [
              "0.6666666666666666"
            ]
          },
          "metadata": {
            "tags": []
          },
          "execution_count": 125
        }
      ]
    },
    {
      "cell_type": "code",
      "metadata": {
        "id": "JgBUW-EeB71T"
      },
      "source": [
        "# Has tested this reasonably well - but can improve on the 0.3917875 mark we got on test data - may choose to have more training data and less test\n",
        "# Either way - going forward we could well do with more lyrics for genres that aren't rap"
      ],
      "execution_count": null,
      "outputs": []
    }
  ]
}