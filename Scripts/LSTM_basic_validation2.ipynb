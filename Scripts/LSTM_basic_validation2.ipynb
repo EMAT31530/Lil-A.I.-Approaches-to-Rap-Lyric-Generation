{
  "nbformat": 4,
  "nbformat_minor": 0,
  "metadata": {
    "colab": {
      "name": "LSTM-basic-validation2",
      "provenance": [],
      "collapsed_sections": []
    },
    "kernelspec": {
      "name": "python3",
      "display_name": "Python 3"
    },
    "accelerator": "GPU"
  },
  "cells": [
    {
      "cell_type": "markdown",
      "metadata": {
        "id": "MGMDajrg_Oa1"
      },
      "source": [
        "LSTM model architecture 2:\n",
        "\n",
        "First working model (previous one didn't produce lyrics correctly) with and Embedding layer, a Bidirectional LSTM layer, a dropout layers to avoid overfitting and a dense layer.\n",
        "\n",
        "\n",
        "\n",
        "Also includes function that outputs most used words in the Vocabulary.\n",
        "\n",
        "Has a basic lyric generator that can be improved. Maybe we can create a loss function which favours rhyme or look at creating bars line by line. The problem with this was bars ending in words like 'i' and 'the' as lines were getting cut short.\n"
      ]
    },
    {
      "cell_type": "code",
      "metadata": {
        "colab": {
          "base_uri": "https://localhost:8080/"
        },
        "id": "RyEQkMNVxPS7",
        "outputId": "6f92f325-5423-44cf-d990-7d88fa37376c"
      },
      "source": [
        "import tensorflow as tf\n",
        "from tensorflow.keras.models import Sequential\n",
        "from tensorflow.keras.layers import Dense, GRU, Embedding\n",
        "from tensorflow.keras.optimizers import Adam\n",
        "from tensorflow.keras.preprocessing.text import Tokenizer\n",
        "from tensorflow.keras.preprocessing.sequence import pad_sequences\n",
        "from keras.layers import LSTM\n",
        "from google.colab import files\n",
        "from google.colab import drive\n",
        "import numpy as np\n",
        "#@title Import Statements`\n",
        "!pip install PyGithub\n",
        "\n",
        "# Package Imports\n",
        "import random\n",
        "import pandas as pd \n",
        "import numpy as np\n",
        "import matplotlib.pyplot as plt \n",
        "from urllib.request import urlopen # The default requests package\n",
        "import requests # For making GitHub requests\n",
        "from pprint import pprint # For pretty printing\n",
        "from pathlib import Path # The Path class\n",
        "\n",
        "# For the more advanced requests\n",
        "import base64\n",
        "import os\n",
        "import sys\n",
        "sys.path.append(\"./PyGithub\");\n",
        "from github import Github\n",
        "from getpass import getpass\n"
      ],
      "execution_count": 1,
      "outputs": [
        {
          "output_type": "stream",
          "text": [
            "Collecting PyGithub\n",
            "\u001b[?25l  Downloading https://files.pythonhosted.org/packages/18/44/df78514f2b5f5abaec330596e0fa3273824238399a964d1a7e82fd39990d/PyGithub-1.54.1-py3-none-any.whl (289kB)\n",
            "\r\u001b[K     |█▏                              | 10kB 20.4MB/s eta 0:00:01\r\u001b[K     |██▎                             | 20kB 27.5MB/s eta 0:00:01\r\u001b[K     |███▍                            | 30kB 27.3MB/s eta 0:00:01\r\u001b[K     |████▌                           | 40kB 29.6MB/s eta 0:00:01\r\u001b[K     |█████▊                          | 51kB 27.9MB/s eta 0:00:01\r\u001b[K     |██████▉                         | 61kB 30.3MB/s eta 0:00:01\r\u001b[K     |████████                        | 71kB 22.2MB/s eta 0:00:01\r\u001b[K     |█████████                       | 81kB 23.3MB/s eta 0:00:01\r\u001b[K     |██████████▏                     | 92kB 20.3MB/s eta 0:00:01\r\u001b[K     |███████████▍                    | 102kB 20.5MB/s eta 0:00:01\r\u001b[K     |████████████▌                   | 112kB 20.5MB/s eta 0:00:01\r\u001b[K     |█████████████▋                  | 122kB 20.5MB/s eta 0:00:01\r\u001b[K     |██████████████▊                 | 133kB 20.5MB/s eta 0:00:01\r\u001b[K     |███████████████▉                | 143kB 20.5MB/s eta 0:00:01\r\u001b[K     |█████████████████               | 153kB 20.5MB/s eta 0:00:01\r\u001b[K     |██████████████████▏             | 163kB 20.5MB/s eta 0:00:01\r\u001b[K     |███████████████████▎            | 174kB 20.5MB/s eta 0:00:01\r\u001b[K     |████████████████████▍           | 184kB 20.5MB/s eta 0:00:01\r\u001b[K     |█████████████████████▌          | 194kB 20.5MB/s eta 0:00:01\r\u001b[K     |██████████████████████▊         | 204kB 20.5MB/s eta 0:00:01\r\u001b[K     |███████████████████████▉        | 215kB 20.5MB/s eta 0:00:01\r\u001b[K     |█████████████████████████       | 225kB 20.5MB/s eta 0:00:01\r\u001b[K     |██████████████████████████      | 235kB 20.5MB/s eta 0:00:01\r\u001b[K     |███████████████████████████▏    | 245kB 20.5MB/s eta 0:00:01\r\u001b[K     |████████████████████████████▍   | 256kB 20.5MB/s eta 0:00:01\r\u001b[K     |█████████████████████████████▌  | 266kB 20.5MB/s eta 0:00:01\r\u001b[K     |██████████████████████████████▋ | 276kB 20.5MB/s eta 0:00:01\r\u001b[K     |███████████████████████████████▊| 286kB 20.5MB/s eta 0:00:01\r\u001b[K     |████████████████████████████████| 296kB 20.5MB/s \n",
            "\u001b[?25hRequirement already satisfied: requests>=2.14.0 in /usr/local/lib/python3.7/dist-packages (from PyGithub) (2.23.0)\n",
            "Collecting deprecated\n",
            "  Downloading https://files.pythonhosted.org/packages/fb/73/994edfcba74443146c84b91921fcc269374354118d4f452fb0c54c1cbb12/Deprecated-1.2.12-py2.py3-none-any.whl\n",
            "Collecting pyjwt<2.0\n",
            "  Downloading https://files.pythonhosted.org/packages/87/8b/6a9f14b5f781697e51259d81657e6048fd31a113229cf346880bb7545565/PyJWT-1.7.1-py2.py3-none-any.whl\n",
            "Requirement already satisfied: chardet<4,>=3.0.2 in /usr/local/lib/python3.7/dist-packages (from requests>=2.14.0->PyGithub) (3.0.4)\n",
            "Requirement already satisfied: idna<3,>=2.5 in /usr/local/lib/python3.7/dist-packages (from requests>=2.14.0->PyGithub) (2.10)\n",
            "Requirement already satisfied: urllib3!=1.25.0,!=1.25.1,<1.26,>=1.21.1 in /usr/local/lib/python3.7/dist-packages (from requests>=2.14.0->PyGithub) (1.24.3)\n",
            "Requirement already satisfied: certifi>=2017.4.17 in /usr/local/lib/python3.7/dist-packages (from requests>=2.14.0->PyGithub) (2020.12.5)\n",
            "Requirement already satisfied: wrapt<2,>=1.10 in /usr/local/lib/python3.7/dist-packages (from deprecated->PyGithub) (1.12.1)\n",
            "Installing collected packages: deprecated, pyjwt, PyGithub\n",
            "Successfully installed PyGithub-1.54.1 deprecated-1.2.12 pyjwt-1.7.1\n"
          ],
          "name": "stdout"
        }
      ]
    },
    {
      "cell_type": "code",
      "metadata": {
        "id": "6HfS1LmNxiMp"
      },
      "source": [
        "#@title Function Definitions\n",
        "# Recursively Import the Data (AUTOMATIC)\n",
        "\n",
        "def _decode_and_write(file__, path_):\n",
        "    data = file__.decoded_content\n",
        "    data = data.decode('utf-8')[1:]\n",
        "    with open(path_, 'w') as writefile:\n",
        "        writefile.write(data) \n",
        "    data = data.splitlines()\n",
        "    data_rows = []\n",
        "    for count, word in enumerate(data):\n",
        "        if count>0:\n",
        "            data_rows.append(word.split(','))\n",
        "    data = pd.DataFrame(data_rows)\n",
        "    data = data.to_numpy()\n",
        "    return data\n",
        "\n",
        "\n",
        "def import_github(path_name=\"AllLyrics.txt\"):\n",
        "    \"\"\"\n",
        "    Function for importing the github file\n",
        "    path_name: str\n",
        "    output: None\n",
        "    \"\"\"\n",
        "    g = Github(getpass(\"Enter your PAT key \")) # Enter your PAT Key.\n",
        "    username = \"MikeMNelhams\"\n",
        "    main_branch_bool = input(\"Main Branch: Yes or No? \")\n",
        "    yes_synonyms = [\"yes\", \"y\", \"yh\", \"1\", \"true\"]\n",
        "    if main_branch_bool.lower() in yes_synonyms: \n",
        "        branch = \"master\" \n",
        "    else: \n",
        "        branch = \"PROTOTYPE\"\n",
        "\n",
        "    user = g.get_user(username)\n",
        "    r_proj_clone = 0\n",
        "    for repo in g.get_user().get_repos():\n",
        "        if repo.name == \"ai-group-project-Team-JMJM\":\n",
        "            r_proj_clone = repo\n",
        "            break\n",
        "        # To see all the available attributes and methods\n",
        "        print(dir(repo))\n",
        "    if not r_proj_clone:\n",
        "        print(\"ai-group-project-Team-JMJM not found\")\n",
        "        sys.exit()\n",
        "    print(\"Importing Github cleaned text files...\")\n",
        "    contents = r_proj_clone.get_contents(\"RapLyrics/CLEAN\", ref=branch)\n",
        "    RAP_DATA = []\n",
        "    for file_ in contents:\n",
        "        path = file_.path\n",
        "        path = str(path) \n",
        "        # Only choose the .txt files\n",
        "        if path[-4:] == '.txt':\n",
        "            # Append the Lyrics\n",
        "            RAP_DATA.append(file_.decoded_content.decode(\"utf-8\")) \n",
        "    \n",
        "    temp_path = Path(path_name)\n",
        "    if temp_path.is_file(): \n",
        "        if os.stat(path_name).st_size == 0:\n",
        "            write_bool2 = True\n",
        "        else: \n",
        "            write_bool2 = False\n",
        "    else: \n",
        "        write_bool2 = True\n",
        "    \n",
        "    if write_bool2: \n",
        "        for lyric in RAP_DATA: \n",
        "            try:\n",
        "                with open(path_name, 'w') as writefile: \n",
        "                    writefile.write(lyric)\n",
        "            except: \n",
        "                print(\"Error, file moved/deleted during write\")\n",
        "        print(\"{} is now up to date!\".format(path_name))\n",
        "    else: \n",
        "        print(\"{} is already up to date!\".format(path_name))\n",
        "    \n",
        "    contents = r_proj_clone.get_contents(\"RapLyrics/Other\", ref=branch)\n",
        "    for counter, file_ in enumerate(contents):\n",
        "        path = file_.path\n",
        "        path = str(path) \n",
        "\n",
        "        title_start = path.find('Other')\n",
        "        title_len = path[title_start:].find('.')\n",
        "        path = path[title_start + 6:title_start + title_len + 4]\n",
        "\n",
        "        print(\"Writing file {} {}\".format(counter, path))\n",
        "        temp_path = Path(path)\n",
        "        if temp_path.is_file():\n",
        "            with open(path,'w'): pass # Cheeky way to clear the file if it exists\n",
        "        \n",
        "        # Split the long string into a list of lines, then split by words, then put into a csv, then to numpy array \n",
        "        data = file_.decoded_content\n",
        "        data = data.decode('utf-8')[1:]\n",
        "\n",
        "        with open(path, 'w') as writefile:\n",
        "            writefile.write(data) \n",
        "        print(\"All files now up to date!\")\n",
        "\n",
        "\n",
        "def update_github(write_bool=False, path_name=\"AllLyrics.txt\"):\n",
        "    \"\"\"\n",
        "    Function for updating the github file, by cleaning the lyrics, optional write to txt file. \n",
        "    write_bool: bool\n",
        "    path_name: str\n",
        "    output: None\n",
        "    \"\"\"\n",
        "    g = Github(getpass(\"Enter your PAT key \")) # Enter your PAT Key.\n",
        "    username = \"MikeMNelhams\"\n",
        "    main_branch_bool = input(\"Main Branch: Yes or No? \")\n",
        "    yes_synonyms = [\"yes\", \"y\", \"yh\", \"1\", \"true\"]\n",
        "    if main_branch_bool.lower() in yes_synonyms: \n",
        "        branch = \"master\" \n",
        "    else: \n",
        "        branch = \"PROTOTYPE\"\n",
        "\n",
        "    user = g.get_user(username)\n",
        "    r_proj_clone = 0\n",
        "    for repo in g.get_user().get_repos():\n",
        "        if repo.name == \"ai-group-project-Team-JMJM\":\n",
        "            r_proj_clone = repo\n",
        "            break\n",
        "        # To see all the available attributes and methods\n",
        "        print(dir(repo))\n",
        "    \n",
        "    if not r_proj_clone:\n",
        "        print(\"ai-group-project-Team-JMJM not found\")\n",
        "        sys.exit()\n",
        "\n",
        "    print(\"Importing editing csv files...\")\n",
        "\n",
        "    # Split the long string into a list of lines, then split by words, then put into a csv, then to numpy arr\n",
        "    contents = r_proj_clone.get_contents(\"RapLyrics/Other\", ref=branch)\n",
        "    for counter, file_ in enumerate(contents):\n",
        "        path = file_.path \n",
        "        path = str(path)\n",
        "        title_start = path.find('Other')\n",
        "        title_len = path[title_start:].find('.')\n",
        "        name = path[title_start + 6:title_start + title_len + 4]\n",
        "        print(\"Writing file {} {}\".format(counter, name))\n",
        "        if name.lower() == \"censors.csv\":\n",
        "            censors = _decode_and_write(file_, path)\n",
        "        elif name.lower() == \"capitals.csv\":\n",
        "            capitals = _decode_and_write(file_, path)\n",
        "        else: \n",
        "            _decode_and_write(file_, path)\n",
        "    print(\"All editing csv files are up to date!\")\n",
        "\n",
        "    print(\"Importing Github uncleaned text files...\")\n",
        "    contents = r_proj_clone.get_contents(\"RapLyrics/UNCLEAN\", ref=branch)\n",
        "\n",
        "    RAP_DATA = []\n",
        "    rap_lyric_names = []\n",
        "\n",
        "    for file_ in contents:\n",
        "        path = file_.path\n",
        "        path = str(path) \n",
        "        # Only choose the .txt files\n",
        "        if path[-4:] == '.txt':\n",
        "            # Append the name\n",
        "            title_start = path.find('UNCLEAN')\n",
        "            title_len = path[title_start:].find('.')\n",
        "            name = path[title_start + 8:title_start + title_len]\n",
        "            if name[-2:] == 'UC':\n",
        "                name = name[:-2]\n",
        "            rap_lyric_names.append(name) \n",
        "\n",
        "        # Append the Lyrics\n",
        "        RAP_DATA.append(file_.decoded_content.decode(\"utf-8\")) \n",
        "        \n",
        "    # Remove the \\ufeff at the beginning O(n)\n",
        "    for count, lyric in enumerate(RAP_DATA): \n",
        "        RAP_DATA[count] = lyric[1:]\n",
        "\n",
        "    # Censor the profanities O(n*m + n*m2) m > m2 xor m2 > m\n",
        "    for count in range(len(RAP_DATA)): \n",
        "        for i in range(len(censors[0:])):\n",
        "            RAP_DATA[count] = RAP_DATA[count].replace(str(censors[i, 0]), str(censors[i, 1]))\n",
        "        for i in range(len(capitals[0:])):\n",
        "            RAP_DATA[count] = RAP_DATA[count].replace(str(capitals[i, 0]), str(capitals[i, 1]))\n",
        "\n",
        "    contents = r_proj_clone.get_contents(\"RapLyrics/CLEAN\", ref=branch)\n",
        "    cleaned_names = []\n",
        "    for counter, file_ in enumerate(contents):\n",
        "        path = file_.path\n",
        "        path = str(path) \n",
        "        print(\"File {} \".format(counter + 1) + path)\n",
        "        # Only choose the .txt files\n",
        "        if path[-4:] == '.txt':\n",
        "            # Append the name\n",
        "            title_start = path.find('CLEAN')\n",
        "            title_len = path[title_start:].find('.')\n",
        "        name = path[title_start + 6:title_start + title_len]\n",
        "        if name[-2:] == 'CL':\n",
        "            name = name[:-2]\n",
        "        cleaned_names.append(name) \n",
        "\n",
        "    # ALL OF THE EDITING IS DONE IN THE 'PROTOTYPE BRANCH' to avoid overwriting import changes\n",
        "    # If the (now cleaned) rap_lyrics name is new (not in cleaned_names), then we want to create that as a new file \n",
        "    # If the (now cleaned) rap_lyrics name is NOT new (not in cleaned_names), then we want to update the file\n",
        "    # print(rap_lyric_names)\n",
        "    # print(cleaned_names)\n",
        "    print(\"Commiting files to github...\")\n",
        "    for counter, new_name in enumerate(rap_lyric_names): \n",
        "        if new_name in cleaned_names: \n",
        "            duplicate = r_proj_clone.get_contents(\"RapLyrics/CLEAN/{}CL.txt\".format(new_name), ref=branch)\n",
        "            r_proj_clone.update_file(\"RapLyrics/CLEAN/{}CL.txt\".format(new_name), \"This was uploaded automatically via pipeline\", RAP_DATA[counter], duplicate.sha, branch=branch)\n",
        "        else:\n",
        "            r_proj_clone.create_file(\"RapLyrics/CLEAN/{}CL.txt\".format(new_name), \"This was uploaded automatically via pipeline\", RAP_DATA[counter], branch=branch)\n",
        "\n",
        "    if write_bool: \n",
        "        print(\"Writing text file to: {}\".format(path_name))\n",
        "        with open(path_name, 'w') as writefile:\n",
        "            for lyric in RAP_DATA:\n",
        "                writefile.write(lyric)"
      ],
      "execution_count": 2,
      "outputs": []
    },
    {
      "cell_type": "code",
      "metadata": {
        "colab": {
          "base_uri": "https://localhost:8080/"
        },
        "id": "CtfMMwOdxmt_",
        "outputId": "3cc0c03e-8146-4692-a09d-449a918f215a"
      },
      "source": [
        "# Import all of Mike's lyrics. PATKEY: 5ae2446bd5828c9e27deb3865118d9e783aa6e15\n",
        "import_github()"
      ],
      "execution_count": 3,
      "outputs": [
        {
          "output_type": "stream",
          "text": [
            "Enter your PAT key ··········\n",
            "Main Branch: Yes or No? Yes\n",
            "Importing Github cleaned text files...\n",
            "AllLyrics.txt is now up to date!\n",
            "Writing file 0 capitals.csv\n",
            "All files now up to date!\n",
            "Writing file 1 censors.csv\n",
            "All files now up to date!\n",
            "Writing file 2 censors2.csv\n",
            "All files now up to date!\n"
          ],
          "name": "stdout"
        }
      ]
    },
    {
      "cell_type": "code",
      "metadata": {
        "id": "6VjURXnfxsKJ"
      },
      "source": [
        "Text = open(\"AllLyrics.txt\", \"r\").read()\n",
        "# turn text to lower case to reduce vocabulary\n",
        "Text = Text.lower()\n",
        "with open(\"AllLyrics.txt\", \"r\") as f:\n",
        "    content = f.readlines()\n",
        "# bars is a list containing each line in dataset in lowercase\n",
        "bars = [x.strip().lower() for x in content]\n",
        "stripped_bars = [word.split() for word in bars]\n",
        "# Vocabulary is a list of all words in the dataset\n",
        "Vocabulary = ''.join([i for i in Text if not i.isdigit()]).replace(\"\\n\",\" \").split(' ')"
      ],
      "execution_count": 4,
      "outputs": []
    },
    {
      "cell_type": "code",
      "metadata": {
        "id": "uLpVvXPQ2rHL",
        "colab": {
          "base_uri": "https://localhost:8080/"
        },
        "outputId": "9603a13b-37bd-4852-c383-6bd9d902b85d"
      },
      "source": [
        "# The numbers of bars in our dataset, 5283\n",
        "no_of_bars = len(bars)\n",
        "print(no_of_bars)"
      ],
      "execution_count": 5,
      "outputs": [
        {
          "output_type": "stream",
          "text": [
            "5283\n"
          ],
          "name": "stdout"
        }
      ]
    },
    {
      "cell_type": "code",
      "metadata": {
        "id": "jIRyjmQeyaAG"
      },
      "source": [
        "# word_count is a function creating a list of words ranked in order of most used\n",
        "# could think about removing certain words to create more accurate raps as model won't learn well from words used very infrequently\n",
        "def word_count(lyrics):\n",
        "  a = {}\n",
        "  for word in Vocabulary:\n",
        "    if word in a:\n",
        "      a[word] += 1\n",
        "    else:\n",
        "      a[word] = 1\n",
        "  return a\n",
        "word_dict = word_count(Vocabulary)\n",
        "sort_dict = sorted(word_dict.items(), key = lambda x: x[1], reverse = True)\n",
        "# Top 20 words\n",
        "sort_dict1 = sort_dict[:40]"
      ],
      "execution_count": 6,
      "outputs": []
    },
    {
      "cell_type": "code",
      "metadata": {
        "id": "ZIweRLWJqfax"
      },
      "source": [
        "# Need to create dictionary listing the words in alphabetical order so we can assign unique integers to each word\n",
        "# Neural networks take in integers, not words\n",
        "words = sorted(list(set(Vocabulary)))\n",
        "# Create a dictionary whereby we can convert integers into words\n",
        "word_to_int = { words[i] : i for i in range(len(words))}\n",
        "# Need to reverse this at the end to reverse numbers back into words\n",
        "int_to_word = { i : words[i] for i in range(len(words))}"
      ],
      "execution_count": 7,
      "outputs": []
    },
    {
      "cell_type": "code",
      "metadata": {
        "id": "nzfKleYrygft"
      },
      "source": [
        "# create a function that converts bars into a sequence of unique integers\n",
        "def words_to_integers(bar, Vocabulary):\n",
        "  encode = []\n",
        "  # Need to strip bar into single list of words within bar\n",
        "  stripped_bar = [word.split() for word in bar]\n",
        "  for i in range(no_of_bars):\n",
        "    seq = []\n",
        "    seq.append([word_to_int[word] for word in stripped_bar[i]])\n",
        "    encode.append(seq)\n",
        "\n",
        "  encode = sum(encode, [])\n",
        "  return encode"
      ],
      "execution_count": 8,
      "outputs": []
    },
    {
      "cell_type": "code",
      "metadata": {
        "colab": {
          "base_uri": "https://localhost:8080/"
        },
        "id": "7RHaklDv5tZN",
        "outputId": "194f801e-29fe-4af9-9b2c-b8b1b9e0fdfc"
      },
      "source": [
        "# Number of unique words in our dataset\n",
        "vocab_size = len(words) + 1\n",
        "print(vocab_size)"
      ],
      "execution_count": 9,
      "outputs": [
        {
          "output_type": "stream",
          "text": [
            "5066\n"
          ],
          "name": "stdout"
        }
      ]
    },
    {
      "cell_type": "code",
      "metadata": {
        "id": "yJs1kvSVAhZO"
      },
      "source": [
        "# Define a function that converts sentences into a sequence of corresponding integers\n",
        "def sentence_to_integer(bar):\n",
        "    stripped_bar = [word.split() for word in [bar]]\n",
        "    stripped_bar = sum(stripped_bar, [])\n",
        "    seq = []\n",
        "    seq.append([word_to_int[word] for word in stripped_bar])\n",
        "    seq = sum(seq, [])\n",
        "    return seq"
      ],
      "execution_count": 10,
      "outputs": []
    },
    {
      "cell_type": "code",
      "metadata": {
        "id": "i2Log92J2ZdU"
      },
      "source": [
        "# Want to convert bars into n-grams of increasing length\n",
        "# So we start with the first two words and create lists of increasing length after adding the next word\n",
        "sequences = []\n",
        "for line in bars:\n",
        "    token_list = sentence_to_integer(line)\n",
        "    for i in range(1, len(token_list)):\n",
        "        n_gram_seq = token_list[:i+1]\n",
        "        sequences.append(n_gram_seq)"
      ],
      "execution_count": 11,
      "outputs": []
    },
    {
      "cell_type": "code",
      "metadata": {
        "colab": {
          "base_uri": "https://localhost:8080/"
        },
        "id": "ABAKPmzErRT_",
        "outputId": "e9433fcb-3a17-41b2-ba0a-e792788ec3c4"
      },
      "source": [
        "# We need to pad each line so that each line is of equal length for our model\n",
        "# Thus need to find max length of a bar so we can pad all bars to this length\n",
        "padding_length = max([len(line) for line in sequences])\n",
        "print(padding_length)"
      ],
      "execution_count": 12,
      "outputs": [
        {
          "output_type": "stream",
          "text": [
            "66\n"
          ],
          "name": "stdout"
        }
      ]
    },
    {
      "cell_type": "code",
      "metadata": {
        "id": "1PV9FBI_EsEQ"
      },
      "source": [
        "from tensorflow.keras.preprocessing.sequence import pad_sequences\n",
        "sequences = np.array(pad_sequences(sequences, maxlen = padding_length, padding = 'pre'))\n",
        "# Remove last word from each line\n",
        "x_train = sequences[:,:-1]\n",
        "# Last word is used as the label\n",
        "y_train = sequences[:,-1]\n",
        "# one hot encode the the outputs \n",
        "y_train = tf.keras.utils.to_categorical(y_train, num_classes = vocab_size)"
      ],
      "execution_count": 13,
      "outputs": []
    },
    {
      "cell_type": "code",
      "metadata": {
        "id": "3dnpWnIJwMpH"
      },
      "source": [
        "from sklearn.model_selection import train_test_split\n",
        "x_train, x_test, y_train, y_test = train_test_split(x_train, y_train, test_size=0.3, random_state=1)"
      ],
      "execution_count": 14,
      "outputs": []
    },
    {
      "cell_type": "code",
      "metadata": {
        "colab": {
          "base_uri": "https://localhost:8080/"
        },
        "id": "BWoLXV1Qr4E9",
        "outputId": "8b62791b-58e8-4d76-ccc1-816f72c4368b"
      },
      "source": [
        "from tensorflow.keras.models import Sequential\n",
        "from tensorflow.keras.layers import Dense, Embedding, LSTM, Dropout, Bidirectional\n",
        "model = Sequential()\n",
        "model.add(Embedding(vocab_size, 512, input_length = padding_length - 1))\n",
        "model.add(Bidirectional(LSTM(512)))\n",
        "model.add(Dropout(0.3))\n",
        "model.add(Dense(vocab_size, activation = 'softmax'))\n",
        "\n",
        "model.compile(loss = 'categorical_crossentropy', metrics = ['accuracy'], optimizer = 'adam')\n",
        "model.summary()"
      ],
      "execution_count": 15,
      "outputs": [
        {
          "output_type": "stream",
          "text": [
            "Model: \"sequential\"\n",
            "_________________________________________________________________\n",
            "Layer (type)                 Output Shape              Param #   \n",
            "=================================================================\n",
            "embedding (Embedding)        (None, 65, 512)           2593792   \n",
            "_________________________________________________________________\n",
            "bidirectional (Bidirectional (None, 1024)              4198400   \n",
            "_________________________________________________________________\n",
            "dropout (Dropout)            (None, 1024)              0         \n",
            "_________________________________________________________________\n",
            "dense (Dense)                (None, 5066)              5192650   \n",
            "=================================================================\n",
            "Total params: 11,984,842\n",
            "Trainable params: 11,984,842\n",
            "Non-trainable params: 0\n",
            "_________________________________________________________________\n"
          ],
          "name": "stdout"
        }
      ]
    },
    {
      "cell_type": "code",
      "metadata": {
        "colab": {
          "base_uri": "https://localhost:8080/"
        },
        "id": "Ar4UNHRZtBrp",
        "outputId": "6bc83db6-9665-4637-f4ac-e972c1000175"
      },
      "source": [
        "history = model.fit(x_train, y_train,validation_split=0.15, epochs = 50, batch_size = 256)"
      ],
      "execution_count": 16,
      "outputs": [
        {
          "output_type": "stream",
          "text": [
            "Epoch 1/50\n",
            "96/96 [==============================] - 60s 304ms/step - loss: 7.0905 - accuracy: 0.0424 - val_loss: 6.4619 - val_accuracy: 0.0470\n",
            "Epoch 2/50\n",
            "96/96 [==============================] - 28s 296ms/step - loss: 6.2753 - accuracy: 0.0586 - val_loss: 6.2455 - val_accuracy: 0.0791\n",
            "Epoch 3/50\n",
            "96/96 [==============================] - 29s 297ms/step - loss: 5.9568 - accuracy: 0.0868 - val_loss: 6.0027 - val_accuracy: 0.1002\n",
            "Epoch 4/50\n",
            "96/96 [==============================] - 29s 300ms/step - loss: 5.4583 - accuracy: 0.1284 - val_loss: 5.8174 - val_accuracy: 0.1356\n",
            "Epoch 5/50\n",
            "96/96 [==============================] - 29s 300ms/step - loss: 4.9780 - accuracy: 0.1735 - val_loss: 5.6508 - val_accuracy: 0.1679\n",
            "Epoch 6/50\n",
            "96/96 [==============================] - 29s 299ms/step - loss: 4.4997 - accuracy: 0.2154 - val_loss: 5.5413 - val_accuracy: 0.1916\n",
            "Epoch 7/50\n",
            "96/96 [==============================] - 29s 299ms/step - loss: 4.0468 - accuracy: 0.2624 - val_loss: 5.4703 - val_accuracy: 0.2144\n",
            "Epoch 8/50\n",
            "96/96 [==============================] - 29s 300ms/step - loss: 3.6249 - accuracy: 0.3157 - val_loss: 5.4279 - val_accuracy: 0.2347\n",
            "Epoch 9/50\n",
            "96/96 [==============================] - 29s 299ms/step - loss: 3.1986 - accuracy: 0.3805 - val_loss: 5.4022 - val_accuracy: 0.2533\n",
            "Epoch 10/50\n",
            "96/96 [==============================] - 29s 298ms/step - loss: 2.8575 - accuracy: 0.4366 - val_loss: 5.4003 - val_accuracy: 0.2726\n",
            "Epoch 11/50\n",
            "96/96 [==============================] - 29s 299ms/step - loss: 2.5229 - accuracy: 0.5005 - val_loss: 5.4041 - val_accuracy: 0.2812\n",
            "Epoch 12/50\n",
            "96/96 [==============================] - 29s 300ms/step - loss: 2.2380 - accuracy: 0.5539 - val_loss: 5.4071 - val_accuracy: 0.2914\n",
            "Epoch 13/50\n",
            "96/96 [==============================] - 29s 300ms/step - loss: 1.9905 - accuracy: 0.6020 - val_loss: 5.4178 - val_accuracy: 0.3000\n",
            "Epoch 14/50\n",
            "96/96 [==============================] - 29s 299ms/step - loss: 1.7648 - accuracy: 0.6483 - val_loss: 5.4559 - val_accuracy: 0.3091\n",
            "Epoch 15/50\n",
            "96/96 [==============================] - 29s 298ms/step - loss: 1.5946 - accuracy: 0.6743 - val_loss: 5.4955 - val_accuracy: 0.3119\n",
            "Epoch 16/50\n",
            "96/96 [==============================] - 29s 298ms/step - loss: 1.4420 - accuracy: 0.7060 - val_loss: 5.5074 - val_accuracy: 0.3198\n",
            "Epoch 17/50\n",
            "96/96 [==============================] - 29s 299ms/step - loss: 1.3015 - accuracy: 0.7359 - val_loss: 5.5395 - val_accuracy: 0.3247\n",
            "Epoch 18/50\n",
            "96/96 [==============================] - 29s 297ms/step - loss: 1.1863 - accuracy: 0.7574 - val_loss: 5.5631 - val_accuracy: 0.3216\n",
            "Epoch 19/50\n",
            "96/96 [==============================] - 29s 298ms/step - loss: 1.0819 - accuracy: 0.7787 - val_loss: 5.6049 - val_accuracy: 0.3281\n",
            "Epoch 20/50\n",
            "96/96 [==============================] - 29s 298ms/step - loss: 0.9762 - accuracy: 0.7996 - val_loss: 5.6239 - val_accuracy: 0.3326\n",
            "Epoch 21/50\n",
            "96/96 [==============================] - 29s 297ms/step - loss: 0.9158 - accuracy: 0.8105 - val_loss: 5.6692 - val_accuracy: 0.3333\n",
            "Epoch 22/50\n",
            "96/96 [==============================] - 29s 298ms/step - loss: 0.8357 - accuracy: 0.8229 - val_loss: 5.6983 - val_accuracy: 0.3347\n",
            "Epoch 23/50\n",
            "96/96 [==============================] - 29s 300ms/step - loss: 0.7936 - accuracy: 0.8322 - val_loss: 5.7286 - val_accuracy: 0.3360\n",
            "Epoch 24/50\n",
            "96/96 [==============================] - 29s 299ms/step - loss: 0.7321 - accuracy: 0.8453 - val_loss: 5.7455 - val_accuracy: 0.3353\n",
            "Epoch 25/50\n",
            "96/96 [==============================] - 29s 299ms/step - loss: 0.7045 - accuracy: 0.8493 - val_loss: 5.7913 - val_accuracy: 0.3353\n",
            "Epoch 26/50\n",
            "96/96 [==============================] - 29s 298ms/step - loss: 0.6452 - accuracy: 0.8620 - val_loss: 5.8274 - val_accuracy: 0.3367\n",
            "Epoch 27/50\n",
            "96/96 [==============================] - 29s 300ms/step - loss: 0.6366 - accuracy: 0.8619 - val_loss: 5.8603 - val_accuracy: 0.3333\n",
            "Epoch 28/50\n",
            "96/96 [==============================] - 29s 300ms/step - loss: 0.5926 - accuracy: 0.8658 - val_loss: 5.8897 - val_accuracy: 0.3367\n",
            "Epoch 29/50\n",
            "96/96 [==============================] - 29s 300ms/step - loss: 0.5655 - accuracy: 0.8721 - val_loss: 5.9226 - val_accuracy: 0.3365\n",
            "Epoch 30/50\n",
            "96/96 [==============================] - 29s 299ms/step - loss: 0.5374 - accuracy: 0.8778 - val_loss: 5.9388 - val_accuracy: 0.3367\n",
            "Epoch 31/50\n",
            "96/96 [==============================] - 29s 300ms/step - loss: 0.5280 - accuracy: 0.8798 - val_loss: 5.9820 - val_accuracy: 0.3405\n",
            "Epoch 32/50\n",
            "96/96 [==============================] - 29s 299ms/step - loss: 0.5076 - accuracy: 0.8806 - val_loss: 6.0057 - val_accuracy: 0.3412\n",
            "Epoch 33/50\n",
            "96/96 [==============================] - 29s 300ms/step - loss: 0.4997 - accuracy: 0.8803 - val_loss: 6.0372 - val_accuracy: 0.3370\n",
            "Epoch 34/50\n",
            "96/96 [==============================] - 29s 300ms/step - loss: 0.4768 - accuracy: 0.8839 - val_loss: 6.0639 - val_accuracy: 0.3407\n",
            "Epoch 35/50\n",
            "96/96 [==============================] - 29s 299ms/step - loss: 0.4753 - accuracy: 0.8840 - val_loss: 6.0795 - val_accuracy: 0.3367\n",
            "Epoch 36/50\n",
            "96/96 [==============================] - 29s 299ms/step - loss: 0.4607 - accuracy: 0.8849 - val_loss: 6.0986 - val_accuracy: 0.3395\n",
            "Epoch 37/50\n",
            "96/96 [==============================] - 29s 300ms/step - loss: 0.4525 - accuracy: 0.8849 - val_loss: 6.1330 - val_accuracy: 0.3391\n",
            "Epoch 38/50\n",
            "96/96 [==============================] - 29s 300ms/step - loss: 0.4479 - accuracy: 0.8837 - val_loss: 6.1516 - val_accuracy: 0.3381\n",
            "Epoch 39/50\n",
            "96/96 [==============================] - 29s 299ms/step - loss: 0.4356 - accuracy: 0.8876 - val_loss: 6.1911 - val_accuracy: 0.3347\n",
            "Epoch 40/50\n",
            "96/96 [==============================] - 29s 300ms/step - loss: 0.4383 - accuracy: 0.8859 - val_loss: 6.1895 - val_accuracy: 0.3407\n",
            "Epoch 41/50\n",
            "96/96 [==============================] - 29s 299ms/step - loss: 0.4293 - accuracy: 0.8882 - val_loss: 6.2103 - val_accuracy: 0.3405\n",
            "Epoch 42/50\n",
            "96/96 [==============================] - 29s 299ms/step - loss: 0.4146 - accuracy: 0.8933 - val_loss: 6.2408 - val_accuracy: 0.3423\n",
            "Epoch 43/50\n",
            "96/96 [==============================] - 29s 298ms/step - loss: 0.4190 - accuracy: 0.8892 - val_loss: 6.2498 - val_accuracy: 0.3372\n",
            "Epoch 44/50\n",
            "96/96 [==============================] - 29s 298ms/step - loss: 0.4064 - accuracy: 0.8901 - val_loss: 6.2542 - val_accuracy: 0.3398\n",
            "Epoch 45/50\n",
            "96/96 [==============================] - 29s 299ms/step - loss: 0.4009 - accuracy: 0.8914 - val_loss: 6.2858 - val_accuracy: 0.3405\n",
            "Epoch 46/50\n",
            "96/96 [==============================] - 29s 299ms/step - loss: 0.3979 - accuracy: 0.8900 - val_loss: 6.3103 - val_accuracy: 0.3419\n",
            "Epoch 47/50\n",
            "96/96 [==============================] - 29s 298ms/step - loss: 0.4015 - accuracy: 0.8913 - val_loss: 6.3517 - val_accuracy: 0.3367\n",
            "Epoch 48/50\n",
            "96/96 [==============================] - 29s 298ms/step - loss: 0.3917 - accuracy: 0.8913 - val_loss: 6.3345 - val_accuracy: 0.3400\n",
            "Epoch 49/50\n",
            "96/96 [==============================] - 29s 298ms/step - loss: 0.3904 - accuracy: 0.8940 - val_loss: 6.3578 - val_accuracy: 0.3333\n",
            "Epoch 50/50\n",
            "96/96 [==============================] - 29s 298ms/step - loss: 0.3770 - accuracy: 0.8948 - val_loss: 6.3800 - val_accuracy: 0.3400\n"
          ],
          "name": "stdout"
        }
      ]
    },
    {
      "cell_type": "code",
      "metadata": {
        "colab": {
          "base_uri": "https://localhost:8080/"
        },
        "id": "-8VUqslB6kMO",
        "outputId": "3e50b173-511f-4a8e-e24c-25b0e64b224a"
      },
      "source": [
        "model.save('/content/drive/MyDrive/lstm-basic-validation2')\n"
      ],
      "execution_count": 17,
      "outputs": [
        {
          "output_type": "stream",
          "text": [
            "WARNING:absl:Found untraced functions such as lstm_cell_1_layer_call_fn, lstm_cell_1_layer_call_and_return_conditional_losses, lstm_cell_2_layer_call_fn, lstm_cell_2_layer_call_and_return_conditional_losses, lstm_cell_1_layer_call_fn while saving (showing 5 of 10). These functions will not be directly callable after loading.\n",
            "WARNING:absl:Found untraced functions such as lstm_cell_1_layer_call_fn, lstm_cell_1_layer_call_and_return_conditional_losses, lstm_cell_2_layer_call_fn, lstm_cell_2_layer_call_and_return_conditional_losses, lstm_cell_1_layer_call_fn while saving (showing 5 of 10). These functions will not be directly callable after loading.\n"
          ],
          "name": "stderr"
        },
        {
          "output_type": "stream",
          "text": [
            "INFO:tensorflow:Assets written to: /content/drive/MyDrive/lstm-basic-validation2/assets\n"
          ],
          "name": "stdout"
        },
        {
          "output_type": "stream",
          "text": [
            "INFO:tensorflow:Assets written to: /content/drive/MyDrive/lstm-basic-validation2/assets\n"
          ],
          "name": "stderr"
        }
      ]
    },
    {
      "cell_type": "code",
      "metadata": {
        "id": "ImBWp2JQtHYW",
        "colab": {
          "base_uri": "https://localhost:8080/",
          "height": 295
        },
        "outputId": "b8bdfd0b-29d6-4114-d4d2-96708480d0a7"
      },
      "source": [
        "# Plotting a loss curve to see if we need this many epochs\n",
        "# Looks to still be decreasing slowly\n",
        "loss_train = history.history['loss']\n",
        "loss_val = history.history['val_loss']\n",
        "epochs = range(50)\n",
        "plt.plot(epochs, loss_train, 'g', label='Training loss')\n",
        "plt.plot(epochs, loss_val, 'b', label='validation loss')\n",
        "plt.title('Training and Validation loss')\n",
        "plt.xlabel('Epochs')\n",
        "plt.ylabel('Loss')\n",
        "plt.legend()\n",
        "plt.show()"
      ],
      "execution_count": 18,
      "outputs": [
        {
          "output_type": "display_data",
          "data": {
            "image/png": "[encoded data removed]",
            "text/plain": [
              "<Figure size 432x288 with 1 Axes>"
            ]
          },
          "metadata": {
            "tags": [],
            "needs_background": "light"
          }
        }
      ]
    },
    {
      "cell_type": "code",
      "metadata": {
        "colab": {
          "base_uri": "https://localhost:8080/",
          "height": 295
        },
        "id": "SKT3qb0626fX",
        "outputId": "ef75f235-741d-4718-886c-6c60936fdc78"
      },
      "source": [
        "acc_train = history.history['accuracy']\n",
        "acc_val = history.history['val_accuracy']\n",
        "epochs = range(50)\n",
        "plt.plot(epochs, acc_train, 'g', label='Training acc')\n",
        "plt.plot(epochs, acc_val, 'b', label='validation acc')\n",
        "plt.title('Training and Validation acc')\n",
        "plt.xlabel('Epochs')\n",
        "plt.ylabel('acc')\n",
        "plt.legend()\n",
        "plt.show()"
      ],
      "execution_count": 20,
      "outputs": [
        {
          "output_type": "display_data",
          "data": {
            "image/png": "[encoded data removed]",
            "text/plain": [
              "<Figure size 432x288 with 1 Axes>"
            ]
          },
          "metadata": {
            "tags": [],
            "needs_background": "light"
          }
        }
      ]
    },
    {
      "cell_type": "code",
      "metadata": {
        "id": "UBrQuS2jwU9F"
      },
      "source": [
        "new_model = tf.keras.models.load_model('/content/drive/MyDrive/lstm-basic-validation2')\n"
      ],
      "execution_count": 15,
      "outputs": []
    },
    {
      "cell_type": "code",
      "metadata": {
        "id": "oO78Ex9O5lF_"
      },
      "source": [
        "\n",
        "# Create a function to generate 'next_words' number of words on top of the seeded bar\n",
        "def generateraplyrics(next_words):\n",
        "  seed_text  = random.choice(bars)\n",
        "  token_list = sentence_to_integer(seed_text)\n",
        "  token_list = pad_sequences([token_list], maxlen = padding_length - 1, padding = 'pre')\n",
        "  predicted  = new_model.predict_classes(token_list, verbose = 0)\n",
        "  lyrics = int_to_word[predicted[0]]\n",
        "  for _ in range(next_words):\n",
        "      token_list = sentence_to_integer(lyrics)\n",
        "      token_list = pad_sequences([token_list], maxlen = padding_length - 1, padding = 'pre')\n",
        "      predicted  = new_model.predict_classes(token_list, verbose = 0)\n",
        "      lyrics += ' ' + int_to_word[predicted[0]]\n",
        "  return lyrics.capitalize()"
      ],
      "execution_count": 16,
      "outputs": []
    },
    {
      "cell_type": "code",
      "metadata": {
        "id": "ZsQYK-4RxjJB",
        "colab": {
          "base_uri": "https://localhost:8080/"
        },
        "outputId": "bc5e69e8-7c48-4472-afe9-d64de33e3330"
      },
      "source": [
        "# Example of output with 4000 words generated \n",
        "for i in range(80):\n",
        "  print(generateraplyrics(49))"
      ],
      "execution_count": 19,
      "outputs": [
        {
          "output_type": "stream",
          "text": [
            "/usr/local/lib/python3.7/dist-packages/tensorflow/python/keras/engine/sequential.py:450: UserWarning: `model.predict_classes()` is deprecated and will be removed after 2021-01-01. Please use instead:* `np.argmax(model.predict(x), axis=-1)`,   if your model does multi-class classification   (e.g. if it uses a `softmax` last-layer activation).* `(model.predict(x) > 0.5).astype(\"int32\")`,   if your model does binary classification   (e.g. if it uses a `sigmoid` last-layer activation).\n",
            "  warnings.warn('`model.predict_classes()` is deprecated and '\n"
          ],
          "name": "stderr"
        },
        {
          "output_type": "stream",
          "text": [
            "Ninjas bleed just like us believe my pipe bust up in his bed quite mine pass that poop i got to light one ninja you just like to choose a poops til i wanna get witcha can i get witcha can i get witcha can i get witcha can i\n",
            "With the neighborhood license plates outta state on the back of the pathfinder i dont know i want a frickin fortune dont shoot with the funk ill die for the funk ill die for the funk ill die for the funk ill die for the funk ill die for the\n",
            "Get high get high get high now now check hot i like to bust on a frickin bath alright with a way to you know that i wanna be on her on and on a dime is so you wanna see a lot of slow singin quick smith locked like\n",
            "One thousand grams of uncut time the head on the floor check it i dont wanna live no mo to this stroke of poop i got to light one ninja pass that sandwhiches go take my man tooken get down down to the mall ill die for the funk ill\n",
            "Of ninjaz wanna be wit my d*ck ninja in ya while me and a b***** never been as me as me a ninja smoke a lot of teflon with the pathfinder dark never remember frontin to me if it aint nothing to me if it comes to sex im similar\n",
            "Poop you got a big but t see i dont stop no chips forget one faces when you die no question no question please let me a manual thats me for my ninja dipped yall never hold down in your wig neck back to lick the cl*ts alot to die\n",
            "Of ninjaz wanna be wit my d*ck ninja in ya while me and a b***** never been as me as me a ninja smoke a lot of teflon with the pathfinder dark never remember frontin to me if it aint nothing to me if it comes to sex im similar\n",
            "Til i give you motherfrickers just what you want brattattattat what you want ninja what you want uhhuh i was a lot of slow to do what you want to do with the worlds dont ask me for the worlds to the ill die for the game tight oh yeah\n",
            "When i was young i had two pair of rough riders in the back of the pathfinder of mine you want the back of the pathfinder of my trunk players gets youll be the difference beam dream ol pimp pimp pretty shout shout pissed shout burgular evacuate dipping peopleeler emcee\n",
            "With the neighborhood license plates outta state on the back of the pathfinder i dont know i want a frickin fortune dont shoot with the funk ill die for the funk ill die for the funk ill die for the funk ill die for the funk ill die for the\n",
            "Ninjaz got to die let a hundred and a same crew so you know that you can have the poop but you hear me on the street road to your belly button i aint frontin for the funk ill die for the funk ill die for the funk ill die\n",
            "Aint no other kings in this rap rap hitchpenis gets up with me and bushwick bushwick cry me a b***** aint no jokes aint no jokes aint no jokes aint no jokes aint no jokes aint no jokes aint no jokes aint no jokes aint no jokes aint no jokes\n",
            "Do you ever know how to act when the tongue go down below the cellular to below the roughnecks seen my trunk dipped never lot used to lick the cl*ts alot to lick the cl*ts alot to die for the back of mine youll want that i dont wanna be\n",
            "Or tattoo i got you wrapped around my d*ck is empty it is it aint wit me a ninja but you aint got my d*ck til we gotta be with poop up in my back again my moms dream askin askin dream ac gotta reach for the funk ill die\n",
            "Thats my word ninja near try to frick it aint no friends to frick it up to you however you want ninja what you what you want ninja what you what you want ninja a repetitive loop all you hoes is big poppa is quita i told you ever i\n",
            "Thats my word ninja near try to frick it aint no friends to frick it up to you however you want ninja what you what you want ninja what you what you want ninja a repetitive loop all you hoes is big poppa is quita i told you ever i\n",
            "Grace countin them money and hit the real floor we know the same crew thats me the poop balloon it for my ninja dipped ninjaz on the road to riches and diamond rings and cry e and diamond rings overflows donna kid on you might know my gat motherfrickers motherfrickers\n",
            "Im a bad bad boy big up big up its a stick and stick me my block for my crew ninja so you wanna get with me on a coke thats now i love it when you call me big poppa never try to me and hit me up thats\n",
            "Why you wanna get with me puff lay on my way in my moms til stay kid locked with my clique d*ck involved in my d*ck lyrical lot short like questions lyrical sirens lyrical difference lately pissed pissed hid claim peopleeler emcee emcee emcee emcee pillow reefer peopleeler limp claim\n",
            "Like b i double duck down to the crib chorus ghostface and recognize a half of bird and gets up in the q glocks never smoke askin questions glocks if you want a frick with my moms dont ask me the frick wrong i want it when you call me\n",
            "I dont wanna die god tell me why youre nobody til somebody kills you yeah yeah yeah i dont know i got to light one of you or the notorious big be the same air here to me poop the poop i know you wanna see no mo school inf\n",
            "With the neighborhood license plates outta state on the back of the pathfinder i dont know i want a frickin fortune dont shoot with the funk ill die for the funk ill die for the funk ill die for the funk ill die for the funk ill die for the\n",
            "Biggie squeeze it to make poop fit now check this poop is this poop is there ayo is it out to get me and on a nut and now check it out ninefo poop for dat ass locked like pimps and bushwick knicks too haha a few cmon cmon a\n",
            "Blown it was me in my bathroom fricking over ya and ya way my daughter im lyin with my women dont ask me no love to me some poop you aint a lot of slow singin hands locked with them pantyhose again my baby died i aint no telling where\n",
            "Picture me bein scared of a ninja that breathe the same air as me me no poop no time time for you to die tell your friends jump in the back of mine neck my head dipped my head encaged my momma gets quiver like askin questions dont gets quiver\n",
            "Hit you with the d*ck make your kidneys shift here here go go to go to go to go back up in the mall flow to pookie in new jack on the cell dark the avenue i dont wanna live no mo mo to this to my d*ck used to\n",
            "Like b i double duck down to the crib chorus ghostface and recognize a half of bird and gets up in the q glocks never smoke askin questions glocks if you want a frick with my moms dont ask me the frick wrong i want it when you call me\n",
            "Can i get witcha can i get witcha can i get witcha can i get witcha can i get witcha can i get witcha can i get witcha can i get witcha can i get witcha can i get witcha can i get witcha can i get witcha can i\n",
            "They dont call me big for nuttin all of a sudden what you wanna do i got that old thing back oh you want to be with you with you yeah thats i love it when you call me big poppa never try to me it up to me if\n",
            "Their ninjas rest where they man man what they want to me what you want ninja what you want uhhuh i was a lot of mine you see i dont wanna live no mo to you to die tell your knees and move on with some wreck with my enemies\n",
            "Uhhuh raekwon the poop i got my honey with the penis and thats the next sirens the poop i live for the funk ill die for the funk ill die for the funk ill die for the funk ill die for the funk ill die for the funk ill die\n",
            "It didnt take long to stop im more cause you busy all i got my d*ck brown like a pigeon like a lot of mine do you ever want a ninja oh yeah now i dont wanna live no mo poop to put your d*ck talk your poop get your\n",
            "Lookin for this hour glass time to it aint no time to get this poop is this poop is this poop is this poop is a do of you just want to be when i aint got to go its a crook its a lot of slow with my pocket\n",
            "Droppin poop is the big moma in the car sirens really why the game never been as me as the hoe never want to the hoe yall thats my word poop made me poop i got to light one ninja pass the gall yo thats why i wrote me i\n",
            "Of ninjaz wanna be wit my d*ck ninja in ya while me and a b***** never been as me as me a ninja smoke a lot of teflon with the pathfinder dark never remember frontin to me if it aint nothing to me if it comes to sex im similar\n",
            "With the neighborhood license plates outta state on the back of the pathfinder i dont know i want a frickin fortune dont shoot with the funk ill die for the funk ill die for the funk ill die for the funk ill die for the funk ill die for the\n",
            "Mine you see baby sing relax and feel him old thing back to cali cali notorious you dont be a lot of slow singin with mine made a body weapon floss with her made a coke today so i dont wanna live no mo mo to this to all my\n",
            "And party and bullpoop party and bullpoop party and bullpoop party and bullpoop party and bullpoop party and bullpoop party and bullpoop party and bullpoop and repeat was on my face my face used used to lick the cl*ts alot to die ill the spot thats my moms and my\n",
            "Poop you got a big but t see i dont stop no chips forget one faces when you die no question no question please let me a manual thats me for my ninja dipped yall never hold down in your wig neck back to lick the cl*ts alot to die\n",
            "Yeah ninja but but you know the epilogue number by the waist and my head lip quiver my d*ck encaged quiver like the cl*ts gimme the back of the pathfinder youll dont ask me i dont wanna live no mo mo to this to all my d*ck til gets your\n",
            "I dont wanna die god tell me why youre nobody til somebody kills you yeah yeah yeah i dont know i got to light one of you or the notorious big be the same air here to me poop the poop i know you wanna see no mo school inf\n",
            "Push push cmon cmon big push push push a glock and my glock even if you hear me ninja ninja what you want ninja what you want ninja what you want uhhuh i was a lot of slow to do what what you want ninja what you what you want\n",
            "Ill frick rupaul i like that you dont know what they want from me to that rah rah you out you know what you do to me if you want to be the way to the sitch to the poop i got my chronic seen my pocket poop used to\n",
            "Be broke and biggie biggie cant you see uh uh uh check it out yeah i know that i dont wanna live no mo to poop all day up in your ass yes and a chrome dream dream dream bastard a sucker with a chip sliding sliding hold in the\n",
            "Seas dominican my bomb aint that poop is all i got to do is chorus x from the mall did you wanna see i dont care what you want ninja to you to die god for me all of all you want to be the way my moms was rimmed\n",
            "All you heard was poppa dont hit me no more kick in the door waving the fourfour fourfour up in new jack ms jack a dummy york never like askin questions ready for the back of mine neck yall head back back to the rim with benjamins neck back again\n",
            "All you heard was poppa dont hit me no more kick in the door waving the fourfour fourfour up in new jack ms jack a dummy york never like askin questions ready for the back of mine neck yall head back back to the rim with benjamins neck back again\n",
            "Sipper you know its gon stop all i want is hoes big booty hoes is to do is that fast like rapper was alive ya til you and a lot of mine do you play me with my middle dont ask me for my ninja gimme back to the back\n",
            "Kick in the back of the money of you in the car sirens here for the gats in wave to me if i want some frick with you open the spot thats you know that i dont frick with you just keep on me and thats right i wonder if\n",
            "Up in your wig wrap door up in the car sirens my head why why im a jet guy was my mind i hope it never be hot like it me a way i aint frontin no mo to cali n i made it out a way to my knees\n",
            "To all my uptown ninjas ninjas ninjas like a lot of rough riders in the back of the pathfinder black head with the pathfinder youll do i guess you not i dont wanna live no mo to school poops poops a frickin with big thats me what why why why\n",
            "From the mississippi down the east coast overdoser you come the poop go its back to the coast top of my ninjaz aint no telling where i made some made a coke made a lot of rough riders in the back of the pathfinder youll dont ask me for a\n",
            "Like b i double duck down to the crib chorus ghostface and recognize a half of bird and gets up in the q glocks never smoke askin questions glocks if you want a frick with my moms dont ask me the frick wrong i want it when you call me\n",
            "Hello hello can i feel ya smacked off their for ya n me alive me and a chrome and thats you know how i was on some brooklyn and im done with my lifetime dream dream dream dream dream staff peopleeler peopleeler peopleeler peopleeler peopleeler peopleeler hardhardcore peopleeler crush emcee\n",
            "To all my uptown ninjas ninjas ninjas like a lot of rough riders in the back of the pathfinder black head with the pathfinder youll do i guess you not i dont wanna live no mo to school poops poops a frickin with big thats me what why why why\n",
            "Somethin somethin somethin ninja what you want ninja what you want uhhuh i was a lot of slow to do what what you want ninja what you what you want ninja what you want uhhuh i was a lot of slow to do what you want ninja what you what\n",
            "To all my uptown ninjas ninjas ninjas like a lot of rough riders in the back of the pathfinder black head with the pathfinder youll do i guess you not i dont wanna live no mo to school poops poops a frickin with big thats me what why why why\n",
            "Really im the only ninja dat be rappin in my days our dream helped on a way on my way cd me and i wonder if i died would tears to you just dont get me like that i kick to the door meat the poop flash the fattest big\n",
            "In the mornin ds smoke the boss of mine with my pocket lyrical dream dream damage gets up me in the back of my enemies loungin never damage behind the back of the pathfinder dark short like questions neck quiver behind behind ninjas dont hear peopleeler peopleeler hardhardcore emcee hardhardcore\n",
            "Me and my ninja lance took it out the cellular to you to get the tristate along with my trunk dipped dipped not the problem to the rim with benjamins neck back again the back of the pathfinder i dont wanna live no mo to this neck to die why\n",
            "Than shots to the caribbean but tonight and dine who got a gun up in your waist please dont shoot up the place why i want to the frick is you hollerin with you with some money thats my ninja hunger stay locked with her and bushwick hah im a\n",
            "Chose ninjaz wanna stick me for my paper they know they know the story the game spit your your neck to your neck neck to the back neck to the back of the pathfinder dark i dont wanna live no mo to this neck to my neck neck to lick\n",
            "Bag to the poop is my d*ck was missin me up my man up to me if im done with my friends til you wanna get with me and thats my thugs crew so you know that i can be my d*ck brown like scarface and bushwick wondered like a\n",
            "Ninjas bleed just like us believe my pipe bust up in his bed quite mine pass that poop i got to light one ninja you just like to choose a poops til i wanna get witcha can i get witcha can i get witcha can i get witcha can i\n",
            "To all my uptown ninjas ninjas ninjas like a lot of rough riders in the back of the pathfinder black head with the pathfinder youll do i guess you not i dont wanna live no mo to school poops poops a frickin with big thats me what why why why\n",
            "In the mornin ds smoke the boss of mine with my pocket lyrical dream dream damage gets up me in the back of my enemies loungin never damage behind the back of the pathfinder dark short like questions neck quiver behind behind ninjas dont hear peopleeler peopleeler hardhardcore emcee hardhardcore\n",
            "They dont call me big for nuttin all of a sudden what you wanna do i got that old thing back oh you want to be with you with you yeah thats i love it when you call me big poppa never try to me it up to me if\n",
            "Frick the luck frick with the rash so i dont wanna live no mo mo to this faces when you know a ninja workin on a head with my trunk dipped thats not i remember to give you what you need a ninja loop all my thugs name your sign\n",
            "I dont wanna die god tell me why youre nobody til somebody kills you yeah yeah yeah i dont know i got to light one of you or the notorious big be the same air here to me poop the poop i know you wanna see no mo school inf\n",
            "Now i know you used to sweets cds and don ps biggie took the raw chorus ghostface the cream frick up with the back of mine hardcore i play them questions world is mine with the day is my day is my pathfinder encaged my wig gets gets like every\n",
            "One thousand grams of uncut time the head on the floor check it i dont wanna live no mo to this stroke of poop i got to light one ninja pass that sandwhiches go take my man tooken get down down to the mall ill die for the funk ill\n",
            "And party and bullpoop party and bullpoop party and bullpoop party and bullpoop party and bullpoop party and bullpoop party and bullpoop party and bullpoop and repeat was on my face my face used used to lick the cl*ts alot to die ill the spot thats my moms and my\n",
            "I dont wanna die god tell me why youre nobody til somebody kills you yeah yeah yeah i dont know i got to light one of you or the notorious big be the same air here to me poop the poop i know you wanna see no mo school inf\n",
            "I dont wanna die god tell me why youre nobody til somebody kills you yeah yeah yeah i dont know i got to light one of you or the notorious big be the same air here to me poop the poop i know you wanna see no mo school inf\n",
            "It didnt take long to stop im more cause you busy all i got my d*ck brown like a pigeon like a lot of mine do you ever want a ninja oh yeah now i dont wanna live no mo poop to put your d*ck talk your poop get your\n",
            "White i got to light one by the floor what you know how you do with me to all my hoes is untrue now i go to go to see poop go on a few and thats a ninja cats for a way to you yeah i wanna flaunt you\n",
            "Take the gangsta chronicles to die on the crime from benjamins to maryland neck back for them bricks for them neck to lick your enemies dipped yall ninjas wanna get into the place why i want it i dont wanna live no mo to this many made a place why\n",
            "Just bone and biggie biggie biggie cant you see uh uh uh uh uh uh uh check it out yeah i know that i dont wanna live no mo to all my ninjas ninjas bleed aint no poop for those i spark you that i dont stop no no notorious\n",
            "Is there any money out there for me all day no need to me a b***** is ya way to my d*ck til it comes to my ninja get to my knees and chrome stay kid used and my whole prayer dream dream hurts gamble chaka stroam chaka claim peopleeler\n",
            "No no no notorious who ninjaz be a ninja with my spliff rests my way encaged my d*ck encaged my d*ck encaged really release the poop go from the back of the pathfinder youll i guess you die no no no notorious one for my kind wants thirstay thirstay claim\n"
          ],
          "name": "stdout"
        }
      ]
    },
    {
      "cell_type": "code",
      "metadata": {
        "id": "Vv4PFZPT56Kh"
      },
      "source": [
        ""
      ],
      "execution_count": null,
      "outputs": []
    }
  ]
}