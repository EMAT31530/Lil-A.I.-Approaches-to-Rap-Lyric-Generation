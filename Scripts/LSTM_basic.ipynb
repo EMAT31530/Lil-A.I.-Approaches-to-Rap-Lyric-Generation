{
  "nbformat": 4,
  "nbformat_minor": 0,
  "metadata": {
    "colab": {
      "name": "LSTM-basic",
      "provenance": [],
      "collapsed_sections": []
    },
    "kernelspec": {
      "name": "python3",
      "display_name": "Python 3"
    },
    "accelerator": "GPU"
  },
  "cells": [
    {
      "cell_type": "markdown",
      "metadata": {
        "id": "iGjCDVX-5oBi"
      },
      "source": [
        "LSTM model architecture 1:\n",
        "\n",
        "First working model (previous one didn't produce lyrics correctly) with and Embedding layer, two Bidirectional LSTM layers, 2 dropout layers to avoid overfitting and a dense layer.\n",
        "\n",
        "This is the most basic level, but the results seem fairly good with 84% accuracy after 200 epochs (40mins).\n",
        "\n",
        "Also includes function that outputs most used words in the Vocabulary.\n",
        "\n",
        "Has a basic lyric generator that can be improved. Maybe we can create a loss function which favours rhyme or look at creating bars line by line. The problem with this was bars ending in words like 'i' and 'the' as lines were getting cut short."
      ]
    },
    {
      "cell_type": "code",
      "metadata": {
        "colab": {
          "base_uri": "https://localhost:8080/"
        },
        "id": "RyEQkMNVxPS7",
        "outputId": "e6b1e153-d355-49cd-ccc2-a755bb126644"
      },
      "source": [
        "import tensorflow as tf\n",
        "from tensorflow.keras.models import Sequential\n",
        "from tensorflow.keras.layers import Dense, GRU, Embedding\n",
        "from tensorflow.keras.optimizers import Adam\n",
        "from tensorflow.keras.preprocessing.text import Tokenizer\n",
        "from tensorflow.keras.preprocessing.sequence import pad_sequences\n",
        "from keras.layers import LSTM\n",
        "from google.colab import files\n",
        "from google.colab import drive\n",
        "import numpy as np\n",
        "#@title Import Statements`\n",
        "!pip install PyGithub\n",
        "\n",
        "# Package Imports\n",
        "import random\n",
        "import pandas as pd \n",
        "import numpy as np\n",
        "import matplotlib.pyplot as plt \n",
        "from urllib.request import urlopen # The default requests package\n",
        "import requests # For making GitHub requests\n",
        "from pprint import pprint # For pretty printing\n",
        "from pathlib import Path # The Path class\n",
        "\n",
        "# For the more advanced requests\n",
        "import base64\n",
        "import os\n",
        "import sys\n",
        "sys.path.append(\"./PyGithub\");\n",
        "from github import Github\n",
        "from getpass import getpass\n"
      ],
      "execution_count": 2,
      "outputs": [
        {
          "output_type": "stream",
          "text": [
            "Collecting PyGithub\n",
            "\u001b[?25l  Downloading https://files.pythonhosted.org/packages/18/44/df78514f2b5f5abaec330596e0fa3273824238399a964d1a7e82fd39990d/PyGithub-1.54.1-py3-none-any.whl (289kB)\n",
            "\r\u001b[K     |█▏                              | 10kB 21.2MB/s eta 0:00:01\r\u001b[K     |██▎                             | 20kB 14.2MB/s eta 0:00:01\r\u001b[K     |███▍                            | 30kB 8.8MB/s eta 0:00:01\r\u001b[K     |████▌                           | 40kB 7.3MB/s eta 0:00:01\r\u001b[K     |█████▊                          | 51kB 5.2MB/s eta 0:00:01\r\u001b[K     |██████▉                         | 61kB 5.7MB/s eta 0:00:01\r\u001b[K     |████████                        | 71kB 6.1MB/s eta 0:00:01\r\u001b[K     |█████████                       | 81kB 6.5MB/s eta 0:00:01\r\u001b[K     |██████████▏                     | 92kB 6.3MB/s eta 0:00:01\r\u001b[K     |███████████▍                    | 102kB 5.1MB/s eta 0:00:01\r\u001b[K     |████████████▌                   | 112kB 5.1MB/s eta 0:00:01\r\u001b[K     |█████████████▋                  | 122kB 5.1MB/s eta 0:00:01\r\u001b[K     |██████████████▊                 | 133kB 5.1MB/s eta 0:00:01\r\u001b[K     |███████████████▉                | 143kB 5.1MB/s eta 0:00:01\r\u001b[K     |█████████████████               | 153kB 5.1MB/s eta 0:00:01\r\u001b[K     |██████████████████▏             | 163kB 5.1MB/s eta 0:00:01\r\u001b[K     |███████████████████▎            | 174kB 5.1MB/s eta 0:00:01\r\u001b[K     |████████████████████▍           | 184kB 5.1MB/s eta 0:00:01\r\u001b[K     |█████████████████████▌          | 194kB 5.1MB/s eta 0:00:01\r\u001b[K     |██████████████████████▊         | 204kB 5.1MB/s eta 0:00:01\r\u001b[K     |███████████████████████▉        | 215kB 5.1MB/s eta 0:00:01\r\u001b[K     |█████████████████████████       | 225kB 5.1MB/s eta 0:00:01\r\u001b[K     |██████████████████████████      | 235kB 5.1MB/s eta 0:00:01\r\u001b[K     |███████████████████████████▏    | 245kB 5.1MB/s eta 0:00:01\r\u001b[K     |████████████████████████████▍   | 256kB 5.1MB/s eta 0:00:01\r\u001b[K     |█████████████████████████████▌  | 266kB 5.1MB/s eta 0:00:01\r\u001b[K     |██████████████████████████████▋ | 276kB 5.1MB/s eta 0:00:01\r\u001b[K     |███████████████████████████████▊| 286kB 5.1MB/s eta 0:00:01\r\u001b[K     |████████████████████████████████| 296kB 5.1MB/s \n",
            "\u001b[?25hCollecting pyjwt<2.0\n",
            "  Downloading https://files.pythonhosted.org/packages/87/8b/6a9f14b5f781697e51259d81657e6048fd31a113229cf346880bb7545565/PyJWT-1.7.1-py2.py3-none-any.whl\n",
            "Requirement already satisfied: requests>=2.14.0 in /usr/local/lib/python3.7/dist-packages (from PyGithub) (2.23.0)\n",
            "Collecting deprecated\n",
            "  Downloading https://files.pythonhosted.org/packages/d4/56/7d4774533d2c119e1873993d34d313c9c9efc88c5e4ab7e33bdf915ad98c/Deprecated-1.2.11-py2.py3-none-any.whl\n",
            "Requirement already satisfied: certifi>=2017.4.17 in /usr/local/lib/python3.7/dist-packages (from requests>=2.14.0->PyGithub) (2020.12.5)\n",
            "Requirement already satisfied: idna<3,>=2.5 in /usr/local/lib/python3.7/dist-packages (from requests>=2.14.0->PyGithub) (2.10)\n",
            "Requirement already satisfied: chardet<4,>=3.0.2 in /usr/local/lib/python3.7/dist-packages (from requests>=2.14.0->PyGithub) (3.0.4)\n",
            "Requirement already satisfied: urllib3!=1.25.0,!=1.25.1,<1.26,>=1.21.1 in /usr/local/lib/python3.7/dist-packages (from requests>=2.14.0->PyGithub) (1.24.3)\n",
            "Requirement already satisfied: wrapt<2,>=1.10 in /usr/local/lib/python3.7/dist-packages (from deprecated->PyGithub) (1.12.1)\n",
            "Installing collected packages: pyjwt, deprecated, PyGithub\n",
            "Successfully installed PyGithub-1.54.1 deprecated-1.2.11 pyjwt-1.7.1\n"
          ],
          "name": "stdout"
        }
      ]
    },
    {
      "cell_type": "code",
      "metadata": {
        "id": "6HfS1LmNxiMp"
      },
      "source": [
        "#@title Function Definitions\n",
        "# Recursively Import the Data (AUTOMATIC)\n",
        "\n",
        "def _decode_and_write(file__, path_):\n",
        "    data = file__.decoded_content\n",
        "    data = data.decode('utf-8')[1:]\n",
        "    with open(path_, 'w') as writefile:\n",
        "        writefile.write(data) \n",
        "    data = data.splitlines()\n",
        "    data_rows = []\n",
        "    for count, word in enumerate(data):\n",
        "        if count>0:\n",
        "            data_rows.append(word.split(','))\n",
        "    data = pd.DataFrame(data_rows)\n",
        "    data = data.to_numpy()\n",
        "    return data\n",
        "\n",
        "\n",
        "def import_github(path_name=\"AllLyrics.txt\"):\n",
        "    \"\"\"\n",
        "    Function for importing the github file\n",
        "    path_name: str\n",
        "    output: None\n",
        "    \"\"\"\n",
        "    g = Github(getpass(\"Enter your PAT key \")) # Enter your PAT Key.\n",
        "    username = \"MikeMNelhams\"\n",
        "    main_branch_bool = input(\"Main Branch: Yes or No? \")\n",
        "    yes_synonyms = [\"yes\", \"y\", \"yh\", \"1\", \"true\"]\n",
        "    if main_branch_bool.lower() in yes_synonyms: \n",
        "        branch = \"master\" \n",
        "    else: \n",
        "        branch = \"PROTOTYPE\"\n",
        "\n",
        "    user = g.get_user(username)\n",
        "    r_proj_clone = 0\n",
        "    for repo in g.get_user().get_repos():\n",
        "        if repo.name == \"ai-group-project-Team-JMJM\":\n",
        "            r_proj_clone = repo\n",
        "            break\n",
        "        # To see all the available attributes and methods\n",
        "        print(dir(repo))\n",
        "    if not r_proj_clone:\n",
        "        print(\"ai-group-project-Team-JMJM not found\")\n",
        "        sys.exit()\n",
        "    print(\"Importing Github cleaned text files...\")\n",
        "    contents = r_proj_clone.get_contents(\"RapLyrics/CLEAN\", ref=branch)\n",
        "    RAP_DATA = []\n",
        "    for file_ in contents:\n",
        "        path = file_.path\n",
        "        path = str(path) \n",
        "        # Only choose the .txt files\n",
        "        if path[-4:] == '.txt':\n",
        "            # Append the Lyrics\n",
        "            RAP_DATA.append(file_.decoded_content.decode(\"utf-8\")) \n",
        "    \n",
        "    temp_path = Path(path_name)\n",
        "    if temp_path.is_file(): \n",
        "        if os.stat(path_name).st_size == 0:\n",
        "            write_bool2 = True\n",
        "        else: \n",
        "            write_bool2 = False\n",
        "    else: \n",
        "        write_bool2 = True\n",
        "    \n",
        "    if write_bool2: \n",
        "        for lyric in RAP_DATA: \n",
        "            try:\n",
        "                with open(path_name, 'w') as writefile: \n",
        "                    writefile.write(lyric)\n",
        "            except: \n",
        "                print(\"Error, file moved/deleted during write\")\n",
        "        print(\"{} is now up to date!\".format(path_name))\n",
        "    else: \n",
        "        print(\"{} is already up to date!\".format(path_name))\n",
        "    \n",
        "    contents = r_proj_clone.get_contents(\"RapLyrics/Other\", ref=branch)\n",
        "    for counter, file_ in enumerate(contents):\n",
        "        path = file_.path\n",
        "        path = str(path) \n",
        "\n",
        "        title_start = path.find('Other')\n",
        "        title_len = path[title_start:].find('.')\n",
        "        path = path[title_start + 6:title_start + title_len + 4]\n",
        "\n",
        "        print(\"Writing file {} {}\".format(counter, path))\n",
        "        temp_path = Path(path)\n",
        "        if temp_path.is_file():\n",
        "            with open(path,'w'): pass # Cheeky way to clear the file if it exists\n",
        "        \n",
        "        # Split the long string into a list of lines, then split by words, then put into a csv, then to numpy array \n",
        "        data = file_.decoded_content\n",
        "        data = data.decode('utf-8')[1:]\n",
        "\n",
        "        with open(path, 'w') as writefile:\n",
        "            writefile.write(data) \n",
        "        print(\"All files now up to date!\")\n",
        "\n",
        "\n",
        "def update_github(write_bool=False, path_name=\"AllLyrics.txt\"):\n",
        "    \"\"\"\n",
        "    Function for updating the github file, by cleaning the lyrics, optional write to txt file. \n",
        "    write_bool: bool\n",
        "    path_name: str\n",
        "    output: None\n",
        "    \"\"\"\n",
        "    g = Github(getpass(\"Enter your PAT key \")) # Enter your PAT Key.\n",
        "    username = \"MikeMNelhams\"\n",
        "    main_branch_bool = input(\"Main Branch: Yes or No? \")\n",
        "    yes_synonyms = [\"yes\", \"y\", \"yh\", \"1\", \"true\"]\n",
        "    if main_branch_bool.lower() in yes_synonyms: \n",
        "        branch = \"master\" \n",
        "    else: \n",
        "        branch = \"PROTOTYPE\"\n",
        "\n",
        "    user = g.get_user(username)\n",
        "    r_proj_clone = 0\n",
        "    for repo in g.get_user().get_repos():\n",
        "        if repo.name == \"ai-group-project-Team-JMJM\":\n",
        "            r_proj_clone = repo\n",
        "            break\n",
        "        # To see all the available attributes and methods\n",
        "        print(dir(repo))\n",
        "    \n",
        "    if not r_proj_clone:\n",
        "        print(\"ai-group-project-Team-JMJM not found\")\n",
        "        sys.exit()\n",
        "\n",
        "    print(\"Importing editing csv files...\")\n",
        "\n",
        "    # Split the long string into a list of lines, then split by words, then put into a csv, then to numpy arr\n",
        "    contents = r_proj_clone.get_contents(\"RapLyrics/Other\", ref=branch)\n",
        "    for counter, file_ in enumerate(contents):\n",
        "        path = file_.path \n",
        "        path = str(path)\n",
        "        title_start = path.find('Other')\n",
        "        title_len = path[title_start:].find('.')\n",
        "        name = path[title_start + 6:title_start + title_len + 4]\n",
        "        print(\"Writing file {} {}\".format(counter, name))\n",
        "        if name.lower() == \"censors.csv\":\n",
        "            censors = _decode_and_write(file_, path)\n",
        "        elif name.lower() == \"capitals.csv\":\n",
        "            capitals = _decode_and_write(file_, path)\n",
        "        else: \n",
        "            _decode_and_write(file_, path)\n",
        "    print(\"All editing csv files are up to date!\")\n",
        "\n",
        "    print(\"Importing Github uncleaned text files...\")\n",
        "    contents = r_proj_clone.get_contents(\"RapLyrics/UNCLEAN\", ref=branch)\n",
        "\n",
        "    RAP_DATA = []\n",
        "    rap_lyric_names = []\n",
        "\n",
        "    for file_ in contents:\n",
        "        path = file_.path\n",
        "        path = str(path) \n",
        "        # Only choose the .txt files\n",
        "        if path[-4:] == '.txt':\n",
        "            # Append the name\n",
        "            title_start = path.find('UNCLEAN')\n",
        "            title_len = path[title_start:].find('.')\n",
        "            name = path[title_start + 8:title_start + title_len]\n",
        "            if name[-2:] == 'UC':\n",
        "                name = name[:-2]\n",
        "            rap_lyric_names.append(name) \n",
        "\n",
        "        # Append the Lyrics\n",
        "        RAP_DATA.append(file_.decoded_content.decode(\"utf-8\")) \n",
        "        \n",
        "    # Remove the \\ufeff at the beginning O(n)\n",
        "    for count, lyric in enumerate(RAP_DATA): \n",
        "        RAP_DATA[count] = lyric[1:]\n",
        "\n",
        "    # Censor the profanities O(n*m + n*m2) m > m2 xor m2 > m\n",
        "    for count in range(len(RAP_DATA)): \n",
        "        for i in range(len(censors[0:])):\n",
        "            RAP_DATA[count] = RAP_DATA[count].replace(str(censors[i, 0]), str(censors[i, 1]))\n",
        "        for i in range(len(capitals[0:])):\n",
        "            RAP_DATA[count] = RAP_DATA[count].replace(str(capitals[i, 0]), str(capitals[i, 1]))\n",
        "\n",
        "    contents = r_proj_clone.get_contents(\"RapLyrics/CLEAN\", ref=branch)\n",
        "    cleaned_names = []\n",
        "    for counter, file_ in enumerate(contents):\n",
        "        path = file_.path\n",
        "        path = str(path) \n",
        "        print(\"File {} \".format(counter + 1) + path)\n",
        "        # Only choose the .txt files\n",
        "        if path[-4:] == '.txt':\n",
        "            # Append the name\n",
        "            title_start = path.find('CLEAN')\n",
        "            title_len = path[title_start:].find('.')\n",
        "        name = path[title_start + 6:title_start + title_len]\n",
        "        if name[-2:] == 'CL':\n",
        "            name = name[:-2]\n",
        "        cleaned_names.append(name) \n",
        "\n",
        "    # ALL OF THE EDITING IS DONE IN THE 'PROTOTYPE BRANCH' to avoid overwriting import changes\n",
        "    # If the (now cleaned) rap_lyrics name is new (not in cleaned_names), then we want to create that as a new file \n",
        "    # If the (now cleaned) rap_lyrics name is NOT new (not in cleaned_names), then we want to update the file\n",
        "    # print(rap_lyric_names)\n",
        "    # print(cleaned_names)\n",
        "    print(\"Commiting files to github...\")\n",
        "    for counter, new_name in enumerate(rap_lyric_names): \n",
        "        if new_name in cleaned_names: \n",
        "            duplicate = r_proj_clone.get_contents(\"RapLyrics/CLEAN/{}CL.txt\".format(new_name), ref=branch)\n",
        "            r_proj_clone.update_file(\"RapLyrics/CLEAN/{}CL.txt\".format(new_name), \"This was uploaded automatically via pipeline\", RAP_DATA[counter], duplicate.sha, branch=branch)\n",
        "        else:\n",
        "            r_proj_clone.create_file(\"RapLyrics/CLEAN/{}CL.txt\".format(new_name), \"This was uploaded automatically via pipeline\", RAP_DATA[counter], branch=branch)\n",
        "\n",
        "    if write_bool: \n",
        "        print(\"Writing text file to: {}\".format(path_name))\n",
        "        with open(path_name, 'w') as writefile:\n",
        "            for lyric in RAP_DATA:\n",
        "                writefile.write(lyric)"
      ],
      "execution_count": 3,
      "outputs": []
    },
    {
      "cell_type": "code",
      "metadata": {
        "colab": {
          "base_uri": "https://localhost:8080/"
        },
        "id": "CtfMMwOdxmt_",
        "outputId": "334d9bd0-f01b-42dd-e1c0-4fcd32a6db1e"
      },
      "source": [
        "# Import all of Mike's lyrics.\n",
        "import_github()"
      ],
      "execution_count": 4,
      "outputs": [
        {
          "output_type": "stream",
          "text": [
            "Enter your PAT key ··········\n",
            "Main Branch: Yes or No? Yes\n",
            "Importing Github cleaned text files...\n",
            "AllLyrics.txt is now up to date!\n",
            "Writing file 0 capitals.csv\n",
            "All files now up to date!\n",
            "Writing file 1 censors.csv\n",
            "All files now up to date!\n"
          ],
          "name": "stdout"
        }
      ]
    },
    {
      "cell_type": "code",
      "metadata": {
        "id": "6VjURXnfxsKJ"
      },
      "source": [
        "Text = open(\"AllLyrics.txt\", \"r\").read()\n",
        "# turn text to lower case to reduce vocabulary\n",
        "Text = Text.lower()\n",
        "with open(\"AllLyrics.txt\", \"r\") as f:\n",
        "    content = f.readlines()\n",
        "# bars is a list containing each line in dataset in lowercase\n",
        "bars = [x.strip().lower() for x in content]\n",
        "stripped_bars = [word.split() for word in bars]\n",
        "# Vocabulary is a list of all words in the dataset\n",
        "Vocabulary = ''.join([i for i in Text if not i.isdigit()]).replace(\"\\n\",\" \").split(' ')"
      ],
      "execution_count": 5,
      "outputs": []
    },
    {
      "cell_type": "code",
      "metadata": {
        "colab": {
          "base_uri": "https://localhost:8080/"
        },
        "id": "uLpVvXPQ2rHL",
        "outputId": "ebaf5657-c27f-4a68-ff01-52dd55cdb1a1"
      },
      "source": [
        "# The numbers of bars in our dataset, 5283\n",
        "no_of_bars = len(bars)\n",
        "print(no_of_bars)"
      ],
      "execution_count": 7,
      "outputs": [
        {
          "output_type": "stream",
          "text": [
            "5283\n"
          ],
          "name": "stdout"
        }
      ]
    },
    {
      "cell_type": "code",
      "metadata": {
        "id": "jIRyjmQeyaAG"
      },
      "source": [
        "# word_count is a function creating a list of words ranked in order of most used\n",
        "# could think about removing certain words to create more accurate raps as model won't learn well from words used very infrequently\n",
        "def word_count(lyrics):\n",
        "  a = {}\n",
        "  for word in Vocabulary:\n",
        "    if word in a:\n",
        "      a[word] += 1\n",
        "    else:\n",
        "      a[word] = 1\n",
        "  return a\n",
        "word_dict = word_count(Vocabulary)\n",
        "sort_dict = sorted(word_dict.items(), key = lambda x: x[1], reverse = True)\n",
        "# Top 20 words\n",
        "sort_dict1 = sort_dict[:40]"
      ],
      "execution_count": 6,
      "outputs": []
    },
    {
      "cell_type": "code",
      "metadata": {
        "colab": {
          "base_uri": "https://localhost:8080/"
        },
        "id": "ZIweRLWJqfax",
        "outputId": "edd9fa6d-421b-4235-b8ff-f429b4ee84d8"
      },
      "source": [
        "# Need to create dictionary listing the words in alphabetical order so we can assign unique integers to each word\n",
        "# Neural networks take in integers, not words\n",
        "words = sorted(list(set(Vocabulary)))\n",
        "# Create a dictionary whereby we can convert integers into words\n",
        "word_to_int = { words[i] : i for i in range(len(words))}\n",
        "# Need to reverse this at the end to reverse numbers back into words\n",
        "int_to_word = { i : words[i] for i in range(len(words))}"
      ],
      "execution_count": 9,
      "outputs": [
        {
          "output_type": "stream",
          "text": [
            "{0: '', 1: '#', 2: 'a', 3: 'aaalll', 4: 'aand', 5: 'able', 6: 'abortion', 7: 'about', 8: 'above', 9: 'abuser', 10: 'abusers', 11: 'ac', 12: 'accept', 13: 'acclaimed', 14: 'account', 15: 'accountant', 16: 'ace', 17: 'across', 18: 'acs', 19: 'act', 20: 'actin', 21: 'acting', 22: 'action', 23: 'actors', 24: 'acts', 25: 'actually', 26: 'adapt', 27: 'add', 28: 'address', 29: 'admit', 30: 'adolescents', 31: 'advance', 32: 'advanced', 33: 'advancin', 34: 'advancing', 35: 'adventure', 36: 'aes', 37: 'affect', 38: 'afraid', 39: 'africans', 40: 'after', 41: 'again', 42: 'against', 43: 'age', 44: 'agenda', 45: 'agents', 46: 'agreed', 47: 'ahh', 48: 'aids', 49: 'aight', 50: 'aim', 51: 'aimin', 52: 'aint', 53: 'air', 54: 'airport', 55: 'aiy', 56: 'ak', 57: 'aka', 58: 'akon', 59: 'alarm', 60: 'alberta', 61: 'album', 62: 'alcoholic', 63: 'ale', 64: 'alfred', 65: 'alibi', 66: 'alive', 67: 'alize', 68: 'all', 69: 'alligators', 70: 'allow', 71: 'allowed', 72: 'almost', 73: 'alone', 74: 'along', 75: 'alot', 76: 'already', 77: 'alright', 78: 'also', 79: 'always', 80: 'am', 81: 'amateurs', 82: 'americas', 83: 'amnesia', 84: 'amount', 85: 'amped', 86: 'amtrak', 87: 'amuck', 88: 'an', 89: 'and', 90: 'ands', 91: 'angel', 92: 'animal', 93: 'animals', 94: 'ankles', 95: 'annihilate', 96: 'announced', 97: 'anoint', 98: 'anotha', 99: 'another', 100: 'answer', 101: 'antartic', 102: 'anthem', 103: 'any', 104: 'anybody', 105: 'anything', 106: 'anytime', 107: 'anyway', 108: 'aoowww', 109: 'aow', 110: 'apart', 111: 'apiece', 112: 'apologetic', 113: 'apologies', 114: 'apparel', 115: 'appeal', 116: 'appear', 117: 'appetit', 118: 'applause', 119: 'approach', 120: 'arab', 121: 'are', 122: 'arizona', 123: 'arm', 124: 'armageddeon', 125: 'armani', 126: 'armed', 127: 'arms', 128: 'armstrong', 129: 'army', 130: 'arnold', 131: 'around', 132: 'arraignment', 133: 'arrested', 134: 'arsenal', 135: 'arsenio', 136: 'artillery', 137: 'as', 138: 'ashes', 139: 'ashtray', 140: 'ashy', 141: 'ask', 142: 'asked', 143: 'askin', 144: 'asking', 145: 'aspiration', 146: 'aspirations', 147: 'ass', 148: 'assault', 149: 'asses', 150: 'assholes', 151: 'assume', 152: 'asswhippin', 153: 'asthma', 154: 'astoria', 155: 'at', 156: 'atchya', 157: 'ate', 158: 'attack', 159: 'attention', 160: 'attitude', 161: 'attractin', 162: 'attracting', 163: 'aura', 164: 'automatic', 165: 'automaticstatus', 166: 'autopsy', 167: 'avalanches', 168: 'ave', 169: 'avenue', 170: 'avenues', 171: 'average', 172: 'aw', 173: 'awake', 174: 'away', 175: 'ay', 176: 'aye', 177: 'ayo', 178: 'b', 179: 'b*****', 180: 'b*****es', 181: 'b*****in', 182: 'b*****ll', 183: 'babies', 184: 'baby', 185: 'babypop', 186: 'babys', 187: 'bacardi', 188: 'back', 189: 'backbone', 190: 'background', 191: 'backs', 192: 'backshots', 193: 'backside', 194: 'backspins', 195: 'backwards', 196: 'backwoods', 197: 'bacon', 198: 'bad', 199: 'badder', 200: 'bag', 201: 'bagged', 202: 'baggin', 203: 'bags', 204: 'bail', 205: 'baileys', 206: 'bailing', 207: 'baka', 208: 'bake', 209: 'baldhead', 210: 'ballantine', 211: 'baller', 212: 'ballerlike', 213: 'ballin', 214: 'balloon', 215: 'balls', 216: 'bam', 217: 'bamboo', 218: 'bamboos', 219: 'bambu', 220: 'bandaging', 221: 'bandanas', 222: 'bang', 223: 'banged', 224: 'banger', 225: 'bangin', 226: 'bangles', 227: 'bank', 228: 'bankroll', 229: 'baptize', 230: 'bar', 231: 'barbayed', 232: 'barbecues', 233: 'barbeques', 234: 'barbershop', 235: 'barkin', 236: 'barly', 237: 'barmitzvahs', 238: 'barrel', 239: 'barrels', 240: 'based', 241: 'basement', 242: 'bash', 243: 'basic', 244: 'bastard', 245: 'bastards', 246: 'bath', 247: 'bathroom', 248: 'batter', 249: 'battle', 250: 'baybayy', 251: 'bbs', 252: 'bches', 253: 'be', 254: 'beach', 255: 'beacon', 256: 'beam', 257: 'beamer', 258: 'beams', 259: 'bearly', 260: 'beat', 261: 'beatdown', 262: 'beatin', 263: 'beating', 264: 'beats', 265: 'beatstreet', 266: 'beautiful', 267: 'became', 268: 'because', 269: 'becks', 270: 'bed', 271: 'bedfordstuyverson', 272: 'bedfordstuyvesant', 273: 'bedroom', 274: 'beds', 275: 'bedspread', 276: 'bedstuy', 277: 'bee', 278: 'beef', 279: 'beehive', 280: 'beem', 281: 'been', 282: 'beeotch', 283: 'beep', 284: 'beeper', 285: 'beer', 286: 'befo', 287: 'before', 288: 'beg', 289: 'began', 290: 'begged', 291: 'beggin', 292: 'begin', 293: 'beginner', 294: 'begun', 295: 'behind', 296: 'behold', 297: 'bein', 298: 'being', 299: 'bejust', 300: 'believable', 301: 'believe', 302: 'believing', 303: 'belize', 304: 'belle', 305: 'belly', 306: 'belongs', 307: 'below', 308: 'bench', 309: 'bend', 310: 'bendin', 311: 'bending', 312: 'beneath', 313: 'benjamins', 314: 'bent', 315: 'bentley', 316: 'benz', 317: 'benzes', 318: 'benzito', 319: 'benzo', 320: 'benzs', 321: 'beotch', 322: 'beretta', 323: 'bert', 324: 'besides', 325: 'best', 326: 'bet', 327: 'betcha', 328: 'betta', 329: 'better', 330: 'between', 331: 'bezel', 332: 'bi', 333: 'bickering', 334: 'bid', 335: 'bidness', 336: 'bids', 337: 'big', 338: 'bigandheavy', 339: 'bigchant', 340: 'bigga', 341: 'bigger', 342: 'biggest', 343: 'biggie', 344: 'biggies', 345: 'bigs', 346: 'bill', 347: 'billin', 348: 'billion', 349: 'bills', 350: 'billys', 351: 'binges', 352: 'bird', 353: 'birds', 354: 'birthdays', 355: 'bisexual', 356: 'bitch', 357: 'bitchass', 358: 'bitches', 359: 'bite', 360: 'bites', 361: 'bivins', 362: 'biz', 363: 'bizarre', 364: 'bk', 365: 'black', 366: 'blacks', 367: 'bladder', 368: 'blame', 369: 'blamin', 370: 'blanco', 371: 'blaow', 372: 'blasphemy', 373: 'blast', 374: 'blasted', 375: 'blastin', 376: 'blaze', 377: 'bleach', 378: 'bleed', 379: 'bleedin', 380: 'bless', 381: 'blessed', 382: 'blew', 383: 'blimp', 384: 'blind', 385: 'blink', 386: 'blinkers', 387: 'block', 388: 'blocks', 389: 'blood', 390: 'bloodshed', 391: 'bloodstains', 392: 'bloody', 393: 'blouse', 394: 'blow', 395: 'blower', 396: 'blowin', 397: 'blowing', 398: 'blown', 399: 'blows', 400: 'blue', 401: 'bluelight', 402: 'blues', 403: 'blunt', 404: 'blunted', 405: 'blunts', 406: 'bluntsip', 407: 'bms', 408: 'boat', 409: 'bobby', 410: 'bodies', 411: 'body', 412: 'bodysuit', 413: 'bogart', 414: 'bogatar', 415: 'bogota', 416: 'bolivia', 417: 'bomb', 418: 'bombs', 419: 'bon', 420: 'bond', 421: 'bone', 422: 'bones', 423: 'bonesme', 424: 'bonin', 425: 'boo', 426: 'boogedy', 427: 'boogey', 428: 'booking', 429: 'booklet', 430: 'boom', 431: 'boostin', 432: 'boot', 433: 'bootleggers', 434: 'boots', 435: 'booty', 436: 'booyaka', 437: 'booze', 438: 'boricua', 439: 'born', 440: 'borough', 441: 'borrowed', 442: 'boss', 443: 'bosses', 444: 'both', 445: 'bottle', 446: 'bottles', 447: 'bottom', 448: 'bought', 449: 'bounce', 450: 'bout', 451: 'bow', 452: 'box', 453: 'boxcutter', 454: 'boxers', 455: 'boxes', 456: 'boxing', 457: 'boy', 458: 'boys', 459: 'bra', 460: 'bracelet', 461: 'braggin', 462: 'braids', 463: 'brailling', 464: 'brain', 465: 'brainless', 466: 'brains', 467: 'brainstorm', 468: 'branches', 469: 'brand', 470: 'brandnubian', 471: 'brandy', 472: 'branson', 473: 'bras', 474: 'brat', 475: 'brattattat', 476: 'brattattattat', 477: 'brave', 478: 'brawlin', 479: 'braxton', 480: 'bread', 481: 'break', 482: 'breakfast', 483: 'breakin', 484: 'breaks', 485: 'breast', 486: 'breath', 487: 'breathe', 488: 'breathin', 489: 'breathless', 490: 'breed', 491: 'breeze', 492: 'brew', 493: 'brews', 494: 'brick', 495: 'bricklayers', 496: 'bricks', 497: 'bridge', 498: 'bridgeport', 499: 'briefcase', 500: 'briefcases', 501: 'bring', 502: 'bringin', 503: 'broad', 504: 'broads', 505: 'broadway', 506: 'broke', 507: 'broken', 508: 'broklin', 509: 'brolic', 510: 'bronson', 511: 'bronx', 512: 'brook', 513: 'brookland', 514: 'brooklyn', 515: 'brooklyns', 516: 'broom', 517: 'brother', 518: 'brothers', 519: 'brown', 520: 'brownnose', 521: 'brownsville', 522: 'brucey', 523: 'bruise', 524: 'bruised', 525: 'bruises', 526: 'brun', 527: 'brunches', 528: 'brussels', 529: 'brutally', 530: 'bside', 531: 'bubba', 532: 'bubble', 533: 'bubblegoose', 534: 'buck', 535: 'bucked', 536: 'buckets', 537: 'buckin', 538: 'bucking', 539: 'buckle', 540: 'buckshots', 541: 'bucktown', 542: 'buddah', 543: 'buddha', 544: 'buggin', 545: 'buildin', 546: 'building', 547: 'bulletproof', 548: 'bullets', 549: 'bullies', 550: 'bullpoop', 551: 'bullpooptin', 552: 'bum', 553: 'bumpin', 554: 'bumps', 555: 'bunch', 556: 'buncha', 557: 'burgular', 558: 'buried', 559: 'burn', 560: 'burner', 561: 'burners', 562: 'burns', 563: 'burried', 564: 'burst', 565: 'bury', 566: 'bus', 567: 'bush', 568: 'bushes', 569: 'bushwick', 570: 'busily', 571: 'business', 572: 'bust', 573: 'buster', 574: 'bustin', 575: 'busy', 576: 'but', 577: 'butt', 578: 'buttcheeks', 579: 'butter', 580: 'buttercrunch', 581: 'buttfrickin', 582: 'buttnaked', 583: 'button', 584: 'butts', 585: 'buy', 586: 'buyers', 587: 'buyin', 588: 'buying', 589: 'by', 590: 'bye', 591: 'bygones', 592: 'c', 593: 'cab', 594: 'cabbage', 595: 'caesar', 596: 'caffine', 597: 'caine', 598: 'caint', 599: 'cairo', 600: 'cake', 601: 'cali', 602: 'calico', 603: 'calicos', 604: 'california', 605: 'call', 606: 'callable', 607: 'called', 608: 'callin', 609: 'calling', 610: 'calm', 611: 'calvin', 612: 'camacho', 613: 'came', 614: 'camels', 615: 'camera', 616: 'cami', 617: 'can', 618: 'canape', 619: 'cancer', 620: 'candlelight', 621: 'candles', 622: 'cane', 623: 'cannibalism', 624: 'cannons', 625: 'cant', 626: 'caper', 627: 'capiche', 628: 'capone', 629: 'capped', 630: 'capri', 631: 'caps', 632: 'captain', 633: 'car', 634: 'carats', 635: 'caravan', 636: 'care', 637: 'career', 638: 'caressin', 639: 'caretaker', 640: 'careys', 641: 'caribbean', 642: 'carjack', 643: 'carlo', 644: 'carpet', 645: 'carrero', 646: 'carry', 647: 'cars', 648: 'carsandwhiches', 649: 'carte', 650: 'carter', 651: 'cartier', 652: 'cartwheel', 653: 'case', 654: 'cases', 655: 'cash', 656: 'cashflow', 657: 'cashin', 658: 'casino', 659: 'casket', 660: 'cassette', 661: 'casualties', 662: 'cat', 663: 'catch', 664: 'cats', 665: 'caucasians', 666: 'caucausians', 667: 'caught', 668: 'cause', 669: 'causes', 670: 'caviar', 671: 'cd', 672: 'cds', 673: 'ceas', 674: 'cease', 675: 'ceasealee', 676: 'ceasealeo', 677: 'cece', 678: 'cee', 679: 'cees', 680: 'ceilin', 681: 'ceiling', 682: 'celebrate', 683: 'celebrating', 684: 'cell', 685: 'cells', 686: 'cellular', 687: 'cellycelly', 688: 'celo', 689: 'cemetary', 690: 'cent', 691: 'center', 692: 'central', 693: 'certain', 694: 'certified', 695: 'cha', 696: 'chafe', 697: 'chain', 698: 'chains', 699: 'chainsaw', 700: 'chaka', 701: 'chakai', 702: 'chalk', 703: 'chamber', 704: 'champagne', 705: 'chance', 706: 'chanel', 707: 'change', 708: 'changed', 709: 'chante', 710: 'chaperon', 711: 'charges', 712: 'charles', 713: 'charm', 714: 'chase', 715: 'chat', 716: 'chauffeur', 717: 'cheap', 718: 'cheatin', 719: 'check', 720: 'checkcheck', 721: 'checkin', 722: 'cheddar', 723: 'cheek', 724: 'cheers', 725: 'cheese', 726: 'cheesed', 727: 'cherokee', 728: 'cherry', 729: 'chest', 730: 'chestplate', 731: 'chevy', 732: 'chewing', 733: 'chic', 734: 'chicago', 735: 'chick', 736: 'chicken', 737: 'chickenhead', 738: 'chickenheads', 739: 'child', 740: 'children', 741: 'chill', 742: 'chillin', 743: 'chilling', 744: 'chills', 745: 'chin', 746: 'china', 747: 'chip', 748: 'chips', 749: 'chlamydia', 750: 'chocolate', 751: 'chocolates', 752: 'choke', 753: 'choked', 754: 'choose', 755: 'choosin', 756: 'chope', 757: 'chopped', 758: 'choppin', 759: 'chorus', 760: 'chorusrepeat', 761: 'chose', 762: 'christening', 763: 'christenings', 764: 'christmas', 765: 'christopher', 766: 'chrome', 767: 'chromed', 768: 'chromefu', 769: 'chron', 770: 'chronchron', 771: 'chronic', 772: 'chronicles', 773: 'chrons', 774: 'chubby', 775: 'chuck', 776: 'chump', 777: 'chumps', 778: 'chunks', 779: 'cig', 780: 'cigars', 781: 'cigarsin', 782: 'cintamelia', 783: 'circumfrence', 784: 'city', 785: 'civilized', 786: 'cl*ts', 787: 'claim', 788: 'claire', 789: 'clams', 790: 'clap', 791: 'class', 792: 'classes', 793: 'classic', 794: 'classified', 795: 'classy', 796: 'clean', 797: 'cleanest', 798: 'cleanin', 799: 'clear', 800: 'cleared', 801: 'clearest', 802: 'clearly', 803: 'cleats', 804: 'click', 805: 'clicks', 806: 'clientele', 807: 'cliffs', 808: 'climb', 809: 'clip', 810: 'clippin', 811: 'clips', 812: 'clique', 813: 'clock', 814: 'clockin', 815: 'clone', 816: 'close', 817: 'closed', 818: 'closer', 819: 'closest', 820: 'closet', 821: 'clot', 822: 'clothes', 823: 'club', 824: 'cluckin', 825: 'clucking', 826: 'clue', 827: 'clutch', 828: 'clutches', 829: 'clutchin', 830: 'cmere', 831: 'cmon', 832: 'cnotes', 833: 'co', 834: 'coach', 835: 'coast', 836: 'coastline', 837: 'coat', 838: 'coats', 839: 'cocaine', 840: 'cock', 841: 'cocked', 842: 'cocksuckers', 843: 'cocoa', 844: 'code', 845: 'coffin', 846: 'coffins', 847: 'cognac', 848: 'coke', 849: 'cold', 850: 'collaboration', 851: 'collected', 852: 'college', 853: 'cologne', 854: 'colombian', 855: 'colored', 856: 'colors', 857: 'colourful', 858: 'columbian', 859: 'combination', 860: 'combs', 861: 'combses', 862: 'come', 863: 'comer', 864: 'comes', 865: 'comfort', 866: 'comfortably', 867: 'comin', 868: 'coming', 869: 'commandment', 870: 'commandments', 871: 'commission', 872: 'commit', 873: 'common', 874: 'commotion', 875: 'company', 876: 'competition', 877: 'completely', 878: 'compton', 879: 'computers', 880: 'conceptions', 881: 'concrete', 882: 'concurrent', 883: 'concussions', 884: 'condo', 885: 'condom', 886: 'condoms', 887: 'condos', 888: 'connections', 889: 'connivin', 890: 'conscious', 891: 'considered', 892: 'consignment', 893: 'conspiracy', 894: 'constant', 895: 'contemplate', 896: 'contender', 897: 'continue', 898: 'contraception', 899: 'contract', 900: 'contradiction', 901: 'control', 902: 'controls', 903: 'conversate', 904: 'conversation', 905: 'conversations', 906: 'coochies', 907: 'coogi', 908: 'cook', 909: 'cooked', 910: 'cookies', 911: 'cooking', 912: 'cookouts', 913: 'cool', 914: 'coon', 915: 'cooter', 916: 'cop', 917: 'copped', 918: 'cops', 919: 'cords', 920: 'core', 921: 'corn', 922: 'corner', 923: 'coroner', 924: 'correct', 925: 'corridor', 926: 'cortex', 927: 'cost', 928: 'costs', 929: 'could', 930: 'couldnt', 931: 'count', 932: 'counterfeit', 933: 'counterparts', 934: 'countin', 935: 'country', 936: 'county', 937: 'coup', 938: 'coupe', 939: 'coupes', 940: 'couple', 941: 'course', 942: 'court', 943: 'cousin', 944: 'cousrse', 945: 'cover', 946: 'covered', 947: 'coward', 948: 'cowards', 949: 'coz', 950: 'cpoppa', 951: 'crack', 952: 'cracked', 953: 'crackers', 954: 'crackfiend', 955: 'crackhead', 956: 'crackin', 957: 'crackside', 958: 'craig', 959: 'cranium', 960: 'craps', 961: 'crashed', 962: 'crazier', 963: 'crazy', 964: 'cream', 965: 'credit', 966: 'creep', 967: 'creepin', 968: 'creeping', 969: 'creeps', 970: 'creole', 971: 'crept', 972: 'crew', 973: 'crews', 974: 'crib', 975: 'cribo', 976: 'cribs', 977: 'cried', 978: 'crime', 979: 'crimes', 980: 'criminal', 981: 'criminals', 982: 'cripple', 983: 'cristal', 984: 'cristo', 985: 'cristyle', 986: 'critical', 987: 'crock', 988: 'crook', 989: 'crooked', 990: 'crooklyns', 991: 'crooks', 992: 'cross', 993: 'crossed', 994: 'crotched', 995: 'crowbar', 996: 'crowded', 997: 'crown', 998: 'cruddy', 999: 'cruise', 1000: 'cruiser', 1001: 'cruisers', 1002: 'cruising', 1003: 'crush', 1004: 'crusher', 1005: 'crushin', 1006: 'crutches', 1007: 'cry', 1008: 'cryin', 1009: 'crying', 1010: 'crystal', 1011: 'cs', 1012: 'ctotheatotheddy', 1013: 'cuban', 1014: 'cubans', 1015: 'cucumber', 1016: 'cuffed', 1017: 'cum', 1018: 'cumin', 1019: 'cummin', 1020: 'cup', 1021: 'cupid', 1022: 'curb', 1023: 'curl', 1024: 'cursed', 1025: 'custom', 1026: 'cut', 1027: 'cute', 1028: 'cutie', 1029: 'cuts', 1030: 'cuttin', 1031: 'cutting', 1032: 'cyber', 1033: 'cypress', 1034: 'd', 1035: 'd*ck', 1036: 'd*cks', 1037: 'da', 1038: 'dabbled', 1039: 'dad', 1040: 'dada', 1041: 'daddy', 1042: 'daddys', 1043: 'daily', 1044: 'damage', 1045: 'damagin', 1046: 'damien', 1047: 'damn', 1048: 'damned', 1049: 'damnit', 1050: 'dana', 1051: 'dance', 1052: 'dancers', 1053: 'dancing', 1054: 'dane', 1055: 'danger', 1056: 'dangerous', 1057: 'dare', 1058: 'dark', 1059: 'darkskin', 1060: 'dart', 1061: 'das', 1062: 'dat', 1063: 'date', 1064: 'daughter', 1065: 'daughters', 1066: 'dawn', 1067: 'day', 1068: 'daydreams', 1069: 'days', 1070: 'dc', 1071: 'dea', 1072: 'dead', 1073: 'deadly', 1074: 'deal', 1075: 'dealathon', 1076: 'dealer', 1077: 'dealership', 1078: 'dealin', 1079: 'dean', 1080: 'dear', 1081: 'dearest', 1082: 'death', 1083: 'deaths', 1084: 'decease', 1085: 'deceive', 1086: 'december', 1087: 'decidin', 1088: 'decimals', 1089: 'decision', 1090: 'deck', 1091: 'declinin', 1092: 'decorated', 1093: 'dedicatin', 1094: 'dee', 1095: 'deep', 1096: 'deeper', 1097: 'def', 1098: 'definitely', 1099: 'degenero', 1100: 'deja', 1101: 'delayed', 1102: 'delicate', 1103: 'deliverin', 1104: 'della', 1105: 'dem', 1106: 'demand', 1107: 'demented', 1108: 'demise', 1109: 'demo', 1110: 'demon', 1111: 'dempsey', 1112: 'deniro', 1113: 'depicted', 1114: 'dept', 1115: 'deputy', 1116: 'deranged', 1117: 'description', 1118: 'desert', 1119: 'design', 1120: 'despise', 1121: 'destination', 1122: 'destroy', 1123: 'detroit', 1124: 'deuce', 1125: 'devil', 1126: 'devilish', 1127: 'devoted', 1128: 'devour', 1129: 'dez', 1130: 'di', 1131: 'diablos', 1132: 'dial', 1133: 'dialogue', 1134: 'diamond', 1135: 'diamonds', 1136: 'dibby', 1137: 'dice', 1138: 'dick', 1139: 'dickens', 1140: 'did', 1141: 'diddy', 1142: 'didnt', 1143: 'die', 1144: 'died', 1145: 'diets', 1146: 'difference', 1147: 'different', 1148: 'digger', 1149: 'digging', 1150: 'digit', 1151: 'digits', 1152: 'dime', 1153: 'dimes', 1154: 'dimmer', 1155: 'dine', 1156: 'dinin', 1157: 'dinner', 1158: 'dinners', 1159: 'dip', 1160: 'dipped', 1161: 'dippin', 1162: 'dipping', 1163: 'direction', 1164: 'dirt', 1165: 'dirty', 1166: 'dis', 1167: 'disappear', 1168: 'disappearin', 1169: 'disciples', 1170: 'disco', 1171: 'discuss', 1172: 'discussin', 1173: 'discussing', 1174: 'diseases', 1175: 'disgustin', 1176: 'disperse', 1177: 'display', 1178: 'disrespect', 1179: 'disrespectful', 1180: 'diss', 1181: 'dissapearin', 1182: 'dissed', 1183: 'distances', 1184: 'distribute', 1185: 'dividence', 1186: 'division', 1187: 'dj', 1188: 'dkny', 1189: 'do', 1190: 'doa', 1191: 'doc', 1192: 'dockin', 1193: 'docta', 1194: 'doctor', 1195: 'doe', 1196: 'does', 1197: 'doesnt', 1198: 'dog', 1199: 'dogg', 1200: 'doggytyle', 1201: 'dogs', 1202: 'doin', 1203: 'doing', 1204: 'dolce', 1205: 'dollar', 1206: 'dollars', 1207: 'dom', 1208: 'dome', 1209: 'dominican', 1210: 'domino', 1211: 'don', 1212: 'dondadda', 1213: 'done', 1214: 'donna', 1215: 'dont', 1216: 'dontcha', 1217: 'doobies', 1218: 'doodoo', 1219: 'dookie', 1220: 'door', 1221: 'doorbell', 1222: 'doors', 1223: 'dope', 1224: 'dopefiend', 1225: 'dot', 1226: 'dots', 1227: 'double', 1228: 'doubleedged', 1229: 'doubleg', 1230: 'doubleoh', 1231: 'doubt', 1232: 'douches', 1233: 'dough', 1234: 'doughnuts', 1235: 'doves', 1236: 'down', 1237: 'downfall', 1238: 'downstairs', 1239: 'doze', 1240: 'dozen', 1241: 'dr', 1242: 'drag', 1243: 'dragon', 1244: 'drama', 1245: 'drank', 1246: 'draw', 1247: 'drawers', 1248: 'draws', 1249: 'dread', 1250: 'dreads', 1251: 'dream', 1252: 'dreamin', 1253: 'dreams', 1254: 'dress', 1255: 'dressed', 1256: 'drew', 1257: 'drink', 1258: 'drinker', 1259: 'drinkin', 1260: 'drinking', 1261: 'drip', 1262: 'dripped', 1263: 'drippin', 1264: 'drive', 1265: 'drivers', 1266: 'driving', 1267: 'dro', 1268: 'drock', 1269: 'drool', 1270: 'drop', 1271: 'dropped', 1272: 'droppin', 1273: 'drops', 1274: 'droptop', 1275: 'droptopnotch', 1276: 'drove', 1277: 'drug', 1278: 'drugs', 1279: 'drunk', 1280: 'dry', 1281: 'ds', 1282: 'duce', 1283: 'duchies', 1284: 'duck', 1285: 'duckin', 1286: 'ducking', 1287: 'ducks', 1288: 'dude', 1289: 'dudes', 1290: 'due', 1291: 'duel', 1292: 'duets', 1293: 'dug', 1294: 'duhha', 1295: 'duke', 1296: 'dukes', 1297: 'dumb', 1298: 'dumbin', 1299: 'dumbing', 1300: 'dummies', 1301: 'dummy', 1302: 'dump', 1303: 'dumpin', 1304: 'dungarees', 1305: 'dunn', 1306: 'duplex', 1307: 'during', 1308: 'dust', 1309: 'dusted', 1310: 'dutch', 1311: 'dutches', 1312: 'duty', 1313: 'dwell', 1314: 'dyin', 1315: 'dying', 1316: 'dykes', 1317: 'dynamite', 1318: 'e', 1319: 'each', 1320: 'ear', 1321: 'earings', 1322: 'earl', 1323: 'early', 1324: 'earrings', 1325: 'ears', 1326: 'ease', 1327: 'easily', 1328: 'east', 1329: 'eastcoast', 1330: 'eastside', 1331: 'easy', 1332: 'eat', 1333: 'eatin', 1334: 'eating', 1335: 'echoes', 1336: 'educated', 1337: 'edward', 1338: 'effect', 1339: 'eggs', 1340: 'egoes', 1341: 'eight', 1342: 'eights', 1343: 'eighty', 1344: 'eightyeight', 1345: 'eightyseven', 1346: 'either', 1347: 'ej', 1348: 'ejected', 1349: 'electrical', 1350: 'elevated', 1351: 'elevates', 1352: 'elevator', 1353: 'else', 1354: 'elvis', 1355: 'em', 1356: 'embedded', 1357: 'emcee', 1358: 'emcees', 1359: 'emotionless', 1360: 'emptied', 1361: 'empty', 1362: 'encaged', 1363: 'encounter', 1364: 'end', 1365: 'endin', 1366: 'ends', 1367: 'enemies', 1368: 'enemy', 1369: 'energy', 1370: 'engine', 1371: 'englique', 1372: 'english', 1373: 'enhancin', 1374: 'enormous', 1375: 'enough', 1376: 'enrique', 1377: 'enterin', 1378: 'enterprisin', 1379: 'envious', 1380: 'envy', 1381: 'ep', 1382: 'epilogue', 1383: 'equal', 1384: 'er', 1385: 'era', 1386: 'erynight', 1387: 'escada', 1388: 'escalator', 1389: 'escape', 1390: 'escargot', 1391: 'especially', 1392: 'estate', 1393: 'estates', 1394: 'eternal', 1395: 'eternally', 1396: 'eulogy', 1397: 'european', 1398: 'evacuate', 1399: 'even', 1400: 'evenin', 1401: 'evening', 1402: 'events', 1403: 'eventually', 1404: 'ever', 1405: 'every', 1406: 'everybody', 1407: 'everybodymove', 1408: 'everyday', 1409: 'everything', 1410: 'everytime', 1411: 'evil', 1412: 'exactly', 1413: 'excels', 1414: 'except', 1415: 'exchanged', 1416: 'exchanges', 1417: 'excite', 1418: 'excitement', 1419: 'excuse', 1420: 'execution', 1421: 'existence', 1422: 'exorcism', 1423: 'expect', 1424: 'expected', 1425: 'expensive', 1426: 'expert', 1427: 'expired', 1428: 'explain', 1429: 'explained', 1430: 'explode', 1431: 'explodin', 1432: 'exprained', 1433: 'exquisite', 1434: 'extermination', 1435: 'extortin', 1436: 'extortion', 1437: 'extra', 1438: 'eye', 1439: 'eyeball', 1440: 'eyed', 1441: 'eyes', 1442: 'eyeses', 1443: 'eyewitness', 1444: 'ez', 1445: 'face', 1446: 'faces', 1447: 'facin', 1448: 'fact', 1449: 'faction', 1450: 'facts', 1451: 'faculty', 1452: 'fade', 1453: 'fagot', 1454: 'fail', 1455: 'fair', 1456: 'fake', 1457: 'faker', 1458: 'fall', 1459: 'fallout', 1460: 'false', 1461: 'fam', 1462: 'fame', 1463: 'family', 1464: 'fan', 1465: 'fanny', 1466: 'fans', 1467: 'fantasies', 1468: 'far', 1469: 'farrakhan', 1470: 'fashion', 1471: 'fast', 1472: 'faster', 1473: 'fat', 1474: 'fatass', 1475: 'fatburger', 1476: 'fate', 1477: 'father', 1478: 'fatigue', 1479: 'fatigued', 1480: 'fatigues', 1481: 'fatter', 1482: 'fattest', 1483: 'favor', 1484: 'fear', 1485: 'fed', 1486: 'federal', 1487: 'feds', 1488: 'feed', 1489: 'feeding', 1490: 'feel', 1491: 'feelin', 1492: 'feeling', 1493: 'feels', 1494: 'feenin', 1495: 'feet', 1496: 'feets', 1497: 'fell', 1498: 'fellas', 1499: 'felon', 1500: 'felt', 1501: 'female', 1502: 'few', 1503: 'fiction', 1504: 'field', 1505: 'fields', 1506: 'fiend', 1507: 'fiending', 1508: 'fifteen', 1509: 'fifth', 1510: 'fifty', 1511: 'fiftyfour', 1512: 'fiftyseven', 1513: 'fight', 1514: 'fightin', 1515: 'fighting', 1516: 'figure', 1517: 'figured', 1518: 'figures', 1519: 'fill', 1520: 'filled', 1521: 'filler', 1522: 'fillin', 1523: 'filling', 1524: 'filthy', 1525: 'find', 1526: 'fine', 1527: 'finest', 1528: 'finger', 1529: 'fingers', 1530: 'finish', 1531: 'finished', 1532: 'finna', 1533: 'fire', 1534: 'firin', 1535: 'first', 1536: 'fishes', 1537: 'fishscale', 1538: 'fist', 1539: 'fistskill', 1540: 'fit', 1541: 'fittin', 1542: 'five', 1543: 'fiver', 1544: 'fix', 1545: 'fk', 1546: 'fking', 1547: 'flaavvaa', 1548: 'flagrant', 1549: 'flame', 1550: 'flamin', 1551: 'flammable', 1552: 'flapjacks', 1553: 'flash', 1554: 'flashbacks', 1555: 'flashing', 1556: 'flashy', 1557: 'flat', 1558: 'flatline', 1559: 'flatops', 1560: 'flaunt', 1561: 'flavors', 1562: 'flaw', 1563: 'flawlet', 1564: 'flee', 1565: 'flees', 1566: 'flesh', 1567: 'flew', 1568: 'flex', 1569: 'flexible', 1570: 'flicks', 1571: 'flies', 1572: 'flip', 1573: 'flipout', 1574: 'flipped', 1575: 'flippin', 1576: 'flipping', 1577: 'flips', 1578: 'flirt', 1579: 'flo', 1580: 'float', 1581: 'flock', 1582: 'flomps', 1583: 'flooded', 1584: 'floods', 1585: 'floor', 1586: 'flopped', 1587: 'florida', 1588: 'floss', 1589: 'flossin', 1590: 'flour', 1591: 'flow', 1592: 'flower', 1593: 'flows', 1594: 'flutes', 1595: 'fly', 1596: 'flyest', 1597: 'flyin', 1598: 'flying', 1599: 'flypaper', 1600: 'fo', 1601: 'foes', 1602: 'fofo', 1603: 'foil', 1604: 'fold', 1605: 'foldin', 1606: 'follow', 1607: 'food', 1608: 'fool', 1609: 'foolin', 1610: 'foolish', 1611: 'fools', 1612: 'football', 1613: 'for', 1614: 'forbidin', 1615: 'force', 1616: 'forced', 1617: 'forcin', 1618: 'fore', 1619: 'forever', 1620: 'forfeit', 1621: 'forget', 1622: 'forgive', 1623: 'forgot', 1624: 'form', 1625: 'format', 1626: 'formed', 1627: 'forte', 1628: 'fortunate', 1629: 'fortune', 1630: 'forty', 1631: 'fortyfive', 1632: 'fought', 1633: 'foul', 1634: 'found', 1635: 'four', 1636: 'fourfifth', 1637: 'fourfifths', 1638: 'fourfive', 1639: 'fourfour', 1640: 'fourteenfive', 1641: 'fourth', 1642: 'fragile', 1643: 'fragilla', 1644: 'frame', 1645: 'francis', 1646: 'franco', 1647: 'frank', 1648: 'frankie', 1649: 'freak', 1650: 'freaked', 1651: 'freakin', 1652: 'freaks', 1653: 'freaky', 1654: 'free', 1655: 'freedom', 1656: 'freemen', 1657: 'freeway', 1658: 'freeze', 1659: 'french', 1660: 'frequently', 1661: 'fresh', 1662: 'freshmen', 1663: 'frick', 1664: 'fricked', 1665: 'fricker', 1666: 'frickers', 1667: 'frickin', 1668: 'fricking', 1669: 'fricks', 1670: 'friction', 1671: 'friend', 1672: 'friendly', 1673: 'friends', 1674: 'frightening', 1675: 'fringes', 1676: 'frisco', 1677: 'from', 1678: 'front', 1679: 'frontin', 1680: 'fronting', 1681: 'frozen', 1682: 'fuel', 1683: 'fulfillin', 1684: 'full', 1685: 'fullest', 1686: 'fun', 1687: 'funeral', 1688: 'funk', 1689: 'funkdafied', 1690: 'funkmaster', 1691: 'funny', 1692: 'fur', 1693: 'furs', 1694: 'fury', 1695: 'fuschia', 1696: 'fuss', 1697: 'future', 1698: 'g', 1699: 'gabana', 1700: 'gabbana', 1701: 'gadgets', 1702: 'gagged', 1703: 'gain', 1704: 'gainst', 1705: 'gall', 1706: 'galore', 1707: 'gamble', 1708: 'gamblin', 1709: 'game', 1710: 'gamell', 1711: 'games', 1712: 'gangbang', 1713: 'gangsta', 1714: 'gangstas', 1715: 'gangsters', 1716: 'gangthight', 1717: 'garage', 1718: 'gas', 1719: 'gasoline', 1720: 'gassed', 1721: 'gat', 1722: 'gate', 1723: 'gates', 1724: 'gatll', 1725: 'gator', 1726: 'gators', 1727: 'gats', 1728: 'gauge', 1729: 'gavana', 1730: 'gave', 1731: 'gay', 1732: 'gazelle', 1733: 'gear', 1734: 'ged', 1735: 'genesis', 1736: 'genius', 1737: 'gentle', 1738: 'gentleman', 1739: 'gentlemen', 1740: 'gently', 1741: 'genuine', 1742: 'george', 1743: 'georgetown', 1744: 'germany', 1745: 'get', 1746: 'getcha', 1747: 'gets', 1748: 'getter', 1749: 'gettho', 1750: 'gettin', 1751: 'getting', 1752: 'ghetto', 1753: 'ghost', 1754: 'ghostface', 1755: 'gi', 1756: 'gib', 1757: 'gie', 1758: 'gift', 1759: 'giggle', 1760: 'gimme', 1761: 'gin', 1762: 'ginger', 1763: 'gingerbread', 1764: 'gino', 1765: 'girbauds', 1766: 'girl', 1767: 'girlfriend', 1768: 'girlies', 1769: 'girls', 1770: 'give', 1771: 'gives', 1772: 'givin', 1773: 'giving', 1774: 'gizmos', 1775: 'glad', 1776: 'glass', 1777: 'glasses', 1778: 'glide', 1779: 'glisten', 1780: 'glo', 1781: 'global', 1782: 'globe', 1783: 'glock', 1784: 'glocks', 1785: 'gloria', 1786: 'glove', 1787: 'gloves', 1788: 'glue', 1789: 'go', 1790: 'gobe', 1791: 'god', 1792: 'goddamn', 1793: 'goddamnit', 1794: 'godll', 1795: 'goes', 1796: 'goin', 1797: 'going', 1798: 'gold', 1799: 'golddiggers', 1800: 'golden', 1801: 'goldie', 1802: 'gon', 1803: 'gona', 1804: 'gone', 1805: 'gonja', 1806: 'gonna', 1807: 'gonorrhea', 1808: 'good', 1809: 'goodfellas', 1810: 'goodiegoodies', 1811: 'goodness', 1812: 'goodnight', 1813: 'goods', 1814: 'gorilla', 1815: 'got', 1816: 'gotcha', 1817: 'gots', 1818: 'gotta', 1819: 'gotti', 1820: 'gourmet', 1821: 'gr***', 1822: 'gr***s', 1823: 'gr***vine', 1824: 'grab', 1825: 'grabbed', 1826: 'grabbing', 1827: 'grace', 1828: 'gracious', 1829: 'grades', 1830: 'grams', 1831: 'grand', 1832: 'grandmama', 1833: 'grandmothers', 1834: 'grass', 1835: 'gratitude', 1836: 'grave', 1837: 'gravedigga', 1838: 'gray', 1839: 'greams', 1840: 'greasy', 1841: 'great', 1842: 'greater', 1843: 'greatest', 1844: 'greedy', 1845: 'green', 1846: 'greend', 1847: 'greet', 1848: 'grenade', 1849: 'grew', 1850: 'grill', 1851: 'grime', 1852: 'grimy', 1853: 'grin', 1854: 'grind', 1855: 'grindin', 1856: 'grinding', 1857: 'grip', 1858: 'gripped', 1859: 'grippin', 1860: 'grit', 1861: 'groceries', 1862: 'groove', 1863: 'grooves', 1864: 'ground', 1865: 'group', 1866: 'groups', 1867: 'grow', 1868: 'growing', 1869: 'gs', 1870: 'gss', 1871: 'gstring', 1872: 'guarantee', 1873: 'guaranteed', 1874: 'guard', 1875: 'gucci', 1876: 'guess', 1877: 'guest', 1878: 'guests', 1879: 'guiliani', 1880: 'guilty', 1881: 'gum', 1882: 'gums', 1883: 'gun', 1884: 'gunnin', 1885: 'gunplay', 1886: 'gunpowder', 1887: 'guns', 1888: 'gunshot', 1889: 'gunshots', 1890: 'gushy', 1891: 'gut', 1892: 'gutter', 1893: 'guy', 1894: 'guys', 1895: 'guzzlers', 1896: 'gym', 1897: 'ha', 1898: 'habit', 1899: 'habits', 1900: 'had', 1901: 'hah', 1902: 'haha', 1903: 'hahaha', 1904: 'hahahahaha', 1905: 'hahhh', 1906: 'hail', 1907: 'hair', 1908: 'hairry', 1909: 'hairy', 1910: 'half', 1911: 'halfamen', 1912: 'halfass', 1913: 'hallway', 1914: 'hallways', 1915: 'hammer', 1916: 'hampers', 1917: 'han', 1918: 'hand', 1919: 'handcuffs', 1920: 'handle', 1921: 'handled', 1922: 'handles', 1923: 'handlin', 1924: 'handling', 1925: 'hands', 1926: 'hang', 1927: 'hanged', 1928: 'hangin', 1929: 'hanging', 1930: 'happen', 1931: 'happened', 1932: 'happenin', 1933: 'happennin', 1934: 'happily', 1935: 'happy', 1936: 'hard', 1937: 'hardcore', 1938: 'harder', 1939: 'hardhardcore', 1940: 'hardlike', 1941: 'harlem', 1942: 'has', 1943: 'hash', 1944: 'hat', 1945: 'hatch', 1946: 'hate', 1947: 'hater', 1948: 'haters', 1949: 'hats', 1950: 'haul', 1951: 'haunt', 1952: 'haunted', 1953: 'have', 1954: 'haven', 1955: 'havin', 1956: 'having', 1957: 'hawkin', 1958: 'hclass', 1959: 'he', 1960: 'head', 1961: 'headin', 1962: 'headll', 1963: 'headpiece', 1964: 'heads', 1965: 'headshots', 1966: 'hear', 1967: 'heard', 1968: 'hearin', 1969: 'heart', 1970: 'heartbeat', 1971: 'hearts', 1972: 'heat', 1973: 'heated', 1974: 'heatseekin', 1975: 'heatseeking', 1976: 'heaven', 1977: 'heavily', 1978: 'heavy', 1979: 'heckler', 1980: 'heel', 1981: 'heels', 1982: 'heh', 1983: 'hehe', 1984: 'heheh', 1985: 'hehehe', 1986: 'heineken', 1987: 'helicopter', 1988: 'hell', 1989: 'hello', 1990: 'help', 1991: 'helped', 1992: 'hen', 1993: 'henchmen', 1994: 'hennesey', 1995: 'hennessey', 1996: 'hennessy', 1997: 'henny', 1998: 'her', 1999: 'herbs', 2000: 'here', 2001: 'heres', 2002: 'heron', 2003: 'herpes', 2004: 'herring', 2005: 'herself', 2006: 'hes', 2007: 'hesitate', 2008: 'hesitation', 2009: 'hestiation', 2010: 'hey', 2011: 'hi', 2012: 'hibby', 2013: 'hiccup', 2014: 'hiccups', 2015: 'hickeys', 2016: 'hickies', 2017: 'hid', 2018: 'hiddn', 2019: 'hide', 2020: 'hidin', 2021: 'high', 2022: 'higher', 2023: 'highness', 2024: 'highway', 2025: 'hill', 2026: 'hiltons', 2027: 'him', 2028: 'himself', 2029: 'hip', 2030: 'hiphop', 2031: 'hips', 2032: 'his', 2033: 'history', 2034: 'hit', 2035: 'hitch', 2036: 'hitcha', 2037: 'hitchlin', 2038: 'hitchpenis', 2039: 'hits', 2040: 'hittin', 2041: 'hitting', 2042: 'hiv', 2043: 'hmmm', 2044: 'ho', 2045: 'hoe', 2046: 'hoeing', 2047: 'hoes', 2048: 'hog', 2049: 'hold', 2050: 'holdin', 2051: 'holes', 2052: 'holla', 2053: 'holler', 2054: 'hollerin', 2055: 'holmes', 2056: 'holocaust', 2057: 'holsters', 2058: 'holy', 2059: 'home', 2060: 'homeboy', 2061: 'homeboys', 2062: 'homecoming', 2063: 'homegirls', 2064: 'homegrown', 2065: 'homes', 2066: 'homey', 2067: 'homies', 2068: 'hominy', 2069: 'homos', 2070: 'hon', 2071: 'honcho', 2072: 'honda', 2073: 'honey', 2074: 'honeys', 2075: 'honies', 2076: 'hons', 2077: 'hood', 2078: 'hoodie', 2079: 'hoodied', 2080: 'hoodies', 2081: 'hoods', 2082: 'hook', 2083: 'hooked', 2084: 'hooker', 2085: 'hookers', 2086: 'hooligans', 2087: 'hoop', 2088: 'hooptie', 2089: 'hootie', 2090: 'hoover', 2091: 'hop', 2092: 'hope', 2093: 'hopes', 2094: 'hoppin', 2095: 'hopping', 2096: 'hops', 2097: 'horse', 2098: 'horses', 2099: 'hos', 2100: 'hospital', 2101: 'hot', 2102: 'hottest', 2103: 'hour', 2104: 'hourly', 2105: 'house', 2106: 'housewife', 2107: 'housing', 2108: 'houson', 2109: 'hov', 2110: 'how', 2111: 'howard', 2112: 'howda', 2113: 'however', 2114: 'howl', 2115: 'hows', 2116: 'htown', 2117: 'hugged', 2118: 'hugs', 2119: 'huh', 2120: 'hum', 2121: 'human', 2122: 'humble', 2123: 'hummer', 2124: 'humongous', 2125: 'humpin', 2126: 'hun', 2127: 'hundred', 2128: 'hundredandtwo', 2129: 'hunger', 2130: 'hungry', 2131: 'hungrys', 2132: 'hunnies', 2133: 'huns', 2134: 'hunt', 2135: 'hunted', 2136: 'huntedi', 2137: 'huntin', 2138: 'hurl', 2139: 'hurry', 2140: 'hurting', 2141: 'hurts', 2142: 'hush', 2143: 'hustlas', 2144: 'hustle', 2145: 'hustler', 2146: 'hustlers', 2147: 'hustlin', 2148: 'hutch', 2149: 'hydrant', 2150: 'hydro', 2151: 'hype', 2152: 'hyped', 2153: 'hypnotize', 2154: 'i', 2155: \"i'm\", 2156: 'ice', 2157: 'iceberg', 2158: 'iced', 2159: 'icepick', 2160: 'icepicks', 2161: 'icu', 2162: 'id', 2163: 'idaho', 2164: 'identify', 2165: 'ie', 2166: 'if', 2167: 'ifs', 2168: 'ig', 2169: 'igloo', 2170: 'ike', 2171: 'ill', 2172: 'illest', 2173: 'ills', 2174: 'im', 2175: 'ima', 2176: 'imma', 2177: 'immaculate', 2178: 'imna', 2179: 'imperial', 2180: 'impress', 2181: 'impressed', 2182: 'in', 2183: 'incarcerated', 2184: 'inch', 2185: 'incidents', 2186: 'including', 2187: 'indecent', 2188: 'indeed', 2189: 'index', 2190: 'indian', 2191: 'individual', 2192: 'indo', 2193: 'indonesia', 2194: 'inf', 2195: 'inferno', 2196: 'infiltrated', 2197: 'infinity', 2198: 'info', 2199: 'infrared', 2200: 'infrareds', 2201: 'inhale', 2202: 'initial', 2203: 'injections', 2204: 'injuries', 2205: 'ink', 2206: 'innocent', 2207: 'inside', 2208: 'instamatak', 2209: 'instant', 2210: 'instead', 2211: 'instinct', 2212: 'instrumelody', 2213: 'intake', 2214: 'intercourse', 2215: 'interest', 2216: 'interests', 2217: 'interior', 2218: 'intermission', 2219: 'interrupt', 2220: 'interrupted', 2221: 'interviews', 2222: 'into', 2223: 'intricate', 2224: 'intro', 2225: 'introduce', 2226: 'introduced', 2227: 'intrrupted', 2228: 'intruders', 2229: 'intuition', 2230: 'inventor', 2231: 'invest', 2232: 'invincible', 2233: 'invite', 2234: 'involved', 2235: 'iron', 2236: 'irritatin', 2237: 'is', 2238: 'island', 2239: 'isley', 2240: 'ismail', 2241: 'isuzu', 2242: 'it', 2243: 'italy', 2244: 'itchy', 2245: 'itll', 2246: 'its', 2247: 'ivana', 2248: 'ive', 2249: 'j', 2250: 'jab', 2251: 'jack', 2252: 'jacked', 2253: 'jackers', 2254: 'jacket', 2255: 'jackin', 2256: 'jacks', 2257: 'jacob', 2258: 'jacques', 2259: 'jacuzzi', 2260: 'jade', 2261: 'jags', 2262: 'jail', 2263: 'jailcells', 2264: 'jake', 2265: 'jamaican', 2266: 'james', 2267: 'jasmine', 2268: 'jason', 2269: 'jay', 2270: 'jazz', 2271: 'jazze', 2272: 'jd', 2273: 'je', 2274: 'jealous', 2275: 'jealousy', 2276: 'jeans', 2277: 'jeeezus', 2278: 'jeep', 2279: 'jeeps', 2280: 'jellies', 2281: 'jerk', 2282: 'jermaine', 2283: 'jersey', 2284: 'jerus', 2285: 'jesus', 2286: 'jet', 2287: 'jets', 2288: 'jetskiing', 2289: 'jetson', 2290: 'jheri', 2291: 'jig', 2292: 'jigga', 2293: 'jiggas', 2294: 'jim', 2295: 'jimmy', 2296: 'jm', 2297: 'job', 2298: 'jock', 2299: 'jodeci', 2300: 'john', 2301: 'johnson', 2302: 'joint', 2303: 'joints', 2304: 'joke', 2305: 'jokes', 2306: 'joness', 2307: 'jooks', 2308: 'jose', 2309: 'joy', 2310: 'juggle', 2311: 'juice', 2312: 'juicy', 2313: 'jump', 2314: 'jumpin', 2315: 'jumping', 2316: 'jumps', 2317: 'jumpshot', 2318: 'jums', 2319: 'junior', 2320: 'jus', 2321: 'just', 2322: 'juvenile', 2323: 'k', 2324: 'kane', 2325: 'kani', 2326: 'kapeesha', 2327: 'karan', 2328: 'karats', 2329: 'karl', 2330: 'keep', 2331: 'keeps', 2332: 'kelly', 2333: 'kenya', 2334: 'kept', 2335: 'kerosene', 2336: 'kettle', 2337: 'kevin', 2338: 'key', 2339: 'keys', 2340: 'khan', 2341: 'ki', 2342: 'kibbitz', 2343: 'kick', 2344: 'kicked', 2345: 'kickin', 2346: 'kicking', 2347: 'kicks', 2348: 'kid', 2349: 'kidnap', 2350: 'kidneys', 2351: 'kids', 2352: 'kill', 2353: 'killa', 2354: 'killah', 2355: 'killed', 2356: 'killer', 2357: 'killers', 2358: 'killin', 2359: 'killing', 2360: 'killings', 2361: 'killins', 2362: 'kills', 2363: 'kim', 2364: 'kind', 2365: 'kinda', 2366: 'kinfolk', 2367: 'king', 2368: 'kings', 2369: 'kis', 2370: 'kiss', 2371: 'kissed', 2372: 'kisses', 2373: 'kissin', 2374: 'kitchen', 2375: 'kizzack', 2376: 'klein', 2377: 'knapsack', 2378: 'knee', 2379: 'knees', 2380: 'knew', 2381: 'knicks', 2382: 'knife', 2383: 'kno', 2384: 'knock', 2385: 'knockers', 2386: 'knockin', 2387: 'knocking', 2388: 'know', 2389: 'knowin', 2390: 'knowing', 2391: 'knowledge', 2392: 'known', 2393: 'knows', 2394: 'knowwwwww', 2395: 'knuckleheads', 2396: 'knuckles', 2397: 'koch', 2398: 'kodak', 2399: 'korean', 2400: 'kris', 2401: 'ktown', 2402: 'kungfu', 2403: 'kwame', 2404: 'kwon', 2405: 'l', 2406: 'la', 2407: 'lab', 2408: 'label', 2409: 'labelle', 2410: 'labels', 2411: 'lace', 2412: 'laced', 2413: 'ladder', 2414: 'ladies', 2415: 'lady', 2416: 'laid', 2417: 'lala', 2418: 'lali', 2419: 'lame', 2420: 'lampin', 2421: 'lance', 2422: 'land', 2423: 'landcruisers', 2424: 'landlord', 2425: 'landspread', 2426: 'language', 2427: 'lap', 2428: 'large', 2429: 'larger', 2430: 'larry', 2431: 'last', 2432: 'latch', 2433: 'late', 2434: 'lately', 2435: 'later', 2436: 'laugh', 2437: 'laughin', 2438: 'laughter', 2439: 'launcher', 2440: 'lavender', 2441: 'lavish', 2442: 'law', 2443: 'lawf', 2444: 'lawyer', 2445: 'lawyers', 2446: 'lay', 2447: 'layer', 2448: 'layers', 2449: 'layin', 2450: 'laying', 2451: 'lazy', 2452: 'leach', 2453: 'lead', 2454: 'leakin', 2455: 'leaking', 2456: 'lean', 2457: 'leanin', 2458: 'learn', 2459: 'least', 2460: 'leather', 2461: 'leatherface', 2462: 'leave', 2463: 'leaveio', 2464: 'leaves', 2465: 'leavin', 2466: 'leaving', 2467: 'leech', 2468: 'leek', 2469: 'leer', 2470: 'lees', 2471: 'left', 2472: 'lefty', 2473: 'leg', 2474: 'legacy', 2475: 'legend', 2476: 'legendary', 2477: 'legends', 2478: 'legit', 2479: 'legs', 2480: 'leprechauns', 2481: 'less', 2482: 'lesson', 2483: 'let', 2484: 'lethal', 2485: 'lets', 2486: 'letters', 2487: 'lettuce', 2488: 'level', 2489: 'levels', 2490: 'lex', 2491: 'lexi', 2492: 'lexus', 2493: 'lexuses', 2494: 'license', 2495: 'lick', 2496: 'licked', 2497: 'lickin', 2498: 'licks', 2499: 'licorice', 2500: 'lie', 2501: 'lies', 2502: 'lieutenant', 2503: 'life', 2504: 'lifers', 2505: 'lifes', 2506: 'lifetime', 2507: 'lifin', 2508: 'lift', 2509: 'lifted', 2510: 'ligaments', 2511: 'light', 2512: 'lighters', 2513: 'lightly', 2514: 'lights', 2515: 'lightskinned', 2516: 'lightswitch', 2517: 'like', 2518: 'likes', 2519: 'lil', 2520: 'limbs', 2521: 'lime', 2522: 'limelight', 2523: 'limit', 2524: 'limousine', 2525: 'limp', 2526: 'line', 2527: 'linen', 2528: 'linens', 2529: 'lines', 2530: 'linger', 2531: 'lingers', 2532: 'link', 2533: 'lion', 2534: 'lip', 2535: 'lips', 2536: 'lipstick', 2537: 'liquor', 2538: 'list', 2539: 'listen', 2540: 'listened', 2541: 'listenin', 2542: 'liter', 2543: 'literally', 2544: 'little', 2545: 'live', 2546: 'lived', 2547: 'liver', 2548: 'lives', 2549: 'livest', 2550: 'livin', 2551: 'living', 2552: 'lizard', 2553: 'llello', 2554: 'load', 2555: 'loaded', 2556: 'lobby', 2557: 'loc', 2558: 'lock', 2559: 'locked', 2560: 'loke', 2561: 'long', 2562: 'longer', 2563: 'look', 2564: 'looked', 2565: 'lookin', 2566: 'looking', 2567: 'looks', 2568: 'loop', 2569: 'loot', 2570: 'lord', 2571: 'lorraine', 2572: 'lose', 2573: 'losers', 2574: 'loss', 2575: 'losses', 2576: 'lost', 2577: 'lot', 2578: 'lots', 2579: 'lotta', 2580: 'lotto', 2581: 'loud', 2582: 'louder', 2583: 'louis', 2584: 'loungin', 2585: 'lounging', 2586: 'love', 2587: 'lovebug', 2588: 'lovell', 2589: 'lovely', 2590: 'lover', 2591: 'loves', 2592: 'lovin', 2593: 'loving', 2594: 'low', 2595: 'lowdown', 2596: 'loyalty', 2597: 'ls', 2598: 'luchion', 2599: 'lucifer', 2600: 'luck', 2601: 'luckand', 2602: 'lucky', 2603: 'lugers', 2604: 'luke', 2605: 'lukes', 2606: 'lumberjack', 2607: 'lunch', 2608: 'lunches', 2609: 'lungs', 2610: 'luv', 2611: 'lx', 2612: 'lye', 2613: 'lyin', 2614: 'lying', 2615: 'lyrical', 2616: 'lyrically', 2617: 'lyrics', 2618: 'm', 2619: 'ma', 2620: 'mac', 2621: 'machetes', 2622: 'macho', 2623: 'macing', 2624: 'mack', 2625: 'mackadocious', 2626: 'mackin', 2627: 'macs', 2628: 'mad', 2629: 'made', 2630: 'mafia', 2631: 'mag', 2632: 'magazine', 2633: 'magic', 2634: 'magnum', 2635: 'magnums', 2636: 'main', 2637: 'maintain', 2638: 'major', 2639: 'make', 2640: 'makes', 2641: 'makeup', 2642: 'makin', 2643: 'making', 2644: 'malaysian', 2645: 'male', 2646: 'malibu', 2647: 'mall', 2648: 'mama', 2649: 'mamis', 2650: 'mammals', 2651: 'man', 2652: 'manager', 2653: 'mandolins', 2654: 'manhattan', 2655: 'maniacs', 2656: 'manila', 2657: 'mannys', 2658: 'mans', 2659: 'mansion', 2660: 'mantis', 2661: 'manual', 2662: 'many', 2663: 'marchin', 2664: 'mariah', 2665: 'marijuana', 2666: 'marine', 2667: 'marineblue', 2668: 'mariott', 2669: 'mark', 2670: 'marked', 2671: 'marl', 2672: 'marley', 2673: 'marshall', 2674: 'martin', 2675: 'marvelous', 2676: 'mary', 2677: 'maryland', 2678: 'mase', 2679: 'mask', 2680: 'masked', 2681: 'mass', 2682: 'masses', 2683: 'master', 2684: 'masters', 2685: 'matador', 2686: 'match', 2687: 'matching', 2688: 'material', 2689: 'matrix', 2690: 'matteo', 2691: 'matter', 2692: 'mattress', 2693: 'max', 2694: 'maxi', 2695: 'may', 2696: 'maybe', 2697: 'maybes', 2698: 'mayor', 2699: 'maze', 2700: 'mc', 2701: 'mcs', 2702: 'me', 2703: 'meal', 2704: 'meals', 2705: 'mean', 2706: 'meanest', 2707: 'meanin', 2708: 'means', 2709: 'meant', 2710: 'measure', 2711: 'measuring', 2712: 'meat', 2713: 'mechanical', 2714: 'media', 2715: 'medicine', 2716: 'medina', 2717: 'mediocre', 2718: 'meet', 2719: 'mega', 2720: 'melon', 2721: 'member', 2722: 'memories', 2723: 'memory', 2724: 'men', 2725: 'menacing', 2726: 'menageatois', 2727: 'mens', 2728: 'mental', 2729: 'mentality', 2730: 'mentally', 2731: 'mention', 2732: 'mercedes', 2733: 'merciless', 2734: 'meridian', 2735: 'merrygo', 2736: 'meshed', 2737: 'mess', 2738: 'message', 2739: 'messages', 2740: 'messiahs', 2741: 'messin', 2742: 'met', 2743: 'metal', 2744: 'method', 2745: 'methoh', 2746: 'methtical', 2747: 'mexico', 2748: 'mh', 2749: 'miami', 2750: 'mic', 2751: 'mice', 2752: 'michael', 2753: 'michelle', 2754: 'microphone', 2755: 'mics', 2756: 'middle', 2757: 'midnight', 2758: 'might', 2759: 'mike', 2760: 'milk', 2761: 'milked', 2762: 'milks', 2763: 'mill', 2764: 'miller', 2765: 'milli', 2766: 'millies', 2767: 'million', 2768: 'millionaire', 2769: 'millis', 2770: 'milo', 2771: 'mils', 2772: 'mind', 2773: 'mine', 2774: 'mines', 2775: 'minimal', 2776: 'miniute', 2777: 'mink', 2778: 'minks', 2779: 'minor', 2780: 'minute', 2781: 'miracle', 2782: 'mirage', 2783: 'misdeameanor', 2784: 'misery', 2785: 'misplaced', 2786: 'miss', 2787: 'missed', 2788: 'missile', 2789: 'missin', 2790: 'missing', 2791: 'mission', 2792: 'mississippi', 2793: 'mist', 2794: 'mista', 2795: 'mistake', 2796: 'mistaken', 2797: 'mister', 2798: 'misunderstood', 2799: 'mix', 2800: 'mixed', 2801: 'mm', 2802: 'mmm', 2803: 'mmmhmmmmmm', 2804: 'mo', 2805: 'moan', 2806: 'mob', 2807: 'mobile', 2808: 'mobs', 2809: 'mode', 2810: 'model', 2811: 'models', 2812: 'moet', 2813: 'mold', 2814: 'molestin', 2815: 'mom', 2816: 'moma', 2817: 'momma', 2818: 'mommas', 2819: 'mommies', 2820: 'mommy', 2821: 'moms', 2822: 'momsll', 2823: 'mondays', 2824: 'money', 2825: 'monie', 2826: 'montana', 2827: 'monte', 2828: 'montega', 2829: 'months', 2830: 'mood', 2831: 'moolies', 2832: 'moon', 2833: 'moonlight', 2834: 'moonlights', 2835: 'moore', 2836: 'more', 2837: 'mornin', 2838: 'moschino', 2839: 'mossberg', 2840: 'most', 2841: 'mostly', 2842: 'mothafricking', 2843: 'mother', 2844: 'motherfrick', 2845: 'motherfricker', 2846: 'motherfrickers', 2847: 'motherfrickin', 2848: 'motherfricking', 2849: 'motherfucker', 2850: 'mothers', 2851: 'motto', 2852: 'moulin', 2853: 'mountain', 2854: 'mouth', 2855: 'mouthpiece', 2856: 'move', 2857: 'moved', 2858: 'moves', 2859: 'movie', 2860: 'movies', 2861: 'movin', 2862: 'mpv', 2863: 'mr', 2864: 'ms', 2865: 'mtv', 2866: 'much', 2867: 'mug', 2868: 'mummy', 2869: 'murder', 2870: 'murdered', 2871: 'muse', 2872: 'music', 2873: 'mussels', 2874: 'must', 2875: 'mustard', 2876: 'muthafricka', 2877: 'muthafrickas', 2878: 'muthafrickin', 2879: 'mwa', 2880: 'my', 2881: 'myself', 2882: 'mystery', 2883: 'myth', 2884: 'n', 2885: 'nah', 2886: 'naked', 2887: 'name', 2888: 'named', 2889: 'names', 2890: 'naps', 2891: 'nasty', 2892: 'nationalize', 2893: 'natural', 2894: 'nature', 2895: 'nautica', 2896: 'naw', 2897: 'naww', 2898: 'near', 2899: 'nearly', 2900: 'necessary', 2901: 'neck', 2902: 'necklace', 2903: 'need', 2904: 'needless', 2905: 'needs', 2906: 'needy', 2907: 'negative', 2908: 'neighbor', 2909: 'neighborhood', 2910: 'neighbors', 2911: 'neneh', 2912: 'nerd', 2913: 'never', 2914: 'new', 2915: 'newbian', 2916: 'newfound', 2917: 'newports', 2918: 'news', 2919: 'newt', 2920: 'newton', 2921: 'nex', 2922: 'next', 2923: 'nia', 2924: 'nias', 2925: 'nice', 2926: 'nicest', 2927: 'nickel', 2928: 'nickelplated', 2929: 'nickels', 2930: 'nickname', 2931: 'nicky', 2932: 'nicotine', 2933: 'night', 2934: 'nightmare', 2935: 'nightmares', 2936: 'nina', 2937: 'ninas', 2938: 'nine', 2939: 'ninefo', 2940: 'nines', 2941: 'nineteen', 2942: 'ninety', 2943: 'ninetyfour', 2944: 'ninetyone', 2945: 'ninetythree', 2946: 'ninetytwo', 2947: 'ninja', 2948: 'ninjah', 2949: 'ninjas', 2950: 'ninjaz', 2951: 'nino', 2952: 'nintendo', 2953: 'nipples', 2954: 'nitro', 2955: 'no', 2956: 'nobody', 2957: 'noise', 2958: 'none', 2959: 'nonsense', 2960: 'nonstop', 2961: 'noochies', 2962: 'noone', 2963: 'nope', 2964: 'nor', 2965: 'north', 2966: 'nose', 2967: 'noses', 2968: 'not', 2969: 'note', 2970: 'notes', 2971: 'nothin', 2972: 'nothing', 2973: 'noticed', 2974: 'notorious', 2975: 'notorous', 2976: 'november', 2977: 'now', 2978: 'nows', 2979: 'nuff', 2980: 'number', 2981: 'numbers', 2982: 'numbing', 2983: 'nurse', 2984: 'nurses', 2985: 'nut', 2986: 'nuthin', 2987: 'nuts', 2988: 'nuttin', 2989: 'ny', 2990: 'nyc', 2991: 'o', 2992: 'oakland', 2993: 'obe', 2994: 'obese', 2995: 'obsolete', 2996: 'obvious', 2997: 'octopus', 2998: 'odd', 2999: 'of', 3000: 'off', 3001: 'office', 3002: 'official', 3003: 'often', 3004: 'oh', 3005: 'ohh', 3006: 'ohhhh', 3007: 'oil', 3008: 'ojays', 3009: 'ok', 3010: 'ol', 3011: 'old', 3012: 'olde', 3013: 'older', 3014: 'olivia', 3015: 'on', 3016: 'once', 3017: 'one', 3018: 'oneoheight', 3019: 'oneohsix', 3020: 'oneonone', 3021: 'onepointfive', 3022: 'oneroom', 3023: 'ones', 3024: 'onetothehundredeleventh', 3025: 'onetothree', 3026: 'onetwos', 3027: 'only', 3028: 'onto', 3029: 'onyx', 3030: 'ooh', 3031: 'oooh', 3032: 'ooooohhhhh', 3033: 'oops', 3034: 'oozie', 3035: 'open', 3036: 'opens', 3037: 'opposite', 3038: 'optimos', 3039: 'or', 3040: 'orange', 3041: 'order', 3042: 'ordinary', 3043: 'orgies', 3044: 'oriental', 3045: 'os', 3046: 'oshkosh', 3047: 'other', 3048: 'others', 3049: 'ounce', 3050: 'our', 3051: 'out', 3052: 'outcho', 3053: 'outcome', 3054: 'outro', 3055: 'outside', 3056: 'outta', 3057: 'over', 3058: 'overdoser', 3059: 'overflows', 3060: 'overnight', 3061: 'overseas', 3062: 'owe', 3063: 'owls', 3064: 'own', 3065: 'oxygen', 3066: 'p', 3067: 'p**sy', 3068: 'p**sys', 3069: 'pablo', 3070: 'pac', 3071: 'pack', 3072: 'package', 3073: 'packed', 3074: 'packin', 3075: 'packing', 3076: 'pad', 3077: 'padell', 3078: 'page', 3079: 'pagers', 3080: 'pagin', 3081: 'paid', 3082: 'paidim', 3083: 'pain', 3084: 'painted', 3085: 'pair', 3086: 'pajamas', 3087: 'pale', 3088: 'palm', 3089: 'palms', 3090: 'pan', 3091: 'panama', 3092: 'paneling', 3093: 'panthers', 3094: 'pants', 3095: 'pantyhose', 3096: 'papa', 3097: 'paper', 3098: 'papers', 3099: 'papes', 3100: 'papi', 3101: 'papichulo', 3102: 'parades', 3103: 'paradise', 3104: 'pardon', 3105: 'parents', 3106: 'paris', 3107: 'park', 3108: 'parkade', 3109: 'parked', 3110: 'parker', 3111: 'parking', 3112: 'part', 3113: 'partners', 3114: 'parts', 3115: 'party', 3116: 'pass', 3117: 'passed', 3118: 'passenger', 3119: 'passes', 3120: 'passin', 3121: 'passing', 3122: 'past', 3123: 'pastor', 3124: 'path', 3125: 'pathfinder', 3126: 'patient', 3127: 'patra', 3128: 'patron', 3129: 'patruise', 3130: 'patti', 3131: 'paula', 3132: 'paved', 3133: 'pavement', 3134: 'pay', 3135: 'paying', 3136: 'payment', 3137: 'peace', 3138: 'peach', 3139: 'peak', 3140: 'pearl', 3141: 'pedal', 3142: 'pee', 3143: 'peein', 3144: 'peel', 3145: 'peep', 3146: 'peeps', 3147: 'peeved', 3148: 'pelvis', 3149: 'pen', 3150: 'penalty', 3151: 'pendant', 3152: 'pendejos', 3153: 'penis', 3154: 'penised', 3155: 'penising', 3156: 'peniss', 3157: 'penissucker', 3158: 'penitentiary', 3159: 'pennies', 3160: 'people', 3161: 'peopleeler', 3162: 'peopleelry', 3163: 'peopleels', 3164: 'pepa', 3165: 'perfect', 3166: 'perrignon', 3167: 'persian', 3168: 'persistence', 3169: 'persistent', 3170: 'personal', 3171: 'peter', 3172: 'petiteness', 3173: 'phase', 3174: 'phd', 3175: 'phenomenon', 3176: 'phillie', 3177: 'phillies', 3178: 'philly', 3179: 'phizat', 3180: 'phone', 3181: 'phonics', 3182: 'phrase', 3183: 'phrases', 3184: 'physical', 3185: 'physique', 3186: 'picatti', 3187: 'pick', 3188: 'pickle', 3189: 'picks', 3190: 'picture', 3191: 'pictures', 3192: 'pie', 3193: 'piece', 3194: 'pieces', 3195: 'pies', 3196: 'pigeon', 3197: 'pile', 3198: 'pillow', 3199: 'pillowcase', 3200: 'pilot', 3201: 'pimp', 3202: 'pimped', 3203: 'pimpin', 3204: 'pimping', 3205: 'pimps', 3206: 'pin', 3207: 'pink', 3208: 'pinned', 3209: 'pint', 3210: 'pipe', 3211: 'pipes', 3212: 'piranhas', 3213: 'piss', 3214: 'pissed', 3215: 'pissin', 3216: 'pissy', 3217: 'pistol', 3218: 'pistols', 3219: 'pitbull', 3220: 'pitchin', 3221: 'pitiful', 3222: 'place', 3223: 'placenta', 3224: 'places', 3225: 'plain', 3226: 'plains', 3227: 'plan', 3228: 'plane', 3229: 'planes', 3230: 'planet', 3231: 'plannin', 3232: 'plans', 3233: 'plantiff', 3234: 'plants', 3235: 'plaques', 3236: 'plastic', 3237: 'plates', 3238: 'platinuim', 3239: 'platinum', 3240: 'play', 3241: 'playa', 3242: 'playahating', 3243: 'playas', 3244: 'playboy', 3245: 'played', 3246: 'player', 3247: 'players', 3248: 'playin', 3249: 'playing', 3250: 'playinknow', 3251: 'plays', 3252: 'pleasant', 3253: 'please', 3254: 'pleases', 3255: 'pleasure', 3256: 'pledging', 3257: 'plenty', 3258: 'plot', 3259: 'plottin', 3260: 'plotting', 3261: 'plucked', 3262: 'plus', 3263: 'plush', 3264: 'plymouth', 3265: 'po', 3266: 'pocket', 3267: 'pocketbooks', 3268: 'pockets', 3269: 'pohey', 3270: 'point', 3271: 'pointblank', 3272: 'pole', 3273: 'police', 3274: 'politely', 3275: 'politician', 3276: 'polka', 3277: 'polo', 3278: 'polos', 3279: 'pon', 3280: 'pookie', 3281: 'pool', 3282: 'poop', 3283: 'poopd', 3284: 'poops', 3285: 'pooptin', 3286: 'pop', 3287: 'popo', 3288: 'poppa', 3289: 'popped', 3290: 'poppin', 3291: 'popping', 3292: 'pops', 3293: 'popularity', 3294: 'popya', 3295: 'pork', 3296: 'porno', 3297: 'porsche', 3298: 'position', 3299: 'positions', 3300: 'positive', 3301: 'possible', 3302: 'potato', 3303: 'potency', 3304: 'potent', 3305: 'potion', 3306: 'potty', 3307: 'pound', 3308: 'pounds', 3309: 'pour', 3310: 'powder', 3311: 'power', 3312: 'powerful', 3313: 'powerfully', 3314: 'ppa', 3315: 'prater', 3316: 'pray', 3317: 'prayer', 3318: 'prayers', 3319: 'prayin', 3320: 'praying', 3321: 'preach', 3322: 'preachin', 3323: 'preaching', 3324: 'precisely', 3325: 'prediciment', 3326: 'prefer', 3327: 'preference', 3328: 'pregnant', 3329: 'prepare', 3330: 'preposterous', 3331: 'presence', 3332: 'press', 3333: 'pressed', 3334: 'pressin', 3335: 'prestigious', 3336: 'pretend', 3337: 'pretty', 3338: 'previously', 3339: 'prey', 3340: 'price', 3341: 'prick', 3342: 'pricks', 3343: 'priest', 3344: 'prime', 3345: 'prince', 3346: 'principle', 3347: 'print', 3348: 'private', 3349: 'privilege', 3350: 'probably', 3351: 'problem', 3352: 'problems', 3353: 'procced', 3354: 'proceed', 3355: 'proceeeeeeed', 3356: 'process', 3357: 'product', 3358: 'profile', 3359: 'project', 3360: 'projects', 3361: 'prolly', 3362: 'promise', 3363: 'promised', 3364: 'pronounce', 3365: 'pronto', 3366: 'proof', 3367: 'propa', 3368: 'proper', 3369: 'properly', 3370: 'props', 3371: 'prospect', 3372: 'prostitutes', 3373: 'protect', 3374: 'protection', 3375: 'protocol', 3376: 'prove', 3377: 'provide', 3378: 'ps', 3379: 'psc', 3380: 'public', 3381: 'publishing', 3382: 'puerto', 3383: 'puff', 3384: 'puffed', 3385: 'puffs', 3386: 'puffy', 3387: 'pull', 3388: 'pulled', 3389: 'pullin', 3390: 'pump', 3391: 'punch', 3392: 'punish', 3393: 'punk', 3394: 'punks', 3395: 'puppies', 3396: 'purchase', 3397: 'pure', 3398: 'purpose', 3399: 'purse', 3400: 'pursue', 3401: 'pursuin', 3402: 'push', 3403: 'pushed', 3404: 'pushes', 3405: 'pushing', 3406: 'pussy', 3407: 'put', 3408: 'putcho', 3409: 'puttin', 3410: 'putting', 3411: 'pyros', 3412: 'q', 3413: 'quarter', 3414: 'queen', 3415: 'queens', 3416: 'queensbridge', 3417: 'question', 3418: 'questions', 3419: 'quick', 3420: 'quicker', 3421: 'quickie', 3422: 'quickly', 3423: 'quiet', 3424: 'quit', 3425: 'quita', 3426: 'quite', 3427: 'quiver', 3428: 'quiz', 3429: 'r', 3430: 'r***', 3431: 'ra', 3432: 'rabbits', 3433: 'racin', 3434: 'radical', 3435: 'raekwon', 3436: 'rah', 3437: 'rain', 3438: 'rained', 3439: 'raise', 3440: 'raised', 3441: 'rallies', 3442: 'ralph', 3443: 'ramadan', 3444: 'ramo', 3445: 'ran', 3446: 'random', 3447: 'range', 3448: 'ranges', 3449: 'ransom', 3450: 'rap', 3451: 'rapidly', 3452: 'rapper', 3453: 'rapperdons', 3454: 'rappers', 3455: 'rappin', 3456: 'rapping', 3457: 'raps', 3458: 'rapside', 3459: 'rash', 3460: 'rashes', 3461: 'rasshole', 3462: 'rat', 3463: 'rate', 3464: 'rather', 3465: 'rationalized', 3466: 'rats', 3467: 'raven', 3468: 'raw', 3469: 'rb', 3470: 'reach', 3471: 'reaches', 3472: 'reaction', 3473: 'read', 3474: 'ready', 3475: 'real', 3476: 'realest', 3477: 'realizin', 3478: 'really', 3479: 'rear', 3480: 'reason', 3481: 'recall', 3482: 'receipts', 3483: 'recently', 3484: 'recipe', 3485: 'recognize', 3486: 'records', 3487: 'recouping', 3488: 'recovery', 3489: 'recruitin', 3490: 'red', 3491: 'reeboks', 3492: 'reefer', 3493: 'reese', 3494: 'reggie', 3495: 'regina', 3496: 'rehearse', 3497: 'rehearsed', 3498: 'reign', 3499: 'relate', 3500: 'relation', 3501: 'relationship', 3502: 'relax', 3503: 'release', 3504: 'releases', 3505: 'relentless', 3506: 'reload', 3507: 'remain', 3508: 'remains', 3509: 'remarkable', 3510: 'remedy', 3511: 'remember', 3512: 'reminesce', 3513: 'reminisce', 3514: 'reminiscin', 3515: 'remis', 3516: 'remo', 3517: 'remorse', 3518: 'remover', 3519: 'removers', 3520: 'remy', 3521: 'rendevouz', 3522: 'rendezvous', 3523: 'renegades', 3524: 'rentals', 3525: 'rented', 3526: 'rep', 3527: 'repeat', 3528: 'repeats', 3529: 'repercussion', 3530: 'repetitive', 3531: 'replace', 3532: 'reporter', 3533: 'represent', 3534: 'representin', 3535: 'representing', 3536: 'resist', 3537: 'resistant', 3538: 'resort', 3539: 'respect', 3540: 'respirator', 3541: 'response', 3542: 'rest', 3543: 'restaraunts', 3544: 'restaurants', 3545: 'rests', 3546: 'retaliation', 3547: 'reup', 3548: 'revenge', 3549: 'reverse', 3550: 'rewind', 3551: 'rhinocerous', 3552: 'rhyme', 3553: 'rhymes', 3554: 'ri', 3555: 'rican', 3556: 'ricans', 3557: 'rich', 3558: 'richer', 3559: 'riches', 3560: 'richie', 3561: 'rid', 3562: 'ride', 3563: 'riders', 3564: 'rides', 3565: 'ridiculous', 3566: 'ridin', 3567: 'riding', 3568: 'riff', 3569: 'riffin', 3570: 'right', 3571: 'righteous', 3572: 'rim', 3573: 'rimmed', 3574: 'rims', 3575: 'ring', 3576: 'ringin', 3577: 'rings', 3578: 'riot', 3579: 'rip', 3580: 'ripped', 3581: 'ripper', 3582: 'rippin', 3583: 'ripple', 3584: 'rips', 3585: 'ripsta', 3586: 'risen', 3587: 'rises', 3588: 'risk', 3589: 'rivals', 3590: 'roach', 3591: 'road', 3592: 'roadies', 3593: 'roads', 3594: 'roam', 3595: 'roarke', 3596: 'roastin', 3597: 'rob', 3598: 'robbed', 3599: 'robberies', 3600: 'robbery', 3601: 'robbin', 3602: 'robbing', 3603: 'robes', 3604: 'robin', 3605: 'rock', 3606: 'rockaway', 3607: 'rocked', 3608: 'rocket', 3609: 'rockin', 3610: 'rocking', 3611: 'rocks', 3612: 'rod', 3613: 'rodeos', 3614: 'rog', 3615: 'role', 3616: 'rolex', 3617: 'rolexes', 3618: 'rolexs', 3619: 'roll', 3620: 'rolled', 3621: 'rollem', 3622: 'rollin', 3623: 'rolling', 3624: 'rolls', 3625: 'ron', 3626: 'roof', 3627: 'room', 3628: 'rope', 3629: 'roped', 3630: 'roscoes', 3631: 'rosewood', 3632: 'rotation', 3633: 'rothstein', 3634: 'rottweilers', 3635: 'rouge', 3636: 'rough', 3637: 'rougher', 3638: 'roughnecks', 3639: 'roughness', 3640: 'round', 3641: 'rourke', 3642: 'route', 3643: 'routine', 3644: 'rover', 3645: 'roy', 3646: 'royalties', 3647: 'rub', 3648: 'rubber', 3649: 'rubberband', 3650: 'rubbers', 3651: 'ruby', 3652: 'rude', 3653: 'ruger', 3654: 'rugers', 3655: 'rugged', 3656: 'rugs', 3657: 'rule', 3658: 'ruled', 3659: 'ruler', 3660: 'rules', 3661: 'rum', 3662: 'rumors', 3663: 'run', 3664: 'rung', 3665: 'runnin', 3666: 'running', 3667: 'runs', 3668: 'runway', 3669: 'rupaul', 3670: 'ruptured', 3671: 'rush', 3672: 'rushes', 3673: 'rushing', 3674: 'russians', 3675: 'rusted', 3676: 'ruthless', 3677: 's', 3678: 'sack', 3679: 'sacks', 3680: 'sacrifice', 3681: 'sacrifices', 3682: 'sad', 3683: 'sadat', 3684: 'sadats', 3685: 'sade', 3686: 'sadeooooh', 3687: 'safe', 3688: 'safety', 3689: 'said', 3690: 'saidhi', 3691: 'sailing', 3692: 'sales', 3693: 'salt', 3694: 'sam', 3695: 'same', 3696: 'sand', 3697: 'sands', 3698: 'sandwhiches', 3699: 'sandwhichesed', 3700: 'sardines', 3701: 'sasquatch', 3702: 'satisfaction', 3703: 'satisfied', 3704: 'satisfyin', 3705: 'saturday', 3706: 'saute', 3707: 'sautee', 3708: 'savage', 3709: 'save', 3710: 'saw', 3711: 'sawed', 3712: 'sawedoff', 3713: 'say', 3714: 'sayd', 3715: 'sayin', 3716: 'saying', 3717: 'says', 3718: 'scalin', 3719: 'scaling', 3720: 'scandalous', 3721: 'scanners', 3722: 'scared', 3723: 'scareless', 3724: 'scarf', 3725: 'scarface', 3726: 'scarry', 3727: 'scary', 3728: 'scene', 3729: 'scenes', 3730: 'scented', 3731: 'scheming', 3732: 'school', 3733: 'schooled', 3734: 'scissorhands', 3735: 'scoop', 3736: 'scooped', 3737: 'scoping', 3738: 'scorchin', 3739: 'score', 3740: 'scorer', 3741: 'scramblin', 3742: 'scrap', 3743: 'scrappin', 3744: 'scratches', 3745: 'scream', 3746: 'screamed', 3747: 'screamin', 3748: 'screams', 3749: 'screen', 3750: 'screw', 3751: 'screwed', 3752: 'screwing', 3753: 'screwup', 3754: 'script', 3755: 'scripture', 3756: 'scrolls', 3757: 'sea', 3758: 'seam', 3759: 'sean', 3760: 'search', 3761: 'seas', 3762: 'seasoned', 3763: 'seat', 3764: 'seats', 3765: 'sec', 3766: 'second', 3767: 'secondary', 3768: 'seconds', 3769: 'secret', 3770: 'section', 3771: 'see', 3772: 'seed', 3773: 'seeds', 3774: 'seein', 3775: 'seeing', 3776: 'seem', 3777: 'seems', 3778: 'seen', 3779: 'seeseventyfour', 3780: 'seethreepos', 3781: 'sega', 3782: 'seizure', 3783: 'selected', 3784: 'selection', 3785: 'sell', 3786: 'sellin', 3787: 'selling', 3788: 'semen', 3789: 'send', 3790: 'sending', 3791: 'seniors', 3792: 'sensamelia', 3793: 'sense', 3794: 'sent', 3795: 'sentimentally', 3796: 'sentra', 3797: 'separate', 3798: 'separated', 3799: 'seperate', 3800: 'seperately', 3801: 'sequel', 3802: 'serious', 3803: 'serve', 3804: 'servin', 3805: 'serving', 3806: 'sess', 3807: 'set', 3808: 'sets', 3809: 'setting', 3810: 'settle', 3811: 'seven', 3812: 'several', 3813: 'sewed', 3814: 'sewer', 3815: 'sewing', 3816: 'sewn', 3817: 'sex', 3818: 'sexes', 3819: 'sexin', 3820: 'sexy', 3821: 'shack', 3822: 'shades', 3823: 'shadow', 3824: 'shady', 3825: 'shake', 3826: 'shakes', 3827: 'shakey', 3828: 'shakin', 3829: 'shaking', 3830: 'shall', 3831: 'shalt', 3832: 'shame', 3833: 'shana', 3834: 'shank', 3835: 'shaolin', 3836: 'shaquille', 3837: 'share', 3838: 'sharp', 3839: 'sharper', 3840: 'shatter', 3841: 'shawn', 3842: 'she', 3843: 'shed', 3844: 'sheek', 3845: 'sheet', 3846: 'sheets', 3847: 'sheisty', 3848: 'shelf', 3849: 'shell', 3850: 'shells', 3851: 'shes', 3852: 'shhh', 3853: 'shields', 3854: 'shift', 3855: 'shifty', 3856: 'shine', 3857: 'shinin', 3858: 'ships', 3859: 'shirt', 3860: 'shit', 3861: 'shits', 3862: 'shitty', 3863: 'shiverin', 3864: 'sho', 3865: 'shocked', 3866: 'shoes', 3867: 'shook', 3868: 'shooken', 3869: 'shoops', 3870: 'shoot', 3871: 'shootin', 3872: 'shooting', 3873: 'shootouts', 3874: 'shoppin', 3875: 'short', 3876: 'shortchange', 3877: 'shorter', 3878: 'shorty', 3879: 'shot', 3880: 'shots', 3881: 'shotsll', 3882: 'shottie', 3883: 'shotty', 3884: 'should', 3885: 'shoulda', 3886: 'shoulders', 3887: 'shouldnt', 3888: 'shout', 3889: 'shoves', 3890: 'show', 3891: 'shower', 3892: 'showers', 3893: 'showin', 3894: 'shreds', 3895: 'shrimp', 3896: 'shut', 3897: 'si', 3898: 'siblings', 3899: 'sick', 3900: 'sicka', 3901: 'sicker', 3902: 'side', 3903: 'sidekicks', 3904: 'sight', 3905: 'sign', 3906: 'signed', 3907: 'signin', 3908: 'signs', 3909: 'silence', 3910: 'silencers', 3911: 'silk', 3912: 'silliest', 3913: 'silly', 3914: 'similar', 3915: 'simmer', 3916: 'simone', 3917: 'simple', 3918: 'sin', 3919: 'since', 3920: 'sing', 3921: 'singer', 3922: 'singers', 3923: 'singin', 3924: 'singing', 3925: 'singles', 3926: 'sinner', 3927: 'sinners', 3928: 'sip', 3929: 'sipper', 3930: 'sippin', 3931: 'sipping', 3932: 'sips', 3933: 'sir', 3934: 'sirens', 3935: 'sis', 3936: 'sister', 3937: 'sisters', 3938: 'sit', 3939: 'sitch', 3940: 'sittin', 3941: 'sitting', 3942: 'situation', 3943: 'situations', 3944: 'six', 3945: 'sixcoupe', 3946: 'sixpacks', 3947: 'sixshooter', 3948: 'sixteen', 3949: 'sixty', 3950: 'sixtynine', 3951: 'size', 3952: 'skeems', 3953: 'skelly', 3954: 'skied', 3955: 'skiing', 3956: 'skills', 3957: 'skin', 3958: 'skinned', 3959: 'skinny', 3960: 'skins', 3961: 'skip', 3962: 'skirt', 3963: 'skunk', 3964: 'sky', 3965: 'skys', 3966: 'sl', 3967: 'slack', 3968: 'slacking', 3969: 'slam', 3970: 'slamming', 3971: 'slang', 3972: 'slash', 3973: 'slaughter', 3974: 'slave', 3975: 'slay', 3976: 'slayer', 3977: 'sleep', 3978: 'sleepin', 3979: 'sleeping', 3980: 'sleepy', 3981: 'sleet', 3982: 'sleeve', 3983: 'slept', 3984: 'slick', 3985: 'slicker', 3986: 'slide', 3987: 'sliding', 3988: 'slightly', 3989: 'slim', 3990: 'slimmed', 3991: 'sling', 3992: 'slinger', 3993: 'slingin', 3994: 'slip', 3995: 'slipntryin', 3996: 'slipped', 3997: 'slippin', 3998: 'slipping', 3999: 'slit', 4000: 'slob', 4001: 'slow', 4002: 'slowly', 4003: 'slug', 4004: 'slugs', 4005: 'slums', 4006: 'slurp', 4007: 'slut', 4008: 'sluts', 4009: 'smack', 4010: 'smacked', 4011: 'smackin', 4012: 'small', 4013: 'smaller', 4014: 'smalls', 4015: 'smash', 4016: 'smell', 4017: 'smellin', 4018: 'smile', 4019: 'smiles', 4020: 'smith', 4021: 'smoke', 4022: 'smoked', 4023: 'smokin', 4024: 'smoking', 4025: 'smooth', 4026: 'smoothly', 4027: 'smuggle', 4028: 'snatch', 4029: 'snatches', 4030: 'snatchin', 4031: 'sneakers', 4032: 'sneaky', 4033: 'sniff', 4034: 'sniffed', 4035: 'snitch', 4036: 'snitched', 4037: 'snitches', 4038: 'snitchin', 4039: 'snoop', 4040: 'snooxe', 4041: 'snoring', 4042: 'snortcane', 4043: 'snow', 4044: 'snuck', 4045: 'snuffed', 4046: 'so', 4047: 'socalled', 4048: 'sock', 4049: 'socks', 4050: 'sofa', 4051: 'soft', 4052: 'sold', 4053: 'soldiers', 4054: 'solid', 4055: 'solo', 4056: 'soloist', 4057: 'solve', 4058: 'some', 4059: 'somebody', 4060: 'someone', 4061: 'somethin', 4062: 'something', 4063: 'sometimes', 4064: 'somewhere', 4065: 'son', 4066: 'song', 4067: 'songs', 4068: 'sonning', 4069: 'sooften', 4070: 'soon', 4071: 'sorrow', 4072: 'sorry', 4073: 'sorta', 4074: 'sosodef', 4075: 'soul', 4076: 'souls', 4077: 'soun', 4078: 'sound', 4079: 'sounds', 4080: 'sour', 4081: 'source', 4082: 'south', 4083: 'space', 4084: 'spaghetti', 4085: 'spandex', 4086: 'spanish', 4087: 'spare', 4088: 'spark', 4089: 'sparked', 4090: 'sparkin', 4091: 'speak', 4092: 'speakin', 4093: 'speaking', 4094: 'special', 4095: 'specialize', 4096: 'specially', 4097: 'spectacular', 4098: 'spectators', 4099: 'sped', 4100: 'speed', 4101: 'speeding', 4102: 'spell', 4103: 'spend', 4104: 'spenders', 4105: 'spendin', 4106: 'spending', 4107: 'spent', 4108: 'spiked', 4109: 'spill', 4110: 'spilt', 4111: 'spin', 4112: 'spine', 4113: 'spinnin', 4114: 'spint', 4115: 'spirit', 4116: 'spiritual', 4117: 'spit', 4118: 'spittin', 4119: 'spitting', 4120: 'splat', 4121: 'splatter', 4122: 'spleens', 4123: 'spliff', 4124: 'spliffs', 4125: 'split', 4126: 'splits', 4127: 'splitta', 4128: 'splurge', 4129: 'splurging', 4130: 'spock', 4131: 'spofford', 4132: 'spoil', 4133: 'sponge', 4134: 'spot', 4135: 'spots', 4136: 'spouse', 4137: 'spray', 4138: 'sprayed', 4139: 'spread', 4140: 'spree', 4141: 'spring', 4142: 'sprinklers', 4143: 'spurtin', 4144: 'spurts', 4145: 'square', 4146: 'squealin', 4147: 'squeeze', 4148: 'squeezed', 4149: 'squeezin', 4150: 'squeezing', 4151: 'squirels', 4152: 'squirt', 4153: 'ssi', 4154: 'sspoop', 4155: 'st', 4156: 'stab', 4157: 'stabbed', 4158: 'stabbing', 4159: 'stack', 4160: 'stacked', 4161: 'stackin', 4162: 'stacking', 4163: 'stacks', 4164: 'staff', 4165: 'stage', 4166: 'stain', 4167: 'stainless', 4168: 'staircase', 4169: 'stallin', 4170: 'stamina', 4171: 'stand', 4172: 'standin', 4173: 'star', 4174: 'stare', 4175: 'stars', 4176: 'starski', 4177: 'starsky', 4178: 'start', 4179: 'started', 4180: 'starters', 4181: 'starts', 4182: 'stash', 4183: 'stashed', 4184: 'stashin', 4185: 'stashing', 4186: 'state', 4187: 'station', 4188: 'status', 4189: 'stay', 4190: 'stayin', 4191: 'steadily', 4192: 'steady', 4193: 'steak', 4194: 'steaks', 4195: 'steal', 4196: 'stealin', 4197: 'steam', 4198: 'steamin', 4199: 'steel', 4200: 'steelo', 4201: 'steers', 4202: 'steez', 4203: 'step', 4204: 'stepbystep', 4205: 'stephanie', 4206: 'stepped', 4207: 'steppin', 4208: 'stepping', 4209: 'steps', 4210: 'stereotypes', 4211: 'steven', 4212: 'stick', 4213: 'sticked', 4214: 'stickin', 4215: 'sticking', 4216: 'sticks', 4217: 'stickup', 4218: 'sticky', 4219: 'stiff', 4220: 'stilettos', 4221: 'still', 4222: 'sting', 4223: 'stink', 4224: 'stinkin', 4225: 'stinking', 4226: 'stitches', 4227: 'stock', 4228: 'stocks', 4229: 'stole', 4230: 'stomach', 4231: 'stomped', 4232: 'stompin', 4233: 'stone', 4234: 'stones', 4235: 'stood', 4236: 'stoop', 4237: 'stop', 4238: 'stopped', 4239: 'stoppin', 4240: 'stopping', 4241: 'stops', 4242: 'store', 4243: 'stores', 4244: 'stories', 4245: 'story', 4246: 'stouts', 4247: 'straight', 4248: 'strange', 4249: 'strangest', 4250: 'strangled', 4251: 'strap', 4252: 'strapped', 4253: 'street', 4254: 'streets', 4255: 'strength', 4256: 'strenuous', 4257: 'stress', 4258: 'stressed', 4259: 'stressfilled', 4260: 'stressin', 4261: 'stretch', 4262: 'strict', 4263: 'strictly', 4264: 'strike', 4265: 'strikes', 4266: 'strip', 4267: 'stripes', 4268: 'stripped', 4269: 'stripper', 4270: 'stripping', 4271: 'stroam', 4272: 'strobes', 4273: 'stroke', 4274: 'strollin', 4275: 'strolls', 4276: 'strong', 4277: 'stronger', 4278: 'struggle', 4279: 'stuck', 4280: 'studied', 4281: 'stuff', 4282: 'stunt', 4283: 'stupendous', 4284: 'stupid', 4285: 'style', 4286: 'styles', 4287: 'styling', 4288: 'stylistic', 4289: 'stylistics', 4290: 'success', 4291: 'successful', 4292: 'such', 4293: 'suck', 4294: 'sucked', 4295: 'sucker', 4296: 'suckers', 4297: 'suckin', 4298: 'sudden', 4299: 'sue', 4300: 'suede', 4301: 'sues', 4302: 'suffer', 4303: 'suffered', 4304: 'sugar', 4305: 'suhen', 4306: 'suicidal', 4307: 'suicides', 4308: 'suitcase', 4309: 'suited', 4310: 'summer', 4311: 'summertime', 4312: 'sun', 4313: 'sunrays', 4314: 'sunroof', 4315: 'sunshine', 4316: 'super', 4317: 'superstar', 4318: 'suplex', 4319: 'supply', 4320: 'supports', 4321: 'supposed', 4322: 'supreme', 4323: 'supres', 4324: 'sure', 4325: 'surely', 4326: 'surgeons', 4327: 'surprise', 4328: 'surprised', 4329: 'surrender', 4330: 'survival', 4331: 'survive', 4332: 'suspect', 4333: 'suspicious', 4334: 'swagger', 4335: 'swallow', 4336: 'swatches', 4337: 'swayze', 4338: 'swear', 4339: 'sweat', 4340: 'sweater', 4341: 'sweet', 4342: 'sweetness', 4343: 'sweets', 4344: 'sweety', 4345: 'swell', 4346: 'swellin', 4347: 'swerve', 4348: 'swift', 4349: 'swiftly', 4350: 'swig', 4351: 'swingin', 4352: 'swings', 4353: 'swiss', 4354: 'switched', 4355: 'switches', 4356: 'switching', 4357: 'swizz', 4358: 'swizzie', 4359: 'swoll', 4360: 'sword', 4361: 'swords', 4362: 'swore', 4363: 'swung', 4364: 'swv', 4365: 'sycamore', 4366: 'symone', 4367: 'symps', 4368: 'syphillis', 4369: 'syringe', 4370: 'syringes', 4371: 'system', 4372: 'systems', 4373: 't', 4374: 'ta', 4375: 'tab', 4376: 'table', 4377: 'tactic', 4378: 'tae', 4379: 'tags', 4380: 'taisha', 4381: 'take', 4382: 'takin', 4383: 'taking', 4384: 'talk', 4385: 'talkin', 4386: 'talking', 4387: 'tallahassee', 4388: 'talons', 4389: 'tamika', 4390: 'tammy', 4391: 'tan', 4392: 'tanguray', 4393: 'tank', 4394: 'tanktop', 4395: 'tanqueray', 4396: 'tap', 4397: 'tape', 4398: 'taped', 4399: 'tarantino', 4400: 'target', 4401: 'taste', 4402: 'tastin', 4403: 'tasting', 4404: 'tattoo', 4405: 'tattooed', 4406: 'taught', 4407: 'taya', 4408: 'tbone', 4409: 'teach', 4410: 'teachin', 4411: 'teaching', 4412: 'team', 4413: 'teamand', 4414: 'teams', 4415: 'tear', 4416: 'tears', 4417: 'teary', 4418: 'tease', 4419: 'tec', 4420: 'tech', 4421: 'techniques', 4422: 'techs', 4423: 'teck', 4424: 'tecs', 4425: 'teenage', 4426: 'teeth', 4427: 'teflon', 4428: 'teks', 4429: 'telepathy', 4430: 'televisions', 4431: 'tell', 4432: 'tellin', 4433: 'telling', 4434: 'tells', 4435: 'telly', 4436: 'temple', 4437: 'tempt', 4438: 'tempts', 4439: 'ten', 4440: 'tennessee', 4441: 'terracota', 4442: 'terrible', 4443: 'territory', 4444: 'terror', 4445: 'test', 4446: 'testicles', 4447: 'testified', 4448: 'testing', 4449: 'texas', 4450: 'th', 4451: 'thai', 4452: 'than', 4453: 'thang', 4454: 'thangs', 4455: 'thank', 4456: 'thanksgivin', 4457: 'that', 4458: 'thatll', 4459: 'thats', 4460: 'the', 4461: 'thee', 4462: 'their', 4463: 'them', 4464: 'then', 4465: 'there', 4466: 'therell', 4467: 'theres', 4468: 'these', 4469: 'thesis', 4470: 'they', 4471: 'theyll', 4472: 'theyre', 4473: 'thick', 4474: 'thief', 4475: 'thiefs', 4476: 'thigh', 4477: 'thing', 4478: 'things', 4479: 'think', 4480: 'thinker', 4481: 'thinkin', 4482: 'thinking', 4483: 'thinks', 4484: 'third', 4485: 'thirstay', 4486: 'thirteen', 4487: 'thirteens', 4488: 'thirty', 4489: 'thirtyeight', 4490: 'this', 4491: 'thisll', 4492: 'thizat', 4493: 'thod', 4494: 'thong', 4495: 'thorough', 4496: 'thosand', 4497: 'those', 4498: 'thou', 4499: 'though', 4500: 'thought', 4501: 'thoughts', 4502: 'thousand', 4503: 'thousands', 4504: 'threaten', 4505: 'three', 4506: 'threes', 4507: 'threw', 4508: 'thrill', 4509: 'thriller', 4510: 'thrillons', 4511: 'throat', 4512: 'through', 4513: 'throw', 4514: 'throwin', 4515: 'thrown', 4516: 'thug', 4517: 'thugga', 4518: 'thugging', 4519: 'thugs', 4520: 'thundering', 4521: 'thurough', 4522: 'thys', 4523: 'ti', 4524: 'tianna', 4525: 'ticket', 4526: 'tickle', 4527: 'tie', 4528: 'tied', 4529: 'tigers', 4530: 'tight', 4531: 'til', 4532: 'tile', 4533: 'till', 4534: 'tim', 4535: 'timb', 4536: 'timbos', 4537: 'timbs', 4538: 'time', 4539: 'times', 4540: 'timid', 4541: 'tims', 4542: 'tina', 4543: 'tint', 4544: 'tints', 4545: 'tip', 4546: 'tipping', 4547: 'tips', 4548: 'tipsy', 4549: 'tired', 4550: 'tissue', 4551: 'tits', 4552: 'titties', 4553: 'titty', 4554: 'tlc', 4555: 'to', 4556: 'toast', 4557: 'toaster', 4558: 'toby', 4559: 'today', 4560: 'todays', 4561: 'todd', 4562: 'toe', 4563: 'toes', 4564: 'together', 4565: 'toilet', 4566: 'tokes', 4567: 'told', 4568: 'tomorrow', 4569: 'ton', 4570: 'tone', 4571: 'tongue', 4572: 'toni', 4573: 'tonight', 4574: 'tons', 4575: 'tonto', 4576: 'tony', 4577: 'too', 4578: 'took', 4579: 'tooken', 4580: 'tool', 4581: 'toolies', 4582: 'tools', 4583: 'toothbrush', 4584: 'toothless', 4585: 'tooths', 4586: 'top', 4587: 'topic', 4588: 'tops', 4589: 'topsy', 4590: 'torture', 4591: 'tossed', 4592: 'total', 4593: 'tote', 4594: 'totin', 4595: 'toting', 4596: 'touch', 4597: 'touched', 4598: 'touchytouchy', 4599: 'tough', 4600: 'tour', 4601: 'towed', 4602: 'tower', 4603: 'town', 4604: 'toyota', 4605: 'trace', 4606: 'track', 4607: 'tracking', 4608: 'tracks', 4609: 'trade', 4610: 'traded', 4611: 'train', 4612: 'trained', 4613: 'trains', 4614: 'tramp', 4615: 'transport', 4616: 'trap', 4617: 'trapped', 4618: 'trauma', 4619: 'trays', 4620: 'tre', 4621: 'treasure', 4622: 'treat', 4623: 'treated', 4624: 'treatin', 4625: 'treating', 4626: 'treats', 4627: 'tree', 4628: 'trees', 4629: 'tremblin', 4630: 'trembling', 4631: 'tremendous', 4632: 'trep', 4633: 'tresvant', 4634: 'trey', 4635: 'treys', 4636: 'trial', 4637: 'trialed', 4638: 'tribute', 4639: 'trick', 4640: 'tricked', 4641: 'trickling', 4642: 'tricks', 4643: 'tried', 4644: 'trigger', 4645: 'trimmers', 4646: 'triple', 4647: 'trippin', 4648: 'tripping', 4649: 'trips', 4650: 'tristate', 4651: 'trivia', 4652: 'trizack', 4653: 'tro', 4654: 'troop', 4655: 'trouble', 4656: 'truck', 4657: 'true', 4658: 'trunk', 4659: 'trunks', 4660: 'trust', 4661: 'trusted', 4662: 'trustin', 4663: 'truth', 4664: 'try', 4665: 'tryin', 4666: 'tryina', 4667: 'trying', 4668: 'tryna', 4669: 'trynna', 4670: 'tube', 4671: 'tuck', 4672: 'tucked', 4673: 'tucson', 4674: 'tuesday', 4675: 'tummy', 4676: 'tunes', 4677: 'tupac', 4678: 'turn', 4679: 'turned', 4680: 'turner', 4681: 'turns', 4682: 'turvy', 4683: 'tustle', 4684: 'tutor', 4685: 'tv', 4686: 'tvs', 4687: 'twelve', 4688: 'twenty', 4689: 'twice', 4690: 'twinkie', 4691: 'twist', 4692: 'twista', 4693: 'twistin', 4694: 'twisting', 4695: 'twitchin', 4696: 'two', 4697: 'twotecs', 4698: 'tyanna', 4699: 'tyiest', 4700: 'type', 4701: 'u', 4702: 'ugly', 4703: 'uh', 4704: 'uhh', 4705: 'uhhh', 4706: 'uhhuh', 4707: 'uhhun', 4708: 'ultimate', 4709: 'um', 4710: 'umbilical', 4711: 'unbelievable', 4712: 'uncut', 4713: 'undefeated', 4714: 'under', 4715: 'underrated', 4716: 'underroos', 4717: 'understand', 4718: 'undressin', 4719: 'unexpectedly', 4720: 'unexplainable', 4721: 'unfinished', 4722: 'unfolded', 4723: 'unfoldin', 4724: 'unless', 4725: 'unloaded', 4726: 'unloads', 4727: 'unnecessary', 4728: 'uno', 4729: 'unorthodox', 4730: 'unplug', 4731: 'unpretty', 4732: 'unruly', 4733: 'unshamelessly', 4734: 'unstoppable', 4735: 'until', 4736: 'untrue', 4737: 'untwist', 4738: 'up', 4739: 'upon', 4740: 'upper', 4741: 'upset', 4742: 'upstairs', 4743: 'uptown', 4744: 'ur', 4745: 'urge', 4746: 'us', 4747: 'use', 4748: 'used', 4749: 'user', 4750: 'usin', 4751: 'using', 4752: 'usually', 4753: 'utah', 4754: 'utincils', 4755: 'utmost', 4756: 'uturn', 4757: 'uz', 4758: 'uzi', 4759: 'va', 4760: 'valentine', 4761: 'valley', 4762: 'van', 4763: 'vansons', 4764: 'vantage', 4765: 'vapors', 4766: 'vasquez', 4767: 'vcrs', 4768: 'veins', 4769: 'venice', 4770: 'venture', 4771: 'verbally', 4772: 'versacci', 4773: 'versace', 4774: 'verse', 4775: 'version', 4776: 'very', 4777: 'vest', 4778: 'vestes', 4779: 'vials', 4780: 'vibrate', 4781: 'vic', 4782: 'vicious', 4783: 'video', 4784: 'views', 4785: 'vigilante', 4786: 'villian', 4787: 'violate', 4788: 'violence', 4789: 'violins', 4790: 'vip', 4791: 'virgin', 4792: 'virginia', 4793: 'visa', 4794: 'vision', 4795: 'visit', 4796: 'visualize', 4797: 'visualized', 4798: 'vivica', 4799: 'voice', 4800: 'volvos', 4801: 'vs', 4802: 'vtrim', 4803: 'vu', 4804: 'vuitton', 4805: 'wack', 4806: 'wacko', 4807: 'wagon', 4808: 'waist', 4809: 'waistline', 4810: 'wait', 4811: 'waited', 4812: 'waitin', 4813: 'waiting', 4814: 'wake', 4815: 'walk', 4816: 'walked', 4817: 'walkin', 4818: 'walking', 4819: 'wall', 4820: 'wallet', 4821: 'wallows', 4822: 'wan', 4823: 'wanna', 4824: 'wannah', 4825: 'want', 4826: 'wanted', 4827: 'wantin', 4828: 'wants', 4829: 'war', 4830: 'warm', 4831: 'warn', 4832: 'warnin', 4833: 'warpath', 4834: 'wars', 4835: 'was', 4836: 'washed', 4837: 'wasnt', 4838: 'wassup', 4839: 'waste', 4840: 'wasted', 4841: 'watch', 4842: 'watches', 4843: 'watchin', 4844: 'water', 4845: 'wave', 4846: 'waves', 4847: 'waving', 4848: 'way', 4849: 'ways', 4850: 'we', 4851: 'weak', 4852: 'weaker', 4853: 'weapon', 4854: 'weapons', 4855: 'wear', 4856: 'wearing', 4857: 'weather', 4858: 'wedgie', 4859: 'wednesday', 4860: 'wednesdays', 4861: 'week', 4862: 'weekend', 4863: 'weekends', 4864: 'weeks', 4865: 'weepin', 4866: 'weight', 4867: 'weighters', 4868: 'welchs', 4869: 'welcome', 4870: 'well', 4871: 'welts', 4872: 'went', 4873: 'were', 4874: 'wesley', 4875: 'wesson', 4876: 'west', 4877: 'westside', 4878: 'wet', 4879: 'wetter', 4880: 'weve', 4881: 'whack', 4882: 'what', 4883: 'whatcha', 4884: 'whatchu', 4885: 'whatchyou', 4886: 'whatever', 4887: 'whats', 4888: 'whatsyourname', 4889: 'whatta', 4890: 'wheel', 4891: 'when', 4892: 'whenever', 4893: 'where', 4894: 'whereabouts', 4895: 'wherever', 4896: 'whether', 4897: 'which', 4898: 'while', 4899: 'whinin', 4900: 'whip', 4901: 'whipped', 4902: 'whipping', 4903: 'whips', 4904: 'whiskey', 4905: 'whispered', 4906: 'whispering', 4907: 'white', 4908: 'whites', 4909: 'whiteskinned', 4910: 'whitney', 4911: 'whiz', 4912: 'who', 4913: 'whod', 4914: 'whoever', 4915: 'whoh', 4916: 'whole', 4917: 'whoopyoassday', 4918: 'whore', 4919: 'whos', 4920: 'why', 4921: 'whyall', 4922: 'whyd', 4923: 'whyknahmean', 4924: 'wicked', 4925: 'wickedest', 4926: 'wid', 4927: 'wife', 4928: 'wifey', 4929: 'wig', 4930: 'wiggle', 4931: 'wild', 4932: 'wiling', 4933: 'will', 4934: 'williams', 4935: 'willie', 4936: 'willies', 4937: 'williest', 4938: 'willin', 4939: 'willis', 4940: 'willy', 4941: 'willyist', 4942: 'win', 4943: 'wind', 4944: 'windface', 4945: 'windin', 4946: 'windmill', 4947: 'window', 4948: 'windows', 4949: 'windpipe', 4950: 'wine', 4951: 'winin', 4952: 'winner', 4953: 'winners', 4954: 'winter', 4955: 'wipe', 4956: 'wiping', 4957: 'wise', 4958: 'wisely', 4959: 'wish', 4960: 'wished', 4961: 'wishes', 4962: 'wishin', 4963: 'wit', 4964: 'witcha', 4965: 'witchou', 4966: 'witchu', 4967: 'witchyo', 4968: 'with', 4969: 'without', 4970: 'witnesses', 4971: 'wives', 4972: 'wizzard', 4973: 'woke', 4974: 'woman', 4975: 'wombed', 4976: 'women', 4977: 'wonder', 4978: 'wondered', 4979: 'wonderin', 4980: 'wondering', 4981: 'wont', 4982: 'woo', 4983: 'wood', 4984: 'woolies', 4985: 'word', 4986: 'words', 4987: 'wore', 4988: 'work', 4989: 'workers', 4990: 'workin', 4991: 'working', 4992: 'world', 4993: 'worlds', 4994: 'worms', 4995: 'worry', 4996: 'worshiped', 4997: 'worshippin', 4998: 'worst', 4999: 'worth', 5000: 'worthless', 5001: 'would', 5002: 'woulda', 5003: 'wouldnt', 5004: 'wound', 5005: 'wounds', 5006: 'wrap', 5007: 'wrapped', 5008: 'wreath', 5009: 'wreck', 5010: 'wrist', 5011: 'wrists', 5012: 'write', 5013: 'writers', 5014: 'wron', 5015: 'wrong', 5016: 'wrote', 5017: 'wut', 5018: 'wutang', 5019: 'x', 5020: 'xscape', 5021: 'y', 5022: 'ya', 5023: 'yacht', 5024: 'yah', 5025: 'yall', 5026: 'yappin', 5027: 'yard', 5028: 'yawnin', 5029: 'yay', 5030: 'yayo', 5031: 'ye', 5032: 'yea', 5033: 'yeah', 5034: 'yeahh', 5035: 'year', 5036: 'years', 5037: 'yell', 5038: 'yellin', 5039: 'yelling', 5040: 'yellow', 5041: 'yep', 5042: 'yes', 5043: 'yet', 5044: 'yg', 5045: 'yo', 5046: 'york', 5047: 'you', 5048: 'youd', 5049: 'youll', 5050: 'young', 5051: 'younger', 5052: 'youngin', 5053: 'your', 5054: 'youre', 5055: 'yours', 5056: 'yourself', 5057: 'youse', 5058: 'youve', 5059: 'yoyo', 5060: 'yukon', 5061: 'yummy', 5062: 'z', 5063: 'zhane', 5064: 'zone'}\n"
          ],
          "name": "stdout"
        }
      ]
    },
    {
      "cell_type": "code",
      "metadata": {
        "id": "nzfKleYrygft"
      },
      "source": [
        "# create a function that converts bars into a sequence of unique integers\n",
        "def words_to_integers(bar, Vocabulary):\n",
        "  encode = []\n",
        "  # Need to strip bar into single list of words within bar\n",
        "  stripped_bar = [word.split() for word in bar]\n",
        "  for i in range(no_of_bars):\n",
        "    seq = []\n",
        "    seq.append([word_to_int[word] for word in stripped_bar[i]])\n",
        "    encode.append(seq)\n",
        "\n",
        "  encode = sum(encode, [])\n",
        "  return encode"
      ],
      "execution_count": 8,
      "outputs": []
    },
    {
      "cell_type": "code",
      "metadata": {
        "colab": {
          "base_uri": "https://localhost:8080/"
        },
        "id": "7RHaklDv5tZN",
        "outputId": "f6a2cc02-081e-4082-ee1a-fc8208c8a6ff"
      },
      "source": [
        "# Number of unique words in our dataset\n",
        "vocab_size = len(words) + 1\n",
        "print(vocab_size)"
      ],
      "execution_count": 10,
      "outputs": [
        {
          "output_type": "stream",
          "text": [
            "5066\n"
          ],
          "name": "stdout"
        }
      ]
    },
    {
      "cell_type": "code",
      "metadata": {
        "id": "kiP3CQKQrIR7"
      },
      "source": [
        "# Define a function that converts sentences into a sequence of corresponding integers\n",
        "def sentence_to_integer(bar):\n",
        "    stripped_bar = [word.split() for word in [bar]]\n",
        "    stripped_bar = sum(stripped_bar, [])\n",
        "    seq = []\n",
        "    seq.append([word_to_int[word] for word in stripped_bar])\n",
        "    seq = sum(seq, [])\n",
        "    return seq"
      ],
      "execution_count": 10,
      "outputs": []
    },
    {
      "cell_type": "code",
      "metadata": {
        "id": "i2Log92J2ZdU"
      },
      "source": [
        "# Want to convert bars into n-grams of increasing length\n",
        "# So we start with the first two words and create lists of increasing length after adding the next word\n",
        "sequences = []\n",
        "for line in bars:\n",
        "    token_list = sentence_to_integer(line)\n",
        "    for i in range(1, len(token_list)):\n",
        "        n_gram_seq = token_list[:i+1]\n",
        "        sequences.append(n_gram_seq)"
      ],
      "execution_count": 11,
      "outputs": []
    },
    {
      "cell_type": "code",
      "metadata": {
        "colab": {
          "base_uri": "https://localhost:8080/"
        },
        "id": "ABAKPmzErRT_",
        "outputId": "9998c2c2-6a71-4e52-ea26-c12ecca3555e"
      },
      "source": [
        "# We need to pad each line so that each line is of equal length for our model\n",
        "# Thus need to find max length of a bar so we can pad all bars to this length\n",
        "padding_length = max([len(line) for line in sequences])\n",
        "print(padding_length)"
      ],
      "execution_count": 12,
      "outputs": [
        {
          "output_type": "stream",
          "text": [
            "66\n"
          ],
          "name": "stdout"
        }
      ]
    },
    {
      "cell_type": "code",
      "metadata": {
        "id": "1PV9FBI_EsEQ"
      },
      "source": [
        "from tensorflow.keras.preprocessing.sequence import pad_sequences\n",
        "sequences = np.array(pad_sequences(sequences, maxlen = padding_length, padding = 'pre'))\n",
        "# Remove last word from each line\n",
        "x_train = sequences[:,:-1]\n",
        "# Last word is used as the label\n",
        "y_train = sequences[:,-1]\n",
        "# one hot encode the the outputs \n",
        "y_train = tf.keras.utils.to_categorical(y_train, num_classes = vocab_size)"
      ],
      "execution_count": 14,
      "outputs": []
    },
    {
      "cell_type": "code",
      "metadata": {
        "colab": {
          "base_uri": "https://localhost:8080/"
        },
        "id": "BWoLXV1Qr4E9",
        "outputId": "206e31f2-400b-40fa-9fbf-1123a69e31ad"
      },
      "source": [
        "'''\n",
        "from tensorflow.keras.models import Sequential\n",
        "from tensorflow.keras.layers import Dense, Embedding, LSTM, Dropout, Bidirectional\n",
        "model = Sequential()\n",
        "model.add(Embedding(vocab_size, 256, input_length = padding_length - 1))\n",
        "model.add(Bidirectional(LSTM(128, return_sequences = True)))\n",
        "model.add(Dropout(0.2))\n",
        "model.add(Bidirectional(LSTM(256)))\n",
        "model.add(Dropout(0.2))\n",
        "model.add(Dense(vocab_size, activation = 'softmax'))\n",
        "\n",
        "model.compile(loss = 'categorical_crossentropy', metrics = ['accuracy'], optimizer = 'adam')\n",
        "model.summary()"
      ],
      "execution_count": 15,
      "outputs": [
        {
          "output_type": "stream",
          "text": [
            "Model: \"sequential\"\n",
            "_________________________________________________________________\n",
            "Layer (type)                 Output Shape              Param #   \n",
            "=================================================================\n",
            "embedding (Embedding)        (None, 65, 256)           1296896   \n",
            "_________________________________________________________________\n",
            "bidirectional (Bidirectional (None, 65, 256)           394240    \n",
            "_________________________________________________________________\n",
            "dropout (Dropout)            (None, 65, 256)           0         \n",
            "_________________________________________________________________\n",
            "bidirectional_1 (Bidirection (None, 512)               1050624   \n",
            "_________________________________________________________________\n",
            "dropout_1 (Dropout)          (None, 512)               0         \n",
            "_________________________________________________________________\n",
            "dense (Dense)                (None, 5066)              2598858   \n",
            "=================================================================\n",
            "Total params: 5,340,618\n",
            "Trainable params: 5,340,618\n",
            "Non-trainable params: 0\n",
            "_________________________________________________________________\n"
          ],
          "name": "stdout"
        }
      ]
    },
    {
      "cell_type": "code",
      "metadata": {
        "colab": {
          "base_uri": "https://localhost:8080/"
        },
        "id": "Ar4UNHRZtBrp",
        "outputId": "9eee30c0-073c-4503-f22f-3b944fd4eb3a"
      },
      "source": [
        "'''\n",
        "history = model.fit(x_train, y_train, epochs = 200, batch_size = 256)"
      ],
      "execution_count": 16,
      "outputs": [
        {
          "output_type": "stream",
          "text": [
            "Epoch 1/200\n",
            "160/160 [==============================] - 24s 82ms/step - loss: 7.0133 - accuracy: 0.0444\n",
            "Epoch 2/200\n",
            "160/160 [==============================] - 13s 83ms/step - loss: 6.2564 - accuracy: 0.0569\n",
            "Epoch 3/200\n",
            "160/160 [==============================] - 13s 83ms/step - loss: 6.0276 - accuracy: 0.0666\n",
            "Epoch 4/200\n",
            "160/160 [==============================] - 13s 83ms/step - loss: 5.8404 - accuracy: 0.0758\n",
            "Epoch 5/200\n",
            "160/160 [==============================] - 13s 84ms/step - loss: 5.6363 - accuracy: 0.0893\n",
            "Epoch 6/200\n",
            "160/160 [==============================] - 14s 85ms/step - loss: 5.4274 - accuracy: 0.1096\n",
            "Epoch 7/200\n",
            "160/160 [==============================] - 14s 86ms/step - loss: 5.2441 - accuracy: 0.1264\n",
            "Epoch 8/200\n",
            "160/160 [==============================] - 14s 87ms/step - loss: 5.0715 - accuracy: 0.1473\n",
            "Epoch 9/200\n",
            "160/160 [==============================] - 14s 87ms/step - loss: 4.8952 - accuracy: 0.1699\n",
            "Epoch 10/200\n",
            "160/160 [==============================] - 14s 86ms/step - loss: 4.6974 - accuracy: 0.1877\n",
            "Epoch 11/200\n",
            "160/160 [==============================] - 14s 86ms/step - loss: 4.5685 - accuracy: 0.1956\n",
            "Epoch 12/200\n",
            "160/160 [==============================] - 14s 86ms/step - loss: 4.4381 - accuracy: 0.2078\n",
            "Epoch 13/200\n",
            "160/160 [==============================] - 14s 87ms/step - loss: 4.3145 - accuracy: 0.2220\n",
            "Epoch 14/200\n",
            "160/160 [==============================] - 14s 87ms/step - loss: 4.1778 - accuracy: 0.2341\n",
            "Epoch 15/200\n",
            "160/160 [==============================] - 14s 86ms/step - loss: 4.0566 - accuracy: 0.2474\n",
            "Epoch 16/200\n",
            "160/160 [==============================] - 14s 86ms/step - loss: 3.9643 - accuracy: 0.2594\n",
            "Epoch 17/200\n",
            "160/160 [==============================] - 14s 87ms/step - loss: 3.8427 - accuracy: 0.2704\n",
            "Epoch 18/200\n",
            "160/160 [==============================] - 14s 86ms/step - loss: 3.7375 - accuracy: 0.2845\n",
            "Epoch 19/200\n",
            "160/160 [==============================] - 14s 86ms/step - loss: 3.6150 - accuracy: 0.3035\n",
            "Epoch 20/200\n",
            "160/160 [==============================] - 14s 87ms/step - loss: 3.5526 - accuracy: 0.3068\n",
            "Epoch 21/200\n",
            "160/160 [==============================] - 14s 87ms/step - loss: 3.4382 - accuracy: 0.3252\n",
            "Epoch 22/200\n",
            "160/160 [==============================] - 14s 86ms/step - loss: 3.3537 - accuracy: 0.3370\n",
            "Epoch 23/200\n",
            "160/160 [==============================] - 14s 86ms/step - loss: 3.2535 - accuracy: 0.3542\n",
            "Epoch 24/200\n",
            "160/160 [==============================] - 14s 86ms/step - loss: 3.1910 - accuracy: 0.3606\n",
            "Epoch 25/200\n",
            "160/160 [==============================] - 14s 86ms/step - loss: 3.0932 - accuracy: 0.3780\n",
            "Epoch 26/200\n",
            "160/160 [==============================] - 14s 86ms/step - loss: 3.0441 - accuracy: 0.3841\n",
            "Epoch 27/200\n",
            "160/160 [==============================] - 14s 86ms/step - loss: 2.9545 - accuracy: 0.3943\n",
            "Epoch 28/200\n",
            "160/160 [==============================] - 14s 87ms/step - loss: 2.8751 - accuracy: 0.4145\n",
            "Epoch 29/200\n",
            "160/160 [==============================] - 14s 86ms/step - loss: 2.8340 - accuracy: 0.4171\n",
            "Epoch 30/200\n",
            "160/160 [==============================] - 14s 86ms/step - loss: 2.7901 - accuracy: 0.4222\n",
            "Epoch 31/200\n",
            "160/160 [==============================] - 14s 87ms/step - loss: 2.7029 - accuracy: 0.4412\n",
            "Epoch 32/200\n",
            "160/160 [==============================] - 14s 86ms/step - loss: 2.6623 - accuracy: 0.4472\n",
            "Epoch 33/200\n",
            "160/160 [==============================] - 14s 86ms/step - loss: 2.6030 - accuracy: 0.4573\n",
            "Epoch 34/200\n",
            "160/160 [==============================] - 14s 86ms/step - loss: 2.5535 - accuracy: 0.4673\n",
            "Epoch 35/200\n",
            "160/160 [==============================] - 14s 87ms/step - loss: 2.4955 - accuracy: 0.4789\n",
            "Epoch 36/200\n",
            "160/160 [==============================] - 14s 86ms/step - loss: 2.4205 - accuracy: 0.4884\n",
            "Epoch 37/200\n",
            "160/160 [==============================] - 14s 86ms/step - loss: 2.3835 - accuracy: 0.4960\n",
            "Epoch 38/200\n",
            "160/160 [==============================] - 14s 86ms/step - loss: 2.3541 - accuracy: 0.4978\n",
            "Epoch 39/200\n",
            "160/160 [==============================] - 14s 86ms/step - loss: 2.3065 - accuracy: 0.5077\n",
            "Epoch 40/200\n",
            "160/160 [==============================] - 14s 86ms/step - loss: 2.2707 - accuracy: 0.5165\n",
            "Epoch 41/200\n",
            "160/160 [==============================] - 14s 86ms/step - loss: 2.2034 - accuracy: 0.5295\n",
            "Epoch 42/200\n",
            "160/160 [==============================] - 14s 86ms/step - loss: 2.2045 - accuracy: 0.5246\n",
            "Epoch 43/200\n",
            "160/160 [==============================] - 14s 85ms/step - loss: 2.1554 - accuracy: 0.5318\n",
            "Epoch 44/200\n",
            "160/160 [==============================] - 14s 86ms/step - loss: 2.1116 - accuracy: 0.5430\n",
            "Epoch 45/200\n",
            "160/160 [==============================] - 14s 86ms/step - loss: 2.0858 - accuracy: 0.5472\n",
            "Epoch 46/200\n",
            "160/160 [==============================] - 14s 86ms/step - loss: 2.0498 - accuracy: 0.5549\n",
            "Epoch 47/200\n",
            "160/160 [==============================] - 14s 86ms/step - loss: 2.0005 - accuracy: 0.5623\n",
            "Epoch 48/200\n",
            "160/160 [==============================] - 14s 86ms/step - loss: 1.9933 - accuracy: 0.5632\n",
            "Epoch 49/200\n",
            "160/160 [==============================] - 14s 86ms/step - loss: 1.9287 - accuracy: 0.5782\n",
            "Epoch 50/200\n",
            "160/160 [==============================] - 14s 86ms/step - loss: 1.9033 - accuracy: 0.5797\n",
            "Epoch 51/200\n",
            "160/160 [==============================] - 14s 86ms/step - loss: 1.8804 - accuracy: 0.5814\n",
            "Epoch 52/200\n",
            "160/160 [==============================] - 14s 86ms/step - loss: 1.8466 - accuracy: 0.5921\n",
            "Epoch 53/200\n",
            "160/160 [==============================] - 14s 86ms/step - loss: 1.8510 - accuracy: 0.5881\n",
            "Epoch 54/200\n",
            "160/160 [==============================] - 14s 86ms/step - loss: 1.8156 - accuracy: 0.5973\n",
            "Epoch 55/200\n",
            "160/160 [==============================] - 14s 86ms/step - loss: 1.7606 - accuracy: 0.6076\n",
            "Epoch 56/200\n",
            "160/160 [==============================] - 14s 86ms/step - loss: 1.7635 - accuracy: 0.6051\n",
            "Epoch 57/200\n",
            "160/160 [==============================] - 14s 86ms/step - loss: 1.7210 - accuracy: 0.6124\n",
            "Epoch 58/200\n",
            "160/160 [==============================] - 14s 86ms/step - loss: 1.7085 - accuracy: 0.6163\n",
            "Epoch 59/200\n",
            "160/160 [==============================] - 14s 86ms/step - loss: 1.6796 - accuracy: 0.6214\n",
            "Epoch 60/200\n",
            "160/160 [==============================] - 14s 87ms/step - loss: 1.6474 - accuracy: 0.6306\n",
            "Epoch 61/200\n",
            "160/160 [==============================] - 14s 86ms/step - loss: 1.6135 - accuracy: 0.6360\n",
            "Epoch 62/200\n",
            "160/160 [==============================] - 14s 86ms/step - loss: 1.6020 - accuracy: 0.6379\n",
            "Epoch 63/200\n",
            "160/160 [==============================] - 14s 86ms/step - loss: 1.5677 - accuracy: 0.6463\n",
            "Epoch 64/200\n",
            "160/160 [==============================] - 14s 86ms/step - loss: 1.5601 - accuracy: 0.6480\n",
            "Epoch 65/200\n",
            "160/160 [==============================] - 14s 87ms/step - loss: 1.5508 - accuracy: 0.6462\n",
            "Epoch 66/200\n",
            "160/160 [==============================] - 14s 86ms/step - loss: 1.5305 - accuracy: 0.6498\n",
            "Epoch 67/200\n",
            "160/160 [==============================] - 14s 86ms/step - loss: 1.4961 - accuracy: 0.6577\n",
            "Epoch 68/200\n",
            "160/160 [==============================] - 14s 86ms/step - loss: 1.4655 - accuracy: 0.6610\n",
            "Epoch 69/200\n",
            "160/160 [==============================] - 14s 87ms/step - loss: 1.4663 - accuracy: 0.6619\n",
            "Epoch 70/200\n",
            "160/160 [==============================] - 14s 87ms/step - loss: 1.4450 - accuracy: 0.6662\n",
            "Epoch 71/200\n",
            "160/160 [==============================] - 14s 86ms/step - loss: 1.4104 - accuracy: 0.6709\n",
            "Epoch 72/200\n",
            "160/160 [==============================] - 14s 87ms/step - loss: 1.4005 - accuracy: 0.6768\n",
            "Epoch 73/200\n",
            "160/160 [==============================] - 14s 87ms/step - loss: 1.4053 - accuracy: 0.6735\n",
            "Epoch 74/200\n",
            "160/160 [==============================] - 14s 87ms/step - loss: 1.3605 - accuracy: 0.6823\n",
            "Epoch 75/200\n",
            "160/160 [==============================] - 14s 87ms/step - loss: 1.3673 - accuracy: 0.6831\n",
            "Epoch 76/200\n",
            "160/160 [==============================] - 14s 87ms/step - loss: 1.3256 - accuracy: 0.6886\n",
            "Epoch 77/200\n",
            "160/160 [==============================] - 14s 87ms/step - loss: 1.3291 - accuracy: 0.6895\n",
            "Epoch 78/200\n",
            "160/160 [==============================] - 14s 86ms/step - loss: 1.3174 - accuracy: 0.6913\n",
            "Epoch 79/200\n",
            "160/160 [==============================] - 14s 86ms/step - loss: 1.2918 - accuracy: 0.6993\n",
            "Epoch 80/200\n",
            "160/160 [==============================] - 14s 87ms/step - loss: 1.2621 - accuracy: 0.7082\n",
            "Epoch 81/200\n",
            "160/160 [==============================] - 14s 87ms/step - loss: 1.2738 - accuracy: 0.6992\n",
            "Epoch 82/200\n",
            "160/160 [==============================] - 14s 86ms/step - loss: 1.2662 - accuracy: 0.6994\n",
            "Epoch 83/200\n",
            "160/160 [==============================] - 14s 87ms/step - loss: 1.2425 - accuracy: 0.7077\n",
            "Epoch 84/200\n",
            "160/160 [==============================] - 14s 86ms/step - loss: 1.2388 - accuracy: 0.7043\n",
            "Epoch 85/200\n",
            "160/160 [==============================] - 14s 87ms/step - loss: 1.2163 - accuracy: 0.7098\n",
            "Epoch 86/200\n",
            "160/160 [==============================] - 14s 87ms/step - loss: 1.1941 - accuracy: 0.7154\n",
            "Epoch 87/200\n",
            "160/160 [==============================] - 14s 87ms/step - loss: 1.2003 - accuracy: 0.7157\n",
            "Epoch 88/200\n",
            "160/160 [==============================] - 14s 87ms/step - loss: 1.1923 - accuracy: 0.7156\n",
            "Epoch 89/200\n",
            "160/160 [==============================] - 14s 87ms/step - loss: 1.1544 - accuracy: 0.7242\n",
            "Epoch 90/200\n",
            "160/160 [==============================] - 14s 87ms/step - loss: 1.1542 - accuracy: 0.7247\n",
            "Epoch 91/200\n",
            "160/160 [==============================] - 14s 87ms/step - loss: 1.1378 - accuracy: 0.7269\n",
            "Epoch 92/200\n",
            "160/160 [==============================] - 14s 86ms/step - loss: 1.1256 - accuracy: 0.7287\n",
            "Epoch 93/200\n",
            "160/160 [==============================] - 14s 86ms/step - loss: 1.1219 - accuracy: 0.7315\n",
            "Epoch 94/200\n",
            "160/160 [==============================] - 14s 87ms/step - loss: 1.1145 - accuracy: 0.7312\n",
            "Epoch 95/200\n",
            "160/160 [==============================] - 14s 87ms/step - loss: 1.0902 - accuracy: 0.7371\n",
            "Epoch 96/200\n",
            "160/160 [==============================] - 14s 87ms/step - loss: 1.0816 - accuracy: 0.7397\n",
            "Epoch 97/200\n",
            "160/160 [==============================] - 14s 87ms/step - loss: 1.0684 - accuracy: 0.7412\n",
            "Epoch 98/200\n",
            "160/160 [==============================] - 14s 87ms/step - loss: 1.0650 - accuracy: 0.7418\n",
            "Epoch 99/200\n",
            "160/160 [==============================] - 14s 86ms/step - loss: 1.0527 - accuracy: 0.7445\n",
            "Epoch 100/200\n",
            "160/160 [==============================] - 14s 87ms/step - loss: 1.0486 - accuracy: 0.7461\n",
            "Epoch 101/200\n",
            "160/160 [==============================] - 14s 87ms/step - loss: 1.0339 - accuracy: 0.7494\n",
            "Epoch 102/200\n",
            "160/160 [==============================] - 14s 87ms/step - loss: 1.0255 - accuracy: 0.7494\n",
            "Epoch 103/200\n",
            "160/160 [==============================] - 14s 87ms/step - loss: 1.0094 - accuracy: 0.7558\n",
            "Epoch 104/200\n",
            "160/160 [==============================] - 14s 87ms/step - loss: 1.0150 - accuracy: 0.7548\n",
            "Epoch 105/200\n",
            "160/160 [==============================] - 14s 87ms/step - loss: 0.9967 - accuracy: 0.7523\n",
            "Epoch 106/200\n",
            "160/160 [==============================] - 14s 87ms/step - loss: 0.9845 - accuracy: 0.7595\n",
            "Epoch 107/200\n",
            "160/160 [==============================] - 14s 87ms/step - loss: 0.9670 - accuracy: 0.7621\n",
            "Epoch 108/200\n",
            "160/160 [==============================] - 14s 86ms/step - loss: 0.9608 - accuracy: 0.7660\n",
            "Epoch 109/200\n",
            "160/160 [==============================] - 14s 87ms/step - loss: 0.9506 - accuracy: 0.7644\n",
            "Epoch 110/200\n",
            "160/160 [==============================] - 14s 87ms/step - loss: 0.9286 - accuracy: 0.7706\n",
            "Epoch 111/200\n",
            "160/160 [==============================] - 14s 86ms/step - loss: 0.9402 - accuracy: 0.7674\n",
            "Epoch 112/200\n",
            "160/160 [==============================] - 14s 87ms/step - loss: 0.9297 - accuracy: 0.7707\n",
            "Epoch 113/200\n",
            "160/160 [==============================] - 14s 87ms/step - loss: 0.9244 - accuracy: 0.7698\n",
            "Epoch 114/200\n",
            "160/160 [==============================] - 14s 87ms/step - loss: 0.9045 - accuracy: 0.7757\n",
            "Epoch 115/200\n",
            "160/160 [==============================] - 14s 87ms/step - loss: 0.9015 - accuracy: 0.7771\n",
            "Epoch 116/200\n",
            "160/160 [==============================] - 14s 87ms/step - loss: 0.8927 - accuracy: 0.7779\n",
            "Epoch 117/200\n",
            "160/160 [==============================] - 14s 87ms/step - loss: 0.8942 - accuracy: 0.7753\n",
            "Epoch 118/200\n",
            "160/160 [==============================] - 14s 86ms/step - loss: 0.8876 - accuracy: 0.7768\n",
            "Epoch 119/200\n",
            "160/160 [==============================] - 14s 87ms/step - loss: 0.8655 - accuracy: 0.7836\n",
            "Epoch 120/200\n",
            "160/160 [==============================] - 14s 87ms/step - loss: 0.8452 - accuracy: 0.7871\n",
            "Epoch 121/200\n",
            "160/160 [==============================] - 14s 87ms/step - loss: 0.8739 - accuracy: 0.7817\n",
            "Epoch 122/200\n",
            "160/160 [==============================] - 14s 87ms/step - loss: 0.8400 - accuracy: 0.7917\n",
            "Epoch 123/200\n",
            "160/160 [==============================] - 14s 87ms/step - loss: 0.8554 - accuracy: 0.7840\n",
            "Epoch 124/200\n",
            "160/160 [==============================] - 14s 87ms/step - loss: 0.8433 - accuracy: 0.7845\n",
            "Epoch 125/200\n",
            "160/160 [==============================] - 14s 87ms/step - loss: 0.8281 - accuracy: 0.7917\n",
            "Epoch 126/200\n",
            "160/160 [==============================] - 14s 87ms/step - loss: 0.8221 - accuracy: 0.7929\n",
            "Epoch 127/200\n",
            "160/160 [==============================] - 14s 86ms/step - loss: 0.8269 - accuracy: 0.7886\n",
            "Epoch 128/200\n",
            "160/160 [==============================] - 14s 87ms/step - loss: 0.8092 - accuracy: 0.7972\n",
            "Epoch 129/200\n",
            "160/160 [==============================] - 14s 87ms/step - loss: 0.8157 - accuracy: 0.7930\n",
            "Epoch 130/200\n",
            "160/160 [==============================] - 14s 87ms/step - loss: 0.8035 - accuracy: 0.7959\n",
            "Epoch 131/200\n",
            "160/160 [==============================] - 14s 87ms/step - loss: 0.7816 - accuracy: 0.8036\n",
            "Epoch 132/200\n",
            "160/160 [==============================] - 14s 87ms/step - loss: 0.7987 - accuracy: 0.7964\n",
            "Epoch 133/200\n",
            "160/160 [==============================] - 14s 86ms/step - loss: 0.7847 - accuracy: 0.8014\n",
            "Epoch 134/200\n",
            "160/160 [==============================] - 14s 87ms/step - loss: 0.7724 - accuracy: 0.8023\n",
            "Epoch 135/200\n",
            "160/160 [==============================] - 14s 87ms/step - loss: 0.7879 - accuracy: 0.7993\n",
            "Epoch 136/200\n",
            "160/160 [==============================] - 14s 87ms/step - loss: 0.7586 - accuracy: 0.8039\n",
            "Epoch 137/200\n",
            "160/160 [==============================] - 14s 87ms/step - loss: 0.7674 - accuracy: 0.8036\n",
            "Epoch 138/200\n",
            "160/160 [==============================] - 14s 87ms/step - loss: 0.7450 - accuracy: 0.8082\n",
            "Epoch 139/200\n",
            "160/160 [==============================] - 14s 87ms/step - loss: 0.7451 - accuracy: 0.8126\n",
            "Epoch 140/200\n",
            "160/160 [==============================] - 14s 87ms/step - loss: 0.7492 - accuracy: 0.8107\n",
            "Epoch 141/200\n",
            "160/160 [==============================] - 14s 86ms/step - loss: 0.7494 - accuracy: 0.8043\n",
            "Epoch 142/200\n",
            "160/160 [==============================] - 14s 86ms/step - loss: 0.7230 - accuracy: 0.8142\n",
            "Epoch 143/200\n",
            "160/160 [==============================] - 14s 87ms/step - loss: 0.7336 - accuracy: 0.8132\n",
            "Epoch 144/200\n",
            "160/160 [==============================] - 14s 86ms/step - loss: 0.7362 - accuracy: 0.8096\n",
            "Epoch 145/200\n",
            "160/160 [==============================] - 14s 87ms/step - loss: 0.7258 - accuracy: 0.8134\n",
            "Epoch 146/200\n",
            "160/160 [==============================] - 14s 87ms/step - loss: 0.7357 - accuracy: 0.8098\n",
            "Epoch 147/200\n",
            "160/160 [==============================] - 14s 87ms/step - loss: 0.7195 - accuracy: 0.8162\n",
            "Epoch 148/200\n",
            "160/160 [==============================] - 14s 87ms/step - loss: 0.7020 - accuracy: 0.8203\n",
            "Epoch 149/200\n",
            "160/160 [==============================] - 14s 87ms/step - loss: 0.7182 - accuracy: 0.8139\n",
            "Epoch 150/200\n",
            "160/160 [==============================] - 14s 87ms/step - loss: 0.7141 - accuracy: 0.8141\n",
            "Epoch 151/200\n",
            "160/160 [==============================] - 14s 86ms/step - loss: 0.7045 - accuracy: 0.8206\n",
            "Epoch 152/200\n",
            "160/160 [==============================] - 14s 87ms/step - loss: 0.7022 - accuracy: 0.8212\n",
            "Epoch 153/200\n",
            "160/160 [==============================] - 14s 87ms/step - loss: 0.6946 - accuracy: 0.8196\n",
            "Epoch 154/200\n",
            "160/160 [==============================] - 14s 87ms/step - loss: 0.6898 - accuracy: 0.8234\n",
            "Epoch 155/200\n",
            "160/160 [==============================] - 14s 87ms/step - loss: 0.6975 - accuracy: 0.8154\n",
            "Epoch 156/200\n",
            "160/160 [==============================] - 14s 87ms/step - loss: 0.6902 - accuracy: 0.8192\n",
            "Epoch 157/200\n",
            "160/160 [==============================] - 14s 87ms/step - loss: 0.6826 - accuracy: 0.8234\n",
            "Epoch 158/200\n",
            "160/160 [==============================] - 14s 87ms/step - loss: 0.6814 - accuracy: 0.8257\n",
            "Epoch 159/200\n",
            "160/160 [==============================] - 14s 87ms/step - loss: 0.6674 - accuracy: 0.8244\n",
            "Epoch 160/200\n",
            "160/160 [==============================] - 14s 87ms/step - loss: 0.6787 - accuracy: 0.8223\n",
            "Epoch 161/200\n",
            "160/160 [==============================] - 14s 87ms/step - loss: 0.6766 - accuracy: 0.8258\n",
            "Epoch 162/200\n",
            "160/160 [==============================] - 14s 87ms/step - loss: 0.6465 - accuracy: 0.8339\n",
            "Epoch 163/200\n",
            "160/160 [==============================] - 14s 87ms/step - loss: 0.6712 - accuracy: 0.8258\n",
            "Epoch 164/200\n",
            "160/160 [==============================] - 14s 87ms/step - loss: 0.6587 - accuracy: 0.8294\n",
            "Epoch 165/200\n",
            "160/160 [==============================] - 14s 87ms/step - loss: 0.6633 - accuracy: 0.8266\n",
            "Epoch 166/200\n",
            "160/160 [==============================] - 14s 87ms/step - loss: 0.6626 - accuracy: 0.8238\n",
            "Epoch 167/200\n",
            "160/160 [==============================] - 14s 87ms/step - loss: 0.6626 - accuracy: 0.8263\n",
            "Epoch 168/200\n",
            "160/160 [==============================] - 14s 87ms/step - loss: 0.6432 - accuracy: 0.8313\n",
            "Epoch 169/200\n",
            "160/160 [==============================] - 14s 87ms/step - loss: 0.6436 - accuracy: 0.8329\n",
            "Epoch 170/200\n",
            "160/160 [==============================] - 14s 87ms/step - loss: 0.6514 - accuracy: 0.8286\n",
            "Epoch 171/200\n",
            "160/160 [==============================] - 14s 87ms/step - loss: 0.6443 - accuracy: 0.8291\n",
            "Epoch 172/200\n",
            "160/160 [==============================] - 14s 87ms/step - loss: 0.6402 - accuracy: 0.8316\n",
            "Epoch 173/200\n",
            "160/160 [==============================] - 14s 87ms/step - loss: 0.6387 - accuracy: 0.8341\n",
            "Epoch 174/200\n",
            "160/160 [==============================] - 14s 87ms/step - loss: 0.6404 - accuracy: 0.8330\n",
            "Epoch 175/200\n",
            "160/160 [==============================] - 14s 87ms/step - loss: 0.6291 - accuracy: 0.8333\n",
            "Epoch 176/200\n",
            "160/160 [==============================] - 14s 87ms/step - loss: 0.6250 - accuracy: 0.8368\n",
            "Epoch 177/200\n",
            "160/160 [==============================] - 14s 87ms/step - loss: 0.6278 - accuracy: 0.8357\n",
            "Epoch 178/200\n",
            "160/160 [==============================] - 14s 87ms/step - loss: 0.6264 - accuracy: 0.8347\n",
            "Epoch 179/200\n",
            "160/160 [==============================] - 14s 87ms/step - loss: 0.6172 - accuracy: 0.8386\n",
            "Epoch 180/200\n",
            "160/160 [==============================] - 14s 87ms/step - loss: 0.6212 - accuracy: 0.8369\n",
            "Epoch 181/200\n",
            "160/160 [==============================] - 14s 87ms/step - loss: 0.6084 - accuracy: 0.8390\n",
            "Epoch 182/200\n",
            "160/160 [==============================] - 14s 87ms/step - loss: 0.6152 - accuracy: 0.8376\n",
            "Epoch 183/200\n",
            "160/160 [==============================] - 14s 87ms/step - loss: 0.6160 - accuracy: 0.8365\n",
            "Epoch 184/200\n",
            "160/160 [==============================] - 14s 87ms/step - loss: 0.6126 - accuracy: 0.8404\n",
            "Epoch 185/200\n",
            "160/160 [==============================] - 14s 87ms/step - loss: 0.6171 - accuracy: 0.8392\n",
            "Epoch 186/200\n",
            "160/160 [==============================] - 14s 87ms/step - loss: 0.6063 - accuracy: 0.8406\n",
            "Epoch 187/200\n",
            "160/160 [==============================] - 14s 87ms/step - loss: 0.5931 - accuracy: 0.8414\n",
            "Epoch 188/200\n",
            "160/160 [==============================] - 14s 87ms/step - loss: 0.5988 - accuracy: 0.8400\n",
            "Epoch 189/200\n",
            "160/160 [==============================] - 14s 87ms/step - loss: 0.5910 - accuracy: 0.8431\n",
            "Epoch 190/200\n",
            "160/160 [==============================] - 14s 88ms/step - loss: 0.5984 - accuracy: 0.8427\n",
            "Epoch 191/200\n",
            "160/160 [==============================] - 14s 87ms/step - loss: 0.6034 - accuracy: 0.8394\n",
            "Epoch 192/200\n",
            "160/160 [==============================] - 14s 87ms/step - loss: 0.5829 - accuracy: 0.8454\n",
            "Epoch 193/200\n",
            "160/160 [==============================] - 14s 87ms/step - loss: 0.5897 - accuracy: 0.8428\n",
            "Epoch 194/200\n",
            "160/160 [==============================] - 14s 88ms/step - loss: 0.5815 - accuracy: 0.8460\n",
            "Epoch 195/200\n",
            "160/160 [==============================] - 14s 87ms/step - loss: 0.5824 - accuracy: 0.8460\n",
            "Epoch 196/200\n",
            "160/160 [==============================] - 14s 88ms/step - loss: 0.5988 - accuracy: 0.8406\n",
            "Epoch 197/200\n",
            "160/160 [==============================] - 14s 87ms/step - loss: 0.5824 - accuracy: 0.8451\n",
            "Epoch 198/200\n",
            "160/160 [==============================] - 14s 87ms/step - loss: 0.5952 - accuracy: 0.8424\n",
            "Epoch 199/200\n",
            "160/160 [==============================] - 14s 87ms/step - loss: 0.5683 - accuracy: 0.8480\n",
            "Epoch 200/200\n",
            "160/160 [==============================] - 14s 87ms/step - loss: 0.5947 - accuracy: 0.8401\n"
          ],
          "name": "stdout"
        }
      ]
    },
    {
      "cell_type": "code",
      "metadata": {
        "colab": {
          "base_uri": "https://localhost:8080/"
        },
        "id": "-8VUqslB6kMO",
        "outputId": "14425ed9-c140-4c15-ea1b-4bb2839fb244"
      },
      "source": [
        "# Saving our model\n",
        "'''model.save('/content/drive/MyDrive/lstm-basic2')\n"
      ],
      "execution_count": 17,
      "outputs": [
        {
          "output_type": "stream",
          "text": [
            "WARNING:absl:Found untraced functions such as lstm_cell_1_layer_call_fn, lstm_cell_1_layer_call_and_return_conditional_losses, lstm_cell_2_layer_call_fn, lstm_cell_2_layer_call_and_return_conditional_losses, lstm_cell_4_layer_call_fn while saving (showing 5 of 20). These functions will not be directly callable after loading.\n",
            "WARNING:absl:Found untraced functions such as lstm_cell_1_layer_call_fn, lstm_cell_1_layer_call_and_return_conditional_losses, lstm_cell_2_layer_call_fn, lstm_cell_2_layer_call_and_return_conditional_losses, lstm_cell_4_layer_call_fn while saving (showing 5 of 20). These functions will not be directly callable after loading.\n"
          ],
          "name": "stderr"
        },
        {
          "output_type": "stream",
          "text": [
            "INFO:tensorflow:Assets written to: /content/drive/MyDrive/lstm-basic2/assets\n"
          ],
          "name": "stdout"
        },
        {
          "output_type": "stream",
          "text": [
            "INFO:tensorflow:Assets written to: /content/drive/MyDrive/lstm-basic2/assets\n"
          ],
          "name": "stderr"
        }
      ]
    },
    {
      "cell_type": "code",
      "metadata": {
        "colab": {
          "base_uri": "https://localhost:8080/",
          "height": 296
        },
        "id": "ImBWp2JQtHYW",
        "outputId": "7aa2bd85-fdf9-4e16-bc38-804a1ecb4d29"
      },
      "source": [
        "# Plotting a loss curve to see if we need this many epochs\n",
        "# Looks to still be decreasing slowly\n",
        "'''\n",
        "import matplotlib.pyplot as plt\n",
        "\n",
        "plt.plot(history.history['loss'])\n",
        "plt.xlabel('epoch')\n",
        "plt.ylabel('loss')"
      ],
      "execution_count": 18,
      "outputs": [
        {
          "output_type": "execute_result",
          "data": {
            "text/plain": [
              "Text(0, 0.5, 'loss')"
            ]
          },
          "metadata": {
            "tags": []
          },
          "execution_count": 18
        },
        {
          "output_type": "display_data",
          "data": {
            "image/png": "[encoded data removed]",
            "text/plain": [
              "<Figure size 432x288 with 1 Axes>"
            ]
          },
          "metadata": {
            "tags": [],
            "needs_background": "light"
          }
        }
      ]
    },
    {
      "cell_type": "code",
      "metadata": {
        "id": "UBrQuS2jwU9F"
      },
      "source": [
        "new_model = tf.keras.models.load_model('/content/drive/MyDrive/lstm-basic2')"
      ],
      "execution_count": 19,
      "outputs": []
    },
    {
      "cell_type": "code",
      "metadata": {
        "id": "oO78Ex9O5lF_"
      },
      "source": [
        "# Create a function to generate 'next_words' number of words on top of the seeded bar\n",
        "def generateraplyrics():\n",
        "  seed_text  = random.choice(bars)\n",
        "  next_words = 100\n",
        "  token_list = sentence_to_integer(seed_text)\n",
        "  token_list = pad_sequences([token_list], maxlen = padding_length - 1, padding = 'pre')\n",
        "  predicted  = new_model.predict_classes(token_list, verbose = 0)\n",
        "  lyrics = int_to_word[predicted[0]]\n",
        "  for _ in range(next_words):\n",
        "      token_list = sentence_to_integer(lyrics)\n",
        "      token_list = pad_sequences([token_list], maxlen = padding_length - 1, padding = 'pre')\n",
        "      predicted  = new_model.predict_classes(token_list, verbose = 0)\n",
        "      lyrics += ' ' + int_to_word[predicted[0]]\n",
        "  return lyrics.capitalize()"
      ],
      "execution_count": 20,
      "outputs": []
    },
    {
      "cell_type": "code",
      "metadata": {
        "colab": {
          "base_uri": "https://localhost:8080/",
          "height": 140
        },
        "id": "ZsQYK-4RxjJB",
        "outputId": "79170a87-02e9-41b3-c06d-ca1eea87f350"
      },
      "source": [
        "# Example of output with 100 words generated \n",
        "'''\n",
        "generateraplyrics()"
      ],
      "execution_count": 21,
      "outputs": [
        {
          "output_type": "stream",
          "text": [
            "/usr/local/lib/python3.7/dist-packages/tensorflow/python/keras/engine/sequential.py:450: UserWarning: `model.predict_classes()` is deprecated and will be removed after 2021-01-01. Please use instead:* `np.argmax(model.predict(x), axis=-1)`,   if your model does multi-class classification   (e.g. if it uses a `softmax` last-layer activation).* `(model.predict(x) > 0.5).astype(\"int32\")`,   if your model does binary classification   (e.g. if it uses a `sigmoid` last-layer activation).\n",
            "  warnings.warn('`model.predict_classes()` is deprecated and '\n"
          ],
          "name": "stderr"
        },
        {
          "output_type": "execute_result",
          "data": {
            "application/vnd.google.colaboratory.intrinsic+json": {
              "type": "string"
            },
            "text/plain": [
              "'The weak or the strong who got it goin on my trigger til in this cause ninjaz aint the sounds to the rhyme lyrical high dont dont rhyme than blow it like sandwhiches it do me i dont need it when it dont do it when it dont do it to do me ninja ninja peel more time than you didnt do me who him gotta and big gotta who who strolls motherfricker motherfricker motherfricker who i die is you is not you is is is is is uhh i with you up is i was gotta and i fricked is'"
            ]
          },
          "metadata": {
            "tags": []
          },
          "execution_count": 21
        }
      ]
    }
  ]
}
