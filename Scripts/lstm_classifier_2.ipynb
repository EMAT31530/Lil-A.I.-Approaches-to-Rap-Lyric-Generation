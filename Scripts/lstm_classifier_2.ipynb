{
  "nbformat": 4,
  "nbformat_minor": 0,
  "metadata": {
    "colab": {
      "name": "lstm classifier 2.ipynb",
      "provenance": [],
      "collapsed_sections": []
    },
    "kernelspec": {
      "name": "python3",
      "display_name": "Python 3"
    }
  },
  "cells": [
    {
      "cell_type": "code",
      "metadata": {
        "id": "7_V4PoXtzfeN"
      },
      "source": [
        "import numpy as np \n",
        "import pandas as pd\n",
        "from keras.preprocessing.text import Tokenizer\n",
        "from keras.preprocessing.sequence import pad_sequences\n",
        "from keras.models import Sequential\n",
        "from keras.layers import Dense, Embedding, LSTM, SpatialDropout1D\n",
        "from sklearn.model_selection import train_test_split\n",
        "from keras.callbacks import EarlyStopping\n",
        "from keras.layers import Dropout\n",
        "from nltk import word_tokenize\n"
      ],
      "execution_count": 1,
      "outputs": []
    },
    {
      "cell_type": "code",
      "metadata": {
        "colab": {
          "base_uri": "https://localhost:8080/"
        },
        "id": "R31WwV4_zmIN",
        "outputId": "f6ff9bb3-5310-40e1-ccb2-ff851c434027"
      },
      "source": [
        "from google.colab import drive\n",
        "drive.mount('/content/drive')"
      ],
      "execution_count": 3,
      "outputs": [
        {
          "output_type": "stream",
          "text": [
            "Drive already mounted at /content/drive; to attempt to forcibly remount, call drive.mount(\"/content/drive\", force_remount=True).\n"
          ],
          "name": "stdout"
        }
      ]
    },
    {
      "cell_type": "code",
      "metadata": {
        "id": "-wdtCyDezmKd"
      },
      "source": [
        "# All Rock\n",
        "rock1 = open('/content/drive/My Drive/Colab Notebooks/AllRock.txt', 'r').read()\n",
        "rock = ''.join([i for i in rock1 if not i.isdigit()]).replace(\"\\n\", \" \").lower().replace(\".\", \"\").replace(\"!\", \"\").replace(\"?\", \"\").replace(\",\", \"\").replace(\"\", \"\").replace(\"'\", \"\").replace(\")\", \"\").replace(\"(\", \"\").split(' ')\n",
        "# All Pop\n",
        "pop1 = open('/content/drive/My Drive/Colab Notebooks/AllPop.txt', 'r').read()\n",
        "pop = ''.join([i for i in pop1 if not i.isdigit()]).replace(\"\\n\", \" \").lower().replace(\".\", \"\").replace(\"!\", \"\").replace(\"?\", \"\").replace(\",\", \"\").replace(\"\", \"\").replace(\"'\", \"\").replace(\")\", \"\").replace(\"(\", \"\").split(' ')\n",
        "# All Country\n",
        "country1 = open('/content/drive/My Drive/Colab Notebooks/AllCountry.txt', 'r').read()\n",
        "country = ''.join([i for i in country1 if not i.isdigit()]).replace(\"\\n\", \" \").lower().replace(\".\", \"\").replace(\"!\", \"\").replace(\"?\", \"\").replace(\",\", \"\").replace(\"\", \"\").replace(\"'\", \"\").replace(\")\", \"\").replace(\"(\", \"\").split(' ')\n",
        "# All Rap\n",
        "rap1 = open('/content/drive/My Drive/Colab Notebooks/AllLyrics.txt', 'r').read()\n",
        "rap = ''.join([i for i in rap1 if not i.isdigit()]).replace(\"\\n\", \" \").lower().replace(\".\", \"\").replace(\"!\", \"\").replace(\"?\", \"\").replace(\",\", \"\").replace(\"\", \"\").replace(\"'\", \"\").replace(\")\", \"\").replace(\"(\", \"\").split(' ')"
      ],
      "execution_count": 4,
      "outputs": []
    },
    {
      "cell_type": "code",
      "metadata": {
        "id": "3H5tODMdzmMk"
      },
      "source": [
        "SONG_LENGTH = 200\n",
        "# Rock\n",
        "Rock = [rock[i*SONG_LENGTH:(i+1)*SONG_LENGTH] for i in range(0,int(len(rock)/200))]\n",
        "# Country\n",
        "Country = [country[i*SONG_LENGTH:(i+1)*SONG_LENGTH] for i in range(0,int(len(country)/200))]\n",
        "# Pop\n",
        "Pop = [pop[i*SONG_LENGTH:(i+1)*SONG_LENGTH] for i in range(0,int(len(pop)/200))]\n",
        "# Rap\n",
        "Rap = [rap[i*SONG_LENGTH:(i+1)*SONG_LENGTH] for i in range(0,int(len(rap)/200))]"
      ],
      "execution_count": 5,
      "outputs": []
    },
    {
      "cell_type": "code",
      "metadata": {
        "id": "sHsa4Q6b3NHl"
      },
      "source": [
        "ds_rock = [' '.join(Rock[i]) for i in range(len(Rock))]\n",
        "ds_country = [' '.join(Country[i]) for i in range(len(Country))]\n",
        "ds_pop = [' '.join(Pop[i]) for i in range(len(Pop))]\n",
        "ds_rap = [' '.join(Rap[i]) for i in range(len(Rap))]"
      ],
      "execution_count": 6,
      "outputs": []
    },
    {
      "cell_type": "code",
      "metadata": {
        "colab": {
          "base_uri": "https://localhost:8080/"
        },
        "id": "DyYOt7-f8b7q",
        "outputId": "c3eb581e-b587-417b-b413-bb8e0d68ad72"
      },
      "source": [
        "# rock 0, country 1, pop 2, rap 3\n",
        "ds_ro = []\n",
        "genre = 0\n",
        "for sample in ds_rock:\n",
        "  ds_ro.append([genre, sample])\n",
        "\n",
        "ds_co = []\n",
        "genre = 1\n",
        "for sample in ds_country:\n",
        "  ds_co.append([genre, sample])\n",
        "\n",
        "ds_po = []\n",
        "genre = 2\n",
        "for sample in ds_pop:\n",
        "  ds_po.append([genre, sample])\n",
        "\n",
        "ds_ra = []\n",
        "genre = 3\n",
        "for sample in ds_rap:\n",
        "  ds_ra.append([genre, sample])\n",
        "\n",
        "ds = ds_ro+ds_co+ds_po+ds_ra\n",
        "\n",
        "ds = np.array(ds)\n",
        "print('Genres: ', ds[:, 0])\n",
        "print('Lyrics: ', ds[:, 1])"
      ],
      "execution_count": 7,
      "outputs": [
        {
          "output_type": "stream",
          "text": [
            "Genres:  ['0' '0' '0' ... '3' '3' '3']\n",
            "Lyrics:  ['yesterday all my troubles seemed so far away now it looks as though theyre here to stay oh i believe in yesterday suddenly im not half the man i used to be theres a shadow hanging over me oh yesterday came suddenly why she had to go i dont know she wouldnt say i said something wrong now i long for yesterday yesterday love was such an easy game to play now i need a place to hide away oh i believe in yesterday why she had to go i dont know she wouldnt say i said something wrong now i long for yesterday yesterday love was such an easy game to play now i need a place to hide away oh i believe in yesterday mm mm mm mm mm mm mm when i find myself in times of trouble mother mary comes to me speaking words of wisdom let it be and in my hour of darkness she is standing right in front of me speaking words of wisdom let it be let it be let it be let it be let it be whisper words of wisdom let it be and when the broken hearted people living'\n",
            " 'in the world agree there will be an answer let it be for though they may be parted there is still a chance that they will see there will be an answer let it be let it be let it be let it be let it be there will be an answer let it be let it be let it be let it be let it be whisper words of wisdom let it be let it be let it be let it be let it be whisper words of wisdom let it be and when the night is cloudy there is still a light that shines on me shine until tomorrow let it be i wake up to the sound of music mother mary comes to me speaking words of wisdom let it be let it be let it be let it be yeah let it be there will be an answer let it be let it be let it be let it be yeah let it be whisper words of wisdom let it be words are flowing out like endless rain into a paper cup they slither wildly as they slip away across the universe pools of sorrow waves'\n",
            " 'of joy are drifting through my opened mind possessing and caressing me jai guru deva om nothings gonna change my world nothings gonna change my world nothings gonna change my world nothings gonna change my world images of broken light which dance before me like a million eyes they call me on and on across the universe thoughts meander like a restless wind inside a letter box they tumble blindly as they make their way across the universe jai guru deva om nothings gonna change my world nothings gonna change my world nothings gonna change my world nothings gonna change my world sounds of laughter shades of life are ringing through my opened ears inciting and inviting me limitless undying love which shines around me like a million suns it calls me on and on across the universe jai guru deva om nothings gonna change my world nothings gonna change my world nothings gonna change my world nothings gonna change my world jai guru deva jai guru deva jai guru deva jai guru deva jai guru deva hey jude dont make it bad take a sad song and make it better remember to let her into your heart then you'\n",
            " ...\n",
            " 'that im sick of ninjaz lyin im sick of b*****es hawkin ayo yoyo big ayo chill matter of fact im sick of talkin ayo big ayo big damn we was supposed to rule the world baby we was unstoppable the poop cant be over no the poop cant be over man i know you hear me ninja i know you hear me you got too much livin to do too much unfinished business it aint over live your life well its the funk docta spock methtical biggie biggie mmmhmmmmmm uhh uhh uhh yo cmon big uhh fuck that i preach it my nine reaches the prestigious cats that speak this willie poop flooded pieces my hand releases snatches smack ya cabbage halfass rappers shouldnt have it so i grab it never run the outcome is usually a beatdown brutally frick who you be or where youre from west or east coast squeeze toast leave most in the blood they layin in what what the rings and things you sing about bring em out its hard to yell when the barrels in your mouth its more than i expected i thought your peopleels was rented but they wasnt so run it'\n",
            " 'cousin i could chill the heat doesnt ran up in your shell about a dozen you never see bank like frank white your hand clutchin your chestplate contemplate you bout to die ninja wait keep yo hands high yo yo yo i dont brownnose out of town hoes im up around fo with the crowbar to the five point oh i get bagged im john doe suspect you bum like prime roastin calvin klein clothes explode the pyros when doc guest appear im out there i bought it with george jetson here your time is near so get your body dropped off i stopped trustin ninjaz since gotti got caught its bricks keep your wrist covered or piss colored by the waist got a gun as dark as kris brother icu my sheisty crew like ice me too i break your legs leave your eyes slightly blue the doc was born with a grenade palm im concurrent in your hood like a teenage mom yo biggie what what she havin my baybayy if i pull out the ak keep your hands high this rule is so underrated actin as if it cant happen youre frontin aint no other kings in'\n",
            " 'this rap thing biggie a motherfrickin rap phenomenon this rule is so underrated actin as if it cant happen youre frontin aint no other kings in this rap thing biggie a motherfrickin rap phenomenon uhh uhh i got a new mouth to feed im due south with keys yall pick seeds out yall sandwhiches i watch cowards bleed motherfricker please its my block with my rocks fuck that hiphop them onetwos and you dont stops me and my ninja lance took kim and cees advance bought ten bricks four pounds of sandwhiches plants from branson now we lampin twelve room mansion bitches get naked off get money players anthem dont forget one more chance and my other hits other poop ninjaz spit be counterfeit robbery come actually in and out like frickin rapidly pass the gat to me make his chest rest where his back should be talkin blasphemy blastin me your family rest in coffins often frank wizzard frick you soft or fragilla play hard like reggie miller rapper slash dope dealer slash gorilla slash illest turned killer now now dont approach me with that rah rah poop you out of pocket i take these adolescents back to spofford']\n"
          ],
          "name": "stdout"
        }
      ]
    },
    {
      "cell_type": "code",
      "metadata": {
        "colab": {
          "base_uri": "https://localhost:8080/"
        },
        "id": "lEN31GK4zmOt",
        "outputId": "c9c3ab8c-623c-4bc4-fe33-3bbc29cff255"
      },
      "source": [
        "# max words we use\n",
        "maxwords = 50000\n",
        "# max words per lyric (should be 200 anyway as set up)\n",
        "maxlyricwords = 200\n",
        "# tokenize here\n",
        "embedding_dimension = 100\n",
        "tokenizer = Tokenizer(num_words=maxwords, filters='!\"#$%&()*+,-./:;<=>?@[\\]^_`{|}~', lower=True)\n",
        "tokenizer.fit_on_texts(ds[:, 1])\n",
        "word_index = tokenizer.word_index\n",
        "print('Found %s unique tokens.' % len(word_index))"
      ],
      "execution_count": 8,
      "outputs": [
        {
          "output_type": "stream",
          "text": [
            "Found 16903 unique tokens.\n"
          ],
          "name": "stdout"
        }
      ]
    },
    {
      "cell_type": "code",
      "metadata": {
        "colab": {
          "base_uri": "https://localhost:8080/"
        },
        "id": "c1Mxmt0Yzzun",
        "outputId": "d3dd4e3d-50ae-4fbd-968c-938435c00f06"
      },
      "source": [
        "X = tokenizer.texts_to_sequences(ds[:, 1])\n",
        "X = pad_sequences(X, maxlen=maxlyricwords)\n",
        "print('Shape of data tensor:', X.shape)"
      ],
      "execution_count": 9,
      "outputs": [
        {
          "output_type": "stream",
          "text": [
            "Shape of data tensor: (2625, 200)\n"
          ],
          "name": "stdout"
        }
      ]
    },
    {
      "cell_type": "code",
      "metadata": {
        "colab": {
          "base_uri": "https://localhost:8080/"
        },
        "id": "u3tp_Ba3z5bu",
        "outputId": "bd167f33-73e2-45ad-93b7-2ab757708fba"
      },
      "source": [
        "Y = pd.get_dummies(ds[:, 0])\n",
        "print('Shape of label tensor:', Y.shape)"
      ],
      "execution_count": 10,
      "outputs": [
        {
          "output_type": "stream",
          "text": [
            "Shape of label tensor: (2625, 4)\n"
          ],
          "name": "stdout"
        }
      ]
    },
    {
      "cell_type": "code",
      "metadata": {
        "colab": {
          "base_uri": "https://localhost:8080/"
        },
        "id": "rkOgVUkjz7vD",
        "outputId": "33f04fc4-c905-49a3-ae0a-6c9b56cd2e59"
      },
      "source": [
        "X_train, X_test, Y_train, Y_test = train_test_split(X,Y, test_size = 0.10, random_state = 42)\n",
        "print(X_train.shape,Y_train.shape)\n",
        "print(X_test.shape,Y_test.shape)"
      ],
      "execution_count": 11,
      "outputs": [
        {
          "output_type": "stream",
          "text": [
            "(2362, 200) (2362, 4)\n",
            "(263, 200) (263, 4)\n"
          ],
          "name": "stdout"
        }
      ]
    },
    {
      "cell_type": "code",
      "metadata": {
        "colab": {
          "base_uri": "https://localhost:8080/"
        },
        "id": "kxUrhRhPz_v-",
        "outputId": "04c9b45c-9b44-483e-f61e-f3534691e8cf"
      },
      "source": [
        "model = Sequential()\n",
        "model.add(Embedding(maxwords, embedding_dimension, input_length=X.shape[1]))\n",
        "model.add(SpatialDropout1D(0.2))\n",
        "model.add(LSTM(100, dropout=0.2, recurrent_dropout=0.2))\n",
        "model.add(Dense(4, activation='softmax'))\n",
        "model.compile(loss='categorical_crossentropy', optimizer='adam', metrics=['accuracy'])\n",
        "\n",
        "epochs = 10\n",
        "batch_size = 64\n",
        "\n",
        "history = model.fit(X_train, Y_train, epochs=epochs, batch_size=batch_size,validation_split=0.1,callbacks=[EarlyStopping(monitor='val_loss', patience=3, min_delta=0.0001)])"
      ],
      "execution_count": 12,
      "outputs": [
        {
          "output_type": "stream",
          "text": [
            "Epoch 1/10\n",
            "34/34 [==============================] - 26s 670ms/step - loss: 1.2689 - accuracy: 0.5284 - val_loss: 0.9728 - val_accuracy: 0.6582\n",
            "Epoch 2/10\n",
            "34/34 [==============================] - 22s 644ms/step - loss: 0.9991 - accuracy: 0.6092 - val_loss: 0.7254 - val_accuracy: 0.6920\n",
            "Epoch 3/10\n",
            "34/34 [==============================] - 22s 646ms/step - loss: 0.7042 - accuracy: 0.7119 - val_loss: 0.5453 - val_accuracy: 0.7975\n",
            "Epoch 4/10\n",
            "34/34 [==============================] - 22s 639ms/step - loss: 0.5501 - accuracy: 0.7776 - val_loss: 0.5756 - val_accuracy: 0.7806\n",
            "Epoch 5/10\n",
            "34/34 [==============================] - 22s 644ms/step - loss: 0.4478 - accuracy: 0.8166 - val_loss: 0.5037 - val_accuracy: 0.7848\n",
            "Epoch 6/10\n",
            "34/34 [==============================] - 22s 645ms/step - loss: 0.3402 - accuracy: 0.8811 - val_loss: 0.5195 - val_accuracy: 0.8312\n",
            "Epoch 7/10\n",
            "34/34 [==============================] - 22s 636ms/step - loss: 0.2877 - accuracy: 0.9161 - val_loss: 0.5432 - val_accuracy: 0.8017\n",
            "Epoch 8/10\n",
            "34/34 [==============================] - 22s 640ms/step - loss: 0.2490 - accuracy: 0.9016 - val_loss: 0.6978 - val_accuracy: 0.7215\n"
          ],
          "name": "stdout"
        }
      ]
    },
    {
      "cell_type": "code",
      "metadata": {
        "colab": {
          "base_uri": "https://localhost:8080/"
        },
        "id": "2BcnKMNu0C6m",
        "outputId": "03f6c4c7-b8ef-4f77-d361-3b9d773a4a41"
      },
      "source": [
        "accr = model.evaluate(X_test,Y_test)\n",
        "print('Test set\\n  Loss: {:0.3f}\\n  Accuracy: {:0.3f}'.format(accr[0],accr[1]))"
      ],
      "execution_count": 13,
      "outputs": [
        {
          "output_type": "stream",
          "text": [
            "9/9 [==============================] - 1s 55ms/step - loss: 0.8007 - accuracy: 0.6806\n",
            "Test set\n",
            "  Loss: 0.801\n",
            "  Accuracy: 0.681\n"
          ],
          "name": "stdout"
        }
      ]
    },
    {
      "cell_type": "code",
      "metadata": {
        "colab": {
          "base_uri": "https://localhost:8080/"
        },
        "id": "_VUzjg960GSJ",
        "outputId": "4b94e900-e01b-4989-9b50-e7e18fadf6a3"
      },
      "source": [
        "lyric = ['Bumpin i meant for you call my ninja like']\n",
        "seq = tokenizer.texts_to_sequences(lyric)\n",
        "padded = pad_sequences(seq, maxlen=maxlyricwords)\n",
        "pred = model.predict(padded)\n",
        "labels = ['rock', 'country', 'pop', 'rap']\n",
        "print(pred, labels[np.argmax(pred)])"
      ],
      "execution_count": 14,
      "outputs": [
        {
          "output_type": "stream",
          "text": [
            "[[9.3246537e-04 2.2743614e-03 9.0647396e-03 9.8772848e-01]] rap\n"
          ],
          "name": "stdout"
        }
      ]
    },
    {
      "cell_type": "code",
      "metadata": {
        "id": "ICFn8tcFZrV8"
      },
      "source": [
        "def classify_string(input):\n",
        "  lyric = [str(input)]\n",
        "  seq = tokenizer.texts_to_sequences(lyric)\n",
        "  padded = pad_sequences(seq, maxlen=maxlyricwords)\n",
        "  pred = model.predict(padded)\n",
        "  labels = ['rock', 'country', 'pop', 'rap']\n",
        "  print(pred, labels[np.argmax(pred)])"
      ],
      "execution_count": 15,
      "outputs": []
    },
    {
      "cell_type": "code",
      "metadata": {
        "id": "qnH2PTz6aLJQ"
      },
      "source": [
        "def classify_list(input):\n",
        "  for lyric in input:\n",
        "    classify_string(lyric)"
      ],
      "execution_count": 16,
      "outputs": []
    },
    {
      "cell_type": "code",
      "metadata": {
        "colab": {
          "base_uri": "https://localhost:8080/"
        },
        "id": "79wVWcV4ajpS",
        "outputId": "ce9184c2-7999-4d4a-eb9d-27b19b474528"
      },
      "source": [
        "# markov generated lyrics\n",
        "lyrics = ['Bumpin i meant for you call my ninja like',\n",
        " 'Biz dont take their baby mommas ninja frick you nasty boy you',\n",
        " 'Shifty sticks and pray and flee the frick all of you',\n",
        " 'Glocks but all ill die slow',\n",
        " 'Wondering if im askin blunt sip champagne range rover been outside for',\n",
        " 'And youre so take that crown two pounds you know',\n",
        " 'Publishing i thought i get witcha can i could cop',\n",
        " 'Miss the more cause you in the right one',\n",
        " 'Onyx and them hoes i love',\n",
        " 'Gat call me puff daddy biggie gots ta like',\n",
        " 'Everything around me shit b***** in ya imma stay yappin when',\n",
        " 'Hum all about fingers in the loot im',\n",
        " 'Rollem up heard whos this yeah keep on top sky is',\n",
        " 'Drunk of ninjaz from now drop to',\n",
        " 'Declinin windin like flypaper neighbor slow down',\n",
        " 'Expensive cars i tote my crew i only got enough heart',\n",
        " 'Lame dudes whos next move but the drugs to spit phrases thatll',\n",
        " 'Guy well its cool and your poop so hard to',\n",
        " 'Clap wit my life in ma little nasty boy',\n",
        " 'Dial you should too much better man played',\n",
        " 'Lali like that you frick doin all mcs have']\n",
        "\n",
        "classify_list(lyrics)"
      ],
      "execution_count": 17,
      "outputs": [
        {
          "output_type": "stream",
          "text": [
            "[[9.3246537e-04 2.2743614e-03 9.0647396e-03 9.8772848e-01]] rap\n",
            "[[5.3449156e-04 1.0384670e-03 3.6795407e-03 9.9474746e-01]] rap\n",
            "[[0.00694316 0.01209779 0.02896835 0.9519907 ]] rap\n",
            "[[0.0267585  0.03472553 0.21301189 0.7255041 ]] rap\n",
            "[[0.00766694 0.01319862 0.03287706 0.9462574 ]] rap\n",
            "[[0.0049939  0.00974889 0.03715449 0.9481027 ]] rap\n",
            "[[0.01093788 0.0181043  0.03528805 0.9356698 ]] rap\n",
            "[[0.04517562 0.05585761 0.17473097 0.72423583]] rap\n",
            "[[0.02945629 0.046281   0.1403878  0.78387487]] rap\n",
            "[[3.4327971e-04 7.7771040e-04 2.4827174e-03 9.9639636e-01]] rap\n",
            "[[0.0101559  0.01481005 0.04598096 0.92905307]] rap\n",
            "[[0.06712554 0.08645029 0.2942437  0.5521804 ]] rap\n",
            "[[0.00681905 0.00992719 0.03780306 0.9454507 ]] rap\n",
            "[[0.00834556 0.01461661 0.03983233 0.93720555]] rap\n",
            "[[0.05570104 0.06263188 0.26916897 0.61249804]] rap\n",
            "[[0.05317727 0.05466438 0.2998549  0.59230345]] rap\n",
            "[[0.00207806 0.00393879 0.00992926 0.9840539 ]] rap\n",
            "[[0.01406388 0.02029625 0.06429743 0.9013425 ]] rap\n",
            "[[0.02922251 0.03943561 0.14660981 0.78473204]] rap\n",
            "[[0.05449655 0.05235933 0.46757072 0.42557344]] pop\n",
            "[[0.00184134 0.00341558 0.00888701 0.98585606]] rap\n"
          ],
          "name": "stdout"
        }
      ]
    },
    {
      "cell_type": "code",
      "metadata": {
        "colab": {
          "base_uri": "https://localhost:8080/"
        },
        "id": "A4ZXA1XWaoyq",
        "outputId": "8170cf97-1ec1-4d06-fb6f-5d9ebfa48c4d"
      },
      "source": [
        "# lstm generated lyrics\n",
        "lyrics2 = ['in the veins hard to explain how i maintain', \n",
        "  'to put my back in the house so i can i wanna flaunt you thats right', \n",
        "  'with the grime of my ninja frick',\n",
        "  'with the ds crept in blastin him you dont want to slit the clits alot',\n",
        "  'used to lick the clits a lot of problems never be the beamer with the goldie sound',\n",
        "  'like a steelo not my steelo oh no thats not my my steelo oh i steelo not my steelo oh no',\n",
        "  'thats not my no steelo bust my no dough day but this sittin bodies not my']\n",
        "\n",
        "classify_list(lyrics2)"
      ],
      "execution_count": 18,
      "outputs": [
        {
          "output_type": "stream",
          "text": [
            "[[0.02854315 0.03963362 0.19643253 0.73539066]] rap\n",
            "[[0.00996829 0.0166299  0.03103369 0.94236815]] rap\n",
            "[[8.0073701e-04 1.9726395e-03 1.2132680e-02 9.8509395e-01]] rap\n",
            "[[0.00957072 0.016364   0.02575561 0.94830966]] rap\n",
            "[[0.00458604 0.00808106 0.0102652  0.9770677 ]] rap\n",
            "[[0.05101185 0.05620176 0.1531064  0.73967993]] rap\n",
            "[[0.00908127 0.01308981 0.04034968 0.9374792 ]] rap\n"
          ],
          "name": "stdout"
        }
      ]
    },
    {
      "cell_type": "code",
      "metadata": {
        "id": "r2rSxKGgeUbn"
      },
      "source": [
        ""
      ],
      "execution_count": null,
      "outputs": []
    }
  ]
}