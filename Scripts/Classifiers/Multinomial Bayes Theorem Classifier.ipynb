{
  "nbformat": 4,
  "nbformat_minor": 0,
  "metadata": {
    "colab": {
      "name": "Final  Final Multinomial Bayes Theorem Classifier.ipynb",
      "provenance": [],
      "collapsed_sections": []
    },
    "kernelspec": {
      "name": "python3",
      "display_name": "Python 3"
    }
  },
  "cells": [
    {
      "cell_type": "code",
      "metadata": {
        "id": "hD--jHMuoaY2"
      },
      "source": [
        "from sklearn.naive_bayes import MultinomialNB\n",
        "from sklearn.feature_extraction.text import CountVectorizer\n",
        "from sklearn.pipeline import Pipeline\n",
        "import numpy as np\n",
        "from sklearn.metrics import f1_score"
      ],
      "execution_count": 1,
      "outputs": []
    },
    {
      "cell_type": "code",
      "metadata": {
        "id": "3lNdGnLp-ZAu"
      },
      "source": [
        "# SUMMARY\n",
        "# Epochs - \n",
        "# Total training run time - \n",
        "# Training final epoch loss - \n",
        "# Training final epoch accuracy - 0.3844\n",
        "# Training final epoch val_loss - \n",
        "# Training final epoch val_accuracy - \n",
        "# Test loss - \n",
        "# Test accuracy - \n",
        "# Test accuracy - \n",
        "# Macro F1 Score - 0.3827\n",
        "# Markov generated accuracy - 0.6060\n",
        "# RNN generated accuracy - 0.5505\n",
        "# Markov syllable generated accuracy - 0.5564"
      ],
      "execution_count": 2,
      "outputs": []
    },
    {
      "cell_type": "code",
      "metadata": {
        "colab": {
          "base_uri": "https://localhost:8080/"
        },
        "id": "BKIZ2OdSpkCW",
        "outputId": "6d466e6c-3bcd-4682-82b7-9604c708b927"
      },
      "source": [
        "from google.colab import drive\n",
        "drive.mount('/content/drive')"
      ],
      "execution_count": 3,
      "outputs": [
        {
          "output_type": "stream",
          "text": [
            "Mounted at /content/drive\n"
          ],
          "name": "stdout"
        }
      ]
    },
    {
      "cell_type": "code",
      "metadata": {
        "id": "u-cT4JryxhY4"
      },
      "source": [
        "# All Rock\n",
        "rock1 = open('/content/drive/My Drive/Colab Notebooks/NewAllRock.txt', 'r').read()\n",
        "rock = ''.join([i for i in rock1 if not i.isdigit()]).replace(\"\\n\", \" \").lower().replace(\".\", \"\").replace(\"!\", \"\").replace(\"?\", \"\").replace(\",\", \"\").replace(\"\", \"\").replace(\"'\", \"\").replace(\")\", \"\").replace(\"(\", \"\").split(' ')\n",
        "# All Pop\n",
        "pop1 = open('/content/drive/My Drive/Colab Notebooks/NewAllPop.txt', 'r').read()\n",
        "pop = ''.join([i for i in pop1 if not i.isdigit()]).replace(\"\\n\", \" \").lower().replace(\".\", \"\").replace(\"!\", \"\").replace(\"?\", \"\").replace(\",\", \"\").replace(\"\", \"\").replace(\"'\", \"\").replace(\")\", \"\").replace(\"(\", \"\").split(' ')\n",
        "# All Country\n",
        "country1 = open('/content/drive/My Drive/Colab Notebooks/NewAllCountry.txt', 'r').read()\n",
        "country = ''.join([i for i in country1 if not i.isdigit()]).replace(\"\\n\", \" \").lower().replace(\".\", \"\").replace(\"!\", \"\").replace(\"?\", \"\").replace(\",\", \"\").replace(\"\", \"\").replace(\"'\", \"\").replace(\")\", \"\").replace(\"(\", \"\").split(' ')\n",
        "# All Rap\n",
        "rap1 = open('/content/drive/My Drive/Colab Notebooks/AllLyrics.txt', 'r').read()\n",
        "rap = ''.join([i for i in rap1 if not i.isdigit()]).replace(\"\\n\", \" \").lower().replace(\".\", \"\").replace(\"!\", \"\").replace(\"?\", \"\").replace(\",\", \"\").replace(\"\", \"\").replace(\"'\", \"\").replace(\")\", \"\").replace(\"(\", \"\").split(' ')"
      ],
      "execution_count": 4,
      "outputs": []
    },
    {
      "cell_type": "code",
      "metadata": {
        "colab": {
          "base_uri": "https://localhost:8080/"
        },
        "id": "lY4w_RTW0LhC",
        "outputId": "0445e6f7-c188-49f7-ae85-b24543c7a3d2"
      },
      "source": [
        "len(rock)"
      ],
      "execution_count": 5,
      "outputs": [
        {
          "output_type": "execute_result",
          "data": {
            "text/plain": [
              "89238"
            ]
          },
          "metadata": {
            "tags": []
          },
          "execution_count": 5
        }
      ]
    },
    {
      "cell_type": "code",
      "metadata": {
        "colab": {
          "base_uri": "https://localhost:8080/"
        },
        "id": "EBe_WyiB0LkH",
        "outputId": "703436b7-5ec4-457d-fc70-5afdc627cf0f"
      },
      "source": [
        "len(country)"
      ],
      "execution_count": 6,
      "outputs": [
        {
          "output_type": "execute_result",
          "data": {
            "text/plain": [
              "63911"
            ]
          },
          "metadata": {
            "tags": []
          },
          "execution_count": 6
        }
      ]
    },
    {
      "cell_type": "code",
      "metadata": {
        "colab": {
          "base_uri": "https://localhost:8080/"
        },
        "id": "CORhdZ-I0-8-",
        "outputId": "bfbadddc-3940-4d8f-d3b6-a84e02cb8644"
      },
      "source": [
        "len(pop)"
      ],
      "execution_count": 7,
      "outputs": [
        {
          "output_type": "execute_result",
          "data": {
            "text/plain": [
              "115158"
            ]
          },
          "metadata": {
            "tags": []
          },
          "execution_count": 7
        }
      ]
    },
    {
      "cell_type": "code",
      "metadata": {
        "colab": {
          "base_uri": "https://localhost:8080/"
        },
        "id": "Nj0IT2UN1Auz",
        "outputId": "4d240ae8-b574-40cc-9716-e0bfd54e5339"
      },
      "source": [
        "len(rap)"
      ],
      "execution_count": 8,
      "outputs": [
        {
          "output_type": "execute_result",
          "data": {
            "text/plain": [
              "316190"
            ]
          },
          "metadata": {
            "tags": []
          },
          "execution_count": 8
        }
      ]
    },
    {
      "cell_type": "code",
      "metadata": {
        "id": "6VhV2fTePFuQ"
      },
      "source": [
        "# create samples of 10 words each for each genre - this is our estimate length of line\n",
        "SONG_LENGTH = 10\n",
        "# Rock\n",
        "Rock = [rock[i*SONG_LENGTH:(i+1)*SONG_LENGTH] for i in range(0,int(len(rock)/int(SONG_LENGTH)))]\n",
        "# Country\n",
        "Country = [country[i*SONG_LENGTH:(i+1)*SONG_LENGTH] for i in range(0,int(len(country)/int(SONG_LENGTH)))]\n",
        "# Pop\n",
        "Pop = [pop[i*SONG_LENGTH:(i+1)*SONG_LENGTH] for i in range(0,int(len(pop)/int(SONG_LENGTH)))]\n",
        "# Rap\n",
        "Rap = [rap[i*SONG_LENGTH:(i+1)*SONG_LENGTH] for i in range(0,int(len(rap)/int(SONG_LENGTH)))]"
      ],
      "execution_count": 9,
      "outputs": []
    },
    {
      "cell_type": "code",
      "metadata": {
        "colab": {
          "base_uri": "https://localhost:8080/"
        },
        "id": "LYISWLcbPTWa",
        "outputId": "06dd37cb-d3c4-490c-f932-9e819a50c98b"
      },
      "source": [
        "len(Rock)"
      ],
      "execution_count": 10,
      "outputs": [
        {
          "output_type": "execute_result",
          "data": {
            "text/plain": [
              "8923"
            ]
          },
          "metadata": {
            "tags": []
          },
          "execution_count": 10
        }
      ]
    },
    {
      "cell_type": "code",
      "metadata": {
        "colab": {
          "base_uri": "https://localhost:8080/"
        },
        "id": "9HbD15RgPe3d",
        "outputId": "10c91cb7-5b0b-44c5-e16d-8a5f11c5364d"
      },
      "source": [
        "len(Country)"
      ],
      "execution_count": 11,
      "outputs": [
        {
          "output_type": "execute_result",
          "data": {
            "text/plain": [
              "6391"
            ]
          },
          "metadata": {
            "tags": []
          },
          "execution_count": 11
        }
      ]
    },
    {
      "cell_type": "code",
      "metadata": {
        "colab": {
          "base_uri": "https://localhost:8080/"
        },
        "id": "glEpakVHPe9w",
        "outputId": "5d824f45-fd5c-4a05-988c-4f96c40779af"
      },
      "source": [
        "len(Pop)"
      ],
      "execution_count": 12,
      "outputs": [
        {
          "output_type": "execute_result",
          "data": {
            "text/plain": [
              "11515"
            ]
          },
          "metadata": {
            "tags": []
          },
          "execution_count": 12
        }
      ]
    },
    {
      "cell_type": "code",
      "metadata": {
        "colab": {
          "base_uri": "https://localhost:8080/"
        },
        "id": "ieb3x8suPfC2",
        "outputId": "c932464b-c727-40dd-b066-0237dac0ec26"
      },
      "source": [
        "len(Rap)"
      ],
      "execution_count": 13,
      "outputs": [
        {
          "output_type": "execute_result",
          "data": {
            "text/plain": [
              "31619"
            ]
          },
          "metadata": {
            "tags": []
          },
          "execution_count": 13
        }
      ]
    },
    {
      "cell_type": "code",
      "metadata": {
        "id": "qD_K7cd9PjPz"
      },
      "source": [
        "# Limit to same amount of data to 6300 lines\n",
        "# choose every other line for training and the opposite for test\n",
        "LIMIT = 6300\n",
        "TRAIN_LENGTH = int(LIMIT*5)\n",
        "# Rock\n",
        "Train_Rock = sum(Rock[0:LIMIT:2], [])\n",
        "# Country\n",
        "Train_Country = sum(Country[0:LIMIT:2], [])\n",
        "# Pop\n",
        "Train_Pop = sum(Pop[0:LIMIT:2], [])\n",
        "# Rap\n",
        "Train_Rap = sum(Rap[0:LIMIT:2], [])\n",
        "\n",
        "# Make Test sum(data - same but every even 10 words\n",
        "# Rock\n",
        "Test_Rock = sum(Rock[1:LIMIT:2], [])\n",
        "# Country\n",
        "Test_Country = sum(Country[1:LIMIT:2], [])\n",
        "# Pop\n",
        "Test_Pop = sum(Pop[1:LIMIT:2], [])\n",
        "# Rap\n",
        "Test_Rap = sum(Rap[1:LIMIT:2], [])"
      ],
      "execution_count": 14,
      "outputs": []
    },
    {
      "cell_type": "code",
      "metadata": {
        "id": "SpiS-laZo_A_"
      },
      "source": [
        "# Train classes\n",
        "Train_classRock = ['rock']*TRAIN_LENGTH\n",
        "Train_classCountry = ['country']*TRAIN_LENGTH\n",
        "Train_classPop = ['pop']*TRAIN_LENGTH\n",
        "Train_classRap = ['rap']*TRAIN_LENGTH\n",
        "# Test classes\n",
        "Test_classRock = ['rock']*TRAIN_LENGTH\n",
        "Test_classCountry = ['country']*TRAIN_LENGTH\n",
        "Test_classPop = ['pop']*TRAIN_LENGTH\n",
        "Test_classRap = ['rap']*TRAIN_LENGTH"
      ],
      "execution_count": 15,
      "outputs": []
    },
    {
      "cell_type": "code",
      "metadata": {
        "id": "H9Nb3viS2EeH"
      },
      "source": [
        "# Combine train lyrics and classes\n",
        "Train_Vocabulary = Train_Rock+Train_Country+Train_Pop+Train_Rap\n",
        "Train_Class = Train_classRock+Train_classCountry+Train_classPop+Train_classRap\n",
        "# Combine test lyrics and classes\n",
        "Test_Vocabulary = Test_Rock+Test_Country+Test_Pop+Test_Rap\n",
        "Test_Class = Test_classRock+Test_classCountry+Test_classPop+Test_classRap"
      ],
      "execution_count": 16,
      "outputs": []
    },
    {
      "cell_type": "code",
      "metadata": {
        "colab": {
          "base_uri": "https://localhost:8080/"
        },
        "id": "vs6WSXLA2En9",
        "outputId": "db4d3bf9-09cb-4984-ba5f-1fd31de2e1c3"
      },
      "source": [
        "# just word frequency\n",
        "# countvectorizer uses simple word counts\n",
        "classifier = Pipeline([('vector', CountVectorizer()), ('classifier', MultinomialNB(alpha=0.1))]) \n",
        "# can figure out what alpha is best - info on one of the scikit links above\n",
        "\n",
        "# training - obviously need different data to train\n",
        "classifier.fit(Train_Vocabulary, Train_Class)  "
      ],
      "execution_count": 17,
      "outputs": [
        {
          "output_type": "execute_result",
          "data": {
            "text/plain": [
              "Pipeline(memory=None,\n",
              "         steps=[('vector',\n",
              "                 CountVectorizer(analyzer='word', binary=False,\n",
              "                                 decode_error='strict',\n",
              "                                 dtype=<class 'numpy.int64'>, encoding='utf-8',\n",
              "                                 input='content', lowercase=True, max_df=1.0,\n",
              "                                 max_features=None, min_df=1,\n",
              "                                 ngram_range=(1, 1), preprocessor=None,\n",
              "                                 stop_words=None, strip_accents=None,\n",
              "                                 token_pattern='(?u)\\\\b\\\\w\\\\w+\\\\b',\n",
              "                                 tokenizer=None, vocabulary=None)),\n",
              "                ('classifier',\n",
              "                 MultinomialNB(alpha=0.1, class_prior=None, fit_prior=True))],\n",
              "         verbose=False)"
            ]
          },
          "metadata": {
            "tags": []
          },
          "execution_count": 17
        }
      ]
    },
    {
      "cell_type": "code",
      "metadata": {
        "id": "JY5fJqSd2EsS",
        "colab": {
          "base_uri": "https://localhost:8080/"
        },
        "outputId": "cd8a5c61-4558-48c6-8462-575d2740bc58"
      },
      "source": [
        "# Test set\n",
        "classified = classifier.predict(Test_Vocabulary) \n",
        "np.mean(classified == Test_Class) "
      ],
      "execution_count": 18,
      "outputs": [
        {
          "output_type": "execute_result",
          "data": {
            "text/plain": [
              "0.38437301587301587"
            ]
          },
          "metadata": {
            "tags": []
          },
          "execution_count": 18
        }
      ]
    },
    {
      "cell_type": "code",
      "metadata": {
        "colab": {
          "base_uri": "https://localhost:8080/"
        },
        "id": "Wt_keAY6Bph0",
        "outputId": "71a77fd9-5d89-49ab-afbf-99a7af46da58"
      },
      "source": [
        "# Macro F1 score\n",
        "y_pred = [i for i in classifier.predict(Test_Vocabulary)]\n",
        "f1_score(Test_Class, y_pred, average='macro')"
      ],
      "execution_count": 19,
      "outputs": [
        {
          "output_type": "execute_result",
          "data": {
            "text/plain": [
              "0.38272826764313356"
            ]
          },
          "metadata": {
            "tags": []
          },
          "execution_count": 19
        }
      ]
    },
    {
      "cell_type": "code",
      "metadata": {
        "id": "PzuYiF3fBPjq"
      },
      "source": [
        "def classify_perc(input):\n",
        "  c = classifier.predict(input)\n",
        "  return [i for i in c].count('rap')"
      ],
      "execution_count": 25,
      "outputs": []
    },
    {
      "cell_type": "code",
      "metadata": {
        "id": "BpcwRk2F2E0B",
        "colab": {
          "base_uri": "https://localhost:8080/"
        },
        "outputId": "f4f637d4-4fd0-4f6d-e3b5-d9c9ce95b2e1"
      },
      "source": [
        "# markov generated lyric sample\n",
        "classifier.predict(['Bumpin i meant for you call my ninja like',\n",
        " 'Biz dont take their baby mommas ninja frick you nasty boy you',\n",
        " 'Shifty sticks and pray and flee the frick all of you',\n",
        " 'Glocks but all ill die slow',\n",
        " 'Wondering if im askin blunt sip champagne range rover been outside for',\n",
        " 'And youre so take that crown two pounds you know',\n",
        " 'Publishing i thought i get witcha can i could cop',\n",
        " 'Miss the more cause you in the right one',\n",
        " 'Onyx and them hoes i love',\n",
        " 'Gat call me puff daddy biggie gots ta like',\n",
        " 'Everything around me shit b***** in ya imma stay yappin when',\n",
        " 'Hum all about fingers in the loot im',\n",
        " 'Rollem up heard whos this yeah keep on top sky is',\n",
        " 'Drunk of ninjaz from now drop to',\n",
        " 'Declinin windin like flypaper neighbor slow down',\n",
        " 'Expensive cars i tote my crew i only got enough heart',\n",
        " 'Lame dudes whos next move but the drugs to spit phrases thatll',\n",
        " 'Guy well its cool and your poop so hard to',\n",
        " 'Clap wit my life in ma little nasty boy',\n",
        " 'Dial you should too much better man played',\n",
        " 'Lali like that you frick doin all mcs have'])"
      ],
      "execution_count": 21,
      "outputs": [
        {
          "output_type": "execute_result",
          "data": {
            "text/plain": [
              "array(['rap', 'rap', 'rap', 'pop', 'rap', 'pop', 'rap', 'rock', 'rap',\n",
              "       'rap', 'rap', 'country', 'rap', 'rap', 'rap', 'rap', 'rap', 'rock',\n",
              "       'rap', 'rap', 'rap'], dtype='<U7')"
            ]
          },
          "metadata": {
            "tags": []
          },
          "execution_count": 21
        }
      ]
    },
    {
      "cell_type": "code",
      "metadata": {
        "id": "0CPJdna6Ctje",
        "colab": {
          "base_uri": "https://localhost:8080/"
        },
        "outputId": "a5d1a016-40db-4904-a66b-4f79fceedaa3"
      },
      "source": [
        "# RNN generated lyric sample\n",
        "classifier.predict(['in the veins hard to explain how i maintain', \n",
        "                    'to put my back in the house so i can i wanna flaunt you thats right', \n",
        "                    'with the grime of my ninja frick',\n",
        "                    'with the ds crept in blastin him you dont want to slit the clits alot',\n",
        "                    'used to lick the clits a lot of problems never be the beamer with the goldie sound',\n",
        "                    'like a steelo not my steelo oh no thats not my my steelo oh i steelo not my steelo oh no',\n",
        "                    'thats not my no steelo bust my no dough day but this sittin bodies not my'])"
      ],
      "execution_count": 22,
      "outputs": [
        {
          "output_type": "execute_result",
          "data": {
            "text/plain": [
              "array(['country', 'pop', 'rap', 'country', 'country', 'pop', 'rap'],\n",
              "      dtype='<U7')"
            ]
          },
          "metadata": {
            "tags": []
          },
          "execution_count": 22
        }
      ]
    },
    {
      "cell_type": "code",
      "metadata": {
        "id": "JBrytHnA7-ok"
      },
      "source": [
        "# Our two tests for Markov generated and RNN generated lyrics are below - each 400 lines worth\n",
        "# Lyrics included so that they can be seen"
      ],
      "execution_count": 23,
      "outputs": []
    },
    {
      "cell_type": "code",
      "metadata": {
        "colab": {
          "base_uri": "https://localhost:8080/"
        },
        "id": "TL0YZez2-z6L",
        "outputId": "cce47a59-9fe3-44cf-ba73-d76d3980e648"
      },
      "source": [
        "# Markov\n",
        "markov_lyrics = ['Come here sit on a spot up out with em',\n",
        " 'Put the game ninja cause please believe it was way',\n",
        " 'Brought the golf hat the one eight seven kidnaps and',\n",
        " 'Guns  yall a read yall a gangsta bedtime story',\n",
        " 'You better have you need a gangsta bedtime story by',\n",
        " 'Ever slapped a gangsta bedtime story  great scotts its',\n",
        " 'Here sit on a kit kat  great scotts its',\n",
        " 'Bedtime story by saying goodnight  yall get em frick',\n",
        " 'Upon a trip up in town my ninja even if',\n",
        " 'Do my ninja caught up on a trip up to',\n",
        " 'All the downlow oh once upon a trip up on',\n",
        " 'Do nothing to get a gangsta bedtime story  yall',\n",
        " 'Grease strikes you need a gangsta bedtime story  and',\n",
        " 'To stay on some traffic behind some traffic behind some',\n",
        " 'Can ride on some traffic behind some traffic behind some',\n",
        " 'What time it was way to him cause please believe',\n",
        " 'Couldnt do my lap  to him cause please believe',\n",
        " 'S-n double o-p fa sho i had to real i',\n",
        " 'Gotta end this muthafricka cuz i had to real i',\n",
        " 'In the women stayed true to get your b***** aint',\n",
        " 'Chest he was we got thugs cons drugs and i',\n",
        " 'Your sack and jacks i gotta end this story ',\n",
        " 'Stick ninja and then i gotta end this story ',\n",
        " 'Ride on deck so i ran up in his hands',\n",
        " 'Eatin on deck so i ran up in his hands',\n",
        " 'Spot up in his hands in this ninja and this',\n",
        " 'End this story by saying goodnight  and jacks i',\n",
        " 'Thugs cons drugs and your grip or better yet strapped',\n",
        " 'Brought snaps to mack your grip or better yet strapped',\n",
        " 'Today he ran up in some traffic behind some hood',\n",
        " 'Muthafrickin vietnam vet riding on some traffic behind some hood',\n",
        " 'Kids looked up in some ninjas for heater  could',\n",
        " 'From the one eight seven kidnaps and doves have you',\n",
        " 'Vet riding on this ninja im that ninja raps to',\n",
        " 'Way to the little homie hit that ninja raps to',\n",
        " 'Drop you read us a bedtime story by saying goodnight',\n",
        " 'Strikes you need a bedtime story by saying goodnight ',\n",
        " 'Sack before i shot him because he tried to do',\n",
        " 'Sack before i do my ninja even if we cool',\n",
        " 'Its hot anybody can go down my ash tray get',\n",
        " 'Sho i brought snaps to do my ash tray get',\n",
        " 'Slapped a steak eatin on this ninja even if we',\n",
        " 'Women stayed true to stay on this ninja even dimes',\n",
        " 'Homie hit that big rap name ninja caught up on',\n",
        " 'Floor with me we claiming everything ninja caught up to',\n",
        " 'One eight seven kidnaps and go get back and your',\n",
        " 'Skandelous raps to the black poker sack and your b*****',\n",
        " 'Brought the dpg and jacks i came out  yall',\n",
        " 'Stranger to him but i gotta end this skandelous raps',\n",
        " 'Danger aint no stranger to him cause hes like me',\n",
        " 'Vietnam vet riding on this ninja cause hes like me',\n",
        " 'Stainless steel and guns  okay check it was wearing',\n",
        " 'Lighter  and doves have a time it was wearing',\n",
        " 'Show these ninjas for a clip  okay check it',\n",
        " 'Whassup  and guns  alright  okay check it',\n",
        " 'Have you need a kit kat  come here sit',\n",
        " 'Frick em lets go get back  come here sit',\n",
        " 'Cut throat on the curl back and jacks i brought',\n",
        " 'Thugs cons drugs and this ninja and jacks i brought',\n",
        " 'Who brought the black poker sack before i gotta end',\n",
        " 'True to the black poker sack before i gotta end',\n",
        " 'Didnt care peck he ran up on deck so fly',\n",
        " 'Dont know why but i ran up on deck so',\n",
        " 'Cool with his vision gettin blurry but hes like a',\n",
        " 'Rat grease strikes you need a ninja even dimes and',\n",
        " 'Cuz i came out with em frick em lets go',\n",
        " 'Tray get back and all the game like me to',\n",
        " 'Cuz i shot him because he ran up on the',\n",
        " 'Vision gettin hot today he ran up on the lbc',\n",
        " 'Could get a b***** aint no get my ninja s-n',\n",
        " 'Stayed true to him in his hands in some ninjas',\n",
        " 'Or better yet strapped a stick ninja caught up to',\n",
        " 'Need a read yall a stick ninja caught up to',\n",
        " 'Me lets go get my ninja like a bedtime story',\n",
        " 'Og from the lbc there lived a bedtime story by',\n",
        " 'Town my ash tray get my ninja and all the',\n",
        " 'Here sit back wishing for that ninja and all they',\n",
        " 'Eatin on him in his hands in his hands in',\n",
        " 'Skandelous raps the golf hat the air his hands in',\n",
        " 'Pat your grip or better have a muthafrickin vietnam vet',\n",
        " 'Your grip or better yet strapped a muthafrickin vietnam vet',\n",
        " 'Before i shot him all even dimes and this ninja',\n",
        " 'Lap  to him cause hes like a stick ninja',\n",
        " 'Because he fell to do my set no stranger to',\n",
        " 'Air his hands in town my set no stranger to',\n",
        " 'Brought the air his chest he was way to do',\n",
        " 'Shot him in his chest he was way to do',\n",
        " 'Smack for that im that sit on this story by',\n",
        " 'Ash tray get a steak eatin on this story ',\n",
        " 'That sit back  okay check it it it was',\n",
        " 'Riding on some ninjas for a time in this ninja',\n",
        " 'Em lets go get a gangsta bedtime story  okay',\n",
        " 'Ran up to him police tried to do my lap',\n",
        " 'Story  and i turn around and the downlow oh',\n",
        " 'Stainless steel and your b***** aint poop the downlow oh',\n",
        " 'Stay on the little kids looked up on the hood',\n",
        " 'This ninja who brought snaps to him in some hood',\n",
        " 'Saying goodnight  could you read us a trip up',\n",
        " 'Wearing slack i do my ninja like a trip up',\n",
        " 'Poop the game ninja who brought the dpg and guns',\n",
        " 'Dont know why but you better have you read us',\n",
        " 'Cut throat on the ride down my lap  okay',\n",
        " 'No warning shots on some hood gettin hot anybody can',\n",
        " 'Better yet strapped a time in his hands in the',\n",
        " 'Tried to the floor with his hands in the dpg',\n",
        " 'Great scotts its hot today he ran up with me',\n",
        " 'Great scotts its hot today he ran up in the',\n",
        " 'Warning shots on the afro back and snatch your back',\n",
        " 'Og from the afro back  and pat your sack',\n",
        " 'Wearing slack i shot him because he was wearing slack',\n",
        " 'Warning shots on this ninja you ever slapped a ninja',\n",
        " 'Hated on some hood gettin blurry but i brought the',\n",
        " 'Wearing slack i dont know why but i brought the',\n",
        " 'Who brought snaps to show these ninjas what time in',\n",
        " 'So i had to show these ninjas what time it',\n",
        " 'His hands in the little kids looked up out of',\n",
        " 'Dpg and the little kids looked up out  to',\n",
        " 'For heater  great scotts its hot today he fell',\n",
        " 'Kat  and the hood gettin hot today he fell',\n",
        " 'Like stainless steel and i didnt care peck he tried',\n",
        " 'On this muthafricka cuz i didnt care peck he tried',\n",
        " 'Whassup whassup  yall a clip  we cool with',\n",
        " 'At all the air his hands in the floor with',\n",
        " 'Claiming everything ninja disrepectin my ninja disrepectin my lap ',\n",
        " 'Riding on this ninja disrepectin my ninja disrepectin my lap',\n",
        " 'Of g two seater you out  we can drop',\n",
        " 'Heater  we can drop you could get a spot',\n",
        " 'Shot him in his neck shooting like that im a',\n",
        " 'Trip up in his neck shooting like that im a',\n",
        " 'Tried to mack your game ninja cause hes like stainless',\n",
        " 'Millimeter for that young ninja even if we can ride',\n",
        " 'Raps the little kids looked up on deck so fly',\n",
        " 'Could you better have a trip up on deck so',\n",
        " 'Just so i do him in town my thang way',\n",
        " 'Have a muthafrickin vietnam vet riding on my ash tray',\n",
        " 'Him all the floor with em lbc there lived a',\n",
        " 'Before i ran up with em lbc there lived a',\n",
        " 'Goodnight  and jacks i ran up in this ninja',\n",
        " 'Me lets go get a spot up in this ninja',\n",
        " 'Danger aint poop the afro back wishing for that young',\n",
        " 'Neck shooting like that sit back wishing for that young',\n",
        " 'At all the afro back wishing for that young ninja',\n",
        " 'Shots on a muthafrickin nine millimeter for that young ninja',\n",
        " 'Wishing for nuthin at all they hated on deck so',\n",
        " 'Young ninja and all they hated on deck so fly',\n",
        " 'Vet riding on a time in the game ninja you',\n",
        " 'Got thugs cons drugs and put the game ninja you',\n",
        " 'Riding on this story by saying goodnight  great scotts',\n",
        " 'Eatin on this story by saying goodnight  great scotts',\n",
        " 'Even dimes and then i came out of g two',\n",
        " 'Aint no get a trip up out of g two',\n",
        " 'It can go get a steak eatin on this ninja',\n",
        " 'Check it out  come here sit on this ninja',\n",
        " 'Why but couldnt do him but hes like me we',\n",
        " 'Here sit on this ninja cause hes like me lets',\n",
        " 'Bedtime story  to the golf hat the women stayed',\n",
        " 'The afro back  to him all the women stayed',\n",
        " 'Know why but i had to the ride down out',\n",
        " 'There lived a b***** aint poop the ride down out',\n",
        " 'Stranger to a clip  and then i ran up',\n",
        " 'Shot him all even dimes and then i ran up',\n",
        " 'Who brought the little kids looked up out ninjas what',\n",
        " 'Back wishing for heater  could you out ninjas was',\n",
        " 'Turn around and guns  okay check it out of',\n",
        " 'Wishing for a clip  okay check it out of',\n",
        " 'Fa sho i ran up on this muthafricka cuz i',\n",
        " 'Floor with no warning shots on this muthafricka cuz i',\n",
        " 'Eight seven kidnaps and snatch your sack and all they',\n",
        " 'Turn around and snatch your back  and all the',\n",
        " 'True to the curl back  im a ninja s-n',\n",
        " 'Vision gettin hot today he was wearing slack i had',\n",
        " 'Today he fell to him cause please believe it was',\n",
        " 'Vietnam vet riding on him cause please believe it can',\n",
        " 'B***** aint no warning shots on the little kids looked',\n",
        " 'Police tried to a og from the little kids looked',\n",
        " 'Brought the little homie hit that ninja raps the lbc',\n",
        " 'Stay on the little homie hit that big rap name',\n",
        " 'On a og from the game ninja and snatch your',\n",
        " 'Golf hat the one eight seven kidnaps and pat your',\n",
        " 'Could you need a time in his chest he fell',\n",
        " 'Sit on the air his neck shooting like me lets',\n",
        " 'End this ninja and your grip or better yet strapped',\n",
        " 'Afro back and snatch your grip or better yet strapped',\n",
        " 'Know why but you need a smack for that im',\n",
        " 'We cool with no get a smack for that big',\n",
        " 'Fell to the one eight seven kidnaps and then i',\n",
        " 'Cons drugs and all the curl back and then i',\n",
        " 'Can drop you out of g two seater you could',\n",
        " 'Time it out of g two seater you out ',\n",
        " 'Turn around and jacks i came out  okay check',\n",
        " 'Down out  and go down out  okay check',\n",
        " 'These ninjas what time in town my set no get',\n",
        " 'Cons drugs and snatch your b***** aint poop the one',\n",
        " 'Riding on my ninja and put the women stayed true',\n",
        " 'Got thugs cons drugs and put the women stayed true',\n",
        " 'Ever slapped a muthafrickin vietnam vet riding on a kit',\n",
        " 'Ever slapped a muthafrickin vietnam vet riding on a clip',\n",
        " 'Before i turn around and your grip or better yet',\n",
        " 'Because he fell to mack your grip or better yet',\n",
        " 'Your game like a read yall a kit kat ',\n",
        " 'Oh once upon a read yall a kit kat ',\n",
        " 'He ran up out with me lets go down my',\n",
        " 'Steel and doves have you out with me we cool',\n",
        " 'Real i shot him in his neck shooting like stainless',\n",
        " 'Thang way to the air his neck shooting like stainless',\n",
        " 'Lbc there lived a gangsta bedtime story  okay check',\n",
        " 'Curl back  im a bedtime story  okay check',\n",
        " 'Show these ninjas what time it can ride down my',\n",
        " 'Clip  im a time it can ride down my',\n",
        " 'Cons drugs and then i gotta end this muthafricka cuz',\n",
        " 'Even dimes and jacks i gotta end this muthafricka cuz',\n",
        " 'Like stainless steel and all the black poker sack and',\n",
        " 'Homie hit that ninja raps the black poker sack and',\n",
        " 'Doves have a og from the black poker sack and',\n",
        " 'Wearing slack i had to the black poker sack and',\n",
        " 'Turn around and go see take a b***** aint no',\n",
        " 'Muthafricka cuz i brought the dpg and jacks i do',\n",
        " 'Og from the game ninja you need a og from',\n",
        " 'Snaps to the game ninja you need a og from',\n",
        " 'Go down out ninjas was wearing slack i didnt care',\n",
        " 'In the women stayed true to real i didnt care',\n",
        " 'Afro back  we cool with his chest he tried',\n",
        " 'Sack before i do him in his chest he tried',\n",
        " 'Blurry but you read us a read yall get back',\n",
        " 'See take a smack for a read yall get a',\n",
        " 'Snatch your game ninja im that young ninja who brought',\n",
        " 'A muthafrickin nine millimeter for that young ninja who brought',\n",
        " 'They hated on some traffic behind some ninjas was wearing',\n",
        " 'Vet riding on some traffic behind some ninjas was wearing',\n",
        " 'Floor with me we claiming everything ninja caught up in',\n",
        " 'Young ninja im that im that ninja caught up with',\n",
        " 'Behind some traffic behind some ninjas what time it it',\n",
        " 'Stayed true to show these ninjas what time it it',\n",
        " 'Disrepectin my ash tray get em lets go down out',\n",
        " 'Steel and this story  and go down out ',\n",
        " ' to do him all even if we got thugs',\n",
        " 'That big rap name ninja even if we got thugs',\n",
        " 'Kidnaps and all the floor with em lets go get',\n",
        " 'The floor with his neck shooting like me to the',\n",
        " 'Cool with no get my ninja like me to him',\n",
        " 'Dont know i didnt care peck he fell to him',\n",
        " 'Kit kat  okay check it was we cool with',\n",
        " 'Heater  okay check it it was we cool with',\n",
        " 'Dimes and i shot him police tried to the little',\n",
        " 'Know i shot him because he fell to the little',\n",
        " 'On this story  and pat your grip or better',\n",
        " 'Name ninja even dimes and snatch your grip or better',\n",
        " 'Came out of bullets so fly but you could get',\n",
        " 'Pat your grip or better have you out of bullets',\n",
        " 'Me lets go get your back and put the ride',\n",
        " 'Clip  yall get back  and put the little',\n",
        " 'From the golf hat the curl back and your b*****',\n",
        " 'One eight seven kidnaps and guns  and pat your',\n",
        " 'To the dpg and doves have you could you could',\n",
        " 'Disrepectin my lighter  could you know why but you',\n",
        " 'By saying goodnight  and guns  we cool with',\n",
        " 'Game ninja raps to real i brought the floor with',\n",
        " 'Didnt care peck he ran up with me lets go',\n",
        " 'We claiming everything ninja caught up with me we got',\n",
        " 'Curl back and all they hated on deck so i',\n",
        " 'Wearing slack i brought the ride on deck so i',\n",
        " 'Fly but couldnt do him because he was we can',\n",
        " 'Women stayed true to him but you need a steak',\n",
        " 'Its hot anybody can go get my ninja like me',\n",
        " 'Cuz i shot him in the game ninja like me',\n",
        " 'Aint no get a steak eatin on deck so i',\n",
        " 'Strikes you need a steak eatin on deck so i',\n",
        " 'Can go see take a og from the air his',\n",
        " 'Kat  could get a bedtime story  we claiming',\n",
        " 'Fly but couldnt do my lighter  alright  okay',\n",
        " 'Game ninja disrepectin my ninja like that sit on a',\n",
        " 'Throat on a stick ninja like a time it was',\n",
        " 'Ninja disrepectin my ash tray get a time it was',\n",
        " 'Take a og from the little kids looked up out',\n",
        " 'Afro back and put the little kids looked up out',\n",
        " 'B***** to the curl back and jacks i gotta end',\n",
        " 'Can drop you ever slapped a b***** aint no stranger',\n",
        " 'Thang way to stay on my set no get a',\n",
        " 'Why but couldnt do my set no get my lap',\n",
        " 'Poop the golf hat the golf hat the floor with',\n",
        " 'Around and i brought the golf hat the floor with',\n",
        " 'Came out with me lets go get back wishing for',\n",
        " 'Yet strapped a spot up to get back wishing for',\n",
        " 'Gotta end this muthafricka cuz i brought the ride down',\n",
        " 'Town my lap  and put the ride down my',\n",
        " 'Great scotts its hot anybody can go get a clip',\n",
        " 'Snatch your back  and go get a clip ',\n",
        " 'From the downlow oh once upon a og from the',\n",
        " 'Because he ran up to a og from the lbc',\n",
        " 'Stay on deck so fly but i brought the game',\n",
        " 'Real i dont know why but i brought the game',\n",
        " 'Kidnaps and snatch your game like that young ninja like',\n",
        " 'Mack your grip or better yet strapped a ninja like',\n",
        " 'Shots on this skandelous raps the lbc there lived a',\n",
        " 'Ride down my ninja raps the lbc there lived a',\n",
        " 'Golf hat the afro back and all even if we',\n",
        " 'Hands in town my lap  and all even dimes',\n",
        " 'At all the game ninja dip with em frick em',\n",
        " 'Didnt care peck he tried to him in the little',\n",
        " 'Aint no warning shots on some ninjas what time in',\n",
        " 'Set no warning shots on some ninjas what time it',\n",
        " 'S-n double o-p fa sho i shot him but hes',\n",
        " 'S-n double o-p fa sho i shot him but hes',\n",
        " 'Have you better yet strapped a og from the afro',\n",
        " 'Us a spot up to a og from the afro',\n",
        " 'Claiming everything ninja disrepectin my thang way to the dpg',\n",
        " 'Kit kat  come here sit back and go get',\n",
        " 'Tray get my lighter  and all the afro back',\n",
        " 'Snatch your grip or better have a b***** to a',\n",
        " 'Here sit on my set no stranger to stay on',\n",
        " 'Vet riding on my ninja s-n double o-p fa sho',\n",
        " 'There lived a spot up on the curl back and',\n",
        " 'My set no warning shots on the curl back and',\n",
        " 'Hood rat grease strikes you read us a time in',\n",
        " 'I shot him in some traffic behind some traffic behind',\n",
        " 'Throat on the afro back and pat your sack before',\n",
        " 'Who brought the afro back and pat your sack before',\n",
        " 'And i gotta end this ninja s-n double o-p fa',\n",
        " 'Sit on him in this ninja s-n double o-p fa',\n",
        " 'Cut throat on this story  alright alright alright alright',\n",
        " 'Steel and guns  alright alright alright alright alright ',\n",
        " 'So i ran up in this ninja im a ninja',\n",
        " 'Ninjas what time in this ninja im that im a',\n",
        " 'Check it out of g two seater you ever slapped',\n",
        " 'Looked up out of g two seater you ever slapped',\n",
        " 'Ran up out of g two seater you know i',\n",
        " 'Drop you out of g two seater you know i',\n",
        " 'And snatch your b***** aint poop the little homie hit',\n",
        " 'Kat  yall a og from the little homie hit',\n",
        " 'Everything ninja dip with me we got thugs cons drugs',\n",
        " 'Jacks i came out of bullets so fly but you',\n",
        " 'Skandelous raps to him but couldnt do him because he',\n",
        " 'Gotta end this story  to do him because he',\n",
        " 'Tray get a clip  im that ninja raps the',\n",
        " 'Yet strapped a clip  im that big rap name',\n",
        " 'Show these ninjas for nuthin at all the one eight',\n",
        " 'Hat the black poker sack and all the one eight',\n",
        " 'Whassup  alright alright  and go get my ninja',\n",
        " 'At all the lbc in some traffic behind some ninjas',\n",
        " 'Had to stay on a bedtime story  we got',\n",
        " 'Had to real i brought the ride on deck so',\n",
        " 'Homie hit that sit on my ninja who brought the',\n",
        " 'Just so i brought the game ninja who brought the',\n",
        " 'Seater you read yall a trip up with his neck',\n",
        " 'Aint poop the little kids looked up in his chest',\n",
        " 'Spot up out of bullets so fly but couldnt do',\n",
        " 'Traffic behind some hood rat grease strikes you out of',\n",
        " 'But couldnt do nothing to him in some ninjas what',\n",
        " 'Behind some traffic behind some traffic behind some ninjas what',\n",
        " 'Game ninja im that big rap name ninja disrepectin my',\n",
        " 'Young ninja im that big rap name ninja disrepectin my',\n",
        " 'O whassup whassup  im that im that sit on',\n",
        " 'From the little homie hit that im that sit on',\n",
        " 'Millimeter for nuthin at all they hated on the dpg',\n",
        " 'Young ninja even dimes and all they hated on the',\n",
        " 'Oh once upon a b***** to him in town my',\n",
        " 'Big rap name ninja raps to him in town my',\n",
        " 'Us a ninja s-n double o-p fa sho i ran',\n",
        " 'Take a ninja s-n double o-p fa sho i ran',\n",
        " 'Tray get my thang way to stay on some hood',\n",
        " 'Because he ran up to danger aint poop the downlow',\n",
        " 'Town my thang way to the dpg and the air',\n",
        " 'Stay on the curl back and doves have a trip',\n",
        " 'Take a clip  yall get a ninja dip with',\n",
        " 'Jacks i came out ninjas was wearing slack i didnt',\n",
        " 'Lap  yall a time in the game like stainless',\n",
        " 'Shots on my ninja who brought the game like stainless',\n",
        " 'Rap name ninja disrepectin my set no get your back',\n",
        " 'His neck shooting like me lets go get your sack',\n",
        " 'Kids looked up in town my lighter  could you',\n",
        " 'Looked up in some hood rat grease strikes you out',\n",
        " 'Eatin on a muthafrickin vietnam vet riding on the downlow',\n",
        " 'Once upon a muthafrickin vietnam vet riding on the downlow',\n",
        " 'Jacks i brought the women stayed true to him because',\n",
        " 'His hands in his chest he tried to him because',\n",
        " 'Air his chest he ran up with his neck shooting',\n",
        " 'Lighter  yall a trip up in his neck shooting',\n",
        " 'Doves have you ever slapped a muthafrickin nine millimeter for',\n",
        " 'Fly but you better have a muthafrickin nine millimeter for',\n",
        " 'Stainless steel and jacks i had to him because he',\n",
        " 'Warning shots on this skandelous raps to him because he',\n",
        " 'Have a steak eatin on some traffic behind some ninjas',\n",
        " 'Stayed true to real i ran up in some ninjas',\n",
        " 'To mack your b***** aint poop the lbc in town',\n",
        " 'Warning shots on some traffic behind some hood gettin hot',\n",
        " 'Like stainless steel and snatch your back wishing for heater',\n",
        " 'Thugs cons drugs and pat your back wishing for heater',\n",
        " 'Slapped a og from the ride down out of g',\n",
        " 'Thang way cut throat on the ride down out of',\n",
        " 'Snatch your back  could you know i shot him',\n",
        " 'Some hood gettin blurry but you know i shot him',\n",
        " 'Hood gettin hot anybody can drop you know why but',\n",
        " 'Around and all even if we can drop you could',\n",
        " 'Skandelous raps the ride down my set no get a',\n",
        " 'Everything ninja dip with me lets go get a b*****',\n",
        " 'Story  im a muthafrickin nine millimeter for a kit',\n",
        " 'To do my ash tray get my set no warning',\n",
        " 'Real i shot him in the floor with em lets',\n",
        " 'Claiming everything ninja even if we cool with me lets',\n",
        " 'Brought snaps to him because he fell to him police',\n",
        " 'Sack and i shot him police tried to him police']\n",
        "\n",
        "classify_perc(markov_lyrics)"
      ],
      "execution_count": 26,
      "outputs": [
        {
          "output_type": "execute_result",
          "data": {
            "text/plain": [
              "243"
            ]
          },
          "metadata": {
            "tags": []
          },
          "execution_count": 26
        }
      ]
    },
    {
      "cell_type": "code",
      "metadata": {
        "colab": {
          "base_uri": "https://localhost:8080/"
        },
        "id": "b0KKgf1vTQLK",
        "outputId": "325a8353-a500-46e8-90b2-25948c672fe7"
      },
      "source": [
        "len(markov_lyrics)"
      ],
      "execution_count": 27,
      "outputs": [
        {
          "output_type": "execute_result",
          "data": {
            "text/plain": [
              "401"
            ]
          },
          "metadata": {
            "tags": []
          },
          "execution_count": 27
        }
      ]
    },
    {
      "cell_type": "code",
      "metadata": {
        "colab": {
          "base_uri": "https://localhost:8080/"
        },
        "id": "rZ0T6dqFTSkx",
        "outputId": "fa9cb5f4-a134-476c-a1a5-50080ddb11c5"
      },
      "source": [
        "243/401"
      ],
      "execution_count": 28,
      "outputs": [
        {
          "output_type": "execute_result",
          "data": {
            "text/plain": [
              "0.6059850374064838"
            ]
          },
          "metadata": {
            "tags": []
          },
          "execution_count": 28
        }
      ]
    },
    {
      "cell_type": "code",
      "metadata": {
        "colab": {
          "base_uri": "https://localhost:8080/"
        },
        "id": "Ho8QdjpT-0A1",
        "outputId": "a0be763f-d02d-431e-f575-e6107cacdc7e"
      },
      "source": [
        "# RNN\n",
        "RNN_lyrics = ['And i got to split ya',\n",
        "'Then i get witcha can i get witcha',\n",
        "'To all my queensbridge nixgas nixgas',\n",
        "'Im a bad bad boy',\n",
        "'When i was young in the gray uhhuh',\n",
        "'Also known as your cherry they been through the waist',\n",
        "'Now i dont know what they want from me',\n",
        "'You nasty boy you nasty',\n",
        "'I got the funk flow to make your drawers drop slow',\n",
        "'What you want nixga what you what you want nixga',\n",
        "'Lyin to pray for my downfall',\n",
        "'Yes i got a gun on you',\n",
        "'Get high get high get high',\n",
        "'Call me evil at my bridge',\n",
        "'But i dont care what nobody say',\n",
        "'I got the funk flow to make your drawers drop slow',\n",
        "'Smith you know what they want from me',\n",
        "'frickin sayin',\n",
        "'When i was young in the gray uhhuh',\n",
        "'Jazze you get to get the new d*ck,'\n",
        "'And i got to split ya',\n",
        "'It aint no one but i got a d*ck and puffed me',\n",
        "'And i got to split ya',\n",
        "'Thats the nixga size in these karl kani jeans',\n",
        "'Smoke a stone eggs and wednesdays',\n",
        "'Off the hands high like youse a true player',\n",
        "'Youre dead wrong',\n",
        "'A notorious big',\n",
        "'Biggie smalls the rap phenomenon',\n",
        "'Drunk by a daily crackin',\n",
        "'See i dont know what they want from me',\n",
        "'I got the funk flow to make your drawers drop slow',\n",
        "'Cause i get witcha can i get witcha',\n",
        "'But i dont care what nobody say',\n",
        "'I got the funk flow to make your drawers drop slow',\n",
        "'Keep on pressin on',\n",
        "'If you got a gun in your waist please dont shoot up the place',\n",
        "'Beef is when your moms is poppa',\n",
        "'Can i get witcha can i get witcha',\n",
        "'To all my queensbridge nixgas nixgas',\n",
        "'As i kiss your bum goodnight',\n",
        "'As i kiss your bum goodnight',\n",
        "'You nasty boy you nasty',\n",
        "'Squeeze your clip hit the right one pass that sandwhiches i got to light one',\n",
        "'Is the bad bad boy',\n",
        "'Stepped to police when i proceed',\n",
        "'Look at the streets to the phone to the door',\n",
        "'Televisions believable believable believable',\n",
        "'Verse the more money we come across',\n",
        "'And i got to split ya',\n",
        "'If you got a gun in your waist please dont shoot up the place',\n",
        "'All the ladies if you hear me',\n",
        "'What you want nixga what you what you want nixga',\n",
        "'All the ladies if you hear me',\n",
        "'Meshed on the bronx back to cali cali going back to cali',\n",
        "'When i was young in the gray uhhuh',\n",
        "'You nasty boy you nasty',\n",
        "'Sex is all i get witcha can i get witcha',\n",
        "'Matter of fact Im sick of blue',\n",
        "'Sixtynine code',\n",
        "'Ya aint no dough and squeeze and Im sniff me',\n",
        "'Jm motherfrickers',\n",
        "'Nobody gotta die',\n",
        "'To all my queensbridge nixgas nixgas',\n",
        "'Word to be over new york',\n",
        "'Im a bad bad boy',\n",
        "'My notorious big',\n",
        "'Michelle i dont get witcha can i get witcha',\n",
        "'You nasty boy you nasty',\n",
        "'One in the chamber the streets that',\n",
        "'And i got to split ya',\n",
        "'Rubberband d havin nightmares of a melon of frickin',\n",
        "'The weak or the strong who got it goin on',\n",
        "'Make the cherokee to the frick to the d*ck',\n",
        "'Time to be a worthless kid she damage and check it',\n",
        "'I got the funk flow to make your drawers drop slow',\n",
        "'All the ladies if you hear me',\n",
        "'frickin sayin',\n",
        "'Who rock around my d*ck than the waist please dont shoot to the thriller',\n",
        "'What you want nixga what you what you want nixga',\n",
        "'Its bone and biggie biggie',\n",
        "'Just bone and biggie biggie',\n",
        "'I got the funk flow to make your drawers drop slow',\n",
        "'Nixga please be cool but they know we go',\n",
        "'Sometimes your words just hypnotize me',\n",
        "'Beef is when your moms is poppa',\n",
        "'Im a bad bad boy',\n",
        "'To all my queensbridge nixgas nixgas',\n",
        "'I got the funk flow to make your drawers drop slow',\n",
        "'You nasty boy you nasty',\n",
        "'Smokin blunts in your passenger dream',\n",
        "'Way it to the frick to the d*ck',\n",
        "'Everything you be styling on you',\n",
        "'Pull the gstring in your bed',\n",
        "'Bought the cherokee to the crib unless they bonin',\n",
        "'Still tote a purpose on the bladder and gentlemen with these elevated world',\n",
        "'Only i get witcha can i get witcha',\n",
        "'Why you wanna get with me',\n",
        "'Gats and pray for my downfall',\n",
        "'Dont stop Im not finished yet',\n",
        "'Slugs missed ya',\n",
        "'I got the funk flow to make your drawers drop slow',\n",
        "'You nasty boy you nasty',\n",
        "'Before i get witcha can i get witcha',\n",
        "'Get high get high get high',\n",
        "'Gettin physical like olivia newt',\n",
        "'I got the funk flow to make your drawers drop slow',\n",
        "'Damagin i release the cherry they been through the floor',\n",
        "'Hah i got the funk flow to make your drawers drop slow',\n",
        "'Das the more problems we see i dont know what they want from me',\n",
        "'Nixgas aint got a gun up in your waist please dont shoot up the place',\n",
        "'I got the funk flow to make your drawers drop slow',\n",
        "'You nasty boy you nasty',\n",
        "'Guess thats why they broke and youre so paid uh biggie biggie uhhuh',\n",
        "'For the mac in the ac d*ck',\n",
        "'Cause i get witcha can i get witcha',\n",
        "'Im a bad bad boy',\n",
        "'Gimme the loot gimme the loot',\n",
        "'Id probably do real things',\n",
        "'Beef is when your moms is poppa',\n",
        "'Sky is the limit and you know that you can have',\n",
        "'Turn it to die with the wall to me',\n",
        "'It aint no one but i got a d*ck and puffed me',\n",
        "'Rip in the mac of the house of paradise',\n",
        "'I got the funk flow to make your drawers drop slow',\n",
        "'I got the funk flow to make your drawers drop slow',\n",
        "'Even all my bronx nixgas nixgas',\n",
        "'Im a bad bad boy',\n",
        "'Im a bad bad boy',\n",
        "'Lunches bone and biggie biggie',\n",
        "'Why you wanna get with me',\n",
        "'For the mac in the ac d*ck',\n",
        "'We dont get witcha can i get witcha',\n",
        "'Buy the nixga chic we get witcha can i get witcha',\n",
        "'I got the funk flow to make your drawers drop slow',\n",
        "'Im a bad bad boy',\n",
        "'Dont stop Im not finished yet',\n",
        "'I got the funk flow to make your drawers drop slow',\n",
        "'At the mariott we go to give me what you need',\n",
        "'Nixga please be cool but they know we go',\n",
        "'And i got to split ya',\n",
        "'Goin somewhere let me to be in icu ya',\n",
        "'I got the funk flow to make your drawers drop slow',\n",
        "'Man i got my position and died',\n",
        "'When i was young in the gray uhhuh',\n",
        "'Slam larry johnson and your dogs love to die',\n",
        "'Seen the frick you got a d*ck with the waist please dont shoot up the place',\n",
        "'Ima know that p**sy many girl',\n",
        "'Bought the cherokee to the crib unless they bonin',\n",
        "'Just bone and biggie biggie',\n",
        "'It aint no one but i got a d*ck and puffed me',\n",
        "'And i got to split ya',\n",
        "'The weak or the strong who got it goin on',\n",
        "'Pussy crusher the game talk your poop grab your gat call your clicks',\n",
        "'That i killed the spot',\n",
        "'Im a bad bad boy',\n",
        "'Can i get witcha can i get witcha',\n",
        "'Sky is the limit and you know that you can have',\n",
        "'She know you used to me',\n",
        "'All the ladies if you hear me',\n",
        "'Far up in the caribbean white sand my lyrical shift',\n",
        "'They know what we mean',\n",
        "'Peeps to cop when i hit my ass',\n",
        "'Hit the gunshots poop',\n",
        "'But i dont care what nobody say',\n",
        "'I got the funk flow to make your drawers drop slow',\n",
        "'Them nixgaz do real things',\n",
        "'Whoever i kiss your bum goodnight',\n",
        "'I got the funk flow to make your drawers drop slow',\n",
        "'I got the funk flow to make your drawers drop slow',\n",
        "'Nixgas aint got a gun up in your waist please dont shoot up the place',\n",
        "'Every blunts in your kitchen screamin eggs and tear',\n",
        "'The weak or the strong who got it goin on',\n",
        "'Bitches aint no mother wished they got to split',\n",
        "'Come on motherfrickers come on',\n",
        "'frick tae kwon do i get witcha can i get witcha',\n",
        "'So i dont wanna get witcha can i get witcha',\n",
        "'The weak or the strong who got it goin on',\n",
        "'Lookin on the ave Im a man girlfriend',\n",
        "'Whats goin on',\n",
        "'And i got to split ya',\n",
        "'Make the cherokee to the frick to the d*ck',\n",
        "'Gettin physical like olivia newt',\n",
        "'Whats goin on',\n",
        "'And i got to split ya',\n",
        "'Fulfillin dead wrong',\n",
        "'By the cherokee to the beds droptop',\n",
        "'Instead of a mac of the house of girls karl jeans',\n",
        "'Smokin blunts in your passenger dream',\n",
        "'Take the beatdown if i bust to the life',\n",
        "'Real nixgaz do real things',\n",
        "'Thug one',\n",
        "'No no notorious',\n",
        "'Sometimes your words just hypnotize me',\n",
        "'Make the cherokee to the frick to the d*ck',\n",
        "'Lean back lean back lean',\n",
        "'frick tae kwon do i get witcha can i get witcha',\n",
        "'Sky is the limit and you know that you can have',\n",
        "'And i got to split ya',\n",
        "'Im a bad bad boy',\n",
        "'Im a bad bad boy',\n",
        "'Shoulda sensamelia can i get witcha can i get witcha',\n",
        "'Apologies in fact Im sick of blue',\n",
        "'You nasty boy you nasty',\n",
        "'Can i get witcha can i get witcha',\n",
        "'And i got to split ya',\n",
        "'Im a bad bad boy',\n",
        "'I got the funk flow to make your drawers drop slow',\n",
        "'Whyall believable believable',\n",
        "'The weak or the strong who got it goin on',\n",
        "'Like i got to be a d*ck and t',\n",
        "'That i killed the spot',\n",
        "'Its bone and biggie biggie',\n",
        "'Think i kiss your bum goodnight',\n",
        "'Now i dont know what they want from me',\n",
        "'Mad dead wrong',\n",
        "'Whats goin on',\n",
        "'I got the funk flow to make your drawers drop slow',\n",
        "'Federal is when i was shot',\n",
        "'Sex is all i get witcha can i get witcha',\n",
        "'Squeeze your clip hit the right one pass that sandwhiches i got to light one',\n",
        "'Why you wanna get with me',\n",
        "'Sing on motherfrickers come on',\n",
        "'Aint no one and the gray uhhuh',\n",
        "'Breakin up out a bladder they touched up the grill',\n",
        "'I got the funk flow to make your drawers drop slow',\n",
        "'Find the hands in the air if youse a true player',\n",
        "'So i dont wanna get witcha can i get witcha',\n",
        "'Im a bad bad boy',\n",
        "'Jack the nixga but i got a d*ck and puffed me',\n",
        "'Yall aint no mother wished they got to split',\n",
        "'I got the funk flow to make your drawers drop slow',\n",
        "'I got the funk flow to make your drawers drop slow',\n",
        "'See i dont know what they want from me',\n",
        "'frick tae kwon do i get witcha can i get witcha',\n",
        "'Pop in the chamber the streets and the phone',\n",
        "'Smiles is the drugs baby i got to split',\n",
        "'Thou larry johnson from the bridge three bricks',\n",
        "'Before i get witcha can i get witcha',\n",
        "'Sometimes your words just hypnotize me',\n",
        "'Spit your game talk your poop grab your gat call your clicks',\n",
        "'Whats goin on',\n",
        "'Years is about the block and Im sonning you know that i wont stop',\n",
        "'Meet the cherokee to the beds droptop',\n",
        "'Peep the funk flow really though',\n",
        "'Straight to cop a gun in the house',\n",
        "'The weak or the strong who got it goin on',\n",
        "'Keep on pressin on',\n",
        "'Get high get high get high',\n",
        "'I got the funk flow to make your drawers drop slow',\n",
        "'I got the funk flow to make your drawers drop slow',\n",
        "'Nixgaz is the nixga but i got a d*ck and puffed me',\n",
        "'I got the funk flow to make your drawers drop slow',\n",
        "'Im a bad bad boy',\n",
        "'Why you wanna get with me',\n",
        "'I got the funk flow to make your drawers drop slow',\n",
        "'Sky is the limit and you know that you can have',\n",
        "'You nasty boy you nasty',\n",
        "'Let me to all my frick is the d*ck',\n",
        "'Smiles is the drugs baby i got to split',\n",
        "'Ten years',\n",
        "'Put the hands in the air if youse a true player',\n",
        "'I got the funk flow to make your drawers drop slow',\n",
        "'Just bone and biggie biggie',\n",
        "'Grab your titties for the funk ill die for the funk',\n",
        "'Bought the cherokee to the crib unless they bonin',\n",
        "'To all my queensbridge nixgas nixgas',\n",
        "'All the ladies if you hear me',\n",
        "'Mr passes turner she thinks she dont be a glock in my waist',\n",
        "'Hanging wit the b*****es is the song i sing',\n",
        "'If you got a gun in your waist please dont shoot up the place',\n",
        "'Uh i get witcha can i get witcha',\n",
        "'Long as i got my d*ck but we dont shoot to the door',\n",
        "'Representing the more problems we see i dont know what they want from me',\n",
        "'Bleed just like us',\n",
        "'Man i got my position and died',\n",
        "'To all my queensbridge nixgas nixgas',\n",
        "'Now i dont know what they want from me',\n",
        "'The weak or the strong who got it goin on',\n",
        "'Tell me why you wanna get with me',\n",
        "'I got the funk flow to make your drawers drop slow',\n",
        "'Im a bad bad boy',\n",
        "'Lets ride lets ride lets ride',\n",
        "'Lets ride lets ride lets ride',\n",
        "'Nixga please be cool but they know we go',\n",
        "'The weak or the strong who got it goin on',\n",
        "'The weak or the strong who got it goin on',\n",
        "'Steps just like us',\n",
        "'Its bone and biggie biggie',\n",
        "'The weak or the strong who got it goin on',\n",
        "'One in the chamber the streets that',\n",
        "'And i got to split ya',\n",
        "'Bite your hands in the air if youse a true player',\n",
        "'Stupid the strong who got my d*ck but t',\n",
        "'Man i got my position and died',\n",
        "'Swig the wrist buttercrunch',\n",
        "'Says me for the condom filler',\n",
        "'Moet yah Im awake man',\n",
        "'All the ladies if you hear me',\n",
        "'Pissy nixgaz go from the bridge',\n",
        "'Then i get witcha can i get witcha',\n",
        "'We dont get witcha can i get witcha',\n",
        "'Cristyle no no notorious',\n",
        "'Mcs rock around my d*ck but the e',\n",
        "'The weak or the strong who got it goin on',\n",
        "'Slugs missed ya',\n",
        "'Oh i dont wanna get witcha can i get witcha',\n",
        "'Ima know that p**sy many girl',\n",
        "'Whos the hands in the air if youse a true player',\n",
        "'All the ladies if you hear me',\n",
        "'Nia to the mac make the kidneys shift',\n",
        "'Drop the truck of new york',\n",
        "'Pimpin up in your caribbean but she was mackin and the hibby you was a lot',\n",
        "'Im a bad bad boy',\n",
        "'Shits groups and spending and left your world',\n",
        "'Fk to all my new nixgas nixgas',\n",
        "'Oe in the chamber the streets that',\n",
        "'I got the funk flow to make your drawers drop slow',\n",
        "'Sky is the limit and you know that you can have',\n",
        "'N the nixga is chocolate my shift',\n",
        "'I got the funk flow to make your drawers drop slow',\n",
        "'What you want nixga what you what you want nixga',\n",
        "'Willie d havin nightmares of girls',\n",
        "'For the mac in the ac d*ck',\n",
        "'Until i get witcha can i get witcha',\n",
        "'If you got a gun in your waist please dont shoot up the place',\n",
        "'Cause i get witcha can i get witcha',\n",
        "'It aint no one but i got a d*ck and puffed me',\n",
        "'I got the funk flow to make your drawers drop slow',\n",
        "'And i got to split ya',\n",
        "'Sky is the limit and you know that you can have',\n",
        "'Thought i was young in the gray uhhuh',\n",
        "'What you want nixga what you what you want nixga',\n",
        "'Nobody gotta die',\n",
        "'The weak or the strong who got it goin on',\n",
        "'Yall aint no mother wished they got to split',\n",
        "'In the cherokee to the beds droptop',\n",
        "'Im a bad bad boy',\n",
        "'Still tote a purpose on the bladder and gentlemen with these elevated world',\n",
        "'Thats the nixga size in these karl kani jeans',\n",
        "'Told me why you frick doin when i call me when i call me and the scrolls',\n",
        "'Its bone and biggie biggie',\n",
        "'She know you used to me',\n",
        "'If you got a gun in your waist please dont shoot up the place',\n",
        "'Tell me why you wanna get with me',\n",
        "'You nasty boy you nasty',\n",
        "'And i got to split ya',\n",
        "'Approach me to all my new nixgas',\n",
        "'Eatin passes turner dinin classes squeezing asses',\n",
        "'What you want nixga what you what you want nixga',\n",
        "'Oh i dont wanna get witcha can i get witcha',\n",
        "'I got the funk flow to make your drawers drop slow',\n",
        "'I got the funk flow to make your drawers drop slow',\n",
        "'Free passes screamin aiy papi',\n",
        "'What you want nixga what you what you want nixga',\n",
        "'Frank d havin nightmares of a melon of girls',\n",
        "'Nixga please be cool but they know we go',\n",
        "'Sex is all i get witcha can i get witcha',\n",
        "'N the nixga is chocolate my shift',\n",
        "'Remember i kiss your bum goodnight',\n",
        "'The weak or the strong who got it goin on',\n",
        "'I got the funk flow to make your drawers drop slow',\n",
        "'In the cherokee to the beds droptop',\n",
        "'Throw your hands in the air if youse a true player',\n",
        "'Scream you know what you need to do',\n",
        "'Mc yah Im awake man',\n",
        "'Loungin at the truck up in your bridge',\n",
        "'Do you got a gun in your waist please dont shoot up the place',\n",
        "'When i was young in the gray uhhuh',\n",
        "'Just bone and biggie biggie',\n",
        "'I got the funk flow to make your drawers drop slow',\n",
        "'They know what we mean',\n",
        "'And i got to split ya',\n",
        "'Look at the streets to the phone to the door',\n",
        "'Givin in the club sippin moet in benjamins',\n",
        "'Cintamelia all you wannah do is touch ya',\n",
        "'You nasty boy you nasty',\n",
        "'Just bone and biggie biggie',\n",
        "'Throw your hands in the air if youse a true player',\n",
        "'Imma want to die for the paper',\n",
        "'Hit the gunshots poop',\n",
        "'To all my queensbridge nixgas nixgas',\n",
        "'And i got to split ya',\n",
        "'I got the funk flow to make your drawers drop slow',\n",
        "'While i just love your flashy ways',\n",
        "'Oh i dont wanna get witcha can i get witcha',\n",
        "'If you got a gun in your waist please dont shoot up the place',\n",
        "'Betcha biggie biggie',\n",
        "'Youll see youll see',\n",
        "'That i killed the spot',\n",
        "'I got the funk flow to make your drawers drop slow',\n",
        "'Man i got my position and died',\n",
        "'Bitches aint no mother wished they got to split',\n",
        "'We dont get witcha can i get witcha',\n",
        "'All the ladies if you hear me',\n",
        "'Bring the hands high in a air in your notorous',\n",
        "'The weak or the strong who got it goin on']\n",
        "\n",
        "classify_perc(RNN_lyrics)"
      ],
      "execution_count": 29,
      "outputs": [
        {
          "output_type": "execute_result",
          "data": {
            "text/plain": [
              "218"
            ]
          },
          "metadata": {
            "tags": []
          },
          "execution_count": 29
        }
      ]
    },
    {
      "cell_type": "code",
      "metadata": {
        "id": "SJg10i7i-0Fp",
        "colab": {
          "base_uri": "https://localhost:8080/"
        },
        "outputId": "bfd762f8-0ec6-4048-b371-f75bb1fe9d02"
      },
      "source": [
        "len(RNN_lyrics)"
      ],
      "execution_count": 30,
      "outputs": [
        {
          "output_type": "execute_result",
          "data": {
            "text/plain": [
              "396"
            ]
          },
          "metadata": {
            "tags": []
          },
          "execution_count": 30
        }
      ]
    },
    {
      "cell_type": "code",
      "metadata": {
        "colab": {
          "base_uri": "https://localhost:8080/"
        },
        "id": "--jNl4-3TWsk",
        "outputId": "53c8737a-d8ab-4418-adf9-b4c232fd4f00"
      },
      "source": [
        "218/396"
      ],
      "execution_count": 31,
      "outputs": [
        {
          "output_type": "execute_result",
          "data": {
            "text/plain": [
              "0.5505050505050505"
            ]
          },
          "metadata": {
            "tags": []
          },
          "execution_count": 31
        }
      ]
    },
    {
      "cell_type": "code",
      "metadata": {
        "colab": {
          "base_uri": "https://localhost:8080/"
        },
        "id": "tgdmF-u_TYdk",
        "outputId": "e389e144-5e82-4e4e-b6f1-b590be93c44c"
      },
      "source": [
        "syl_lyrics = ['Im lookin just living to pay the booty like the',\n",
        "'Wet em  and live no car  run from police will',\n",
        "'Before  got the bullets room to the bricks like that',\n",
        "'Flex scratches the funk baby hear what chorus verse the',\n",
        "'Loaded in it is the nicest m take her you',\n",
        "'Latch wit big ladies if you see her sister the',\n",
        "'Choose to leave it to the train track or black',\n",
        "'Light another drug to sleep safe up on the average',\n",
        "'Wherever you know aint over here  when i drop top',\n",
        "'Box  yall nixgaz back back and change from me swell',\n",
        "'Begun  to all thick with that hooker off when its',\n",
        "'Account  so i thought i love to be the back',\n",
        "'Loop all that good dick size in the relationship grew',\n",
        "'Yourself when the an rb bitch was poppa aint no',\n",
        "'Boogey to flip  show they were no telling no dough',\n",
        "'Biz  oops im doin tonight that shit  and i dont',\n",
        "'Dome homes i can keep your heart ripped the bread',\n",
        "'Snitch uhh check it slimmed  hah sicka than the right',\n",
        "'Supreme in the one thatll pay  who we come you',\n",
        "'Actors and move trays serve em with the rhyme that',\n",
        "'La carte with the thriller in your hips ya didnt',\n",
        "'Pick up  threw that died would be fucked a new',\n",
        "'Delayed as kris brother with game talk about a big',\n",
        "'Snoring all my bag yet  be snoring all i might',\n",
        "'Guns i only give up  even the jeweler and the',\n",
        "'Legendary nixga ya wet like to feed the flows and',\n",
        "'Undressin em to side to do two clips and you',\n",
        "'Blowin up the ballin stops nixga what make our crown',\n",
        "'High off my feet  cause you come come on come',\n",
        "'Welchs grape  i hear me i met on my energy',\n",
        "'Hah one pass that hiphop them they fittin like snoop',\n",
        "'Need us with me papichulo to die  sex on here',\n",
        "'It was thinkin about a gs  the weak or do',\n",
        "'Flame right i see nixgaz on here say im fuckin',\n",
        "'Fifth of people sho nuff befo i was pussy  but',\n",
        "'Fake jack boys we was goin down  what you know',\n",
        "'Layers true fuckin em do when yo  just bone and',\n",
        "'Thee  one in your kidneys shift here i got the',\n",
        "'Hydro rock her nose is when you with your shit',\n",
        "'Try throw em im the rim  got your tim boots',\n",
        "'Supports this one  off her sister damn boy bad boy',\n",
        "'Chubby waste of makin strictly back when no more time',\n",
        "'Crusher black mans mind i dont wanna squirt her  now',\n",
        "'Jack dempsey would start to cali  i roll like a',\n",
        "'Ill yo biggie smalls dont get witcha can i drop',\n",
        "'Singin and if theyll laugh when things born shoulda been',\n",
        "'Talons loaded in the scrolls  when i fuck time cmon',\n",
        "'How to feel  what you fuck from behind which wall',\n",
        "'Rugged as i live without that ever lived the force',\n",
        "'Eye yo dont have a cab to juggle  make me ',\n",
        "'Cassette running me close to call it dont know what',\n",
        "'Cnotes by these cristal  and i up in there wasnt',\n",
        "'Bathroom tile  steps out your back of me no less',\n",
        "'Rap attack mr rourke  sure is a brick  lets ride',\n",
        "'Staff they come on the joness nixgas  dont stop till',\n",
        "'Cupid  to all my bitch belongs with the gs i',\n",
        "'Stacks gone when you for mafia to all my shit',\n",
        "'Shout i never run with  time to scream bam bam',\n",
        "'Sips on yeah  deja vu the beef no you cant',\n",
        "'Cleared them in the ave im a better strip  beef',\n",
        "'West  even though the heart ripped the stash  no need',\n",
        "'Mug mo bee  killin ya then i dont know you',\n",
        "'Henny sipper  i dont know that just love ma gat',\n",
        "'Born sinner the best in the fuck her times  im',\n",
        "'Back i like bobby  lesson a b k to all',\n",
        "'Swizz oh thats the mac unloaded  should i get high',\n",
        "'Backspins to your head and burn when the gangstas thugs',\n",
        "'Walked them off well be cluckin in her eyeses do',\n",
        "'Fucked a brother with the fool cause now tell me',\n",
        "'Drock went  no no gettin shot ya didnt last  im',\n",
        "'Packin glocks and on the bitch taya ran with jose ',\n",
        "'Gon get high get it out  oh goddamn credit dead',\n",
        "'Armed and take em cause money livin so for my',\n",
        "'It is played fools out on the trey deuce and',\n",
        "'Glock cocked ms and biggie tell me  i get with',\n",
        "'Due south  the weak or stiff tongue never said big',\n",
        "'Half  we just all my mind playin hah i b',\n",
        "'Swingin swords in from most you what what time  spit',\n",
        "'Splat  you know your gat call me  gon blast i',\n",
        "'By the funk  we can be in the mariott we',\n",
        "'Whiteskinned or two clips at the limit and my dick',\n",
        "'Milked out here  forget the fuck wit my moms and',\n",
        "'Moms crotched up and tammy huh huh  beg my mans',\n",
        "'Feds catch an rb bitch gettin took the lifers groups',\n",
        "'Sean if i cant even fuckin neck  know my paper',\n",
        "'Side b side lyrical douches in the lord my name',\n",
        "'Uno never thought i got his chest  for the back',\n",
        "'Mac unloaded  intro goes out clear the funk ill go',\n",
        "'Thatll thrill is goin on and you about this felon',\n",
        "'Lali like bitch good ass goodnight all ma little visit',\n",
        "'Tim boots from shaolin island and love me show me',\n",
        "'Twenty gs up front im with  beef is  chills up',\n",
        "'Coochies spitting my love of the same hood like death',\n",
        "'Wid em  we fucked up you heard whos this is',\n",
        "'Bee baby hear what that good headll do when you',\n",
        "'Squeezin aes  that shit that we see uh  hit em',\n",
        "'Ej and gators  just bone and you for the deck',\n",
        "'Boxers so what the name brand newbian shit list biggie',\n",
        "'Finna hold more kick in my feet than deep  fucking',\n",
        "'Steps out the whip it out  pardon my nixga hit',\n",
        "'Meet again my man is weak or see no problem ',\n",
        "'Exprained to stop  fuck the fuck it took the e',\n",
        "'Wars im stressed yo keep on  youll get shot the',\n",
        "'Deaths when you got that light one else only give',\n",
        "'Ticket to think shed rather die good night  just keep',\n",
        "'Vantage came to go blind dont hit the triple beam',\n",
        "'Buncha nixgas there aint no ends to die  cmon we',\n",
        "'Still transport with the day no less than yours yeah',\n",
        "'Pop to dippin  you see them  we dont give when',\n",
        "'Cost him  check it goin on you that pop bottles',\n",
        "'Hell  what you are they got love it  the weak',\n",
        "'Sticks and gators  and i smoke hydro rock on mtv',\n",
        "'Destroy a few cats wit the ghetto in the pimp',\n",
        "'Seperately frank her man inf left over two rings and',\n",
        "'Rate  a tbone steak cheese eggs and fuck all a',\n",
        "'Leakin like the sex im broke at  lets go off',\n",
        "'South with them tricks fuck do whatever  but nothin but',\n",
        "'Late  the hallway got low blow your clip hit the',\n",
        "'Dogs love you so lay on yeah i gotta die',\n",
        "'Nia i aint the hardcore wit my faction dont sweat',\n",
        "'Better be home tomorrow  lets get high with all the',\n",
        "'Knowing that weed up hands high get your upper lip',\n",
        "'Champagne when im on yeah i feel one gives me',\n",
        "'Tallahassee to him half my back lean back back  and',\n",
        "'Pie  i laugh when i smoked over s cocked ms',\n",
        "'Mention me for ya  got my gat call me hit',\n",
        "'Blows was rough very well who was a tutor hah ',\n",
        "'Gourmet dinners  i had to do to cali got out',\n",
        "'Sticky green and you are  solo is goin on some',\n",
        "'Cant you see what a reload like dutches from her',\n",
        "'Song i got the weed  high off  crystal pops im',\n",
        "'Figured rock set it this money than yours wack oh',\n",
        "'Suckin dick  or beneath me to work you had to',\n",
        "'Shirt  cant we get ya see  may see  skip the',\n",
        "'Another hons in the old habits two pair of pocket',\n",
        "'Story as i that dry baggin five nixgas back light',\n",
        "'Deadly  jack wit the fuck what you knowwwwww where my',\n",
        "'Upon a stepbystep booklet for me now check it i',\n",
        "'Testing coke cut it feels good  who you when i',\n",
        "'Continue to give me milks at they luckand they be',\n",
        "'Discuss money in the strangest if u need sick of',\n",
        "'Collected so she aint no mo  all i was in',\n",
        "'Missile yo back in love its easy to set for',\n",
        "'Doing time for my hooligans in they stacks in la',\n",
        "'Hits  shooken up i saw my man hands in your',\n",
        "'Olde e and taste  the more money than your shit',\n",
        "'Whyall talkin ayo cmon now  uh damn sir sniff me',\n",
        "'Freaked em in belize when i hope youre goin on',\n",
        "'Totin techs than birds to be styling on  what do',\n",
        "'Valley of rap shit  the benzo she thinks she split',\n",
        "'Called her you did him that cat all of fuckin',\n",
        "'Masters we finish it what you with big for my',\n",
        "'Sicker than cortex singers come to give a bag of',\n",
        "'Brat  you just splits ya  i went for my nixgaz',\n",
        "'Lips a tissue stop  just keep on  beef is lick',\n",
        "'Pockets swell to make one  before all the road to',\n",
        "'Score with me why christmas missed us talk your chest',\n",
        "'Drank three hundred shots in the ill shits legit  sex',\n",
        "'Mall out some shit since the funkdafied cutie wit the',\n",
        "'Whats the pelvis  to put your gat call it up',\n",
        "'True fuckin rich the burner was a hundred cash to',\n",
        "'Bone up with pimps a mess  on yeah  throw all',\n",
        "'Mass his soul to do  loungin at the fuck up',\n",
        "'No seeds out in the funk  keep a certified mack',\n",
        "'Hoodie off the spandex and things  i cock and the',\n",
        "'Thief  fuck the sleeve red rum its like arnold wondered',\n",
        "'May be cryin like we be laying with blue drop',\n",
        "'Usin all my cuban mommy cooking up on back to',\n",
        "'Peel more  to all leakin out its time  guess thats',\n",
        "'Wizzard fuck with oil my man see you aint have ',\n",
        "'Show they pussy whipped nixga that speak to grind like',\n",
        "'Total  hate to die on my peeps with you do',\n",
        "'Trips to wait a pickle be sippin moet  come on',\n",
        "'Linen me  i cant sleep  the seven macs the lord',\n",
        "'Easy but  get high get witcha can i been shot',\n",
        "'You dont think about you bought me fill ya to',\n",
        "'Priest at all get  make up big city i love',\n",
        "'Position here come the back up  get live for the',\n",
        "'Swayze bitch if i dont stops nixga please dont know',\n",
        "'Lovell still get who wine i had been through  what',\n",
        "'Pops mixed up in the pack the limit and bitches',\n",
        "'Talking to cali uh and biggie gimme the lord my',\n",
        "'Ya eye yo fuck around my friends shit  and i',\n",
        "'Game shakes me big but t  tell him  and taped',\n",
        "'Asswhippin  ill die now ill put a green like the',\n",
        "'Homeboy lance armstrong of fact im like a keys so',\n",
        "'Pop quiz thats what nobody til the ghetto  the stress',\n",
        "'Obsolete  what what big when frank  the weak from me',\n",
        "'Personal with a tight dress i took out honey check',\n",
        "'Use  yeah nixga workin been on here come on the',\n",
        "'Escape out clear the crib wrap you want that way',\n",
        "'There was poppa been robbed  its that weed spot back',\n",
        "'Scanners nixgaz do real hard cause i reach for my',\n",
        "'Sucked all i bet they sell records like francis mh',\n",
        "'Onyx and know just ate  nias wanna live for hoes',\n",
        "'Even though  you too much better yet i gotta get',\n",
        "'Messin with my dogs love ma little nixga to all',\n",
        "'Henny and said if i got gin  explode the door',\n",
        "'Han solo with a asthma attack  looks like them red',\n",
        "'Each and flee the habit i fighting to squeeze lead',\n",
        "'Alberta over here tryin not for my cd blast  i',\n",
        "'Guarantee a gun as i spark ya i dont get',\n",
        "'Sixteen shots for my sheisty crew be like to fight',\n",
        "'Stash in love your bank like food tramp  cause i',\n",
        "'Been shot ya live for the average symps found a',\n",
        "'Specially if i hope i need on the time to',\n",
        "'Teary eyed damn boy you not able to know that',\n",
        "'Guest appear  thats my girl fucked fo keeps n the',\n",
        "'Slinger bring back to be what you bought a glock',\n",
        "'Fall in the ladies in they just listen to reverse',\n",
        "'Trap yes im classic like me  you still wannah do',\n",
        "'Dark as long gates snatch initial name one more ruthless',\n",
        "'Mack  i got ready to side to turn your words',\n",
        "'Dick girl  the weak or stiff tongue or should just',\n",
        "'Peace to get down your shit thats crazy gs out',\n",
        "'Sharp bar uh biggie aint spend no comin to giggle',\n",
        "'Supply the scarf around and biggie let a bunch of',\n",
        "'Spent the new rappers shouldnt have the fuck around his',\n",
        "'Fourfifth so take em go you gonna go mase aint',\n",
        "'Shawn  i can like bitch just for a question what',\n",
        "'Pipes others use em  cause i can bring back light',\n",
        "'Jose  hoe money at me what you can like this',\n",
        "'Rugs thats damn near so you cant you come across',\n",
        "'Rolls roll in your wig  dreams of all of my',\n",
        "'System that all i got a nixga what you been',\n",
        "'Twitchin noses  so dont want to play me to stop',\n",
        "'Bake up my shirt  time time  nice and youre so',\n",
        "'Peep the party and thats right  looks like a nixga',\n",
        "'Loungin black smoking sacks up i cock in this is',\n",
        "'Callable gats that smoke blunts down to wet me  i',\n",
        "'Youve been in this whats goin on  respect is not',\n",
        "'Sweet  see who got stepped on here  your life is',\n",
        "'Spell my ring  but smalls crib unless they know im',\n",
        "'Bastard  just bring yo he had no less than biggie',\n",
        "'Nixga turned around shit too kind of mine aint that',\n",
        "'Seems up out the likes that nixga  spit your hands',\n",
        "'Onto dkny uhhuh  i was wise  its more money can',\n",
        "'Boss hog was young fresh pair of applause for the',\n",
        "'Wood style dumpin  come on ten i keep on i',\n",
        "'Ultimate rush the funk ill put it hot  once i',\n",
        "'Twista and im broke as strong who got down below',\n",
        "'Feelin of you hear death knockin at the phone mase',\n",
        "'Pohey  i used to drink brew and pray for tips',\n",
        "'Karl kani jeans  all philly hoes dough and i cock',\n",
        "'Big  then she hit the fallout word up on ready',\n",
        "'Macing yall death  and me all day is been on',\n",
        "'Legends on back  its real life  and all my wrists',\n",
        "'Thinking  lets get the gray uhhuh i choke ya shit',\n",
        "'Fingers in your tim boots and not all my knees',\n",
        "'Pockets broke and love it  she was a all work',\n",
        "'Jd i only smoke ls  yes flex who got it ',\n",
        "'Grinding all up open up to riches  im done i',\n",
        "'News team  here come for the user  the stress  run',\n",
        "'Script bust you can count  hah thats how we just',\n",
        "'Field  so much i hope she kicked all we flew',\n",
        "'Tossed to go down and heavy d havin fun with',\n",
        "'Grapes so i dont wanna live it when you to',\n",
        "'J and roll like i remember back right one  the',\n",
        "'Actors and still watch me  another hons in the head',\n",
        "'Stacked was a brother they dont pay the shit splatter',\n",
        "'Brick  i seen mad at any motherfucker and when i',\n",
        "'Say what he buy a hydrant  i replace on him',\n",
        "'Bill about the spandex and this yeah poppa dont care',\n",
        "'Bring that ass up and bullshit  just the crib unless',\n",
        "'Vcrs in my fingers in this man when your clicks ',\n",
        "'Poppin ho thats that nixga its almost there aint mad',\n",
        "'Ave im so hard with my accountant handles that we',\n",
        "'Hands in the gall  its the puff daddy  by a',\n",
        "'Pint drink it feel it goin on the cleanest meanest',\n",
        "'Fresh out fresh out six rivals spittin fire  way she',\n",
        "'Rolled up you call me big poppa dont ask rog',\n",
        "'Dj zhane she setting up my girls boo true player ',\n",
        "'Mine  cause he had the clits had two rides than',\n",
        "'Thee  i dont play her mouth  saw me take that',\n",
        "'Apart break up for me sean combs  call my wrists',\n",
        "'Hurts  i was rimmed up each and sean combs  all',\n",
        "'Street life every time i do em i was wise ',\n",
        "'Of funk ill get a hustle another day no cryin',\n",
        "'Thys wit us  here we be scheming on the crowbar',\n",
        "'Thats the shits legit  fuck the deal  when i got',\n",
        "'Try to motherfuckers as i got g ya  as we',\n",
        "'Ask nino he wanted with the clips in this willie',\n",
        "'Official doe i got that weed no more ruthless huh',\n",
        "'Ripsta nixga wanna tote guns is goin on top sky',\n",
        "'Found out the big poppa dont shoot em  ask p',\n",
        "'Ask p leave you got a try  pop to win',\n",
        "'Trunks bitch keep on the bitch  by the east coast ',\n",
        "'Others use a ye yea  move from behind which wall',\n",
        "'Thigh the streets to the th grades and emptied the',\n",
        "'He came twice caught him  im ready for most of',\n",
        "'Milks at the flyest its back of your crew  and',\n",
        "'Shot ya game talk to do aint no trivia  bk',\n",
        "'Bendin over here we go play me get witcha can',\n",
        "'Huh can i got the hooptie  to all my side',\n",
        "'Grime  guess thats right i be what they figure im',\n",
        "'Sand they know  i fuck up  to all you know',\n",
        "'To lace these hoes at where do fight  pray and ',\n",
        "'Swoll on the burner was ya gotta die  is my',\n",
        "'Big poppa dont want nixga what you heard was in',\n",
        "'Cuffed lookin cool fool  your life is weak ayo big',\n",
        "'Fanny spendin  and throw the tech g get some dro',\n",
        "'Boss of the fuck with the sky  forget the streets',\n",
        "'Whyd you what im the road to light  they actors',\n",
        "'Wan test me the willy hitchlin cocked back back in',\n",
        "'Kelly the shit  sex is gucci bag and im not',\n",
        "'Imma stay low killer now you swear to feed i',\n",
        "'Da cause i just hit the scene  game tight  shot',\n",
        "'Whyall talkin real dogg for the east coast i go',\n",
        "'Huns in ya imma front do i provide you know',\n",
        "'Hurting my will show on a bad boy you  oh',\n",
        "'Kills you to cali  guess thats me walk down phizat',\n",
        "'Seas vcrs in this robbin spree well make me spendin ',\n",
        "'Ma little secret why ooh im paid hah  i rap',\n",
        "'Bleach in they bitch just bring nixgas wanna be what',\n",
        "'Je and ginger ale  get live no no more  bust',\n",
        "'Until i live motherfuckers just talk to stop im just',\n",
        "'Ran with that we out in that you came quicker ',\n",
        "'Lukes boat  actin as hell  so i have fun  while',\n",
        "'Strapped like a killin wives and come on hoes clockin',\n",
        "'Weighters  i see me oh i had to the past',\n",
        "'Else only smoke the rolexs and pops mixed up in',\n",
        "'Sofa  and all day  you did where you cant touch',\n",
        "'Rude  what you what my bitch chose not you up',\n",
        "'Rapper slash illest turned front of them licks up my',\n",
        "'Gun and im intrrupted by the house of mine uh',\n",
        "'Das why im sick of uncut to  my tape around',\n",
        "'Trep  thank you with the road to visit and my',\n",
        "'Starters from the same ol flow really dont care if',\n",
        "'Riot  we dump ashes on pressin on  lights get up',\n",
        "'Holler if youse a friend bitch with deep so she',\n",
        "'Endin  you nasty boy what i asked me a big',\n",
        "'Lies  i knew that cocksucker gs out s in the',\n",
        "'Dancers  i wish i beat so hard time  throw the',\n",
        "'Nice dream  give me hip to feed em out  what',\n",
        "'Wetter than my will probably fuck it goin to his',\n",
        "'Ron bought me  i see you want to me feel',\n",
        "'Faction dont think i cant you to see what it',\n",
        "'War  sold more i thought i love your hands while',\n",
        "'Cruise up  guess thats why why i ever lived the',\n",
        "'Honcho  just bring me evil inside the strong who want',\n",
        "'Mines  let the house on  cant live for a lot',\n",
        "'As if it  the faggot took nuthin but i got',\n",
        "'Hutch stick up  mad women from the funk ill die ',\n",
        "'Blunted up  then fuck with pimps and squeeze it bite',\n",
        "'Alright when i was  may see  can i got a',\n",
        "'Bed  sky is wrong i hear me smile on  cmon',\n",
        "'Singles on  and i wish moms and youre from left',\n",
        "'Thang like my baby one  hit the gate hungry they',\n",
        "'Knockers  and now we date  you swung a whole time',\n",
        "'damn ma i gets rugged crew  thats not to',\n",
        "'Info for some shit  aint scared of mine  my life',\n",
        "'Ima send her pissy drunk over this  starters from that',\n",
        "'Whip it nixga to all from the pen  grab your',\n",
        "'Tops i have mad at they be friends too many ',\n",
        "'Dope dealer  if i hope youre fat or get with',\n",
        "'Leave calm  and party and bring yo hands in the',\n",
        "'Whats wrong relax and aint the fight ways  we can',\n",
        "'Ds knew like  dont stop yall my pocket thats how',\n",
        "'Out like its man  why you to the inside the',\n",
        "'James todd smith  so what the wall you can i',\n",
        "'Spock  get live motherfuckers come come suck call him with',\n",
        "'Howda stack some real bitch named symone  now i get',\n",
        "'Trippin blamin me jack boys cant tell me into stocks',\n",
        "'Spendin  plans to get a bag a baby all i',\n",
        "'Noses  pop duke shoot up bitch like cleats  two keys',\n",
        "'Five gs a waste  bought the place why go down',\n",
        "'Legs leave i bought  and hood with my ace boom',\n",
        "'Serving em  threw that you call me to be the',\n",
        "'Used to the lyrical carjack make the same ol pimp',\n",
        "'Mics n blow to live for the tristate  sky is',\n",
        "'College park  wit the limit and show me when to',\n",
        "'Killin wives and crowded  id like that thats that i',\n",
        "'Bedspread red rum  the games we can bang boots and',\n",
        "'Agreed to you said fuck it goin on the gat ',\n",
        "'Stay far  no sleepin he was i like i sing',\n",
        "'Notes than you see  yo they cant hear me homey',\n",
        "'Relate to give your game talk your name out the',\n",
        "'Still tustle still tryin to go call your words just',\n",
        "'Lost a fuckin hour glass is the fame start blastin ',\n",
        "'Name drew played fools bash fools dat nixga start  whos',\n",
        "'Smoke some more money in raps what must be handlin',\n",
        "'Beotch fuck the more time losers mad bitches who says',\n",
        "'Wall and why  cmon yall live for the fucking chase',\n",
        "'Abuser  of the sky  she got it goin on in',\n",
        "'Befo i hope i dont believe in the drugs to ',\n",
        "'Rehearsed it means to flip the tec to cali cali',\n",
        "'Whip legend coupe gold teeth milo cut nixga was short',\n",
        "'Hypnotize  when i swear to snatch a set for the',\n",
        "'Boys cant happen dont get high get it when you',\n",
        "'Leaking out  then she got the shits with that you',\n",
        "'Silly cat with me what the sequel  and another drug',\n",
        "'Smokin spliffs we all my nixga wit me big poppa',\n",
        "'Beacon  put in the corner my head and im glad',\n",
        "'Putcho nose bleed  i used to big ayo big be',\n",
        "'Album back of fuckin but if they say  you cut',\n",
        "'Looks out and gums all you can i love potion',\n",
        "'Spill  them cats we give you while my energy is',\n",
        "'Split it would you know my vest  kill em like',\n",
        "'Jake come on stage the streets  she cryin at all']\n",
        "\n",
        "classify_perc(syl_lyrics)"
      ],
      "execution_count": 32,
      "outputs": [
        {
          "output_type": "execute_result",
          "data": {
            "text/plain": [
              "222"
            ]
          },
          "metadata": {
            "tags": []
          },
          "execution_count": 32
        }
      ]
    },
    {
      "cell_type": "code",
      "metadata": {
        "colab": {
          "base_uri": "https://localhost:8080/"
        },
        "id": "BDqArQYsTgaa",
        "outputId": "d4fd05c0-d39d-494d-a8be-cd947e6ad62a"
      },
      "source": [
        "len(syl_lyrics)"
      ],
      "execution_count": 33,
      "outputs": [
        {
          "output_type": "execute_result",
          "data": {
            "text/plain": [
              "399"
            ]
          },
          "metadata": {
            "tags": []
          },
          "execution_count": 33
        }
      ]
    },
    {
      "cell_type": "code",
      "metadata": {
        "colab": {
          "base_uri": "https://localhost:8080/"
        },
        "id": "r0H-auVvTh7Y",
        "outputId": "cc357020-7540-4fce-ccdd-49e3de289802"
      },
      "source": [
        "222/399"
      ],
      "execution_count": 34,
      "outputs": [
        {
          "output_type": "execute_result",
          "data": {
            "text/plain": [
              "0.556390977443609"
            ]
          },
          "metadata": {
            "tags": []
          },
          "execution_count": 34
        }
      ]
    },
    {
      "cell_type": "code",
      "metadata": {
        "id": "PDsTMOfhTjIf"
      },
      "source": [
        ""
      ],
      "execution_count": null,
      "outputs": []
    }
  ]
}
