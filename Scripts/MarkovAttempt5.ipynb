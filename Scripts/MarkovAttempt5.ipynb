{
  "nbformat": 4,
  "nbformat_minor": 0,
  "metadata": {
    "kernelspec": {
      "display_name": "Python 3",
      "language": "python",
      "name": "python3"
    },
    "language_info": {
      "codemirror_mode": {
        "name": "ipython",
        "version": 3
      },
      "file_extension": ".py",
      "mimetype": "text/x-python",
      "name": "python",
      "nbconvert_exporter": "python",
      "pygments_lexer": "ipython3",
      "version": "3.8.3"
    },
    "colab": {
      "name": "MarkovAttempt4.ipynb",
      "provenance": [],
      "collapsed_sections": []
    }
  },
  "cells": [
    {
      "cell_type": "code",
      "metadata": {
        "id": "OsnsZh72-hH0"
      },
      "source": [
        "# Markov Attempt 4 \r\n",
        "# All lyrics - way more lines made - same rhyme ranker as in attempt 1\r\n",
        "# Changelog: \r\n",
        "# - Uploaded the fuction for updating the bad words. \r\n",
        "# - Uploaded a new function for recursively importing the cleaned lyrics. This way it's always updated. \r\n",
        "# - Changed the way which words are capitalized with a capitals.csv which can be changed easily\r\n",
        "# - Made the imports faster by changing the folder hierarchy \r\n",
        "# - Added the ability to change main branch, not advised to use tho"
      ],
      "execution_count": null,
      "outputs": []
    },
    {
      "cell_type": "code",
      "metadata": {
        "colab": {
          "base_uri": "https://localhost:8080/"
        },
        "id": "yQph78-g-hIE",
        "outputId": "a9786214-d845-4934-9296-d99770c600b8"
      },
      "source": [
        "!pip install PyGithub\r\n",
        "\r\n",
        "# Package Imports\r\n",
        "import random\r\n",
        "import pandas as pd \r\n",
        "import numpy as np\r\n",
        "import matplotlib.pyplot as plt \r\n",
        "from urllib.request import urlopen # The default requests package\r\n",
        "import requests # For making GitHub requests\r\n",
        "from pprint import pprint # For pretty printing\r\n",
        "from pathlib import Path # The Path class\r\n",
        "\r\n",
        "# For the more advanced requests\r\n",
        "import base64\r\n",
        "import os\r\n",
        "import sys\r\n",
        "sys.path.append(\"./PyGithub\");\r\n",
        "from github import Github\r\n",
        "from getpass import getpass"
      ],
      "execution_count": 2,
      "outputs": [
        {
          "output_type": "stream",
          "text": [
            "Collecting PyGithub\n",
            "\u001b[?25l  Downloading https://files.pythonhosted.org/packages/18/44/df78514f2b5f5abaec330596e0fa3273824238399a964d1a7e82fd39990d/PyGithub-1.54.1-py3-none-any.whl (289kB)\n",
            "\r\u001b[K     |█▏                              | 10kB 18.5MB/s eta 0:00:01\r\u001b[K     |██▎                             | 20kB 25.6MB/s eta 0:00:01\r\u001b[K     |███▍                            | 30kB 24.2MB/s eta 0:00:01\r\u001b[K     |████▌                           | 40kB 18.6MB/s eta 0:00:01\r\u001b[K     |█████▊                          | 51kB 14.8MB/s eta 0:00:01\r\u001b[K     |██████▉                         | 61kB 16.8MB/s eta 0:00:01\r\u001b[K     |████████                        | 71kB 13.3MB/s eta 0:00:01\r\u001b[K     |█████████                       | 81kB 14.5MB/s eta 0:00:01\r\u001b[K     |██████████▏                     | 92kB 14.9MB/s eta 0:00:01\r\u001b[K     |███████████▍                    | 102kB 14.8MB/s eta 0:00:01\r\u001b[K     |████████████▌                   | 112kB 14.8MB/s eta 0:00:01\r\u001b[K     |█████████████▋                  | 122kB 14.8MB/s eta 0:00:01\r\u001b[K     |██████████████▊                 | 133kB 14.8MB/s eta 0:00:01\r\u001b[K     |███████████████▉                | 143kB 14.8MB/s eta 0:00:01\r\u001b[K     |█████████████████               | 153kB 14.8MB/s eta 0:00:01\r\u001b[K     |██████████████████▏             | 163kB 14.8MB/s eta 0:00:01\r\u001b[K     |███████████████████▎            | 174kB 14.8MB/s eta 0:00:01\r\u001b[K     |████████████████████▍           | 184kB 14.8MB/s eta 0:00:01\r\u001b[K     |█████████████████████▌          | 194kB 14.8MB/s eta 0:00:01\r\u001b[K     |██████████████████████▊         | 204kB 14.8MB/s eta 0:00:01\r\u001b[K     |███████████████████████▉        | 215kB 14.8MB/s eta 0:00:01\r\u001b[K     |█████████████████████████       | 225kB 14.8MB/s eta 0:00:01\r\u001b[K     |██████████████████████████      | 235kB 14.8MB/s eta 0:00:01\r\u001b[K     |███████████████████████████▏    | 245kB 14.8MB/s eta 0:00:01\r\u001b[K     |████████████████████████████▍   | 256kB 14.8MB/s eta 0:00:01\r\u001b[K     |█████████████████████████████▌  | 266kB 14.8MB/s eta 0:00:01\r\u001b[K     |██████████████████████████████▋ | 276kB 14.8MB/s eta 0:00:01\r\u001b[K     |███████████████████████████████▊| 286kB 14.8MB/s eta 0:00:01\r\u001b[K     |████████████████████████████████| 296kB 14.8MB/s \n",
            "\u001b[?25hCollecting pyjwt<2.0\n",
            "  Downloading https://files.pythonhosted.org/packages/87/8b/6a9f14b5f781697e51259d81657e6048fd31a113229cf346880bb7545565/PyJWT-1.7.1-py2.py3-none-any.whl\n",
            "Requirement already satisfied: requests>=2.14.0 in /usr/local/lib/python3.6/dist-packages (from PyGithub) (2.23.0)\n",
            "Collecting deprecated\n",
            "  Downloading https://files.pythonhosted.org/packages/d4/56/7d4774533d2c119e1873993d34d313c9c9efc88c5e4ab7e33bdf915ad98c/Deprecated-1.2.11-py2.py3-none-any.whl\n",
            "Requirement already satisfied: idna<3,>=2.5 in /usr/local/lib/python3.6/dist-packages (from requests>=2.14.0->PyGithub) (2.10)\n",
            "Requirement already satisfied: certifi>=2017.4.17 in /usr/local/lib/python3.6/dist-packages (from requests>=2.14.0->PyGithub) (2020.12.5)\n",
            "Requirement already satisfied: urllib3!=1.25.0,!=1.25.1,<1.26,>=1.21.1 in /usr/local/lib/python3.6/dist-packages (from requests>=2.14.0->PyGithub) (1.24.3)\n",
            "Requirement already satisfied: chardet<4,>=3.0.2 in /usr/local/lib/python3.6/dist-packages (from requests>=2.14.0->PyGithub) (3.0.4)\n",
            "Requirement already satisfied: wrapt<2,>=1.10 in /usr/local/lib/python3.6/dist-packages (from deprecated->PyGithub) (1.12.1)\n",
            "Installing collected packages: pyjwt, deprecated, PyGithub\n",
            "Successfully installed PyGithub-1.54.1 deprecated-1.2.11 pyjwt-1.7.1\n"
          ],
          "name": "stdout"
        }
      ]
    },
    {
      "cell_type": "code",
      "metadata": {
        "id": "9N624BVtBsmy"
      },
      "source": [
        "# Recursively Import the Data (AUTOMATIC)\r\n",
        "\r\n",
        "def _decode_and_write(file__, path_):\r\n",
        "  data = file__.decoded_content\r\n",
        "  data = data.decode('utf-8')[1:]\r\n",
        "  with open(path_, 'w') as writefile:\r\n",
        "    writefile.write(data) \r\n",
        "  data = data.splitlines()\r\n",
        "  data_rows = []\r\n",
        "  for count, word in enumerate(data):\r\n",
        "    if count>0:\r\n",
        "      data_rows.append(word.split(','))\r\n",
        "  data = pd.DataFrame(data_rows)\r\n",
        "  data = data.to_numpy()\r\n",
        "  return data\r\n",
        "\r\n",
        "\r\n",
        "def import_github(path_name=\"AllLyrics.txt\"):\r\n",
        "  \"\"\"\r\n",
        "  Function for importing the github file\r\n",
        "  path_name: str\r\n",
        "  output: None\r\n",
        "  \"\"\"\r\n",
        "  g = Github(getpass(\"Enter your PAT key \")) # Enter your PAT Key.\r\n",
        "  username = \"MikeMNelhams\"\r\n",
        "  main_branch_bool = input(\"Main Branch: Yes or No? \")\r\n",
        "  yes_synonyms = [\"yes\", \"y\", \"yh\", \"1\", \"true\"]\r\n",
        "  if main_branch_bool.lower() in yes_synonyms: \r\n",
        "    branch = \"master\" \r\n",
        "  else: \r\n",
        "    branch = \"PROTOTYPE\"\r\n",
        "\r\n",
        "  user = g.get_user(username)\r\n",
        "  for repo in g.get_user().get_repos():\r\n",
        "      if repo.name == \"ai-group-project-Team-JMJM\":\r\n",
        "        r_proj_clone = repo\r\n",
        "        break\r\n",
        "      # To see all the available attributes and methods\r\n",
        "      print(dir(repo))\r\n",
        "\r\n",
        "  print(\"Importing Github cleaned text files...\")\r\n",
        "  contents = repo.get_contents(\"RapLyrics/CLEAN\", ref=branch)\r\n",
        "  RAP_DATA = []\r\n",
        "  for file_ in contents:\r\n",
        "    path = file_.path\r\n",
        "    path = str(path) \r\n",
        "    # Only choose the .txt files\r\n",
        "    if path[-4:] == '.txt':\r\n",
        "      # Append the Lyrics\r\n",
        "      RAP_DATA.append(file_.decoded_content.decode(\"utf-8\")) \r\n",
        "  \r\n",
        "  temp_path = Path(path_name)\r\n",
        "  if temp_path.is_file():\r\n",
        "    with open(path_name, 'r') as temp_read: \r\n",
        "      if os.stat(path_name).st_size == 0:\r\n",
        "        write_bool2 = True\r\n",
        "      else: \r\n",
        "        write_bool2 = False\r\n",
        "  else: \r\n",
        "    write_bool2 = True\r\n",
        "  \r\n",
        "  if write_bool2: \r\n",
        "    for lyric in RAP_DATA: \r\n",
        "      try:\r\n",
        "         with open(path_name, 'w') as writefile: \r\n",
        "          writefile.write(lyric)\r\n",
        "      except: \r\n",
        "        print(\"Error, file moved/deleted during write\")\r\n",
        "    print(\"{} is now up to date!\".format(path_name))\r\n",
        "  else: \r\n",
        "    print(\"{} is already up to date!\".format(path_name))\r\n",
        "  \r\n",
        "  contents = repo.get_contents(\"RapLyrics/Other\", ref=branch)\r\n",
        "  for counter, file_ in enumerate(contents):\r\n",
        "    path = file_.path\r\n",
        "    path = str(path) \r\n",
        "\r\n",
        "    title_start = path.find('Other')\r\n",
        "    title_len = path[title_start:].find('.')\r\n",
        "    path = path[title_start + 6:title_start + title_len + 4]\r\n",
        "\r\n",
        "    print(\"Writing file {} {}\".format(counter, path))\r\n",
        "    temp_path = Path(path)\r\n",
        "    if temp_path.is_file():\r\n",
        "      with open(path,'w'): pass # Cheeky way to clear the file if it exists\r\n",
        "    \r\n",
        "    # Split the long string into a list of lines, then split by words, then put into a csv, then to numpy array \r\n",
        "    data = file_.decoded_content\r\n",
        "    data = data.decode('utf-8')[1:]\r\n",
        "\r\n",
        "    with open(path, 'w') as writefile:\r\n",
        "        writefile.write(data) \r\n",
        "    print(\"All files now up to date!\")\r\n",
        "\r\n",
        "\r\n",
        "def update_github(write_bool=False, path_name=\"AllLyrics.txt\"):\r\n",
        "  \"\"\"\r\n",
        "  Function for updating the github file, by cleaning the lyrics, optional write to txt file. \r\n",
        "  write_bool: bool\r\n",
        "  path_name: str\r\n",
        "  output: None\r\n",
        "  \"\"\"\r\n",
        "  g = Github(getpass(\"Enter your PAT key \")) # Enter your PAT Key.\r\n",
        "  username = \"MikeMNelhams\"\r\n",
        "  main_branch_bool = input(\"Main Branch: Yes or No? \")\r\n",
        "  yes_synonyms = [\"yes\", \"y\", \"yh\", \"1\", \"true\"]\r\n",
        "  if main_branch_bool.lower() in yes_synonyms: \r\n",
        "    branch = \"master\" \r\n",
        "  else: \r\n",
        "    branch = \"PROTOTYPE\"\r\n",
        "\r\n",
        "  user = g.get_user(username)\r\n",
        "  for repo in g.get_user().get_repos():\r\n",
        "      if repo.name == \"ai-group-project-Team-JMJM\":\r\n",
        "        r_proj_clone = repo\r\n",
        "        break\r\n",
        "      # To see all the available attributes and methods\r\n",
        "      print(dir(repo))\r\n",
        "  print(\"Importing editing csv files...\")\r\n",
        "\r\n",
        "  # Split the long string into a list of lines, then split by words, then put into a csv, then to numpy arr\r\n",
        "  contents = repo.get_contents(\"RapLyrics/Other\", ref=branch)\r\n",
        "  for counter, file_ in enumerate(contents):\r\n",
        "    path = file_.path \r\n",
        "    path = str(path)\r\n",
        "    title_start = path.find('Other')\r\n",
        "    title_len = path[title_start:].find('.')\r\n",
        "    name = path[title_start + 6:title_start + title_len + 4]\r\n",
        "    print(\"Writing file {} {}\".format(counter, name))\r\n",
        "    if name.lower() == \"censors.csv\":\r\n",
        "      censors = _decode_and_write(file_, path)\r\n",
        "    elif name.lower() == \"capitals.csv\":\r\n",
        "      capitals = _decode_and_write(file_, path)\r\n",
        "    else: \r\n",
        "      _decode_and_write(file_, path)\r\n",
        "  print(\"All editing csv files are up to date!\")\r\n",
        "\r\n",
        "  print(\"Importing Github uncleaned text files...\")\r\n",
        "  contents = repo.get_contents(\"RapLyrics/UNCLEAN\", ref=branch)\r\n",
        "\r\n",
        "  RAP_DATA = []\r\n",
        "  rap_lyric_names = []\r\n",
        "\r\n",
        "  for file_ in contents:\r\n",
        "    path = file_.path\r\n",
        "    path = str(path) \r\n",
        "    # Only choose the .txt files\r\n",
        "    if path[-4:] == '.txt':\r\n",
        "\r\n",
        "      # Append the name\r\n",
        "      title_start = path.find('UNCLEAN')\r\n",
        "      title_len = path[title_start:].find('.')\r\n",
        "      name = path[title_start + 8:title_start + title_len]\r\n",
        "      if name[-2:] == 'UC':\r\n",
        "        name = name[:-2]\r\n",
        "      rap_lyric_names.append(name) \r\n",
        "\r\n",
        "      # Append the Lyrics\r\n",
        "      RAP_DATA.append(file_.decoded_content.decode(\"utf-8\")) \r\n",
        "      \r\n",
        "  # Remove the \\ufeff at the beginning O(n)\r\n",
        "  for count, lyric in enumerate(RAP_DATA): \r\n",
        "    RAP_DATA[count] = lyric[1:]\r\n",
        "\r\n",
        "  # Censor the profanities O(n*m + n*m2) m > m2 xor m2 > m\r\n",
        "  for count in range(len(RAP_DATA)): \r\n",
        "    for i in range(len(censors[0:])):\r\n",
        "      RAP_DATA[count] = RAP_DATA[count].replace(str(censors[i, 0]), str(censors[i, 1]))\r\n",
        "    for i in range(len(capitals[0:])):\r\n",
        "      RAP_DATA[count] = RAP_DATA[count].replace(str(capitals[i, 0]), str(capitals[i, 1]))\r\n",
        "\r\n",
        "  contents = repo.get_contents(\"RapLyrics/CLEAN\", ref=branch)\r\n",
        "  cleaned_names = []\r\n",
        "  for counter, file_ in enumerate(contents):\r\n",
        "    path = file_.path\r\n",
        "    path = str(path) \r\n",
        "    print(\"File {} \".format(counter + 1) + path)\r\n",
        "    # Only choose the .txt files\r\n",
        "    if path[-4:] == '.txt':\r\n",
        "      # Append the name\r\n",
        "      title_start = path.find('CLEAN')\r\n",
        "      title_len = path[title_start:].find('.')\r\n",
        "      name = path[title_start + 6:title_start + title_len]\r\n",
        "      if name[-2:] == 'CL':\r\n",
        "        name = name[:-2]\r\n",
        "      cleaned_names.append(name) \r\n",
        "\r\n",
        "  # ALL OF THE EDITING IS DONE IN THE 'PROTOTYPE BRANCH' to avoid overwriting import changes\r\n",
        "  # If the (now cleaned) rap_lyrics name is new (not in cleaned_names), then we want to create that as a new file \r\n",
        "  # If the (now cleaned) rap_lyrics name is NOT new (not in cleaned_names), then we want to update the file\r\n",
        "  # print(rap_lyric_names)\r\n",
        "  # print(cleaned_names)\r\n",
        "  print(\"Commiting files to github...\")\r\n",
        "  for counter, new_name in enumerate(rap_lyric_names): \r\n",
        "    if new_name in cleaned_names: \r\n",
        "      duplicate = repo.get_contents(\"RapLyrics/CLEAN/{}CL.txt\".format(new_name), ref=branch)\r\n",
        "      repo.update_file(\"RapLyrics/CLEAN/{}CL.txt\".format(new_name), \"This was uploaded automatically via pipeline\", RAP_DATA[counter], duplicate.sha, branch=branch)\r\n",
        "    else:\r\n",
        "      repo.create_file(\"RapLyrics/CLEAN/{}CL.txt\".format(new_name), \"This was uploaded automatically via pipeline\", RAP_DATA[counter], branch=branch)\r\n",
        "\r\n",
        "  if write_bool: \r\n",
        "    print(\"Writing text file to: {}\".format(path_name))\r\n",
        "    with open(path_name, 'w') as writefile:\r\n",
        "      for lyric in RAP_DATA:\r\n",
        "        writefile.write(lyric)"
      ],
      "execution_count": 39,
      "outputs": []
    },
    {
      "cell_type": "code",
      "metadata": {
        "colab": {
          "base_uri": "https://localhost:8080/"
        },
        "id": "5On3o1fS-hIG",
        "outputId": "454ca344-83d9-4d88-b1d4-9dd71804115f"
      },
      "source": [
        "# Import all of Mike's lyrics. PATKEY: 5ae2446bd5828c9e27deb3865118d9e783aa6e15\n",
        "import_github()"
      ],
      "execution_count": 38,
      "outputs": [
        {
          "output_type": "stream",
          "text": [
            "Enter your PAT key ··········\n",
            "Main Branch: Yes or No? No\n",
            "Importing Github cleaned text files...\n",
            "AllLyrics.txt is already up to date!\n",
            "Writing file 0 Capitals.csv\n",
            "All files now up to date!\n",
            "Writing file 1 censors.csv\n",
            "All files now up to date!\n"
          ],
          "name": "stdout"
        }
      ]
    },
    {
      "cell_type": "code",
      "metadata": {
        "id": "PWGUsctgpGVp"
      },
      "source": [
        "# Extract all of Mike's lyrics. \r\n",
        "Text = open(\"AllLyrics.txt\", \"r\").read()\r\n",
        "Vocabulary = ''.join([i for i in Text if not i.isdigit()]).replace(\"\\n\", \" \").split(' ')\r\n",
        "# print(Vocabulary)"
      ],
      "execution_count": 40,
      "outputs": []
    },
    {
      "cell_type": "code",
      "metadata": {
        "id": "HCVNs1ZL-hII"
      },
      "source": [
        "# Generate text\n",
        "def line_generator(Vocabulary):\n",
        "    index = 1\n",
        "    chain = {}\n",
        "    count = random.randint(6, 12) # Why 6 and 12?\n",
        "    \n",
        "    for word in Vocabulary[index:]:\n",
        "        key = Vocabulary[index-1]\n",
        "        if key in chain:\n",
        "            chain[key].append(word)\n",
        "        else:\n",
        "            chain[key] = [word]\n",
        "        index += 1\n",
        "        \n",
        "    word1 = random.choice(list(chain.keys()))\n",
        "    line = word1.capitalize()\n",
        "\n",
        "    while len(line.split(' ')) < count:\n",
        "        word2 = random.choice(chain[word1])\n",
        "        word1 = word2\n",
        "        line += ' ' + word2.lower()\n",
        "    return line"
      ],
      "execution_count": 41,
      "outputs": []
    },
    {
      "cell_type": "code",
      "metadata": {
        "colab": {
          "base_uri": "https://localhost:8080/",
          "height": 35
        },
        "id": "aLOz6Mxe-hIJ",
        "outputId": "416cd534-8b9d-4e6b-a7b3-68236cecf145"
      },
      "source": [
        "line_generator(Vocabulary)"
      ],
      "execution_count": 42,
      "outputs": [
        {
          "output_type": "execute_result",
          "data": {
            "application/vnd.google.colaboratory.intrinsic+json": {
              "type": "string"
            },
            "text/plain": [
              "'Will shake thats all in the thigh'"
            ]
          },
          "metadata": {
            "tags": []
          },
          "execution_count": 42
        }
      ]
    },
    {
      "cell_type": "code",
      "metadata": {
        "id": "c63Bv0mv-hIM"
      },
      "source": [
        "# Insert rhyme functions\n",
        "def reverse_syllable_extract(text):\n",
        "    sy_form = []\n",
        "    characters = [char for char in text]\n",
        "    sylls = ['a', 'e', 'i', 'o', 'u']\n",
        "    for x in characters:\n",
        "        if x in sylls:\n",
        "            sy_form.append(x)\n",
        "    sy_form.reverse()\n",
        "    return sy_form\n",
        "\n",
        "def rev_syllable_stop_count(text1, text2):\n",
        "    count = True \n",
        "    i = 0\n",
        "    counter = 0\n",
        "    syll1 = reverse_syllable_extract(text1)\n",
        "    syll2 = reverse_syllable_extract(text2)\n",
        "    while count == True:\n",
        "        if i < min(len(syll1), len(syll2)) and syll1[i] == syll2[i]:\n",
        "            counter += 1\n",
        "            i += 1\n",
        "        else:\n",
        "            count = False\n",
        "    return counter\n",
        "\n",
        "def next_line_stop_count(start_line, lines):\n",
        "    sy_lines = []\n",
        "    for i in lines:\n",
        "        sy_lines.append(rev_syllable_stop_count(start_line, i))\n",
        "    choice = sy_lines[0]\n",
        "    count = 0\n",
        "    for i in range(len(sy_lines)):\n",
        "        if sy_lines[i] > choice:\n",
        "            choice = sy_lines[i]\n",
        "    return lines[sy_lines.index(choice)]"
      ],
      "execution_count": 43,
      "outputs": []
    },
    {
      "cell_type": "code",
      "metadata": {
        "id": "YHUyuTtU-hIN"
      },
      "source": [
        "# Now move to generate a 20 line rap"
      ],
      "execution_count": 44,
      "outputs": []
    },
    {
      "cell_type": "code",
      "metadata": {
        "id": "r0MJasLs-hIN"
      },
      "source": [
        "# Will generate 1000 lines using line_generator then from first generated line pick next best line by rhyme 19 times"
      ],
      "execution_count": 45,
      "outputs": []
    },
    {
      "cell_type": "code",
      "metadata": {
        "id": "_ts0XgQe-hIO"
      },
      "source": [
        "def generate_rap(Vocabulary):\n",
        "    start_line = line_generator(Vocabulary)\n",
        "    all_other_lines = [line_generator(Vocabulary) for i in range(999)]\n",
        "    rap = [start_line]\n",
        "    \n",
        "    for i in range (19):\n",
        "        next_line = next_line_stop_count(rap[len(rap) - 1], all_other_lines)\n",
        "        all_other_lines.remove(next_line)\n",
        "        rap.append(next_line)\n",
        "    return rap"
      ],
      "execution_count": 46,
      "outputs": []
    },
    {
      "cell_type": "code",
      "metadata": {
        "colab": {
          "base_uri": "https://localhost:8080/"
        },
        "id": "v-wZ6Nfm-hIP",
        "outputId": "d17c1181-e38a-4d85-a52c-7195b925df0d"
      },
      "source": [
        "generate_rap(Vocabulary)"
      ],
      "execution_count": 47,
      "outputs": [
        {
          "output_type": "execute_result",
          "data": {
            "text/plain": [
              "['Sold out fuck a gun toting',\n",
              " 'Clearest silencers on some you know i',\n",
              " 'Dungarees and i need to lil gotti',\n",
              " 'Section drugs by eight on pressin on i',\n",
              " 'Pop im frickin players timbs for big',\n",
              " 'Swords for you and papes big up mad question i',\n",
              " 'Barbeques drinkin cristal tonight if that b***** im going',\n",
              " 'Explained our business i swear they light one all i dont think',\n",
              " 'Intricate plot of the gats in serious poop is mine lookin',\n",
              " 'The notorious known to giggle say everybody know is my',\n",
              " 'That and im swayze celebrate my own porno flicks',\n",
              " 'Me and a bag to do it',\n",
              " 'Sixpacks while i got you get dark it turns ooh im',\n",
              " 'Chain all you would wiggle now its',\n",
              " 'Boxers so the world dont wanna die on this n',\n",
              " 'Cheers to rub my daughter twelve months in',\n",
              " 'Thong either im a better strip i get hardcore rap phenomenon this',\n",
              " 'Feel a tight like em i know that chorus raekwon we comin',\n",
              " 'Believing im missin us a fiver strobes going',\n",
              " 'Attention these boricua mommies the moet popping']"
            ]
          },
          "metadata": {
            "tags": []
          },
          "execution_count": 47
        }
      ]
    },
    {
      "cell_type": "code",
      "metadata": {
        "id": "dW9SRl8X-hIQ"
      },
      "source": [
        "# I've left it as a list with strings as the lines, we can have fun improving things if we think this is a good start"
      ],
      "execution_count": null,
      "outputs": []
    },
    {
      "cell_type": "code",
      "metadata": {
        "id": "w__HYsbI-hIQ"
      },
      "source": [
        "# The above has taken ages to load as has made 1000 lines then compared each one to try and find the best next!\n",
        "# Also the vocab is much longer now"
      ],
      "execution_count": null,
      "outputs": []
    }
  ]
}