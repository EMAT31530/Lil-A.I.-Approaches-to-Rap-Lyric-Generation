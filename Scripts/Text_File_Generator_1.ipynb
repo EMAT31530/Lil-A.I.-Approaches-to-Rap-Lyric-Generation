{
  "nbformat": 4,
  "nbformat_minor": 0,
  "metadata": {
    "colab": {
      "name": "Text File Generator 1.ipynb",
      "provenance": [],
      "collapsed_sections": []
    },
    "kernelspec": {
      "name": "python3",
      "display_name": "Python 3"
    }
  },
  "cells": [
    {
      "cell_type": "code",
      "metadata": {
        "id": "7_V4PoXtzfeN"
      },
      "source": [
        "# Here we add to our smaller datasets for our lyrics for classifiers"
      ],
      "execution_count": null,
      "outputs": []
    },
    {
      "cell_type": "code",
      "metadata": {
        "id": "TKeNXrnI_stt"
      },
      "source": [
        "pip install lyricsgenius"
      ],
      "execution_count": null,
      "outputs": []
    },
    {
      "cell_type": "code",
      "metadata": {
        "colab": {
          "base_uri": "https://localhost:8080/"
        },
        "id": "R31WwV4_zmIN",
        "outputId": "bc4f7c5c-3262-43a8-b4e5-ba4499f8d0f0"
      },
      "source": [
        "from google.colab import drive\n",
        "drive.mount('/content/drive')"
      ],
      "execution_count": 1,
      "outputs": [
        {
          "output_type": "stream",
          "text": [
            "Mounted at /content/drive\n"
          ],
          "name": "stdout"
        }
      ]
    },
    {
      "cell_type": "code",
      "metadata": {
        "id": "qJvEeeyA4RLI"
      },
      "source": [
        "import lyricsgenius as genius\n",
        "geniusAPI = genius.Genius('PLShB4SOQuTmvM1CVHENbZT688BEn_DscFT2o9uVyOdjvbzIsG91altDHoHJEbtB', skip_non_songs=True, excluded_terms=[\"(Remix)\", \"(Live)\"], remove_section_headers=True)"
      ],
      "execution_count": null,
      "outputs": []
    },
    {
      "cell_type": "code",
      "metadata": {
        "id": "-wdtCyDezmKd"
      },
      "source": [
        "# upload what we have \n",
        "# All Rock\n",
        "rock1 = open('/content/drive/My Drive/Colab Notebooks/AllRock.txt', 'r').read()\n",
        "rock = ''.join([i for i in rock1 if not i.isdigit()]).replace(\"\\n\", \" \").lower().replace(\".\", \"\").replace(\"!\", \"\").replace(\"?\", \"\").replace(\",\", \"\").replace(\"\", \"\").replace(\"'\", \"\").replace(\")\", \"\").replace(\"(\", \"\").split(' ')\n",
        "# All Pop\n",
        "pop1 = open('/content/drive/My Drive/Colab Notebooks/AllPop.txt', 'r').read()\n",
        "pop = ''.join([i for i in pop1 if not i.isdigit()]).replace(\"\\n\", \" \").lower().replace(\".\", \"\").replace(\"!\", \"\").replace(\"?\", \"\").replace(\",\", \"\").replace(\"\", \"\").replace(\"'\", \"\").replace(\")\", \"\").replace(\"(\", \"\").split(' ')\n",
        "# All Country\n",
        "country1 = open('/content/drive/My Drive/Colab Notebooks/AllCountry.txt', 'r').read()\n",
        "country = ''.join([i for i in country1 if not i.isdigit()]).replace(\"\\n\", \" \").lower().replace(\".\", \"\").replace(\"!\", \"\").replace(\"?\", \"\").replace(\",\", \"\").replace(\"\", \"\").replace(\"'\", \"\").replace(\")\", \"\").replace(\"(\", \"\").split(' ')\n",
        "# All Rap\n",
        "rap1 = open('/content/drive/My Drive/Colab Notebooks/AllLyrics.txt', 'r').read()\n",
        "rap = ''.join([i for i in rap1 if not i.isdigit()]).replace(\"\\n\", \" \").lower().replace(\".\", \"\").replace(\"!\", \"\").replace(\"?\", \"\").replace(\",\", \"\").replace(\"\", \"\").replace(\"'\", \"\").replace(\")\", \"\").replace(\"(\", \"\").split(' ')"
      ],
      "execution_count": 178,
      "outputs": []
    },
    {
      "cell_type": "code",
      "metadata": {
        "colab": {
          "base_uri": "https://localhost:8080/"
        },
        "id": "slROT8hQnmB9",
        "outputId": "16644c32-b0be-44a3-d8e2-6ec1ecc3f4a9"
      },
      "source": [
        "len(rock)"
      ],
      "execution_count": 179,
      "outputs": [
        {
          "output_type": "execute_result",
          "data": {
            "text/plain": [
              "72424"
            ]
          },
          "metadata": {
            "tags": []
          },
          "execution_count": 179
        }
      ]
    },
    {
      "cell_type": "code",
      "metadata": {
        "colab": {
          "base_uri": "https://localhost:8080/"
        },
        "id": "zwYuaCrHnnRP",
        "outputId": "57ccc25c-2e86-43d7-b77a-8200c69f6bf0"
      },
      "source": [
        "len(pop)"
      ],
      "execution_count": 180,
      "outputs": [
        {
          "output_type": "execute_result",
          "data": {
            "text/plain": [
              "96752"
            ]
          },
          "metadata": {
            "tags": []
          },
          "execution_count": 180
        }
      ]
    },
    {
      "cell_type": "code",
      "metadata": {
        "colab": {
          "base_uri": "https://localhost:8080/"
        },
        "id": "E8Tk1H3jnoZj",
        "outputId": "bda140ba-ab56-4db5-929f-a4f0e2ea6c56"
      },
      "source": [
        "len(country)"
      ],
      "execution_count": 5,
      "outputs": [
        {
          "output_type": "execute_result",
          "data": {
            "text/plain": [
              "40133"
            ]
          },
          "metadata": {
            "tags": []
          },
          "execution_count": 5
        }
      ]
    },
    {
      "cell_type": "code",
      "metadata": {
        "colab": {
          "base_uri": "https://localhost:8080/"
        },
        "id": "s_x8Dus9npyM",
        "outputId": "d833e63d-82b1-42fd-a447-5f8a30c52eb1"
      },
      "source": [
        "len(rap)"
      ],
      "execution_count": 6,
      "outputs": [
        {
          "output_type": "execute_result",
          "data": {
            "text/plain": [
              "316190"
            ]
          },
          "metadata": {
            "tags": []
          },
          "execution_count": 6
        }
      ]
    },
    {
      "cell_type": "code",
      "metadata": {
        "id": "HxJDK2jmrFU4"
      },
      "source": [
        "def search_for_top_n_songs(artists, n):\n",
        "  for artist in artists:\n",
        "    songs = (geniusAPI.search_artist(artist, max_songs=n, sort='popularity')).songs"
      ],
      "execution_count": 130,
      "outputs": []
    },
    {
      "cell_type": "code",
      "metadata": {
        "colab": {
          "base_uri": "https://localhost:8080/"
        },
        "id": "_Af0_0pVtAjy",
        "outputId": "5b98beb6-8cd2-4492-ef2a-89e87c59382c"
      },
      "source": [
        "artist = ['John Denver']\n",
        "search_for_top_n_songs(artist, 3)"
      ],
      "execution_count": 64,
      "outputs": [
        {
          "output_type": "stream",
          "text": [
            "Searching for songs by John Denver...\n",
            "\n",
            "Song 1: \"Take Me Home, Country Roads\"\n",
            "Song 2: \"Annie’s Song\"\n",
            "Song 3: \"Leaving on a Jet Plane\"\n",
            "\n",
            "Reached user-specified song limit (3).\n",
            "Done. Found 3 songs.\n"
          ],
          "name": "stdout"
        },
        {
          "output_type": "execute_result",
          "data": {
            "text/plain": [
              "[Song(id, artist, ...), Song(id, artist, ...), Song(id, artist, ...)]"
            ]
          },
          "metadata": {
            "tags": []
          },
          "execution_count": 64
        }
      ]
    },
    {
      "cell_type": "code",
      "metadata": {
        "id": "8y9G8g0quzWf"
      },
      "source": [
        "# return lyrics for a single song\n",
        "def getLyric(song, artist):\n",
        "  return geniusAPI.search_song(song, artist).lyrics"
      ],
      "execution_count": 79,
      "outputs": []
    },
    {
      "cell_type": "code",
      "metadata": {
        "colab": {
          "base_uri": "https://localhost:8080/",
          "height": 174
        },
        "id": "p0jHSEgXvrY9",
        "outputId": "15fb9338-c6fc-472d-9093-f587ae2453c4"
      },
      "source": [
        "getLyric('Take Me Home, Country Roads', 'John Denver')"
      ],
      "execution_count": 80,
      "outputs": [
        {
          "output_type": "stream",
          "text": [
            "Searching for \"Take Me Home, Country Roads\" by John Denver...\n",
            "Done.\n"
          ],
          "name": "stdout"
        },
        {
          "output_type": "execute_result",
          "data": {
            "application/vnd.google.colaboratory.intrinsic+json": {
              "type": "string"
            },
            "text/plain": [
              "\"Almost Heaven, West Virginia\\nBlue Ridge Mountains, Shenandoah River\\nLife is old there, older than the trees\\nYounger than the mountains, growing like a breeze\\n\\nCountry roads, take me home\\nTo the place I belong\\nWest Virginia, mountain mama\\nTake me home, country roads\\n\\nAll my memories gather 'round her\\nMiner's lady, stranger to blue water\\nDark and dusty, painted on the sky\\nMisty taste of moonshine, teardrop in my eye\\n\\nCountry roads, take me home\\nTo the place I belong\\nWest Virginia, mountain mama\\nTake me home, country roads\\n\\nI hear her voice in the morning hour, she calls me\\nThe radio reminds me of my home far away\\nDriving down the road, I get a feeling\\nThat I should have been home yesterday, yesterday\\n\\nCountry roads, take me home\\nTo the place I belong\\nWest Virginia, mountain mama\\nTake me home, country roads\\nCountry roads, take me home\\nTo the place I belong\\nWest Virginia, mountain mama\\nTake me home, country roads\\n\\nTake me home, (Down) country roads\\nTake me home, (Down) country roads\""
            ]
          },
          "metadata": {
            "tags": []
          },
          "execution_count": 80
        }
      ]
    },
    {
      "cell_type": "code",
      "metadata": {
        "colab": {
          "base_uri": "https://localhost:8080/"
        },
        "id": "64-bJWBkwFx9",
        "outputId": "06d1c784-180d-4b6b-a58e-75f5c3ec87ce"
      },
      "source": [
        "artists = ['John Denver']\n",
        "songs = ['Take Me Home, Country Roads','Annie’s Song']\n",
        "# songs in list\n",
        "a = [getLyric(song, artists) for song in songs]\n",
        "# songs in list with punctuation removed\n",
        "b = [''.join([i]).replace(\"\\n\", \" \").lower().replace(\".\", \"\").replace(\"!\", \"\").replace(\"?\", \"\").replace(\",\", \"\").replace(\"\", \"\").replace(\"'\", \"\").replace(\")\", \"\").replace(\"(\", \"\") for i in a]\n",
        "# one string of all songs\n",
        "c = \" \".join(b)"
      ],
      "execution_count": 117,
      "outputs": [
        {
          "output_type": "stream",
          "text": [
            "Searching for \"Take Me Home, Country Roads\" by ['John Denver']...\n",
            "Done.\n",
            "Searching for \"Annie’s Song\" by ['John Denver']...\n",
            "Done.\n"
          ],
          "name": "stdout"
        }
      ]
    },
    {
      "cell_type": "code",
      "metadata": {
        "colab": {
          "base_uri": "https://localhost:8080/"
        },
        "id": "YRNqqn-pzKNr",
        "outputId": "c59e29e1-e55a-4478-da0a-3396f476c956"
      },
      "source": [
        "b"
      ],
      "execution_count": 119,
      "outputs": [
        {
          "output_type": "execute_result",
          "data": {
            "text/plain": [
              "['almost heaven west virginia blue ridge mountains shenandoah river life is old there older than the trees younger than the mountains growing like a breeze  country roads take me home to the place i belong west virginia mountain mama take me home country roads  all my memories gather round her miners lady stranger to blue water dark and dusty painted on the sky misty taste of moonshine teardrop in my eye  country roads take me home to the place i belong west virginia mountain mama take me home country roads  i hear her voice in the morning hour she calls me the radio reminds me of my home far away driving down the road i get a feeling that i should have been home yesterday yesterday  country roads take me home to the place i belong west virginia mountain mama take me home country roads country roads take me home to the place i belong west virginia mountain mama take me home country roads  take me home down country roads take me home down country roads',\n",
              " 'you fill up my senses like a night in a forest like the mountains in springtime like a walk in the rain like a storm in the desert like a sleepy blue ocean you fill up my senses come fill me again  come let me love you let me give my life to you let me drown in your laughter let me die in your arms let me lay down beside you let me always be with you come let me love you come love me again let me give my life to you come let me love you come love me again  you fill up my senses like a night in a forest like the mountains in springtime like a walk in the rain like a storm in the desert like a sleepy blue ocean you fill up my senses come fill me again']"
            ]
          },
          "metadata": {
            "tags": []
          },
          "execution_count": 119
        }
      ]
    },
    {
      "cell_type": "code",
      "metadata": {
        "id": "mYSKvdNC026q"
      },
      "source": [
        "# if want in function\n",
        "def list_of_songs_by_artists(artists, songs):\n",
        "  a = [getLyric(song, artists) for song in songs]\n",
        "  b = [''.join([i]).replace(\"\\n\", \" \").lower().replace(\".\", \"\").replace(\"!\", \"\").replace(\"?\", \"\").replace(\",\", \"\").replace(\"\", \"\").replace(\"'\", \"\").replace(\")\", \"\").replace(\"(\", \"\") for i in a]\n",
        "  return b"
      ],
      "execution_count": 115,
      "outputs": []
    },
    {
      "cell_type": "code",
      "metadata": {
        "colab": {
          "base_uri": "https://localhost:8080/"
        },
        "id": "d8kqjGBk3DNd",
        "outputId": "8628260a-9afc-421e-9cd1-cb1217eb4b8e"
      },
      "source": [
        "artists = ['John Denver']\n",
        "songs = ['Take Me Home, Country Roads','Annie’s Song']\n",
        "list_of_songs_by_artists(artists, songs)"
      ],
      "execution_count": 116,
      "outputs": [
        {
          "output_type": "stream",
          "text": [
            "Searching for \"Take Me Home, Country Roads\" by ['John Denver']...\n",
            "Done.\n",
            "Searching for \"Annie’s Song\" by ['John Denver']...\n",
            "Done.\n"
          ],
          "name": "stdout"
        },
        {
          "output_type": "execute_result",
          "data": {
            "text/plain": [
              "['almost heaven west virginia blue ridge mountains shenandoah river life is old there older than the trees younger than the mountains growing like a breeze  country roads take me home to the place i belong west virginia mountain mama take me home country roads  all my memories gather round her miners lady stranger to blue water dark and dusty painted on the sky misty taste of moonshine teardrop in my eye  country roads take me home to the place i belong west virginia mountain mama take me home country roads  i hear her voice in the morning hour she calls me the radio reminds me of my home far away driving down the road i get a feeling that i should have been home yesterday yesterday  country roads take me home to the place i belong west virginia mountain mama take me home country roads country roads take me home to the place i belong west virginia mountain mama take me home country roads  take me home down country roads take me home down country roads',\n",
              " 'you fill up my senses like a night in a forest like the mountains in springtime like a walk in the rain like a storm in the desert like a sleepy blue ocean you fill up my senses come fill me again  come let me love you let me give my life to you let me drown in your laughter let me die in your arms let me lay down beside you let me always be with you come let me love you come love me again let me give my life to you come let me love you come love me again  you fill up my senses like a night in a forest like the mountains in springtime like a walk in the rain like a storm in the desert like a sleepy blue ocean you fill up my senses come fill me again']"
            ]
          },
          "metadata": {
            "tags": []
          },
          "execution_count": 116
        }
      ]
    },
    {
      "cell_type": "code",
      "metadata": {
        "colab": {
          "base_uri": "https://localhost:8080/",
          "height": 54
        },
        "id": "T7Vln8td4lu3",
        "outputId": "6bd5a146-a092-48aa-c9b7-0b49b72158f1"
      },
      "source": [
        "'''\n",
        "# try to save in a txt file using c from earlier\n",
        "with open('/content/drive/My Drive/Colab Notebooks/LyricTry.txt', 'w') as writefile:\n",
        "    writefile.write(c)\n",
        "'''"
      ],
      "execution_count": 127,
      "outputs": [
        {
          "output_type": "execute_result",
          "data": {
            "application/vnd.google.colaboratory.intrinsic+json": {
              "type": "string"
            },
            "text/plain": [
              "\"\\n# try to save in a txt file using c from earlier\\nwith open('/content/drive/My Drive/Colab Notebooks/LyricTry.txt', 'w') as writefile:\\n    writefile.write(c)\\n\""
            ]
          },
          "metadata": {
            "tags": []
          },
          "execution_count": 127
        }
      ]
    },
    {
      "cell_type": "code",
      "metadata": {
        "colab": {
          "base_uri": "https://localhost:8080/",
          "height": 140
        },
        "id": "CqIpJ3eu4_zX",
        "outputId": "f8617d62-ffb1-4983-a6e9-8ae6318c1aba"
      },
      "source": [
        "test = open('/content/drive/My Drive/Colab Notebooks/LyricTry.txt', 'r').read()\n",
        "test"
      ],
      "execution_count": 128,
      "outputs": [
        {
          "output_type": "execute_result",
          "data": {
            "application/vnd.google.colaboratory.intrinsic+json": {
              "type": "string"
            },
            "text/plain": [
              "'almost heaven west virginia blue ridge mountains shenandoah river life is old there older than the trees younger than the mountains growing like a breeze  country roads take me home to the place i belong west virginia mountain mama take me home country roads  all my memories gather round her miners lady stranger to blue water dark and dusty painted on the sky misty taste of moonshine teardrop in my eye  country roads take me home to the place i belong west virginia mountain mama take me home country roads  i hear her voice in the morning hour she calls me the radio reminds me of my home far away driving down the road i get a feeling that i should have been home yesterday yesterday  country roads take me home to the place i belong west virginia mountain mama take me home country roads country roads take me home to the place i belong west virginia mountain mama take me home country roads  take me home down country roads take me home down country roads you fill up my senses like a night in a forest like the mountains in springtime like a walk in the rain like a storm in the desert like a sleepy blue ocean you fill up my senses come fill me again  come let me love you let me give my life to you let me drown in your laughter let me die in your arms let me lay down beside you let me always be with you come let me love you come love me again let me give my life to you come let me love you come love me again  you fill up my senses like a night in a forest like the mountains in springtime like a walk in the rain like a storm in the desert like a sleepy blue ocean you fill up my senses come fill me again'"
            ]
          },
          "metadata": {
            "tags": []
          },
          "execution_count": 128
        }
      ]
    },
    {
      "cell_type": "code",
      "metadata": {
        "id": "6wjb8fcF3IP-"
      },
      "source": [
        "# cannot seem to make any better loops than I have - the lyric api seems to always make your artist Kanye West if you try \n",
        "# - have to manually insert from now\n",
        "# not using the function also seems more simple"
      ],
      "execution_count": null,
      "outputs": []
    },
    {
      "cell_type": "code",
      "metadata": {
        "id": "bjshf44g4eDP"
      },
      "source": [
        "# Country\n",
        "# already have Dolly Parton, John Denver, Johnny Cash\n",
        "# want Willie Nelson, George Strait, Waylon Jennings, Kris Kristofferson, Carrie Underwood"
      ],
      "execution_count": null,
      "outputs": []
    },
    {
      "cell_type": "code",
      "metadata": {
        "colab": {
          "base_uri": "https://localhost:8080/"
        },
        "id": "MrIisb_i6XdI",
        "outputId": "194f0ab6-f054-4c82-db91-28f32e2ddb4f"
      },
      "source": [
        "artist = ['Willie Nelson']\n",
        "search_for_top_n_songs(artist, 20)"
      ],
      "execution_count": 131,
      "outputs": [
        {
          "output_type": "stream",
          "text": [
            "Searching for songs by Willie Nelson...\n",
            "\n",
            "Song 1: \"Cruel World\"\n",
            "Song 2: \"On the Road Again\"\n",
            "Song 3: \"I’m My Own Grandpa\"\n",
            "Song 4: \"Blue Eyes Crying in the Rain\"\n",
            "Song 5: \"Buddy\"\n",
            "Song 6: \"Something You Get Through\"\n",
            "Song 7: \"Always on My Mind\"\n",
            "Song 8: \"Hands on the Wheel\"\n",
            "Song 9: \"Seven Spanish Angels\"\n",
            "Song 10: \"Shotgun Willie\"\n",
            "Song 11: \"Red Headed Stranger\"\n",
            "Song 12: \"Whiskey River\"\n",
            "Song 13: \"Stardust\"\n",
            "Song 14: \"Time of the Preacher\"\n",
            "Song 15: \"Last Man Standing\"\n",
            "Song 16: \"Cowboys Are Frequently Secretly Fond of Each Other\"\n",
            "Song 17: \"Blue Skies\"\n",
            "Song 18: \"Me and Paul\"\n",
            "Song 19: \"Don’t Fence Me In\"\n",
            "Song 20: \"Me and You\"\n",
            "\n",
            "Reached user-specified song limit (20).\n",
            "Done. Found 20 songs.\n"
          ],
          "name": "stdout"
        }
      ]
    },
    {
      "cell_type": "code",
      "metadata": {
        "colab": {
          "base_uri": "https://localhost:8080/"
        },
        "id": "DkXDNDeU6TAI",
        "outputId": "3f4e514e-cb60-4f58-f152-0489ee2458bd"
      },
      "source": [
        "artist = ['Willie Nelson']\n",
        "songs = [\"Cruel World\",\"On the Road Again\",\"I’m My Own Grandpa\",\"Blue Eyes Crying in the Rain\",\"Buddy\",\"Something You Get Through\",\n",
        "         \"Always on My Mind\",\"Hands on the Wheel\",\"Seven Spanish Angels\",\"Shotgun Willie\",\"Red Headed Stranger\",\"Whiskey River\",\"Stardust\",\n",
        "         \"Time of the Preacher\",\"Last Man Standing\",\"Cowboys Are Frequently Secretly Fond of Each Other\",\"Blue Skies\",\"Me and Paul\",\n",
        "         \"Don’t Fence Me In\",\"Me and You\"]\n",
        "# songs in list\n",
        "a = [getLyric(song, artist) for song in songs]\n",
        "# songs in list with punctuation removed\n",
        "b = [''.join([i]).replace(\"\\n\", \" \").lower().replace(\".\", \"\").replace(\"!\", \"\").replace(\"?\", \"\").replace(\",\", \"\").replace(\"\", \"\").replace(\"'\", \"\").replace(\")\", \"\").replace(\"(\", \"\") for i in a]\n",
        "# one string of all songs\n",
        "cNelson = \" \".join(b)"
      ],
      "execution_count": 134,
      "outputs": [
        {
          "output_type": "stream",
          "text": [
            "Searching for \"Cruel World\" by ['Willie Nelson']...\n",
            "Done.\n",
            "Searching for \"On the Road Again\" by ['Willie Nelson']...\n",
            "Done.\n",
            "Searching for \"I’m My Own Grandpa\" by ['Willie Nelson']...\n",
            "Done.\n",
            "Searching for \"Blue Eyes Crying in the Rain\" by ['Willie Nelson']...\n",
            "Done.\n",
            "Searching for \"Buddy\" by ['Willie Nelson']...\n",
            "Done.\n",
            "Searching for \"Something You Get Through\" by ['Willie Nelson']...\n",
            "Done.\n",
            "Searching for \"Always on My Mind\" by ['Willie Nelson']...\n",
            "Done.\n",
            "Searching for \"Hands on the Wheel\" by ['Willie Nelson']...\n",
            "Done.\n",
            "Searching for \"Seven Spanish Angels\" by ['Willie Nelson']...\n",
            "Done.\n",
            "Searching for \"Shotgun Willie\" by ['Willie Nelson']...\n",
            "Done.\n",
            "Searching for \"Red Headed Stranger\" by ['Willie Nelson']...\n",
            "Done.\n",
            "Searching for \"Whiskey River\" by ['Willie Nelson']...\n",
            "Done.\n",
            "Searching for \"Stardust\" by ['Willie Nelson']...\n",
            "Done.\n",
            "Searching for \"Time of the Preacher\" by ['Willie Nelson']...\n",
            "Done.\n",
            "Searching for \"Last Man Standing\" by ['Willie Nelson']...\n",
            "Done.\n",
            "Searching for \"Cowboys Are Frequently Secretly Fond of Each Other\" by ['Willie Nelson']...\n",
            "Done.\n",
            "Searching for \"Blue Skies\" by ['Willie Nelson']...\n",
            "Done.\n",
            "Searching for \"Me and Paul\" by ['Willie Nelson']...\n",
            "Done.\n",
            "Searching for \"Don’t Fence Me In\" by ['Willie Nelson']...\n",
            "Done.\n",
            "Searching for \"Me and You\" by ['Willie Nelson']...\n",
            "Done.\n"
          ],
          "name": "stdout"
        }
      ]
    },
    {
      "cell_type": "code",
      "metadata": {
        "colab": {
          "base_uri": "https://localhost:8080/"
        },
        "id": "ydrko5C07tp3",
        "outputId": "5ea195f0-47b4-4676-b6cf-6278c2c689d4"
      },
      "source": [
        "artist = ['George Strait']\n",
        "search_for_top_n_songs(artist, 20)"
      ],
      "execution_count": 136,
      "outputs": [
        {
          "output_type": "stream",
          "text": [
            "Searching for songs by George Strait...\n",
            "\n",
            "\"All My Ex’s Live in Texas\" is not valid. Skipping.\n",
            "Song 1: \"Amarillo by Morning\"\n",
            "Song 2: \"Here for a Good Time\"\n",
            "Song 3: \"Troubadour\"\n",
            "Song 4: \"Check Yes or No\"\n",
            "Song 5: \"I Cross My Heart\"\n",
            "Song 6: \"I Saw God Today\"\n",
            "Song 7: \"Jingle Bell Rock\"\n",
            "Song 8: \"Every Little Honky Tonk Bar\"\n",
            "Song 9: \"A Father’s Love\"\n",
            "Song 10: \"I Got a Car\"\n",
            "Song 11: \"Ocean Front Property\"\n",
            "Song 12: \"Give It Away\"\n",
            "Song 13: \"The Chair\"\n",
            "Song 14: \"Write This Down\"\n",
            "Song 15: \"Run\"\n",
            "Song 16: \"God and Country Music\"\n",
            "Song 17: \"I Just Want to Dance with You\"\n",
            "Song 18: \"I Can Still Make Cheyenne\"\n",
            "Song 19: \"Carrying Your Love with Me\"\n",
            "Song 20: \"Carried Away\"\n",
            "\n",
            "Reached user-specified song limit (20).\n",
            "Done. Found 20 songs.\n"
          ],
          "name": "stdout"
        }
      ]
    },
    {
      "cell_type": "code",
      "metadata": {
        "colab": {
          "base_uri": "https://localhost:8080/"
        },
        "id": "32Uv1-8i8G-t",
        "outputId": "493c8f03-db64-425d-ade1-8eb5dd47ed7d"
      },
      "source": [
        "artist = ['George Strait']\n",
        "songs = [\"Amarillo by Morning\",\"Here for a Good Time\",\"Troubadour\",\"Check Yes or No\",\"I Cross My Heart\",\"I Saw God Today\",\"Jingle Bell Rock\",\n",
        "         \"Every Little Honky Tonk Bar\",\"A Father’s Love\",\"I Got a Car\",\"Ocean Front Property\",\"Give It Away\",\"The Chair\",\"Write This Down\",\n",
        "         \"Run\",\"God and Country Music\",\"I Just Want to Dance with You\",\"I Can Still Make Cheyenne\",\"Carrying Your Love with Me\",\"Carried Away\"]\n",
        "# songs in list\n",
        "a = [getLyric(song, artist) for song in songs]\n",
        "# songs in list with punctuation removed\n",
        "b = [''.join([i]).replace(\"\\n\", \" \").lower().replace(\".\", \"\").replace(\"!\", \"\").replace(\"?\", \"\").replace(\",\", \"\").replace(\"\", \"\").replace(\"'\", \"\").replace(\")\", \"\").replace(\"(\", \"\") for i in a]\n",
        "# one string of all songs\n",
        "cStrait = \" \".join(b)"
      ],
      "execution_count": 142,
      "outputs": [
        {
          "output_type": "stream",
          "text": [
            "Searching for \"Amarillo by Morning\" by ['George Strait']...\n",
            "Done.\n",
            "Searching for \"Here for a Good Time\" by ['George Strait']...\n",
            "Done.\n",
            "Searching for \"Troubadour\" by ['George Strait']...\n",
            "Done.\n",
            "Searching for \"Check Yes or No\" by ['George Strait']...\n",
            "Done.\n",
            "Searching for \"I Cross My Heart\" by ['George Strait']...\n",
            "Done.\n",
            "Searching for \"I Saw God Today\" by ['George Strait']...\n",
            "Done.\n",
            "Searching for \"Jingle Bell Rock\" by ['George Strait']...\n",
            "Done.\n",
            "Searching for \"Every Little Honky Tonk Bar\" by ['George Strait']...\n",
            "Done.\n",
            "Searching for \"A Father’s Love\" by ['George Strait']...\n",
            "Done.\n",
            "Searching for \"I Got a Car\" by ['George Strait']...\n",
            "Done.\n",
            "Searching for \"Ocean Front Property\" by ['George Strait']...\n",
            "Done.\n",
            "Searching for \"Give It Away\" by ['George Strait']...\n",
            "Done.\n",
            "Searching for \"The Chair\" by ['George Strait']...\n",
            "Done.\n",
            "Searching for \"Write This Down\" by ['George Strait']...\n",
            "Done.\n",
            "Searching for \"Run\" by ['George Strait']...\n",
            "Done.\n",
            "Searching for \"God and Country Music\" by ['George Strait']...\n",
            "Done.\n",
            "Searching for \"I Just Want to Dance with You\" by ['George Strait']...\n",
            "Done.\n",
            "Searching for \"I Can Still Make Cheyenne\" by ['George Strait']...\n",
            "Done.\n",
            "Searching for \"Carrying Your Love with Me\" by ['George Strait']...\n",
            "Done.\n",
            "Searching for \"Carried Away\" by ['George Strait']...\n",
            "Done.\n"
          ],
          "name": "stdout"
        }
      ]
    },
    {
      "cell_type": "code",
      "metadata": {
        "colab": {
          "base_uri": "https://localhost:8080/"
        },
        "id": "-6NVWI_x8S2n",
        "outputId": "1be9ae05-c1c2-4d6f-cfc5-5e316f048b64"
      },
      "source": [
        "artist = ['Waylon Jennings']\n",
        "search_for_top_n_songs(artist, 20)"
      ],
      "execution_count": 137,
      "outputs": [
        {
          "output_type": "stream",
          "text": [
            "Searching for songs by Waylon Jennings...\n",
            "\n",
            "Song 1: \"Outlaw Shit\"\n",
            "Song 2: \"Are You Sure Hank Done It This Way\"\n",
            "Song 3: \"I’ve Always Been Crazy\"\n",
            "Song 4: \"Good Hearted Woman\"\n",
            "Song 5: \"Honky Tonk Heroes\"\n",
            "Song 6: \"Waymore’s Blues\"\n",
            "Song 7: \"Black Rose\"\n",
            "Song 8: \"Jole Blon\"\n",
            "Song 9: \"Willy The Wandering Gypsy And Me\"\n",
            "Song 10: \"Rebel Soldier\"\n",
            "Song 11: \"I Ain’t Living Long Like This\"\n",
            "Song 12: \"You Ask Me To\"\n",
            "Song 13: \"Lonesome On’ry and Mean\"\n",
            "Song 14: \"Come With Me\"\n",
            "Song 15: \"If You See Me Getting Smaller\"\n",
            "Song 16: \"Don’t You Think This Outlaw Bit’s Done Got Out Of Hand\"\n",
            "Song 17: \"Only Daddy That’ll Walk the Line\"\n",
            "Song 18: \"I’m a Ramblin’ Man\"\n",
            "Song 19: \"Ain’t No God In Mexico\"\n",
            "Song 20: \"Dreaming My Dreams With You\"\n",
            "\n",
            "Reached user-specified song limit (20).\n",
            "Done. Found 20 songs.\n"
          ],
          "name": "stdout"
        }
      ]
    },
    {
      "cell_type": "code",
      "metadata": {
        "colab": {
          "base_uri": "https://localhost:8080/"
        },
        "id": "QiYl1fcK8kMx",
        "outputId": "bc3ef178-eb14-44d5-951f-f90fed8ed414"
      },
      "source": [
        "artist = ['Waylon Jennings']\n",
        "songs = [\"Outlaw Shit\",\"Are You Sure Hank Done It This Way\",\"I’ve Always Been Crazy\",\"Good Hearted Woman\",\"Honky Tonk Heroes\",\"Waymore’s Blues\",\n",
        "         \"Black Rose\",\"Jole Blon\",\"Willy The Wandering Gypsy And Me\",\"Rebel Soldier\",\"I Ain’t Living Long Like This\",\"You Ask Me To\",\n",
        "         \"Lonesome On’ry and Mean\",\"Come With Me\",\"If You See Me Getting Smaller\",\"Don’t You Think This Outlaw Bit’s Done Got Out Of Hand\",\n",
        "         \"Only Daddy That’ll Walk the Line\",\"I’m a Ramblin’ Man\",\"Ain’t No God In Mexico\",\"Dreaming My Dreams With You\"]\n",
        "# songs in list\n",
        "a = [getLyric(song, artist) for song in songs]\n",
        "# songs in list with punctuation removed\n",
        "b = [''.join([i]).replace(\"\\n\", \" \").lower().replace(\".\", \"\").replace(\"!\", \"\").replace(\"?\", \"\").replace(\",\", \"\").replace(\"\", \"\").replace(\"'\", \"\").replace(\")\", \"\").replace(\"(\", \"\") for i in a]\n",
        "# one string of all songs\n",
        "cJennings = \" \".join(b)"
      ],
      "execution_count": 144,
      "outputs": [
        {
          "output_type": "stream",
          "text": [
            "Searching for \"Outlaw Shit\" by ['Waylon Jennings']...\n",
            "Done.\n",
            "Searching for \"Are You Sure Hank Done It This Way\" by ['Waylon Jennings']...\n",
            "Done.\n",
            "Searching for \"I’ve Always Been Crazy\" by ['Waylon Jennings']...\n",
            "Done.\n",
            "Searching for \"Good Hearted Woman\" by ['Waylon Jennings']...\n",
            "Done.\n",
            "Searching for \"Honky Tonk Heroes\" by ['Waylon Jennings']...\n",
            "Done.\n",
            "Searching for \"Waymore’s Blues\" by ['Waylon Jennings']...\n",
            "Done.\n",
            "Searching for \"Black Rose\" by ['Waylon Jennings']...\n",
            "Done.\n",
            "Searching for \"Jole Blon\" by ['Waylon Jennings']...\n",
            "Done.\n",
            "Searching for \"Willy The Wandering Gypsy And Me\" by ['Waylon Jennings']...\n",
            "Done.\n",
            "Searching for \"Rebel Soldier\" by ['Waylon Jennings']...\n",
            "Done.\n",
            "Searching for \"I Ain’t Living Long Like This\" by ['Waylon Jennings']...\n",
            "Done.\n",
            "Searching for \"You Ask Me To\" by ['Waylon Jennings']...\n",
            "Done.\n",
            "Searching for \"Lonesome On’ry and Mean\" by ['Waylon Jennings']...\n",
            "Done.\n",
            "Searching for \"Come With Me\" by ['Waylon Jennings']...\n",
            "Done.\n",
            "Searching for \"If You See Me Getting Smaller\" by ['Waylon Jennings']...\n",
            "Done.\n",
            "Searching for \"Don’t You Think This Outlaw Bit’s Done Got Out Of Hand\" by ['Waylon Jennings']...\n",
            "Done.\n",
            "Searching for \"Only Daddy That’ll Walk the Line\" by ['Waylon Jennings']...\n",
            "Done.\n",
            "Searching for \"I’m a Ramblin’ Man\" by ['Waylon Jennings']...\n",
            "Done.\n",
            "Searching for \"Ain’t No God In Mexico\" by ['Waylon Jennings']...\n",
            "Done.\n",
            "Searching for \"Dreaming My Dreams With You\" by ['Waylon Jennings']...\n",
            "Done.\n"
          ],
          "name": "stdout"
        }
      ]
    },
    {
      "cell_type": "code",
      "metadata": {
        "colab": {
          "base_uri": "https://localhost:8080/"
        },
        "id": "gljDof92-jsp",
        "outputId": "2e765ad0-a472-41ac-da42-9f1890aaac81"
      },
      "source": [
        "artist = ['Kris Kristofferson']\n",
        "search_for_top_n_songs(artist, 20)"
      ],
      "execution_count": 152,
      "outputs": [
        {
          "output_type": "stream",
          "text": [
            "Searching for songs by Kris Kristofferson...\n",
            "\n",
            "Song 1: \"Me And Bobby McGee\"\n",
            "Song 2: \"Why Me\"\n",
            "Song 3: \"Sunday Morning Coming Down\"\n",
            "Song 4: \"The Pilgrim, Chapter 33\"\n",
            "Song 5: \"Help Me Make It Through The Night\"\n",
            "Song 6: \"For The Good Times\"\n",
            "Song 7: \"To Beat The Devil\"\n",
            "Song 8: \"Casey’s Last Ride\"\n",
            "Song 9: \"Loving Her Was Easier (Than Anything I’ll Ever Do Again)\"\n",
            "Song 10: \"Here Comes That Rainbow Again\"\n",
            "Song 11: \"Best Of All Possible Worlds\"\n",
            "Song 12: \"Hellacious Acres\"\n",
            "Song 13: \"Don’t Let The Bastards Get You Down\"\n",
            "Song 14: \"The Silver Tongued Devil And I\"\n",
            "Song 15: \"The Law Is For Protection Of The People\"\n",
            "Song 16: \"Billy Dee\"\n",
            "Song 17: \"Jody And The Kid\"\n",
            "Song 18: \"The Taker\"\n",
            "Song 19: \"Blame It On The Stones\"\n",
            "Song 20: \"Watch Closely Now\"\n",
            "\n",
            "Reached user-specified song limit (20).\n",
            "Done. Found 20 songs.\n"
          ],
          "name": "stdout"
        }
      ]
    },
    {
      "cell_type": "code",
      "metadata": {
        "colab": {
          "base_uri": "https://localhost:8080/"
        },
        "id": "3HENdeXxANiw",
        "outputId": "8a87a375-bd56-484b-bb5f-070eddda11b3"
      },
      "source": [
        "artist = ['Kris Kristofferson']\n",
        "songs = [\"Me And Bobby McGee\",\"Why Me\",\"Sunday Morning Coming Down\",\"The Pilgrim, Chapter 33\",\"Help Me Make It Through The Night\",\n",
        "         \"For The Good Times\",\"To Beat The Devil\",\"Casey’s Last Ride\",\"Loving Her Was Easier (Than Anything I’ll Ever Do Again)\",\n",
        "         \"Here Comes That Rainbow Again\",\"Best Of All Possible Worlds\",\"Hellacious Acres\",\"Don’t Let The Bastards Get You Down\",\n",
        "         \"The Silver Tongued Devil And I\",\"The Law Is For Protection Of The People\",\"Billy Dee\",\"Jody And The Kid\",\"The Taker\",\n",
        "         \"Blame It On The Stones\",\"Watch Closely Now\"]\n",
        "# songs in list\n",
        "a = [getLyric(song, artist) for song in songs]\n",
        "# songs in list with punctuation removed\n",
        "b = [''.join([i]).replace(\"\\n\", \" \").lower().replace(\".\", \"\").replace(\"!\", \"\").replace(\"?\", \"\").replace(\",\", \"\").replace(\"\", \"\").replace(\"'\", \"\").replace(\")\", \"\").replace(\"(\", \"\") for i in a]\n",
        "# one string of all songs\n",
        "cKristofferson = \" \".join(b)"
      ],
      "execution_count": 157,
      "outputs": [
        {
          "output_type": "stream",
          "text": [
            "Searching for \"Me And Bobby McGee\" by ['Kris Kristofferson']...\n",
            "Done.\n",
            "Searching for \"Why Me\" by ['Kris Kristofferson']...\n",
            "Done.\n",
            "Searching for \"Sunday Morning Coming Down\" by ['Kris Kristofferson']...\n",
            "Done.\n",
            "Searching for \"The Pilgrim, Chapter 33\" by ['Kris Kristofferson']...\n",
            "Done.\n",
            "Searching for \"Help Me Make It Through The Night\" by ['Kris Kristofferson']...\n",
            "Done.\n",
            "Searching for \"For The Good Times\" by ['Kris Kristofferson']...\n",
            "Done.\n",
            "Searching for \"To Beat The Devil\" by ['Kris Kristofferson']...\n",
            "Done.\n",
            "Searching for \"Casey’s Last Ride\" by ['Kris Kristofferson']...\n",
            "Done.\n",
            "Searching for \"Loving Her Was Easier (Than Anything I’ll Ever Do Again)\" by ['Kris Kristofferson']...\n",
            "Done.\n",
            "Searching for \"Here Comes That Rainbow Again\" by ['Kris Kristofferson']...\n",
            "Done.\n",
            "Searching for \"Best Of All Possible Worlds\" by ['Kris Kristofferson']...\n",
            "Done.\n",
            "Searching for \"Hellacious Acres\" by ['Kris Kristofferson']...\n",
            "Done.\n",
            "Searching for \"Don’t Let The Bastards Get You Down\" by ['Kris Kristofferson']...\n",
            "Done.\n",
            "Searching for \"The Silver Tongued Devil And I\" by ['Kris Kristofferson']...\n",
            "Done.\n",
            "Searching for \"The Law Is For Protection Of The People\" by ['Kris Kristofferson']...\n",
            "Done.\n",
            "Searching for \"Billy Dee\" by ['Kris Kristofferson']...\n",
            "Done.\n",
            "Searching for \"Jody And The Kid\" by ['Kris Kristofferson']...\n",
            "Done.\n",
            "Searching for \"The Taker\" by ['Kris Kristofferson']...\n",
            "Done.\n",
            "Searching for \"Blame It On The Stones\" by ['Kris Kristofferson']...\n",
            "Done.\n",
            "Searching for \"Watch Closely Now\" by ['Kris Kristofferson']...\n",
            "Done.\n"
          ],
          "name": "stdout"
        }
      ]
    },
    {
      "cell_type": "code",
      "metadata": {
        "colab": {
          "base_uri": "https://localhost:8080/"
        },
        "id": "8l3goSJeAOk4",
        "outputId": "26ba84b0-affe-4b10-987a-795d0391de6f"
      },
      "source": [
        "artist = ['Carrie Underwood']\n",
        "search_for_top_n_songs(artist, 20)"
      ],
      "execution_count": 156,
      "outputs": [
        {
          "output_type": "stream",
          "text": [
            "Searching for songs by Carrie Underwood...\n",
            "\n",
            "Song 1: \"Before He Cheats\"\n",
            "Song 2: \"Cry Pretty\"\n",
            "Song 3: \"The Champion\"\n",
            "Song 4: \"Love Wins\"\n",
            "Song 5: \"Jesus, Take the Wheel\"\n",
            "Song 6: \"Blown Away\"\n",
            "Song 7: \"Smoke Break\"\n",
            "Song 8: \"Church Bells\"\n",
            "Song 9: \"Dirty Laundry\"\n",
            "Song 10: \"End Up with You\"\n",
            "Song 11: \"Drinking Alone\"\n",
            "Song 12: \"Heartbeat\"\n",
            "Song 13: \"Just a Dream\"\n",
            "Song 14: \"How Great Thou Art\"\n",
            "Song 15: \"The Bullet\"\n",
            "Song 16: \"Two Black Cadillacs\"\n",
            "Song 17: \"That Song That We Used to Make Love To\"\n",
            "Song 18: \"Spinning Bottles\"\n",
            "Song 19: \"Kingdom\"\n",
            "Song 20: \"Good Girl\"\n",
            "\n",
            "Reached user-specified song limit (20).\n",
            "Done. Found 20 songs.\n"
          ],
          "name": "stdout"
        }
      ]
    },
    {
      "cell_type": "code",
      "metadata": {
        "colab": {
          "base_uri": "https://localhost:8080/"
        },
        "id": "nfKFBpACAOrq",
        "outputId": "1e64eca6-f86c-4ace-e80c-fefb92327308"
      },
      "source": [
        "artist = ['Carrie Underwood']\n",
        "songs = [\"Before He Cheats\",\"Cry Pretty\",\"The Champion\",\"Love Wins\",\"Jesus, Take the Wheel\",\"Blown Away\",\"Smoke Break\",\"Church Bells\",\n",
        "         \"Dirty Laundry\",\"End Up with You\",\"Drinking Alone\",\"Heartbeat\",\"Just a Dream\",\"How Great Thou Art\",\"The Bullet\",\"Two Black Cadillacs\",\n",
        "         \"That Song That We Used to Make Love To\",\"Spinning Bottles\",\"Kingdom\",\"Good Girl\"]\n",
        "# songs in list\n",
        "a = [getLyric(song, artist) for song in songs]\n",
        "# songs in list with punctuation removed\n",
        "b = [''.join([i]).replace(\"\\n\", \" \").lower().replace(\".\", \"\").replace(\"!\", \"\").replace(\"?\", \"\").replace(\",\", \"\").replace(\"\", \"\").replace(\"'\", \"\").replace(\")\", \"\").replace(\"(\", \"\") for i in a]\n",
        "# one string of all songs\n",
        "cUnderwood = \" \".join(b)"
      ],
      "execution_count": 159,
      "outputs": [
        {
          "output_type": "stream",
          "text": [
            "Searching for \"Before He Cheats\" by ['Carrie Underwood']...\n",
            "Done.\n",
            "Searching for \"Cry Pretty\" by ['Carrie Underwood']...\n",
            "Done.\n",
            "Searching for \"The Champion\" by ['Carrie Underwood']...\n",
            "Done.\n",
            "Searching for \"Love Wins\" by ['Carrie Underwood']...\n",
            "Done.\n",
            "Searching for \"Jesus, Take the Wheel\" by ['Carrie Underwood']...\n",
            "Done.\n",
            "Searching for \"Blown Away\" by ['Carrie Underwood']...\n",
            "Done.\n",
            "Searching for \"Smoke Break\" by ['Carrie Underwood']...\n",
            "Done.\n",
            "Searching for \"Church Bells\" by ['Carrie Underwood']...\n",
            "Done.\n",
            "Searching for \"Dirty Laundry\" by ['Carrie Underwood']...\n",
            "Done.\n",
            "Searching for \"End Up with You\" by ['Carrie Underwood']...\n",
            "Done.\n",
            "Searching for \"Drinking Alone\" by ['Carrie Underwood']...\n",
            "Done.\n",
            "Searching for \"Heartbeat\" by ['Carrie Underwood']...\n",
            "Done.\n",
            "Searching for \"Just a Dream\" by ['Carrie Underwood']...\n",
            "Done.\n",
            "Searching for \"How Great Thou Art\" by ['Carrie Underwood']...\n",
            "Done.\n",
            "Searching for \"The Bullet\" by ['Carrie Underwood']...\n",
            "Done.\n",
            "Searching for \"Two Black Cadillacs\" by ['Carrie Underwood']...\n",
            "Done.\n",
            "Searching for \"That Song That We Used to Make Love To\" by ['Carrie Underwood']...\n",
            "Done.\n",
            "Searching for \"Spinning Bottles\" by ['Carrie Underwood']...\n",
            "Done.\n",
            "Searching for \"Kingdom\" by ['Carrie Underwood']...\n",
            "Done.\n",
            "Searching for \"Good Girl\" by ['Carrie Underwood']...\n",
            "Done.\n"
          ],
          "name": "stdout"
        }
      ]
    },
    {
      "cell_type": "code",
      "metadata": {
        "colab": {
          "base_uri": "https://localhost:8080/"
        },
        "id": "OPgyso3I-qk4",
        "outputId": "97f7e63c-a610-4087-9753-3df671a6786d"
      },
      "source": [
        "newcountrynotwithold = cNelson+cStrait+cJennings+cKristofferson+cUnderwood\n",
        "len(newcountrynotwithold)"
      ],
      "execution_count": 160,
      "outputs": [
        {
          "output_type": "execute_result",
          "data": {
            "text/plain": [
              "115110"
            ]
          },
          "metadata": {
            "tags": []
          },
          "execution_count": 160
        }
      ]
    },
    {
      "cell_type": "code",
      "metadata": {
        "colab": {
          "base_uri": "https://localhost:8080/"
        },
        "id": "LZEoTAFv-6N5",
        "outputId": "d5ecf87a-85b2-4422-db21-b1a6aca9f444"
      },
      "source": [
        "newcountry = newcountrynotwithold+''.join(country1).replace(\"\\n\", \" \").lower().replace(\".\", \"\").replace(\"!\", \"\").replace(\"?\", \"\").replace(\",\", \"\").replace(\"\", \"\").replace(\"'\", \"\").replace(\")\", \"\").replace(\"(\", \"\")\n",
        "len(newcountry)"
      ],
      "execution_count": 161,
      "outputs": [
        {
          "output_type": "execute_result",
          "data": {
            "text/plain": [
              "309975"
            ]
          },
          "metadata": {
            "tags": []
          },
          "execution_count": 161
        }
      ]
    },
    {
      "cell_type": "code",
      "metadata": {
        "id": "LMB5ncW5_lE7"
      },
      "source": [
        "# Rock\n",
        "# already have Beatles, Blink 182, Jimi Hendrix, Nirvana, Radiohead\n",
        "# want Led Zeppelin, Aerosmith, Queen"
      ],
      "execution_count": null,
      "outputs": []
    },
    {
      "cell_type": "code",
      "metadata": {
        "colab": {
          "base_uri": "https://localhost:8080/"
        },
        "id": "dSo6tEChCWQy",
        "outputId": "62e3c609-01c0-45b2-cb00-aad9e8298d28"
      },
      "source": [
        "artist = ['Led Zeppelin']\n",
        "search_for_top_n_songs(artist, 20)"
      ],
      "execution_count": 162,
      "outputs": [
        {
          "output_type": "stream",
          "text": [
            "Searching for songs by Led Zeppelin...\n",
            "\n",
            "Song 1: \"Stairway to Heaven\"\n",
            "Song 2: \"Immigrant Song\"\n",
            "Song 3: \"Kashmir\"\n",
            "Song 4: \"Black Dog\"\n",
            "Song 5: \"Whole Lotta Love\"\n",
            "Song 6: \"Going to California\"\n",
            "Song 7: \"Ramble On\"\n",
            "Song 8: \"Dazed and Confused\"\n",
            "Song 9: \"Thank You\"\n",
            "Song 10: \"Babe I’m Gonna Leave You\"\n",
            "Song 11: \"When the Levee Breaks\"\n",
            "Song 12: \"All My Love\"\n",
            "Song 13: \"The Battle of Evermore\"\n",
            "Song 14: \"No Quarter\"\n",
            "Song 15: \"Since I’ve Been Loving You\"\n",
            "Song 16: \"The Rain Song\"\n",
            "Song 17: \"Over the Hills and Far Away\"\n",
            "Song 18: \"Rock and Roll\"\n",
            "Song 19: \"Good Times Bad Times\"\n",
            "Song 20: \"Heartbreaker\"\n",
            "\n",
            "Reached user-specified song limit (20).\n",
            "Done. Found 20 songs.\n"
          ],
          "name": "stdout"
        }
      ]
    },
    {
      "cell_type": "code",
      "metadata": {
        "colab": {
          "base_uri": "https://localhost:8080/"
        },
        "id": "shyLClTaCTsT",
        "outputId": "1eb16cec-8681-4e9c-ab55-bfb4675c9b6d"
      },
      "source": [
        "artist = ['Led Zeppelin']\n",
        "songs = [\"Stairway to Heaven\",\"Immigrant Song\",\"Kashmir\",\"Black Dog\",\"Whole Lotta Love\",\"Going to California\",\"Ramble On\",\"Dazed and Confused\",\n",
        "         \"Thank You\",\"Babe I’m Gonna Leave You\",\"When the Levee Breaks\",\"All My Love\",\"The Battle of Evermore\",\"No Quarter\",\n",
        "         \"Since I’ve Been Loving You\",\"The Rain Song\",\"Over the Hills and Far Away\",\"Rock and Roll\",\"Good Times Bad Times\",\"Heartbreaker\"]\n",
        "# songs in list\n",
        "a = [getLyric(song, artist) for song in songs]\n",
        "# songs in list with punctuation removed\n",
        "b = [''.join([i]).replace(\"\\n\", \" \").lower().replace(\".\", \"\").replace(\"!\", \"\").replace(\"?\", \"\").replace(\",\", \"\").replace(\"\", \"\").replace(\"'\", \"\").replace(\")\", \"\").replace(\"(\", \"\") for i in a]\n",
        "# one string of all songs\n",
        "cZeppelin = \" \".join(b)"
      ],
      "execution_count": 164,
      "outputs": [
        {
          "output_type": "stream",
          "text": [
            "Searching for \"Stairway to Heaven\" by ['Led Zeppelin']...\n",
            "Done.\n",
            "Searching for \"Immigrant Song\" by ['Led Zeppelin']...\n",
            "Done.\n",
            "Searching for \"Kashmir\" by ['Led Zeppelin']...\n",
            "Done.\n",
            "Searching for \"Black Dog\" by ['Led Zeppelin']...\n",
            "Done.\n",
            "Searching for \"Whole Lotta Love\" by ['Led Zeppelin']...\n",
            "Done.\n",
            "Searching for \"Going to California\" by ['Led Zeppelin']...\n",
            "Done.\n",
            "Searching for \"Ramble On\" by ['Led Zeppelin']...\n",
            "Done.\n",
            "Searching for \"Dazed and Confused\" by ['Led Zeppelin']...\n",
            "Done.\n",
            "Searching for \"Thank You\" by ['Led Zeppelin']...\n",
            "Done.\n",
            "Searching for \"Babe I’m Gonna Leave You\" by ['Led Zeppelin']...\n",
            "Done.\n",
            "Searching for \"When the Levee Breaks\" by ['Led Zeppelin']...\n",
            "Done.\n",
            "Searching for \"All My Love\" by ['Led Zeppelin']...\n",
            "Done.\n",
            "Searching for \"The Battle of Evermore\" by ['Led Zeppelin']...\n",
            "Done.\n",
            "Searching for \"No Quarter\" by ['Led Zeppelin']...\n",
            "Done.\n",
            "Searching for \"Since I’ve Been Loving You\" by ['Led Zeppelin']...\n",
            "Done.\n",
            "Searching for \"The Rain Song\" by ['Led Zeppelin']...\n",
            "Done.\n",
            "Searching for \"Over the Hills and Far Away\" by ['Led Zeppelin']...\n",
            "Done.\n",
            "Searching for \"Rock and Roll\" by ['Led Zeppelin']...\n",
            "Done.\n",
            "Searching for \"Good Times Bad Times\" by ['Led Zeppelin']...\n",
            "Done.\n",
            "Searching for \"Heartbreaker\" by ['Led Zeppelin']...\n",
            "Done.\n"
          ],
          "name": "stdout"
        }
      ]
    },
    {
      "cell_type": "code",
      "metadata": {
        "colab": {
          "base_uri": "https://localhost:8080/"
        },
        "id": "Jz7FTXjBCok6",
        "outputId": "b3bdd571-fe1e-4a48-e58a-1f80c34220c1"
      },
      "source": [
        "artist = ['Aerosmith']\n",
        "search_for_top_n_songs(artist, 20)"
      ],
      "execution_count": 163,
      "outputs": [
        {
          "output_type": "stream",
          "text": [
            "Searching for songs by Aerosmith...\n",
            "\n",
            "Song 1: \"I Don’t Want to Miss a Thing\"\n",
            "Song 2: \"Dream On\"\n",
            "Song 3: \"Cryin’\"\n",
            "Song 4: \"Walk This Way\"\n",
            "Song 5: \"Crazy\"\n",
            "Song 6: \"Sweet Emotion\"\n",
            "Song 7: \"Amazing\"\n",
            "Song 8: \"Janie’s Got a Gun\"\n",
            "Song 9: \"Love in an Elevator\"\n",
            "Song 10: \"Dude (Looks Like a Lady)\"\n",
            "Song 11: \"Pink\"\n",
            "Song 12: \"Jaded\"\n",
            "Song 13: \"Angel\"\n",
            "Song 14: \"Livin’ on the Edge\"\n",
            "Song 15: \"Rag Doll\"\n",
            "Song 16: \"What It Takes\"\n",
            "Song 17: \"Last Child\"\n",
            "Song 18: \"Big Ten Inch Record\"\n",
            "Song 19: \"Back in the Saddle\"\n",
            "Song 20: \"Eat the Rich\"\n",
            "\n",
            "Reached user-specified song limit (20).\n",
            "Done. Found 20 songs.\n"
          ],
          "name": "stdout"
        }
      ]
    },
    {
      "cell_type": "code",
      "metadata": {
        "colab": {
          "base_uri": "https://localhost:8080/"
        },
        "id": "s-EHs8mDCsIb",
        "outputId": "865bf4ba-37f9-47b5-da7b-c939f76552a9"
      },
      "source": [
        "artist = ['Aerosmith']\n",
        "songs = [\"I Don’t Want to Miss a Thing\",\"Dream On\",\"Cryin’\",\"Walk This Way\",\"Crazy\",\"Sweet Emotion\",\"Amazing\",\"Janie’s Got a Gun\",\n",
        "         \"Love in an Elevator\",\"Dude (Looks Like a Lady)\",\"Pink\",\"Jaded\",\"Angel\",\"Livin’ on the Edge\",\"Rag Doll\",\"What It Takes\",\"Last Child\",\n",
        "         \"Big Ten Inch Record\",\"Back in the Saddle\",\"Eat the Rich\"]\n",
        "# songs in list\n",
        "a = [getLyric(song, artist) for song in songs]\n",
        "# songs in list with punctuation removed\n",
        "b = [''.join([i]).replace(\"\\n\", \" \").lower().replace(\".\", \"\").replace(\"!\", \"\").replace(\"?\", \"\").replace(\",\", \"\").replace(\"\", \"\").replace(\"'\", \"\").replace(\")\", \"\").replace(\"(\", \"\") for i in a]\n",
        "# one string of all songs\n",
        "cAerosmith = \" \".join(b)"
      ],
      "execution_count": 165,
      "outputs": [
        {
          "output_type": "stream",
          "text": [
            "Searching for \"I Don’t Want to Miss a Thing\" by ['Aerosmith']...\n",
            "Done.\n",
            "Searching for \"Dream On\" by ['Aerosmith']...\n",
            "Done.\n",
            "Searching for \"Cryin’\" by ['Aerosmith']...\n",
            "Done.\n",
            "Searching for \"Walk This Way\" by ['Aerosmith']...\n",
            "Done.\n",
            "Searching for \"Crazy\" by ['Aerosmith']...\n",
            "Done.\n",
            "Searching for \"Sweet Emotion\" by ['Aerosmith']...\n",
            "Done.\n",
            "Searching for \"Amazing\" by ['Aerosmith']...\n",
            "Done.\n",
            "Searching for \"Janie’s Got a Gun\" by ['Aerosmith']...\n",
            "Done.\n",
            "Searching for \"Love in an Elevator\" by ['Aerosmith']...\n",
            "Done.\n",
            "Searching for \"Dude (Looks Like a Lady)\" by ['Aerosmith']...\n",
            "Done.\n",
            "Searching for \"Pink\" by ['Aerosmith']...\n",
            "Done.\n",
            "Searching for \"Jaded\" by ['Aerosmith']...\n",
            "Done.\n",
            "Searching for \"Angel\" by ['Aerosmith']...\n",
            "Done.\n",
            "Searching for \"Livin’ on the Edge\" by ['Aerosmith']...\n",
            "Done.\n",
            "Searching for \"Rag Doll\" by ['Aerosmith']...\n",
            "Done.\n",
            "Searching for \"What It Takes\" by ['Aerosmith']...\n",
            "Done.\n",
            "Searching for \"Last Child\" by ['Aerosmith']...\n",
            "Done.\n",
            "Searching for \"Big Ten Inch Record\" by ['Aerosmith']...\n",
            "Done.\n",
            "Searching for \"Back in the Saddle\" by ['Aerosmith']...\n",
            "Done.\n",
            "Searching for \"Eat the Rich\" by ['Aerosmith']...\n",
            "Done.\n"
          ],
          "name": "stdout"
        }
      ]
    },
    {
      "cell_type": "code",
      "metadata": {
        "colab": {
          "base_uri": "https://localhost:8080/"
        },
        "id": "zdIaBl4WD8HX",
        "outputId": "d796ad99-ee42-485c-b641-c38ee355e58f"
      },
      "source": [
        "artist = ['Queen']\n",
        "search_for_top_n_songs(artist, 20)"
      ],
      "execution_count": 171,
      "outputs": [
        {
          "output_type": "stream",
          "text": [
            "Searching for songs by Queen...\n",
            "\n",
            "Song 1: \"Bohemian Rhapsody\"\n",
            "Song 2: \"Don’t Stop Me Now\"\n",
            "Song 3: \"Love of My Life\"\n",
            "Song 4: \"Killer Queen\"\n",
            "Song 5: \"Another One Bites the Dust\"\n",
            "Song 6: \"We Will Rock You\"\n",
            "Song 7: \"Radio Ga Ga\"\n",
            "Song 8: \"We Are the Champions\"\n",
            "Song 9: \"The Show Must Go On\"\n",
            "Song 10: \"Somebody to Love\"\n",
            "Song 11: \"I Want to Break Free\"\n",
            "Song 12: \"Fat Bottomed Girls\"\n",
            "Song 13: \"Bicycle Race\"\n",
            "Song 14: \"Crazy Little Thing Called Love\"\n",
            "Song 15: \"Hammer to Fall\"\n",
            "Song 16: \"You’re My Best Friend\"\n",
            "\"Who Wants to Live Forever\" is not valid. Skipping.\n",
            "Song 17: \"Good Old-Fashioned Lover Boy\"\n",
            "Song 18: \"’39\"\n",
            "Song 19: \"I Want It All\"\n",
            "\"Ay-Oh (Live Aid)\" is not valid. Skipping.\n",
            "Song 20: \"Save Me\"\n",
            "\n",
            "Reached user-specified song limit (20).\n",
            "Done. Found 20 songs.\n"
          ],
          "name": "stdout"
        }
      ]
    },
    {
      "cell_type": "code",
      "metadata": {
        "colab": {
          "base_uri": "https://localhost:8080/"
        },
        "id": "JxArzzqyD_fN",
        "outputId": "a0d7c990-094e-45d6-fac2-be9fd9d090ad"
      },
      "source": [
        "artist = ['Queen']\n",
        "songs = [\"Bohemian Rhapsody\",\"Don’t Stop Me Now\",\"Love of My Life\",\"Killer Queen\",\"Another One Bites the Dust\",\"We Will Rock You\",\n",
        "         \"Radio Ga Ga\",\"We Are the Champions\",\"The Show Must Go On\",\"Somebody to Love\",\"I Want to Break Free\",\"Fat Bottomed Girls\",\n",
        "         \"Bicycle Race\",\"Crazy Little Thing Called Love\",\"Hammer to Fall\",\"You’re My Best Friend\",\"Good Old-Fashioned Lover Boy\",\"’39\",\n",
        "         \"I Want It All\",\"Save Me\"]\n",
        "# songs in list\n",
        "a = [getLyric(song, artist) for song in songs]\n",
        "# songs in list with punctuation removed\n",
        "b = [''.join([i]).replace(\"\\n\", \" \").lower().replace(\".\", \"\").replace(\"!\", \"\").replace(\"?\", \"\").replace(\",\", \"\").replace(\"\", \"\").replace(\"'\", \"\").replace(\")\", \"\").replace(\"(\", \"\") for i in a]\n",
        "# one string of all songs\n",
        "cQueen = \" \".join(b)"
      ],
      "execution_count": 172,
      "outputs": [
        {
          "output_type": "stream",
          "text": [
            "Searching for \"Bohemian Rhapsody\" by ['Queen']...\n",
            "Done.\n",
            "Searching for \"Don’t Stop Me Now\" by ['Queen']...\n",
            "Done.\n",
            "Searching for \"Love of My Life\" by ['Queen']...\n",
            "Done.\n",
            "Searching for \"Killer Queen\" by ['Queen']...\n",
            "Done.\n",
            "Searching for \"Another One Bites the Dust\" by ['Queen']...\n",
            "Done.\n",
            "Searching for \"We Will Rock You\" by ['Queen']...\n",
            "Done.\n",
            "Searching for \"Radio Ga Ga\" by ['Queen']...\n",
            "Done.\n",
            "Searching for \"We Are the Champions\" by ['Queen']...\n",
            "Done.\n",
            "Searching for \"The Show Must Go On\" by ['Queen']...\n",
            "Done.\n",
            "Searching for \"Somebody to Love\" by ['Queen']...\n",
            "Done.\n",
            "Searching for \"I Want to Break Free\" by ['Queen']...\n",
            "Done.\n",
            "Searching for \"Fat Bottomed Girls\" by ['Queen']...\n",
            "Done.\n",
            "Searching for \"Bicycle Race\" by ['Queen']...\n",
            "Done.\n",
            "Searching for \"Crazy Little Thing Called Love\" by ['Queen']...\n",
            "Done.\n",
            "Searching for \"Hammer to Fall\" by ['Queen']...\n",
            "Done.\n",
            "Searching for \"You’re My Best Friend\" by ['Queen']...\n",
            "Done.\n",
            "Searching for \"Good Old-Fashioned Lover Boy\" by ['Queen']...\n",
            "Done.\n",
            "Searching for \"’39\" by ['Queen']...\n",
            "Done.\n",
            "Searching for \"I Want It All\" by ['Queen']...\n",
            "Done.\n",
            "Searching for \"Save Me\" by ['Queen']...\n",
            "Done.\n"
          ],
          "name": "stdout"
        }
      ]
    },
    {
      "cell_type": "code",
      "metadata": {
        "colab": {
          "base_uri": "https://localhost:8080/"
        },
        "id": "pz2J488CCDyZ",
        "outputId": "ad0d681c-f9a2-42b6-8e86-86e18a9bb06a"
      },
      "source": [
        "newrocknotwithold = cZeppelin+cAerosmith+cQueen\n",
        "len(newrocknotwithold)"
      ],
      "execution_count": 191,
      "outputs": [
        {
          "output_type": "execute_result",
          "data": {
            "text/plain": [
              "77962"
            ]
          },
          "metadata": {
            "tags": []
          },
          "execution_count": 191
        }
      ]
    },
    {
      "cell_type": "code",
      "metadata": {
        "colab": {
          "base_uri": "https://localhost:8080/"
        },
        "id": "J6aYLkY5CEKU",
        "outputId": "28359141-2c04-43eb-c217-fffd35b8504b"
      },
      "source": [
        "newrock = newrocknotwithold+''.join(rock1).replace(\"\\n\", \" \").lower().replace(\".\", \"\").replace(\"!\", \"\").replace(\"?\", \"\").replace(\",\", \"\").replace(\"\", \"\").replace(\"'\", \"\").replace(\")\", \"\").replace(\"(\", \"\")\n",
        "len(newrock)"
      ],
      "execution_count": 192,
      "outputs": [
        {
          "output_type": "execute_result",
          "data": {
            "text/plain": [
              "426680"
            ]
          },
          "metadata": {
            "tags": []
          },
          "execution_count": 192
        }
      ]
    },
    {
      "cell_type": "code",
      "metadata": {
        "id": "SlU53ucBFYdU"
      },
      "source": [
        "# Pop\n",
        "# already have Bruno Mars, Lady Gaga, Lorde, Michael Jackson, Rihanna\n",
        "# want Beyoncé, Madonna"
      ],
      "execution_count": null,
      "outputs": []
    },
    {
      "cell_type": "code",
      "metadata": {
        "colab": {
          "base_uri": "https://localhost:8080/"
        },
        "id": "xlz4kVIkF4jR",
        "outputId": "a127937c-d0c9-4bb0-8799-d98c131e631f"
      },
      "source": [
        "artist = ['Beyoncé']\n",
        "search_for_top_n_songs(artist, 20)"
      ],
      "execution_count": 193,
      "outputs": [
        {
          "output_type": "stream",
          "text": [
            "Searching for songs by Beyoncé...\n",
            "\n",
            "Song 1: \"Drunk in Love\"\n",
            "Song 2: \"Formation\"\n",
            "Song 3: \"Partition\"\n",
            "Song 4: \"Mine\"\n",
            "Song 5: \"Hold Up\"\n",
            "\"***Flawless (Remix)\" is not valid. Skipping.\n",
            "Song 6: \"Sorry\"\n",
            "Song 7: \"If I Were a Boy\"\n",
            "Song 8: \"Halo\"\n",
            "Song 9: \"Pray You Catch Me\"\n",
            "Song 10: \"All Night\"\n",
            "Song 11: \"***Flawless\"\n",
            "Song 12: \"Freedom\"\n",
            "\"Savage Remix\" is not valid. Skipping.\n",
            "Song 13: \"Don’t Hurt Yourself\"\n",
            "Song 14: \"Blow\"\n",
            "Song 15: \"Rocket\"\n",
            "\"Drunk In Love (Remix)\" is not valid. Skipping.\n",
            "Song 16: \"Sandcastles\"\n",
            "Song 17: \"7/11\"\n",
            "Song 18: \"6 Inch\"\n",
            "Song 19: \"Love Drought\"\n",
            "Song 20: \"Listen\"\n",
            "\n",
            "Reached user-specified song limit (20).\n",
            "Done. Found 20 songs.\n"
          ],
          "name": "stdout"
        }
      ]
    },
    {
      "cell_type": "code",
      "metadata": {
        "colab": {
          "base_uri": "https://localhost:8080/"
        },
        "id": "ACwTjbwzGCrj",
        "outputId": "f2ecab2e-0112-43c9-cb54-cb3c35f0e665"
      },
      "source": [
        "artist = ['Beyoncé']\n",
        "songs = [\"Drunk in Love\",\"Formation\",\"Partition\",\"Mine\",\"Hold Up\",\"Sorry\",\"If I Were a Boy\",\"Halo\",\"Pray You Catch Me\",\"All Night\",\n",
        "         \"***Flawless\",\"Freedom\",\"Don’t Hurt Yourself\",\"Blow\",\"Rocket\",\"Sandcastles\",\"7/11\",\"6 Inch\",\"Love Drought\",\"Listen\"]\n",
        "# songs in list\n",
        "a = [getLyric(song, artist) for song in songs]\n",
        "# songs in list with punctuation removed\n",
        "b = [''.join([i]).replace(\"\\n\", \" \").lower().replace(\".\", \"\").replace(\"!\", \"\").replace(\"?\", \"\").replace(\",\", \"\").replace(\"\", \"\").replace(\"'\", \"\").replace(\")\", \"\").replace(\"(\", \"\") for i in a]\n",
        "# one string of all songs\n",
        "cBeyoncé = \" \".join(b)"
      ],
      "execution_count": 195,
      "outputs": [
        {
          "output_type": "stream",
          "text": [
            "Searching for \"Drunk in Love\" by ['Beyoncé']...\n",
            "Done.\n",
            "Searching for \"Formation\" by ['Beyoncé']...\n",
            "Done.\n",
            "Searching for \"Partition\" by ['Beyoncé']...\n",
            "Done.\n",
            "Searching for \"Mine\" by ['Beyoncé']...\n",
            "Done.\n",
            "Searching for \"Hold Up\" by ['Beyoncé']...\n",
            "Done.\n",
            "Searching for \"Sorry\" by ['Beyoncé']...\n",
            "Done.\n",
            "Searching for \"If I Were a Boy\" by ['Beyoncé']...\n",
            "Done.\n",
            "Searching for \"Halo\" by ['Beyoncé']...\n",
            "Done.\n",
            "Searching for \"Pray You Catch Me\" by ['Beyoncé']...\n",
            "Done.\n",
            "Searching for \"All Night\" by ['Beyoncé']...\n",
            "Done.\n",
            "Searching for \"***Flawless\" by ['Beyoncé']...\n",
            "Done.\n",
            "Searching for \"Freedom\" by ['Beyoncé']...\n",
            "Done.\n",
            "Searching for \"Don’t Hurt Yourself\" by ['Beyoncé']...\n",
            "Done.\n",
            "Searching for \"Blow\" by ['Beyoncé']...\n",
            "Done.\n",
            "Searching for \"Rocket\" by ['Beyoncé']...\n",
            "Done.\n",
            "Searching for \"Sandcastles\" by ['Beyoncé']...\n",
            "Done.\n",
            "Searching for \"7/11\" by ['Beyoncé']...\n",
            "Done.\n",
            "Searching for \"6 Inch\" by ['Beyoncé']...\n",
            "Done.\n",
            "Searching for \"Love Drought\" by ['Beyoncé']...\n",
            "Done.\n",
            "Searching for \"Listen\" by ['Beyoncé']...\n",
            "Done.\n"
          ],
          "name": "stdout"
        }
      ]
    },
    {
      "cell_type": "code",
      "metadata": {
        "colab": {
          "base_uri": "https://localhost:8080/"
        },
        "id": "Ti_jqh4JF5Wy",
        "outputId": "17744c92-f997-4655-ce0b-659922cd6b97"
      },
      "source": [
        "artist = ['Madonna']\n",
        "search_for_top_n_songs(artist, 20)"
      ],
      "execution_count": 194,
      "outputs": [
        {
          "output_type": "stream",
          "text": [
            "Searching for songs by Madonna...\n",
            "\n",
            "Song 1: \"Like a Prayer\"\n",
            "Song 2: \"La Isla Bonita\"\n",
            "Song 3: \"Vogue\"\n",
            "Song 4: \"Like a Virgin\"\n",
            "Song 5: \"Material Girl\"\n",
            "Song 6: \"Bitch I’m Madonna\"\n",
            "Song 7: \"Hung Up\"\n",
            "Song 8: \"Papa Don’t Preach\"\n",
            "Song 9: \"Dark Ballet\"\n",
            "Song 10: \"God Control\"\n",
            "Song 11: \"4 Minutes\"\n",
            "Song 12: \"I Don’t Give A\"\n",
            "Song 13: \"Express Yourself\"\n",
            "Song 14: \"Frozen\"\n",
            "Song 15: \"Music\"\n",
            "Song 16: \"I Rise\"\n",
            "Song 17: \"Give Me All Your Luvin’\"\n",
            "Song 18: \"Faz Gostoso\"\n",
            "Song 19: \"Sorry\"\n",
            "Song 20: \"Ray of Light\"\n",
            "\n",
            "Reached user-specified song limit (20).\n",
            "Done. Found 20 songs.\n"
          ],
          "name": "stdout"
        }
      ]
    },
    {
      "cell_type": "code",
      "metadata": {
        "colab": {
          "base_uri": "https://localhost:8080/"
        },
        "id": "dPDkPwXBGBZM",
        "outputId": "3430002e-2b1f-4d80-b2fa-1406f1acc564"
      },
      "source": [
        "artist = ['Madonna']\n",
        "songs = [\"Like a Prayer\",\"La Isla Bonita\",\"Vogue\",\"Like a Virgin\",\"Material Girl\",\"Bitch I’m Madonna\",\"Hung Up\",\"Papa Don’t Preach\",\n",
        "         \"Dark Ballet\",\"God Control\",\"4 Minutes\",\"I Don’t Give A\",\"Express Yourself\",\"Frozen\",\"Music\",\"I Rise\",\"Give Me All Your Luvin’\",\n",
        "         \"Faz Gostoso\",\"Sorry\",\"Ray of Light\"]\n",
        "# songs in list\n",
        "a = [getLyric(song, artist) for song in songs]\n",
        "# songs in list with punctuation removed\n",
        "b = [''.join([i]).replace(\"\\n\", \" \").lower().replace(\".\", \"\").replace(\"!\", \"\").replace(\"?\", \"\").replace(\",\", \"\").replace(\"\", \"\").replace(\"'\", \"\").replace(\")\", \"\").replace(\"(\", \"\") for i in a]\n",
        "# one string of all songs\n",
        "cMadonna = \" \".join(b)"
      ],
      "execution_count": 197,
      "outputs": [
        {
          "output_type": "stream",
          "text": [
            "Searching for \"Like a Prayer\" by ['Madonna']...\n",
            "Done.\n",
            "Searching for \"La Isla Bonita\" by ['Madonna']...\n",
            "Done.\n",
            "Searching for \"Vogue\" by ['Madonna']...\n",
            "Done.\n",
            "Searching for \"Like a Virgin\" by ['Madonna']...\n",
            "Done.\n",
            "Searching for \"Material Girl\" by ['Madonna']...\n",
            "Done.\n",
            "Searching for \"Bitch I’m Madonna\" by ['Madonna']...\n",
            "Done.\n",
            "Searching for \"Hung Up\" by ['Madonna']...\n",
            "Done.\n",
            "Searching for \"Papa Don’t Preach\" by ['Madonna']...\n",
            "Done.\n",
            "Searching for \"Dark Ballet\" by ['Madonna']...\n",
            "Done.\n",
            "Searching for \"God Control\" by ['Madonna']...\n",
            "Done.\n",
            "Searching for \"4 Minutes\" by ['Madonna']...\n",
            "Done.\n",
            "Searching for \"I Don’t Give A\" by ['Madonna']...\n",
            "Done.\n",
            "Searching for \"Express Yourself\" by ['Madonna']...\n",
            "Done.\n",
            "Searching for \"Frozen\" by ['Madonna']...\n",
            "Done.\n",
            "Searching for \"Music\" by ['Madonna']...\n",
            "Done.\n",
            "Searching for \"I Rise\" by ['Madonna']...\n",
            "Done.\n",
            "Searching for \"Give Me All Your Luvin’\" by ['Madonna']...\n",
            "Done.\n",
            "Searching for \"Faz Gostoso\" by ['Madonna']...\n",
            "Done.\n",
            "Searching for \"Sorry\" by ['Madonna']...\n",
            "Done.\n",
            "Searching for \"Ray of Light\" by ['Madonna']...\n",
            "Done.\n"
          ],
          "name": "stdout"
        }
      ]
    },
    {
      "cell_type": "code",
      "metadata": {
        "colab": {
          "base_uri": "https://localhost:8080/"
        },
        "id": "fLq8_0IAGFzy",
        "outputId": "7e586dd0-5d16-489e-c9e9-038473559aa9"
      },
      "source": [
        "newpopnotwithold = cBeyoncé+cMadonna\n",
        "len(newpopnotwithold)"
      ],
      "execution_count": 198,
      "outputs": [
        {
          "output_type": "execute_result",
          "data": {
            "text/plain": [
              "86945"
            ]
          },
          "metadata": {
            "tags": []
          },
          "execution_count": 198
        }
      ]
    },
    {
      "cell_type": "code",
      "metadata": {
        "colab": {
          "base_uri": "https://localhost:8080/"
        },
        "id": "nveglfehGKfM",
        "outputId": "b2bcdf79-a39b-4689-caf6-74fe5e19a933"
      },
      "source": [
        "newpop = newpopnotwithold+''.join(pop1).replace(\"\\n\", \" \").lower().replace(\".\", \"\").replace(\"!\", \"\").replace(\"?\", \"\").replace(\",\", \"\").replace(\"\", \"\").replace(\"'\", \"\").replace(\")\", \"\").replace(\"(\", \"\")\n",
        "len(newpop)"
      ],
      "execution_count": 199,
      "outputs": [
        {
          "output_type": "execute_result",
          "data": {
            "text/plain": [
              "545583"
            ]
          },
          "metadata": {
            "tags": []
          },
          "execution_count": 199
        }
      ]
    },
    {
      "cell_type": "code",
      "metadata": {
        "id": "Inju6sBIHK7-"
      },
      "source": [
        "'''\n",
        "# now make these into txt files for our classifiers to read\n",
        "with open('/content/drive/My Drive/Colab Notebooks/NewAllRock.txt', 'w') as writefile:\n",
        "  writefile.write(newrock)\n",
        "with open('/content/drive/My Drive/Colab Notebooks/NewAllPop.txt', 'w') as writefile:\n",
        "  writefile.write(newpop)\n",
        "with open('/content/drive/My Drive/Colab Notebooks/NewAllCountry.txt', 'w') as writefile:\n",
        "  writefile.write(newcountry)"
      ],
      "execution_count": 201,
      "outputs": []
    },
    {
      "cell_type": "code",
      "metadata": {
        "id": "-7k4ACaTHSwP"
      },
      "source": [
        ""
      ],
      "execution_count": null,
      "outputs": []
    }
  ]
}