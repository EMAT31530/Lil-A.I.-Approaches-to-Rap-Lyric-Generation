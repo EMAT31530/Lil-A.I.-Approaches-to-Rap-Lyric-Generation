{
 "cells": [
  {
   "cell_type": "code",
   "execution_count": null,
   "metadata": {},
   "outputs": [],
   "source": [
    "# Markov Attempt 3"
   ]
  },
  {
   "cell_type": "code",
   "execution_count": null,
   "metadata": {},
   "outputs": [],
   "source": [
    "# All lyrics - way more lines made - same rhyme ranker as in attempt 1 "
   ]
  },
  {
   "cell_type": "code",
   "execution_count": 1,
   "metadata": {},
   "outputs": [],
   "source": [
    "import random"
   ]
  },
  {
   "cell_type": "code",
   "execution_count": null,
   "metadata": {},
   "outputs": [],
   "source": [
    "# Open all of Mike's lyrics"
   ]
  },
  {
   "cell_type": "code",
   "execution_count": 2,
   "metadata": {},
   "outputs": [],
   "source": [
    "Text = open(\"AllLyrics.txt\", \"r\").read()\n",
    "Vocabulary = ''.join([i for i in Text if not i.isdigit()]).replace(\"\\n\", \" \").split(' ')"
   ]
  },
  {
   "cell_type": "code",
   "execution_count": null,
   "metadata": {},
   "outputs": [],
   "source": [
    "print(Vocabulary)"
   ]
  },
  {
   "cell_type": "code",
   "execution_count": null,
   "metadata": {},
   "outputs": [],
   "source": [
    "# Generate text"
   ]
  },
  {
   "cell_type": "code",
   "execution_count": 3,
   "metadata": {},
   "outputs": [],
   "source": [
    "def line_generator(Vocabulary):\n",
    "    index = 1\n",
    "    chain = {}\n",
    "    count = random.randint(6, 12)\n",
    "    \n",
    "    for word in Vocabulary[index:]:\n",
    "        key = Vocabulary[index-1]\n",
    "        if key in chain:\n",
    "            chain[key].append(word)\n",
    "        else:\n",
    "            chain[key] = [word]\n",
    "        index += 1\n",
    "        \n",
    "    word1 = random.choice(list(chain.keys()))\n",
    "    line = word1.capitalize()\n",
    "\n",
    "    while len(line.split(' ')) < count:\n",
    "        word2 = random.choice(chain[word1])\n",
    "        word1 = word2\n",
    "        line += ' ' + word2\n",
    "    return line"
   ]
  },
  {
   "cell_type": "code",
   "execution_count": 4,
   "metadata": {},
   "outputs": [
    {
     "data": {
      "text/plain": [
       "'Egotistic He nose \\'cause you Might still tryin\\' to me \"Let\\'s just'"
      ]
     },
     "execution_count": 4,
     "metadata": {},
     "output_type": "execute_result"
    }
   ],
   "source": [
    "line_generator(Vocabulary)"
   ]
  },
  {
   "cell_type": "code",
   "execution_count": null,
   "metadata": {},
   "outputs": [],
   "source": [
    "# Insert rhyme functions"
   ]
  },
  {
   "cell_type": "code",
   "execution_count": 5,
   "metadata": {},
   "outputs": [],
   "source": [
    "def reverse_syllable_extract(text):\n",
    "    sy_form = []\n",
    "    characters = [char for char in text]\n",
    "    sylls = ['a', 'e', 'i', 'o', 'u']\n",
    "    for x in characters:\n",
    "        if x in sylls:\n",
    "            sy_form.append(x)\n",
    "    sy_form.reverse()\n",
    "    return sy_form\n",
    "\n",
    "def rev_syllable_stop_count(text1, text2):\n",
    "    count = True \n",
    "    i = 0\n",
    "    counter = 0\n",
    "    syll1 = reverse_syllable_extract(text1)\n",
    "    syll2 = reverse_syllable_extract(text2)\n",
    "    while count == True:\n",
    "        if i < min(len(syll1), len(syll2)) and syll1[i] == syll2[i]:\n",
    "            counter += 1\n",
    "            i += 1\n",
    "        else:\n",
    "            count = False\n",
    "    return counter\n",
    "\n",
    "def next_line_stop_count(start_line, lines):\n",
    "    sy_lines = []\n",
    "    for i in lines:\n",
    "        sy_lines.append(rev_syllable_stop_count(start_line, i))\n",
    "    choice = sy_lines[0]\n",
    "    count = 0\n",
    "    for i in range(len(sy_lines)):\n",
    "        if sy_lines[i] > choice:\n",
    "            choice = sy_lines[i]\n",
    "    return lines[sy_lines.index(choice)]"
   ]
  },
  {
   "cell_type": "code",
   "execution_count": null,
   "metadata": {},
   "outputs": [],
   "source": [
    "# Now move to generate a 20 line rap"
   ]
  },
  {
   "cell_type": "code",
   "execution_count": null,
   "metadata": {},
   "outputs": [],
   "source": [
    "# Will generate 1000 lines using line_generator then from first generated line pick next best line by rhyme 19 times"
   ]
  },
  {
   "cell_type": "code",
   "execution_count": 8,
   "metadata": {},
   "outputs": [],
   "source": [
    "def generate_rap(Vocabulary):\n",
    "    start_line = line_generator(Vocabulary)\n",
    "    all_other_lines = [line_generator(Vocabulary) for i in range(999)]\n",
    "    rap = [start_line]\n",
    "    \n",
    "    for i in range (19):\n",
    "        next_line = next_line_stop_count(rap[len(rap) - 1], all_other_lines)\n",
    "        all_other_lines.remove(next_line)\n",
    "        rap.append(next_line)\n",
    "    return rap"
   ]
  },
  {
   "cell_type": "code",
   "execution_count": 9,
   "metadata": {},
   "outputs": [
    {
     "data": {
      "text/plain": [
       "[\"Superhuman Innovative and watch me is gon'\",\n",
       " 'Pastel I love to get in for my',\n",
       " 'Flirt Im about my city lights cause strobe lights go',\n",
       " 'Judge Luda landed in first Im allergic to tell it so',\n",
       " 'Entourage, if it Yo, give it now',\n",
       " 'Save all comes once in session,',\n",
       " 'Christ They actors ball like nitro And',\n",
       " '\"totally with you Be good lace these ninjas hot Hair so',\n",
       " 'Reach for the casualty of my family dog',\n",
       " \"Fetish, I'ma go to do anything It only\",\n",
       " \"Faint Plus pay Pink Friday and frick you cool now ain't got\",\n",
       " 'Late\" And the risin sun on Just keep on a standin\\' ovation',\n",
       " \"Prove that spark to me Loving ain't no\",\n",
       " \"Monotone Sometimes your conscience That's why he just imitating So\",\n",
       " \"Tooth smile in this movie in Shady's cute I just rappin God\",\n",
       " 'Loud, Say it up Saying \"Don\\'t',\n",
       " 'Denim be a poop grab your biggest fan This world',\n",
       " 'Wildest You begged for the burner in line She said I got',\n",
       " \"Thirst and you can reminisce over my pants Tryin' to\",\n",
       " \"From, and Nicki, it's goin' do\"]"
      ]
     },
     "execution_count": 9,
     "metadata": {},
     "output_type": "execute_result"
    }
   ],
   "source": [
    "generate_rap(Vocabulary)"
   ]
  },
  {
   "cell_type": "code",
   "execution_count": null,
   "metadata": {},
   "outputs": [],
   "source": [
    "# I've left it as a list with strings as the lines, we can have fun improving things if we think this is a good start"
   ]
  },
  {
   "cell_type": "code",
   "execution_count": null,
   "metadata": {},
   "outputs": [],
   "source": [
    "# The above has taken ages to load as has made 1000 lines then compared each one to try and find the best next!\n",
    "# Also the vocab is much longer now"
   ]
  }
 ],
 "metadata": {
  "kernelspec": {
   "display_name": "Python 3",
   "language": "python",
   "name": "python3"
  },
  "language_info": {
   "codemirror_mode": {
    "name": "ipython",
    "version": 3
   },
   "file_extension": ".py",
   "mimetype": "text/x-python",
   "name": "python",
   "nbconvert_exporter": "python",
   "pygments_lexer": "ipython3",
   "version": "3.8.3"
  }
 },
 "nbformat": 4,
 "nbformat_minor": 4
}
