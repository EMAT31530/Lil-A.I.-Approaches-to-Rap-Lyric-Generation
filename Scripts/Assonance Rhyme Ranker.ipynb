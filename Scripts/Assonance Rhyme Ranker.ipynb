{
 "cells": [
  {
   "cell_type": "markdown",
   "metadata": {},
   "source": [
    "Basically here I have made three different types of rhyme rankers working to find the best possible next line from a choice of lines (I have used BIG here)\n",
    "\n",
    "We can talk if we want to use this type of idea\n",
    "\n",
    "I have done one where it ranks lines by a counter where going reverse through all syllables of the line it adds one if syllable i is equal across lines and -1 if not\n",
    "\n",
    "The other option we choose how many syllables working from the back we want to look at (you generally rhyme at the end not the whole line) I choice 5 syllables.  This seems to work best I think\n",
    "\n",
    "The last it will continue from the back until it hits a syllable number that is not equal to the other line\n",
    "\n",
    "Hope it all makes sense "
   ]
  },
  {
   "cell_type": "code",
   "execution_count": null,
   "metadata": {},
   "outputs": [],
   "source": [
    "def syllable_extract(word):\n",
    "    sy_form = []\n",
    "    characters = [char for char in word]\n",
    "    sylls = ['a', 'e', 'i', 'o', 'u', 'A', 'E', 'I', 'O', 'U']\n",
    "    for x in characters:\n",
    "        if x in sylls:\n",
    "            sy_form.append(x)\n",
    "    return sy_form"
   ]
  },
  {
   "cell_type": "code",
   "execution_count": 102,
   "metadata": {},
   "outputs": [
    {
     "data": {
      "text/plain": [
       "['e', 'o']"
      ]
     },
     "execution_count": 102,
     "metadata": {},
     "output_type": "execute_result"
    }
   ],
   "source": [
    "syllable_extract('hero')"
   ]
  },
  {
   "cell_type": "code",
   "execution_count": 103,
   "metadata": {},
   "outputs": [],
   "source": [
    "def rev_syllable_count(text1, text2):\n",
    "    counter = 0\n",
    "    syll1 = syllable_extract(text1)\n",
    "    syll2 = syllable_extract(text2)\n",
    "    syll1.reverse()\n",
    "    syll2.reverse()\n",
    "    for i in range(min(len(syll1), len(syll2))):\n",
    "        if syll1[i] == syll2[i]:\n",
    "            counter += 1\n",
    "        else:\n",
    "            counter -= 1\n",
    "    return counter"
   ]
  },
  {
   "cell_type": "code",
   "execution_count": 104,
   "metadata": {},
   "outputs": [
    {
     "data": {
      "text/plain": [
       "4"
      ]
     },
     "execution_count": 104,
     "metadata": {},
     "output_type": "execute_result"
    }
   ],
   "source": [
    "rev_syllable_count('sling some raps', 'income tax')"
   ]
  },
  {
   "cell_type": "code",
   "execution_count": 144,
   "metadata": {},
   "outputs": [],
   "source": [
    "line1 ='It was all a dream, I used to read Word Up! magazine'\n",
    "lines = ['Salt-n-Pepa and Heavy D up in the limousine', 'Hangin pictures on my wall', 'Every Saturday Rap Attack, Mr. Magic, Marley Marl', 'I let my tape rock til my tape popped''Smokin weed in Bambu, sippin on Private Stock', 'Way back, when I had the red and black lumberjack', 'With the hat to match', 'Remember Rappin Duke? Duh-ha, duh-ha', 'You never thought that hip-hop would take it this far']"
   ]
  },
  {
   "cell_type": "code",
   "execution_count": 145,
   "metadata": {},
   "outputs": [],
   "source": [
    "def next_line(lines):\n",
    "    sy_lines = []\n",
    "    for i in lines:\n",
    "        sy_lines.append(rev_syllable_count(line1, i))\n",
    "    choice = sy_lines[0]\n",
    "    count = 0\n",
    "    for i in range(len(sy_lines)):\n",
    "        if sy_lines[i] > choice:\n",
    "            choice = sy_lines[i]    \n",
    "    return lines[sy_lines.index(choice)]"
   ]
  },
  {
   "cell_type": "code",
   "execution_count": 146,
   "metadata": {},
   "outputs": [
    {
     "data": {
      "text/plain": [
       "'Salt-n-Pepa and Heavy D up in the limousine'"
      ]
     },
     "execution_count": 146,
     "metadata": {},
     "output_type": "execute_result"
    }
   ],
   "source": [
    "next_line(lines)"
   ]
  },
  {
   "cell_type": "code",
   "execution_count": 108,
   "metadata": {},
   "outputs": [],
   "source": [
    "# this has been counting all syllables in line so is in effect an average for line.  \n",
    "# Rather restrict rhyme to end of line for affect\n",
    "# Have done last four syllables below in choice but function is for choice of number"
   ]
  },
  {
   "cell_type": "code",
   "execution_count": 130,
   "metadata": {},
   "outputs": [],
   "source": [
    "def rev_syllable_count_num(text1, text2, number):\n",
    "    counter = 0\n",
    "    syll1 = syllable_extract(text1)\n",
    "    syll2 = syllable_extract(text2)\n",
    "    syll1.reverse()\n",
    "    syll2.reverse()\n",
    "    for i in range(number):\n",
    "        if syll1[i] == syll2[i]:\n",
    "            counter += 1\n",
    "        else:\n",
    "            counter -= 1\n",
    "    return counter"
   ]
  },
  {
   "cell_type": "code",
   "execution_count": 147,
   "metadata": {},
   "outputs": [],
   "source": [
    "def next_line_num(start_line, lines, number):\n",
    "    sy_lines = []\n",
    "    for i in lines:\n",
    "        sy_lines.append(rev_syllable_count_num(start_line, i, number))\n",
    "    choice = sy_lines[0]\n",
    "    count = 0\n",
    "    for i in range(len(sy_lines)):\n",
    "        if sy_lines[i] > choice:\n",
    "            choice = sy_lines[i]\n",
    "    return lines[sy_lines.index(choice)]"
   ]
  },
  {
   "cell_type": "code",
   "execution_count": 148,
   "metadata": {},
   "outputs": [
    {
     "data": {
      "text/plain": [
       "'Salt-n-Pepa and Heavy D up in the limousine'"
      ]
     },
     "execution_count": 148,
     "metadata": {},
     "output_type": "execute_result"
    }
   ],
   "source": [
    "next_line_num(line1, lines, 5)"
   ]
  },
  {
   "cell_type": "code",
   "execution_count": null,
   "metadata": {},
   "outputs": [],
   "source": [
    "### OTHER IDEA\n",
    "# One where it gives rank until different syllable found\n",
    "# first just making all lines all lower case for simplicity"
   ]
  },
  {
   "cell_type": "code",
   "execution_count": 1,
   "metadata": {},
   "outputs": [],
   "source": [
    "# make line just syllables\n",
    "def syllable_extract(word):\n",
    "    sy_form = []\n",
    "    characters = [char for char in word]\n",
    "    sylls = ['a', 'e', 'i', 'o', 'u']\n",
    "    for x in characters:\n",
    "        if x in sylls:\n",
    "            sy_form.append(x)\n",
    "    return sy_form"
   ]
  },
  {
   "cell_type": "code",
   "execution_count": 3,
   "metadata": {},
   "outputs": [],
   "source": [
    "line1 ='It was all a dream, I used to read Word Up! magazine'\n",
    "lines1 = ['Salt-n-Pepa and Heavy D up in the limousine', 'Hangin pictures on my wall', 'Every Saturday Rap Attack, Mr. Magic, Marley Marl', 'I let my tape rock til my tape popped''Smokin weed in Bambu, sippin on Private Stock', 'Way back, when I had the red and black lumberjack', 'With the hat to match', 'Remember Rappin Duke? Duh-ha, duh-ha', 'You never thought that hip-hop would take it this far']\n",
    "lines = [x.lower() for x in lines1]"
   ]
  },
  {
   "cell_type": "code",
   "execution_count": 40,
   "metadata": {},
   "outputs": [
    {
     "name": "stdout",
     "output_type": "stream",
     "text": [
      "our first line is:  every saturday rap attack, mr. magic, marley marl\n"
     ]
    }
   ],
   "source": [
    "# choose a random first line and omit from line choice so dont choose line again\n",
    "import random\n",
    "line1 = random.choice(lines)\n",
    "lines.remove(line1)\n",
    "print('our first line is: ', line1)"
   ]
  },
  {
   "cell_type": "code",
   "execution_count": 31,
   "metadata": {},
   "outputs": [],
   "source": [
    "# want rhyme at end so reverse list of syllables, we count number of matching syllables with line and potential \n",
    "# line and stop when we meet a non match\n",
    "def rev_syllable_count_end(text1, text2):\n",
    "    count = True \n",
    "    i = 0\n",
    "    counter = 0\n",
    "    syll1 = syllable_extract(text1)\n",
    "    syll2 = syllable_extract(text2)\n",
    "    syll1.reverse()\n",
    "    syll2.reverse()\n",
    "    while count == True:\n",
    "        if i < min(len(syll1), len(syll2)) and syll1[i] == syll2[i]:\n",
    "            counter += 1\n",
    "            i += 1\n",
    "        else:\n",
    "            count = False\n",
    "    return counter"
   ]
  },
  {
   "cell_type": "code",
   "execution_count": 34,
   "metadata": {},
   "outputs": [],
   "source": [
    "# now rank best next line from our start line\n",
    "def next_line_end(start_line, lines):\n",
    "    sy_lines = []\n",
    "    for i in lines:\n",
    "        sy_lines.append(rev_syllable_count_end(start_line, i))\n",
    "    choice = sy_lines[0]\n",
    "    count = 0\n",
    "    for i in range(len(sy_lines)):\n",
    "        if sy_lines[i] > choice:\n",
    "            choice = sy_lines[i]\n",
    "    return lines[sy_lines.index(choice)]"
   ]
  },
  {
   "cell_type": "code",
   "execution_count": 41,
   "metadata": {},
   "outputs": [
    {
     "name": "stdout",
     "output_type": "stream",
     "text": [
      "every saturday rap attack, mr. magic, marley marl\n",
      "hangin pictures on my wall\n"
     ]
    }
   ],
   "source": [
    "# we see our first line from random choice and then our next chosen line\n",
    "print(line1)\n",
    "print(next_line_end(line1, lines))"
   ]
  },
  {
   "cell_type": "code",
   "execution_count": null,
   "metadata": {},
   "outputs": [],
   "source": []
  }
 ],
 "metadata": {
  "kernelspec": {
   "display_name": "Python 3",
   "language": "python",
   "name": "python3"
  },
  "language_info": {
   "codemirror_mode": {
    "name": "ipython",
    "version": 3
   },
   "file_extension": ".py",
   "mimetype": "text/x-python",
   "name": "python",
   "nbconvert_exporter": "python",
   "pygments_lexer": "ipython3",
   "version": "3.8.3"
  }
 },
 "nbformat": 4,
 "nbformat_minor": 4
}
