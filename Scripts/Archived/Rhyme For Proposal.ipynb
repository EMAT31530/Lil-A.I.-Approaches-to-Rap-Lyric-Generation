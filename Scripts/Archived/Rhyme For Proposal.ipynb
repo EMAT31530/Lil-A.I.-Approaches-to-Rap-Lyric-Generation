{
 "cells": [
  {
   "cell_type": "markdown",
   "metadata": {},
   "source": [
    "Rhyme for Proposal"
   ]
  },
  {
   "cell_type": "markdown",
   "metadata": {},
   "source": [
    "Function 1"
   ]
  },
  {
   "cell_type": "code",
   "execution_count": 1,
   "metadata": {},
   "outputs": [],
   "source": [
    "def reverse_syllable_extract(text):\n",
    "    sy_form = []\n",
    "    characters = [char for char in text]\n",
    "    sylls = ['a', 'e', 'i', 'o', 'u']\n",
    "    for x in characters:\n",
    "        if x in sylls:\n",
    "            sy_form.append(x)\n",
    "    sy_form.reverse()\n",
    "    return sy_form"
   ]
  },
  {
   "cell_type": "markdown",
   "metadata": {},
   "source": [
    "Function 2"
   ]
  },
  {
   "cell_type": "code",
   "execution_count": 2,
   "metadata": {},
   "outputs": [],
   "source": [
    "def rev_syllable_stop_count(text1, text2):\n",
    "    count = True \n",
    "    i = 0\n",
    "    counter = 0\n",
    "    syll1 = reverse_syllable_extract(text1)\n",
    "    syll2 = reverse_syllable_extract(text2)\n",
    "    while count == True:\n",
    "        if i < min(len(syll1), len(syll2)) and syll1[i] == syll2[i]:\n",
    "            counter += 1\n",
    "            i += 1\n",
    "        else:\n",
    "            count = False\n",
    "    return counter"
   ]
  },
  {
   "cell_type": "markdown",
   "metadata": {},
   "source": [
    "Function 3"
   ]
  },
  {
   "cell_type": "code",
   "execution_count": 3,
   "metadata": {},
   "outputs": [],
   "source": [
    "def next_line_stop_count(start_line, lines):\n",
    "    sy_lines = []\n",
    "    for i in lines:\n",
    "        sy_lines.append(\n",
    "        rev_syllable_stop_count(\n",
    "        start_line, i))\n",
    "    choice = sy_lines[0]\n",
    "    count = 0\n",
    "    for i in range(len(sy_lines)):\n",
    "        if sy_lines[i] > choice:\n",
    "            choice = sy_lines[i]\n",
    "    return lines[sy_lines.index(choice)]"
   ]
  },
  {
   "cell_type": "markdown",
   "metadata": {},
   "source": [
    "Test"
   ]
  },
  {
   "cell_type": "code",
   "execution_count": 4,
   "metadata": {},
   "outputs": [],
   "source": [
    "#Our possible lines with a first chosen line, ref. Juicy (The Notorious B.I.G.)\n",
    "line1 ='It was all a dream, I used to read Word Up! magazine'\n",
    "lines = ['Salt-n-Pepa and Heavy D up in the limousine', 'Hangin pictures on my wall', 'Every Saturday Rap Attack, Mr. Magic, Marley Marl', 'I let my tape rock til my tape popped''Smokin weed in Bambu, sippin on Private Stock', 'Way back, when I had the red and black lumberjack', 'With the hat to match', 'Remember Rappin Duke? Duh-ha, duh-ha', 'You never thought that hip-hop would take it this far']"
   ]
  },
  {
   "cell_type": "code",
   "execution_count": 5,
   "metadata": {},
   "outputs": [
    {
     "data": {
      "text/plain": [
       "'Salt-n-Pepa and Heavy D up in the limousine'"
      ]
     },
     "execution_count": 5,
     "metadata": {},
     "output_type": "execute_result"
    }
   ],
   "source": [
    "#Our next chosen line\n",
    "next_line_stop_count(line1, lines)"
   ]
  },
  {
   "cell_type": "code",
   "execution_count": 6,
   "metadata": {},
   "outputs": [],
   "source": [
    "#Has chosen next line - will look to see if this is done correctly in future"
   ]
  },
  {
   "cell_type": "code",
   "execution_count": null,
   "metadata": {},
   "outputs": [],
   "source": []
  }
 ],
 "metadata": {
  "kernelspec": {
   "display_name": "Python 3",
   "language": "python",
   "name": "python3"
  },
  "language_info": {
   "codemirror_mode": {
    "name": "ipython",
    "version": 3
   },
   "file_extension": ".py",
   "mimetype": "text/x-python",
   "name": "python",
   "nbconvert_exporter": "python",
   "pygments_lexer": "ipython3",
   "version": "3.8.3"
  }
 },
 "nbformat": 4,
 "nbformat_minor": 4
}
