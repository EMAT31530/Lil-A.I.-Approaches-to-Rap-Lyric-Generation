{
  "nbformat": 4,
  "nbformat_minor": 0,
  "metadata": {
    "colab": {
      "name": "lstm classifier 4.ipynb",
      "provenance": [],
      "collapsed_sections": []
    },
    "kernelspec": {
      "name": "python3",
      "display_name": "Python 3"
    }
  },
  "cells": [
    {
      "cell_type": "code",
      "metadata": {
        "id": "7_V4PoXtzfeN"
      },
      "source": [
        "import numpy as np \n",
        "import pandas as pd\n",
        "from keras.preprocessing.text import Tokenizer\n",
        "from keras.preprocessing.sequence import pad_sequences\n",
        "from keras.models import Sequential\n",
        "from keras.layers import Dense, Embedding, LSTM, SpatialDropout1D\n",
        "from sklearn.model_selection import train_test_split\n",
        "from keras.callbacks import EarlyStopping\n",
        "from keras.layers import Dropout\n",
        "from nltk import word_tokenize"
      ],
      "execution_count": 1,
      "outputs": []
    },
    {
      "cell_type": "code",
      "metadata": {
        "colab": {
          "base_uri": "https://localhost:8080/"
        },
        "id": "R31WwV4_zmIN",
        "outputId": "ccf77f4b-a59a-481a-b4db-1a88242feb79"
      },
      "source": [
        "from google.colab import drive\n",
        "drive.mount('/content/drive')"
      ],
      "execution_count": 2,
      "outputs": [
        {
          "output_type": "stream",
          "text": [
            "Mounted at /content/drive\n"
          ],
          "name": "stdout"
        }
      ]
    },
    {
      "cell_type": "code",
      "metadata": {
        "id": "-wdtCyDezmKd"
      },
      "source": [
        "# All Rock\n",
        "rock1 = open('/content/drive/My Drive/Colab Notebooks/AllRock.txt', 'r').read()\n",
        "rock = ''.join([i for i in rock1 if not i.isdigit()]).replace(\"\\n\", \" \").lower().replace(\".\", \"\").replace(\"!\", \"\").replace(\"?\", \"\").replace(\",\", \"\").replace(\"\", \"\").replace(\"'\", \"\").replace(\")\", \"\").replace(\"(\", \"\").split(' ')\n",
        "# All Pop\n",
        "pop1 = open('/content/drive/My Drive/Colab Notebooks/AllPop.txt', 'r').read()\n",
        "pop = ''.join([i for i in pop1 if not i.isdigit()]).replace(\"\\n\", \" \").lower().replace(\".\", \"\").replace(\"!\", \"\").replace(\"?\", \"\").replace(\",\", \"\").replace(\"\", \"\").replace(\"'\", \"\").replace(\")\", \"\").replace(\"(\", \"\").split(' ')\n",
        "# All Country\n",
        "country1 = open('/content/drive/My Drive/Colab Notebooks/AllCountry.txt', 'r').read()\n",
        "country = ''.join([i for i in country1 if not i.isdigit()]).replace(\"\\n\", \" \").lower().replace(\".\", \"\").replace(\"!\", \"\").replace(\"?\", \"\").replace(\",\", \"\").replace(\"\", \"\").replace(\"'\", \"\").replace(\")\", \"\").replace(\"(\", \"\").split(' ')\n",
        "# All Rap\n",
        "rap1 = open('/content/drive/My Drive/Colab Notebooks/AllLyrics.txt', 'r').read()\n",
        "rap = ''.join([i for i in rap1 if not i.isdigit()]).replace(\"\\n\", \" \").lower().replace(\".\", \"\").replace(\"!\", \"\").replace(\"?\", \"\").replace(\",\", \"\").replace(\"\", \"\").replace(\"'\", \"\").replace(\")\", \"\").replace(\"(\", \"\").split(' ')"
      ],
      "execution_count": 3,
      "outputs": []
    },
    {
      "cell_type": "code",
      "metadata": {
        "id": "3H5tODMdzmMk"
      },
      "source": [
        "# create samples of 10 words each for each genre - this is our estimate length of line\n",
        "SONG_LENGTH = 10\n",
        "# Rock\n",
        "Rock = [rock[i*SONG_LENGTH:(i+1)*SONG_LENGTH] for i in range(0,int(len(rock)/int(SONG_LENGTH)))]\n",
        "# Country\n",
        "Country = [country[i*SONG_LENGTH:(i+1)*SONG_LENGTH] for i in range(0,int(len(country)/int(SONG_LENGTH)))]\n",
        "# Pop\n",
        "Pop = [pop[i*SONG_LENGTH:(i+1)*SONG_LENGTH] for i in range(0,int(len(pop)/int(SONG_LENGTH)))]\n",
        "# Rap\n",
        "Rap = [rap[i*SONG_LENGTH:(i+1)*SONG_LENGTH] for i in range(0,int(len(rap)/int(SONG_LENGTH)))]"
      ],
      "execution_count": 4,
      "outputs": []
    },
    {
      "cell_type": "code",
      "metadata": {
        "id": "sHsa4Q6b3NHl"
      },
      "source": [
        "ds_rock = [' '.join(Rock[i]) for i in range(len(Rock))]\n",
        "ds_country = [' '.join(Country[i]) for i in range(len(Country))]\n",
        "ds_pop = [' '.join(Pop[i]) for i in range(len(Pop))]\n",
        "ds_rap = [' '.join(Rap[i]) for i in range(len(Rap))]"
      ],
      "execution_count": 5,
      "outputs": []
    },
    {
      "cell_type": "code",
      "metadata": {
        "colab": {
          "base_uri": "https://localhost:8080/"
        },
        "id": "DyYOt7-f8b7q",
        "outputId": "a680dbda-18d1-4e8c-e3d3-82e28a70683d"
      },
      "source": [
        "# rock 0, country 1, pop 2, rap 3\n",
        "ds_ro = []\n",
        "genre = 0\n",
        "for sample in ds_rock:\n",
        "  ds_ro.append([genre, sample])\n",
        "\n",
        "ds_co = []\n",
        "genre = 1\n",
        "for sample in ds_country:\n",
        "  ds_co.append([genre, sample])\n",
        "\n",
        "ds_po = []\n",
        "genre = 2\n",
        "for sample in ds_pop:\n",
        "  ds_po.append([genre, sample])\n",
        "\n",
        "ds_ra = []\n",
        "genre = 3\n",
        "for sample in ds_rap:\n",
        "  ds_ra.append([genre, sample])\n",
        "\n",
        "ds = ds_ro+ds_co+ds_po+ds_ra\n",
        "\n",
        "ds = np.array(ds)\n",
        "print('Genres: ', ds[:, 0])\n",
        "print('Lyrics: ', ds[:, 1])"
      ],
      "execution_count": 6,
      "outputs": [
        {
          "output_type": "stream",
          "text": [
            "Genres:  ['0' '0' '0' ... '3' '3' '3']\n",
            "Lyrics:  ['yesterday all my troubles seemed so far away now it'\n",
            " 'looks as though theyre here to stay oh i believe'\n",
            " 'in yesterday suddenly im not half the man i used' ...\n",
            " 'kick me when im down but im up again scorchin'\n",
            " 'hot forcin my way up in the door to kill'\n",
            " 'the bullpoop like a matador keep your hands high what']\n"
          ],
          "name": "stdout"
        }
      ]
    },
    {
      "cell_type": "code",
      "metadata": {
        "colab": {
          "base_uri": "https://localhost:8080/"
        },
        "id": "lEN31GK4zmOt",
        "outputId": "a4442935-4715-4bf1-bae5-d7d5e2dff9aa"
      },
      "source": [
        "# max words we use\n",
        "maxwords = 50000\n",
        "# max words per lyric (should be 200 anyway as set up)\n",
        "maxlyricwords = 200\n",
        "# tokenize here\n",
        "embedding_dimension = 100\n",
        "tokenizer = Tokenizer(num_words=maxwords, filters='!\"#$%&()*+,-./:;<=>?@[\\]^_`{|}~', lower=True)\n",
        "tokenizer.fit_on_texts(ds[:, 1])\n",
        "word_index = tokenizer.word_index\n",
        "print('Found %s unique tokens.' % len(word_index))"
      ],
      "execution_count": 12,
      "outputs": [
        {
          "output_type": "stream",
          "text": [
            "Found 16926 unique tokens.\n"
          ],
          "name": "stdout"
        }
      ]
    },
    {
      "cell_type": "code",
      "metadata": {
        "colab": {
          "base_uri": "https://localhost:8080/"
        },
        "id": "c1Mxmt0Yzzun",
        "outputId": "5f8bc882-8c32-4d8b-bf87-d99539297d73"
      },
      "source": [
        "X = tokenizer.texts_to_sequences(ds[:, 1])\n",
        "X = pad_sequences(X, maxlen=maxlyricwords)\n",
        "print('Shape of data tensor:', X.shape)"
      ],
      "execution_count": 13,
      "outputs": [
        {
          "output_type": "stream",
          "text": [
            "Shape of data tensor: (52549, 200)\n"
          ],
          "name": "stdout"
        }
      ]
    },
    {
      "cell_type": "code",
      "metadata": {
        "colab": {
          "base_uri": "https://localhost:8080/"
        },
        "id": "u3tp_Ba3z5bu",
        "outputId": "efd896c7-e2aa-4f52-c06a-482d76f6bef9"
      },
      "source": [
        "Y = pd.get_dummies(ds[:, 0])\n",
        "print('Shape of label tensor:', Y.shape)"
      ],
      "execution_count": 14,
      "outputs": [
        {
          "output_type": "stream",
          "text": [
            "Shape of label tensor: (52549, 4)\n"
          ],
          "name": "stdout"
        }
      ]
    },
    {
      "cell_type": "code",
      "metadata": {
        "colab": {
          "base_uri": "https://localhost:8080/"
        },
        "id": "rkOgVUkjz7vD",
        "outputId": "f14403ce-cdcc-4fc8-c6f7-904ae013b74f"
      },
      "source": [
        "X_train, X_test, Y_train, Y_test = train_test_split(X,Y, test_size = 0.10, random_state = 42)\n",
        "print(X_train.shape,Y_train.shape)\n",
        "print(X_test.shape,Y_test.shape)"
      ],
      "execution_count": 15,
      "outputs": [
        {
          "output_type": "stream",
          "text": [
            "(47294, 200) (47294, 4)\n",
            "(5255, 200) (5255, 4)\n"
          ],
          "name": "stdout"
        }
      ]
    },
    {
      "cell_type": "code",
      "metadata": {
        "colab": {
          "base_uri": "https://localhost:8080/"
        },
        "id": "kxUrhRhPz_v-",
        "outputId": "e6e27ed5-88cc-48b6-a931-852e543696a6"
      },
      "source": [
        "model = Sequential()\n",
        "model.add(Embedding(maxwords, embedding_dimension, input_length=X.shape[1]))\n",
        "model.add(SpatialDropout1D(0.2))\n",
        "model.add(LSTM(100, dropout=0.2, recurrent_dropout=0.2))\n",
        "model.add(Dense(4, activation='softmax'))\n",
        "model.compile(loss='categorical_crossentropy', optimizer='adam', metrics=['accuracy'])\n",
        "\n",
        "epochs = 10\n",
        "batch_size = 64\n",
        "\n",
        "history = model.fit(X_train, Y_train, epochs=epochs, batch_size=batch_size,validation_split=0.1,callbacks=[EarlyStopping(monitor='val_loss', patience=3, min_delta=0.0001)])"
      ],
      "execution_count": 16,
      "outputs": [
        {
          "output_type": "stream",
          "text": [
            "Epoch 1/10\n",
            "666/666 [==============================] - 433s 645ms/step - loss: 0.9745 - accuracy: 0.6314 - val_loss: 0.7093 - val_accuracy: 0.7228\n",
            "Epoch 2/10\n",
            "666/666 [==============================] - 423s 635ms/step - loss: 0.6281 - accuracy: 0.7556 - val_loss: 0.6382 - val_accuracy: 0.7471\n",
            "Epoch 3/10\n",
            "666/666 [==============================] - 419s 629ms/step - loss: 0.5018 - accuracy: 0.8085 - val_loss: 0.6249 - val_accuracy: 0.7543\n",
            "Epoch 4/10\n",
            "666/666 [==============================] - 424s 636ms/step - loss: 0.4422 - accuracy: 0.8320 - val_loss: 0.6359 - val_accuracy: 0.7596\n",
            "Epoch 5/10\n",
            "666/666 [==============================] - 426s 639ms/step - loss: 0.4113 - accuracy: 0.8401 - val_loss: 0.6504 - val_accuracy: 0.7641\n",
            "Epoch 6/10\n",
            "666/666 [==============================] - 429s 644ms/step - loss: 0.3721 - accuracy: 0.8567 - val_loss: 0.6777 - val_accuracy: 0.7655\n"
          ],
          "name": "stdout"
        }
      ]
    },
    {
      "cell_type": "code",
      "metadata": {
        "colab": {
          "base_uri": "https://localhost:8080/"
        },
        "id": "2BcnKMNu0C6m",
        "outputId": "1bf0f5f7-88d3-4c83-c15e-5cb44c4690cc"
      },
      "source": [
        "accr = model.evaluate(X_test,Y_test)\n",
        "print('Test set\\n  Loss: {:0.3f}\\n  Accuracy: {:0.3f}'.format(accr[0],accr[1]))"
      ],
      "execution_count": 17,
      "outputs": [
        {
          "output_type": "stream",
          "text": [
            "165/165 [==============================] - 9s 56ms/step - loss: 0.7120 - accuracy: 0.7591\n",
            "Test set\n",
            "  Loss: 0.712\n",
            "  Accuracy: 0.759\n"
          ],
          "name": "stdout"
        }
      ]
    },
    {
      "cell_type": "code",
      "metadata": {
        "colab": {
          "base_uri": "https://localhost:8080/"
        },
        "id": "_VUzjg960GSJ",
        "outputId": "c72609ca-4623-4368-a19c-523f96246fc1"
      },
      "source": [
        "lyric = ['Bumpin i meant for you call my ninja like']\n",
        "seq = tokenizer.texts_to_sequences(lyric)\n",
        "padded = pad_sequences(seq, maxlen=maxlyricwords)\n",
        "pred = model.predict(padded)\n",
        "labels = ['rock', 'country', 'pop', 'rap']\n",
        "print(pred, labels[np.argmax(pred)])"
      ],
      "execution_count": 18,
      "outputs": [
        {
          "output_type": "stream",
          "text": [
            "[[1.9792731e-06 1.5739771e-06 4.8857914e-06 9.9999154e-01]] rap\n"
          ],
          "name": "stdout"
        }
      ]
    },
    {
      "cell_type": "code",
      "metadata": {
        "id": "ICFn8tcFZrV8"
      },
      "source": [
        "def classify_string(input):\n",
        "  lyric = [str(input)]\n",
        "  seq = tokenizer.texts_to_sequences(lyric)\n",
        "  padded = pad_sequences(seq, maxlen=maxlyricwords)\n",
        "  pred = model.predict(padded)\n",
        "  labels = ['rock', 'country', 'pop', 'rap']\n",
        "  print(labels[np.argmax(pred)])"
      ],
      "execution_count": 19,
      "outputs": []
    },
    {
      "cell_type": "code",
      "metadata": {
        "id": "qnH2PTz6aLJQ"
      },
      "source": [
        "def classify_list(input):\n",
        "  for lyric in input:\n",
        "    classify_string(lyric)"
      ],
      "execution_count": 20,
      "outputs": []
    },
    {
      "cell_type": "code",
      "metadata": {
        "colab": {
          "base_uri": "https://localhost:8080/"
        },
        "id": "79wVWcV4ajpS",
        "outputId": "0a43f671-041f-4168-a04f-b28036a32c8d"
      },
      "source": [
        "# markov generated lyrics\n",
        "lyrics = ['Bumpin i meant for you call my ninja like',\n",
        " 'Biz dont take their baby mommas ninja frick you nasty boy you',\n",
        " 'Shifty sticks and pray and flee the frick all of you',\n",
        " 'Glocks but all ill die slow',\n",
        " 'Wondering if im askin blunt sip champagne range rover been outside for',\n",
        " 'And youre so take that crown two pounds you know',\n",
        " 'Publishing i thought i get witcha can i could cop',\n",
        " 'Miss the more cause you in the right one',\n",
        " 'Onyx and them hoes i love',\n",
        " 'Gat call me puff daddy biggie gots ta like',\n",
        " 'Everything around me shit b***** in ya imma stay yappin when',\n",
        " 'Hum all about fingers in the loot im',\n",
        " 'Rollem up heard whos this yeah keep on top sky is',\n",
        " 'Drunk of ninjaz from now drop to',\n",
        " 'Declinin windin like flypaper neighbor slow down',\n",
        " 'Expensive cars i tote my crew i only got enough heart',\n",
        " 'Lame dudes whos next move but the drugs to spit phrases thatll',\n",
        " 'Guy well its cool and your poop so hard to',\n",
        " 'Clap wit my life in ma little nasty boy',\n",
        " 'Dial you should too much better man played',\n",
        " 'Lali like that you frick doin all mcs have']\n",
        "\n",
        "classify_list(lyrics)"
      ],
      "execution_count": 21,
      "outputs": [
        {
          "output_type": "stream",
          "text": [
            "rap\n",
            "rap\n",
            "rap\n",
            "rap\n",
            "rap\n",
            "rap\n",
            "rap\n",
            "rap\n",
            "rap\n",
            "rap\n",
            "rap\n",
            "rap\n",
            "rap\n",
            "rap\n",
            "rap\n",
            "rap\n",
            "rap\n",
            "rap\n",
            "rap\n",
            "rock\n",
            "rap\n"
          ],
          "name": "stdout"
        }
      ]
    },
    {
      "cell_type": "code",
      "metadata": {
        "colab": {
          "base_uri": "https://localhost:8080/"
        },
        "id": "A4ZXA1XWaoyq",
        "outputId": "c4ebafed-e400-4a75-9b21-9a0ce9f1ce0a"
      },
      "source": [
        "# lstm generated lyrics\n",
        "lyrics2 = ['in the veins hard to explain how i maintain', \n",
        "  'to put my back in the house so i can i wanna flaunt you thats right', \n",
        "  'with the grime of my ninja frick',\n",
        "  'with the ds crept in blastin him you dont want to slit the clits alot',\n",
        "  'used to lick the clits a lot of problems never be the beamer with the goldie sound',\n",
        "  'like a steelo not my steelo oh no thats not my my steelo oh i steelo not my steelo oh no',\n",
        "  'thats not my no steelo bust my no dough day but this sittin bodies not my']\n",
        "\n",
        "classify_list(lyrics2)"
      ],
      "execution_count": 22,
      "outputs": [
        {
          "output_type": "stream",
          "text": [
            "rap\n",
            "rap\n",
            "rap\n",
            "rap\n",
            "rap\n",
            "rap\n",
            "rap\n"
          ],
          "name": "stdout"
        }
      ]
    },
    {
      "cell_type": "code",
      "metadata": {
        "id": "r2rSxKGgeUbn",
        "colab": {
          "base_uri": "https://localhost:8080/"
        },
        "outputId": "a2b63385-7b16-4691-d6e1-3769c217083e"
      },
      "source": [
        "# something else for testing\n",
        "denver = ['almost heaven west virginia',\n",
        "'blue ridge mountains shenandoah river',\n",
        "'life is old there older than the trees',\n",
        "'younger than the mountains growin like a breeze',\n",
        "'country roads take me home',\n",
        "'to the place i belong',\n",
        "'west virginia mountain mama',\n",
        "'take me home country roads']\n",
        "\n",
        "classify_list(denver)"
      ],
      "execution_count": 23,
      "outputs": [
        {
          "output_type": "stream",
          "text": [
            "pop\n",
            "country\n",
            "pop\n",
            "country\n",
            "pop\n",
            "rock\n",
            "country\n",
            "pop\n"
          ],
          "name": "stdout"
        }
      ]
    },
    {
      "cell_type": "code",
      "metadata": {
        "id": "f9c7IGbDzywX"
      },
      "source": [
        ""
      ],
      "execution_count": null,
      "outputs": []
    }
  ]
}
