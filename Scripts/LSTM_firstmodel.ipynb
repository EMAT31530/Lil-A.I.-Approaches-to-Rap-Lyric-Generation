{
  "nbformat": 4,
  "nbformat_minor": 0,
  "metadata": {
    "colab": {
      "name": "LSTM-basic",
      "provenance": [],
      "collapsed_sections": []
    },
    "kernelspec": {
      "name": "python3",
      "display_name": "Python 3"
    },
    "accelerator": "GPU"
  },
  "cells": [
    {
      "cell_type": "code",
      "metadata": {
        "colab": {
          "base_uri": "https://localhost:8080/"
        },
        "id": "RyEQkMNVxPS7",
        "outputId": "d1b3bef2-b159-4c24-f2cc-e79689a4108e"
      },
      "source": [
        "import tensorflow as tf\n",
        "from tensorflow.keras.models import Sequential\n",
        "from tensorflow.keras.layers import Dense, GRU, Embedding\n",
        "from tensorflow.keras.optimizers import Adam\n",
        "from tensorflow.keras.preprocessing.text import Tokenizer\n",
        "from tensorflow.keras.preprocessing.sequence import pad_sequences\n",
        "from keras.layers import LSTM\n",
        "from google.colab import files\n",
        "from google.colab import drive\n",
        "import numpy as np\n",
        "#@title Import Statements\n",
        "!pip install PyGithub\n",
        "\n",
        "# Package Imports\n",
        "import random\n",
        "import pandas as pd \n",
        "import numpy as np\n",
        "import matplotlib.pyplot as plt \n",
        "from urllib.request import urlopen # The default requests package\n",
        "import requests # For making GitHub requests\n",
        "from pprint import pprint # For pretty printing\n",
        "from pathlib import Path # The Path class\n",
        "\n",
        "# For the more advanced requests\n",
        "import base64\n",
        "import os\n",
        "import sys\n",
        "sys.path.append(\"./PyGithub\");\n",
        "from github import Github\n",
        "from getpass import getpass\n"
      ],
      "execution_count": 1,
      "outputs": [
        {
          "output_type": "stream",
          "text": [
            "Requirement already satisfied: PyGithub in /usr/local/lib/python3.7/dist-packages (1.54.1)\n",
            "Requirement already satisfied: pyjwt<2.0 in /usr/local/lib/python3.7/dist-packages (from PyGithub) (1.7.1)\n",
            "Requirement already satisfied: requests>=2.14.0 in /usr/local/lib/python3.7/dist-packages (from PyGithub) (2.23.0)\n",
            "Requirement already satisfied: deprecated in /usr/local/lib/python3.7/dist-packages (from PyGithub) (1.2.11)\n",
            "Requirement already satisfied: certifi>=2017.4.17 in /usr/local/lib/python3.7/dist-packages (from requests>=2.14.0->PyGithub) (2020.12.5)\n",
            "Requirement already satisfied: chardet<4,>=3.0.2 in /usr/local/lib/python3.7/dist-packages (from requests>=2.14.0->PyGithub) (3.0.4)\n",
            "Requirement already satisfied: urllib3!=1.25.0,!=1.25.1,<1.26,>=1.21.1 in /usr/local/lib/python3.7/dist-packages (from requests>=2.14.0->PyGithub) (1.24.3)\n",
            "Requirement already satisfied: idna<3,>=2.5 in /usr/local/lib/python3.7/dist-packages (from requests>=2.14.0->PyGithub) (2.10)\n",
            "Requirement already satisfied: wrapt<2,>=1.10 in /usr/local/lib/python3.7/dist-packages (from deprecated->PyGithub) (1.12.1)\n"
          ],
          "name": "stdout"
        }
      ]
    },
    {
      "cell_type": "code",
      "metadata": {
        "id": "6HfS1LmNxiMp"
      },
      "source": [
        "#@title Function Definitions\n",
        "# Recursively Import the Data (AUTOMATIC)\n",
        "\n",
        "def _decode_and_write(file__, path_):\n",
        "    data = file__.decoded_content\n",
        "    data = data.decode('utf-8')[1:]\n",
        "    with open(path_, 'w') as writefile:\n",
        "        writefile.write(data) \n",
        "    data = data.splitlines()\n",
        "    data_rows = []\n",
        "    for count, word in enumerate(data):\n",
        "        if count>0:\n",
        "            data_rows.append(word.split(','))\n",
        "    data = pd.DataFrame(data_rows)\n",
        "    data = data.to_numpy()\n",
        "    return data\n",
        "\n",
        "\n",
        "def import_github(path_name=\"AllLyrics.txt\"):\n",
        "    \"\"\"\n",
        "    Function for importing the github file\n",
        "    path_name: str\n",
        "    output: None\n",
        "    \"\"\"\n",
        "    g = Github(getpass(\"Enter your PAT key \")) # Enter your PAT Key.\n",
        "    username = \"MikeMNelhams\"\n",
        "    main_branch_bool = input(\"Main Branch: Yes or No? \")\n",
        "    yes_synonyms = [\"yes\", \"y\", \"yh\", \"1\", \"true\"]\n",
        "    if main_branch_bool.lower() in yes_synonyms: \n",
        "        branch = \"master\" \n",
        "    else: \n",
        "        branch = \"PROTOTYPE\"\n",
        "\n",
        "    user = g.get_user(username)\n",
        "    r_proj_clone = 0\n",
        "    for repo in g.get_user().get_repos():\n",
        "        if repo.name == \"ai-group-project-Team-JMJM\":\n",
        "            r_proj_clone = repo\n",
        "            break\n",
        "        # To see all the available attributes and methods\n",
        "        print(dir(repo))\n",
        "    if not r_proj_clone:\n",
        "        print(\"ai-group-project-Team-JMJM not found\")\n",
        "        sys.exit()\n",
        "    print(\"Importing Github cleaned text files...\")\n",
        "    contents = r_proj_clone.get_contents(\"RapLyrics/CLEAN\", ref=branch)\n",
        "    RAP_DATA = []\n",
        "    for file_ in contents:\n",
        "        path = file_.path\n",
        "        path = str(path) \n",
        "        # Only choose the .txt files\n",
        "        if path[-4:] == '.txt':\n",
        "            # Append the Lyrics\n",
        "            RAP_DATA.append(file_.decoded_content.decode(\"utf-8\")) \n",
        "    \n",
        "    temp_path = Path(path_name)\n",
        "    if temp_path.is_file(): \n",
        "        if os.stat(path_name).st_size == 0:\n",
        "            write_bool2 = True\n",
        "        else: \n",
        "            write_bool2 = False\n",
        "    else: \n",
        "        write_bool2 = True\n",
        "    \n",
        "    if write_bool2: \n",
        "        for lyric in RAP_DATA: \n",
        "            try:\n",
        "                with open(path_name, 'w') as writefile: \n",
        "                    writefile.write(lyric)\n",
        "            except: \n",
        "                print(\"Error, file moved/deleted during write\")\n",
        "        print(\"{} is now up to date!\".format(path_name))\n",
        "    else: \n",
        "        print(\"{} is already up to date!\".format(path_name))\n",
        "    \n",
        "    contents = r_proj_clone.get_contents(\"RapLyrics/Other\", ref=branch)\n",
        "    for counter, file_ in enumerate(contents):\n",
        "        path = file_.path\n",
        "        path = str(path) \n",
        "\n",
        "        title_start = path.find('Other')\n",
        "        title_len = path[title_start:].find('.')\n",
        "        path = path[title_start + 6:title_start + title_len + 4]\n",
        "\n",
        "        print(\"Writing file {} {}\".format(counter, path))\n",
        "        temp_path = Path(path)\n",
        "        if temp_path.is_file():\n",
        "            with open(path,'w'): pass # Cheeky way to clear the file if it exists\n",
        "        \n",
        "        # Split the long string into a list of lines, then split by words, then put into a csv, then to numpy array \n",
        "        data = file_.decoded_content\n",
        "        data = data.decode('utf-8')[1:]\n",
        "\n",
        "        with open(path, 'w') as writefile:\n",
        "            writefile.write(data) \n",
        "        print(\"All files now up to date!\")\n",
        "\n",
        "\n",
        "def update_github(write_bool=False, path_name=\"AllLyrics.txt\"):\n",
        "    \"\"\"\n",
        "    Function for updating the github file, by cleaning the lyrics, optional write to txt file. \n",
        "    write_bool: bool\n",
        "    path_name: str\n",
        "    output: None\n",
        "    \"\"\"\n",
        "    g = Github(getpass(\"Enter your PAT key \")) # Enter your PAT Key.\n",
        "    username = \"MikeMNelhams\"\n",
        "    main_branch_bool = input(\"Main Branch: Yes or No? \")\n",
        "    yes_synonyms = [\"yes\", \"y\", \"yh\", \"1\", \"true\"]\n",
        "    if main_branch_bool.lower() in yes_synonyms: \n",
        "        branch = \"master\" \n",
        "    else: \n",
        "        branch = \"PROTOTYPE\"\n",
        "\n",
        "    user = g.get_user(username)\n",
        "    r_proj_clone = 0\n",
        "    for repo in g.get_user().get_repos():\n",
        "        if repo.name == \"ai-group-project-Team-JMJM\":\n",
        "            r_proj_clone = repo\n",
        "            break\n",
        "        # To see all the available attributes and methods\n",
        "        print(dir(repo))\n",
        "    \n",
        "    if not r_proj_clone:\n",
        "        print(\"ai-group-project-Team-JMJM not found\")\n",
        "        sys.exit()\n",
        "\n",
        "    print(\"Importing editing csv files...\")\n",
        "\n",
        "    # Split the long string into a list of lines, then split by words, then put into a csv, then to numpy arr\n",
        "    contents = r_proj_clone.get_contents(\"RapLyrics/Other\", ref=branch)\n",
        "    for counter, file_ in enumerate(contents):\n",
        "        path = file_.path \n",
        "        path = str(path)\n",
        "        title_start = path.find('Other')\n",
        "        title_len = path[title_start:].find('.')\n",
        "        name = path[title_start + 6:title_start + title_len + 4]\n",
        "        print(\"Writing file {} {}\".format(counter, name))\n",
        "        if name.lower() == \"censors.csv\":\n",
        "            censors = _decode_and_write(file_, path)\n",
        "        elif name.lower() == \"capitals.csv\":\n",
        "            capitals = _decode_and_write(file_, path)\n",
        "        else: \n",
        "            _decode_and_write(file_, path)\n",
        "    print(\"All editing csv files are up to date!\")\n",
        "\n",
        "    print(\"Importing Github uncleaned text files...\")\n",
        "    contents = r_proj_clone.get_contents(\"RapLyrics/UNCLEAN\", ref=branch)\n",
        "\n",
        "    RAP_DATA = []\n",
        "    rap_lyric_names = []\n",
        "\n",
        "    for file_ in contents:\n",
        "        path = file_.path\n",
        "        path = str(path) \n",
        "        # Only choose the .txt files\n",
        "        if path[-4:] == '.txt':\n",
        "            # Append the name\n",
        "            title_start = path.find('UNCLEAN')\n",
        "            title_len = path[title_start:].find('.')\n",
        "            name = path[title_start + 8:title_start + title_len]\n",
        "            if name[-2:] == 'UC':\n",
        "                name = name[:-2]\n",
        "            rap_lyric_names.append(name) \n",
        "\n",
        "        # Append the Lyrics\n",
        "        RAP_DATA.append(file_.decoded_content.decode(\"utf-8\")) \n",
        "        \n",
        "    # Remove the \\ufeff at the beginning O(n)\n",
        "    for count, lyric in enumerate(RAP_DATA): \n",
        "        RAP_DATA[count] = lyric[1:]\n",
        "\n",
        "    # Censor the profanities O(n*m + n*m2) m > m2 xor m2 > m\n",
        "    for count in range(len(RAP_DATA)): \n",
        "        for i in range(len(censors[0:])):\n",
        "            RAP_DATA[count] = RAP_DATA[count].replace(str(censors[i, 0]), str(censors[i, 1]))\n",
        "        for i in range(len(capitals[0:])):\n",
        "            RAP_DATA[count] = RAP_DATA[count].replace(str(capitals[i, 0]), str(capitals[i, 1]))\n",
        "\n",
        "    contents = r_proj_clone.get_contents(\"RapLyrics/CLEAN\", ref=branch)\n",
        "    cleaned_names = []\n",
        "    for counter, file_ in enumerate(contents):\n",
        "        path = file_.path\n",
        "        path = str(path) \n",
        "        print(\"File {} \".format(counter + 1) + path)\n",
        "        # Only choose the .txt files\n",
        "        if path[-4:] == '.txt':\n",
        "            # Append the name\n",
        "            title_start = path.find('CLEAN')\n",
        "            title_len = path[title_start:].find('.')\n",
        "        name = path[title_start + 6:title_start + title_len]\n",
        "        if name[-2:] == 'CL':\n",
        "            name = name[:-2]\n",
        "        cleaned_names.append(name) \n",
        "\n",
        "    # ALL OF THE EDITING IS DONE IN THE 'PROTOTYPE BRANCH' to avoid overwriting import changes\n",
        "    # If the (now cleaned) rap_lyrics name is new (not in cleaned_names), then we want to create that as a new file \n",
        "    # If the (now cleaned) rap_lyrics name is NOT new (not in cleaned_names), then we want to update the file\n",
        "    # print(rap_lyric_names)\n",
        "    # print(cleaned_names)\n",
        "    print(\"Commiting files to github...\")\n",
        "    for counter, new_name in enumerate(rap_lyric_names): \n",
        "        if new_name in cleaned_names: \n",
        "            duplicate = r_proj_clone.get_contents(\"RapLyrics/CLEAN/{}CL.txt\".format(new_name), ref=branch)\n",
        "            r_proj_clone.update_file(\"RapLyrics/CLEAN/{}CL.txt\".format(new_name), \"This was uploaded automatically via pipeline\", RAP_DATA[counter], duplicate.sha, branch=branch)\n",
        "        else:\n",
        "            r_proj_clone.create_file(\"RapLyrics/CLEAN/{}CL.txt\".format(new_name), \"This was uploaded automatically via pipeline\", RAP_DATA[counter], branch=branch)\n",
        "\n",
        "    if write_bool: \n",
        "        print(\"Writing text file to: {}\".format(path_name))\n",
        "        with open(path_name, 'w') as writefile:\n",
        "            for lyric in RAP_DATA:\n",
        "                writefile.write(lyric)"
      ],
      "execution_count": 2,
      "outputs": []
    },
    {
      "cell_type": "code",
      "metadata": {
        "colab": {
          "base_uri": "https://localhost:8080/"
        },
        "id": "CtfMMwOdxmt_",
        "outputId": "6a0619ea-c70e-4188-88f1-71f9a1eae960"
      },
      "source": [
        "# Import all of Mike's lyrics. PATKEY: 5ae2446bd5828c9e27deb3865118d9e783aa6e15\n",
        "import_github()"
      ],
      "execution_count": 3,
      "outputs": [
        {
          "output_type": "stream",
          "text": [
            "Enter your PAT key ··········\n",
            "Main Branch: Yes or No? Yes\n",
            "Importing Github cleaned text files...\n",
            "AllLyrics.txt is already up to date!\n",
            "Writing file 0 capitals.csv\n",
            "All files now up to date!\n",
            "Writing file 1 censors.csv\n",
            "All files now up to date!\n"
          ],
          "name": "stdout"
        }
      ]
    },
    {
      "cell_type": "code",
      "metadata": {
        "id": "6VjURXnfxsKJ"
      },
      "source": [
        "Text = open(\"AllLyrics.txt\", \"r\").read()\n",
        "# turn text to lower case to reduce vocabulary\n",
        "Text = Text.lower()\n",
        "with open(\"AllLyrics.txt\", \"r\") as f:\n",
        "    content = f.readlines()\n",
        "# bars is a list containing each line in dataset in lowercase\n",
        "bars = [x.strip().lower() for x in content]\n",
        "stripped_bars = [word.split() for word in bars]\n",
        "# Vocabulary is a list of all words in the dataset\n",
        "Vocabulary = ''.join([i for i in Text if not i.isdigit()]).replace(\"\\n\",\" \").split(' ')"
      ],
      "execution_count": 4,
      "outputs": []
    },
    {
      "cell_type": "code",
      "metadata": {
        "id": "uLpVvXPQ2rHL"
      },
      "source": [
        "no_of_bars = len(bars)"
      ],
      "execution_count": 5,
      "outputs": []
    },
    {
      "cell_type": "code",
      "metadata": {
        "id": "jIRyjmQeyaAG"
      },
      "source": [
        "# word_count is a function creating a list of words ranked in order of most used\n",
        "# could think about removing certain words to create more accurate raps as model won't learn well from words used very infrequently\n",
        "def word_count(lyrics):\n",
        "  a = {}\n",
        "  for word in Vocabulary:\n",
        "    if word in a:\n",
        "      a[word] += 1\n",
        "    else:\n",
        "      a[word] = 1\n",
        "  return a\n",
        "word_dict = word_count(Vocabulary)\n",
        "sort_dict = sorted(word_dict.items(), key = lambda x: x[1], reverse = True)\n",
        "# Top 20 words\n",
        "sort_dict1 = sort_dict[:40]"
      ],
      "execution_count": 6,
      "outputs": []
    },
    {
      "cell_type": "code",
      "metadata": {
        "id": "ZIweRLWJqfax"
      },
      "source": [
        "words = sorted(list(set(Vocabulary)))\n",
        "int_to_word = { i : words[i] for i in range(len(words))}\n",
        "# Need to reverse this at the end to reverse numbers back into words\n",
        "word_to_int = { words[i] : i for i in range(len(words))}"
      ],
      "execution_count": 7,
      "outputs": []
    },
    {
      "cell_type": "code",
      "metadata": {
        "id": "nzfKleYrygft"
      },
      "source": [
        "# create a function that converts bars into a sequence of unique integers\n",
        "# List of all unique vocabulary in alphabetical order\n",
        "\n",
        "def words_to_integers(bar, Vocabulary):\n",
        "  encode = []\n",
        "  stripped_bar = [word.split() for word in bar]\n",
        "  for i in range(no_of_bars):\n",
        "    seq = []\n",
        "    seq.append([word_to_int[word] for word in stripped_bar[i]])\n",
        "    encode.append(seq)\n",
        "\n",
        "  encode = sum(encode, [])\n",
        "  return encode\n",
        "  \n",
        "\n"
      ],
      "execution_count": 8,
      "outputs": []
    },
    {
      "cell_type": "code",
      "metadata": {
        "colab": {
          "base_uri": "https://localhost:8080/"
        },
        "id": "7RHaklDv5tZN",
        "outputId": "dcc9875a-9f0d-458b-a361-93e0c5c8726d"
      },
      "source": [
        "vocab_size = len(words) + 1\n",
        "print(vocab_size)"
      ],
      "execution_count": 9,
      "outputs": [
        {
          "output_type": "stream",
          "text": [
            "5070\n"
          ],
          "name": "stdout"
        }
      ]
    },
    {
      "cell_type": "code",
      "metadata": {
        "id": "kiP3CQKQrIR7"
      },
      "source": [
        "def sentence_to_integer(bar):\n",
        "    stripped_bar = [word.split() for word in [bar]]\n",
        "    stripped_bar = sum(stripped_bar, [])\n",
        "    seq = []\n",
        "    seq.append([word_to_int[word] for word in stripped_bar])\n",
        "    seq = sum(seq, [])\n",
        "    return seq\n"
      ],
      "execution_count": 10,
      "outputs": []
    },
    {
      "cell_type": "code",
      "metadata": {
        "id": "i2Log92J2ZdU"
      },
      "source": [
        "sequences = []\n",
        "for line in bars:\n",
        "    token_list = sentence_to_integer(line)\n",
        "    for i in range(1, len(token_list)):\n",
        "        n_gram_seq = token_list[:i+1]\n",
        "        sequences.append(n_gram_seq)"
      ],
      "execution_count": 11,
      "outputs": []
    },
    {
      "cell_type": "code",
      "metadata": {
        "colab": {
          "base_uri": "https://localhost:8080/"
        },
        "id": "ABAKPmzErRT_",
        "outputId": "137ae324-5761-4884-fc1a-c73deb159695"
      },
      "source": [
        "padding_length = max([len(line) for line in sequences])\n",
        "print(padding_length)"
      ],
      "execution_count": 12,
      "outputs": [
        {
          "output_type": "stream",
          "text": [
            "66\n"
          ],
          "name": "stdout"
        }
      ]
    },
    {
      "cell_type": "code",
      "metadata": {
        "id": "4VXihUw13aAL"
      },
      "source": [
        "def sentence_to_integer(bar):\n",
        "    stripped_bar = [word.split() for word in [bar]]\n",
        "    stripped_bar = sum(stripped_bar, [])\n",
        "    seq = []\n",
        "    seq.append([word_to_int[word] for word in stripped_bar])\n",
        "    seq = sum(seq, [])\n",
        "    return seq\n"
      ],
      "execution_count": 13,
      "outputs": []
    },
    {
      "cell_type": "code",
      "metadata": {
        "id": "1PV9FBI_EsEQ"
      },
      "source": [
        "from tensorflow.keras.preprocessing.sequence import pad_sequences\n",
        "sequences = np.array(pad_sequences(sequences, maxlen = padding_length, padding = 'pre'))\n",
        "# Remove last word from each line\n",
        "x_train = sequences[:,:-1]\n",
        "# Last word is used as the label\n",
        "y_train = sequences[:,-1]\n",
        "\n",
        "y_train = tf.keras.utils.to_categorical(y_train, num_classes = vocab_size)"
      ],
      "execution_count": 14,
      "outputs": []
    },
    {
      "cell_type": "code",
      "metadata": {
        "colab": {
          "base_uri": "https://localhost:8080/"
        },
        "id": "BYl-zrM3r1nI",
        "outputId": "fdca2eb4-506d-4eb7-a800-3263af243720"
      },
      "source": [
        "sequences[:,-1]"
      ],
      "execution_count": 15,
      "outputs": [
        {
          "output_type": "execute_result",
          "data": {
            "text/plain": [
              "array([2246, 4839,   68, ..., 1929, 2025, 4886], dtype=int32)"
            ]
          },
          "metadata": {
            "tags": []
          },
          "execution_count": 15
        }
      ]
    },
    {
      "cell_type": "code",
      "metadata": {
        "colab": {
          "base_uri": "https://localhost:8080/"
        },
        "id": "BWoLXV1Qr4E9",
        "outputId": "b13a8c54-f4d2-47d3-df15-e0a23cbde8e4"
      },
      "source": [
        "from tensorflow.keras.models import Sequential\n",
        "from tensorflow.keras.layers import Dense, Embedding, LSTM, Dropout\n",
        "model = Sequential()\n",
        "model.add(Embedding(vocab_size, 256, input_length = padding_length - 1))\n",
        "model.add(LSTM(128, return_sequences = True))\n",
        "model.add(Dropout(0.2))\n",
        "model.add(LSTM(256)),\n",
        "model.add(Dropout(0.2)),\n",
        "model.add(Dense(vocab_size, activation = 'softmax'))\n",
        "\n",
        "model.compile(loss = 'categorical_crossentropy', metrics = ['accuracy'], optimizer = 'adam')\n",
        "model.summary()"
      ],
      "execution_count": 16,
      "outputs": [
        {
          "output_type": "stream",
          "text": [
            "Model: \"sequential\"\n",
            "_________________________________________________________________\n",
            "Layer (type)                 Output Shape              Param #   \n",
            "=================================================================\n",
            "embedding (Embedding)        (None, 65, 256)           1297920   \n",
            "_________________________________________________________________\n",
            "lstm (LSTM)                  (None, 65, 128)           197120    \n",
            "_________________________________________________________________\n",
            "dropout (Dropout)            (None, 65, 128)           0         \n",
            "_________________________________________________________________\n",
            "lstm_1 (LSTM)                (None, 256)               394240    \n",
            "_________________________________________________________________\n",
            "dropout_1 (Dropout)          (None, 256)               0         \n",
            "_________________________________________________________________\n",
            "dense (Dense)                (None, 5070)              1302990   \n",
            "=================================================================\n",
            "Total params: 3,192,270\n",
            "Trainable params: 3,192,270\n",
            "Non-trainable params: 0\n",
            "_________________________________________________________________\n"
          ],
          "name": "stdout"
        }
      ]
    },
    {
      "cell_type": "code",
      "metadata": {
        "colab": {
          "base_uri": "https://localhost:8080/"
        },
        "id": "Ar4UNHRZtBrp",
        "outputId": "aa19c03d-8305-46be-bbb0-c97bc5e3fb99"
      },
      "source": [
        "history = model.fit(x_train, y_train, epochs = 200, batch_size = 128)"
      ],
      "execution_count": 17,
      "outputs": [
        {
          "output_type": "stream",
          "text": [
            "Epoch 1/200\n",
            "320/320 [==============================] - 13s 31ms/step - loss: 6.9679 - accuracy: 0.0464\n",
            "Epoch 2/200\n",
            "320/320 [==============================] - 10s 31ms/step - loss: 6.2793 - accuracy: 0.0512\n",
            "Epoch 3/200\n",
            "320/320 [==============================] - 10s 31ms/step - loss: 6.0734 - accuracy: 0.0630\n",
            "Epoch 4/200\n",
            "320/320 [==============================] - 10s 31ms/step - loss: 5.7897 - accuracy: 0.0790\n",
            "Epoch 5/200\n",
            "320/320 [==============================] - 10s 31ms/step - loss: 5.5413 - accuracy: 0.0985\n",
            "Epoch 6/200\n",
            "320/320 [==============================] - 10s 31ms/step - loss: 5.3806 - accuracy: 0.1156\n",
            "Epoch 7/200\n",
            "320/320 [==============================] - 10s 31ms/step - loss: 5.1857 - accuracy: 0.1335\n",
            "Epoch 8/200\n",
            "320/320 [==============================] - 10s 31ms/step - loss: 4.9951 - accuracy: 0.1513\n",
            "Epoch 9/200\n",
            "320/320 [==============================] - 10s 31ms/step - loss: 4.8389 - accuracy: 0.1632\n",
            "Epoch 10/200\n",
            "320/320 [==============================] - 10s 30ms/step - loss: 4.6751 - accuracy: 0.1783\n",
            "Epoch 11/200\n",
            "320/320 [==============================] - 10s 31ms/step - loss: 4.5165 - accuracy: 0.1941\n",
            "Epoch 12/200\n",
            "320/320 [==============================] - 10s 30ms/step - loss: 4.3855 - accuracy: 0.2065\n",
            "Epoch 13/200\n",
            "320/320 [==============================] - 10s 31ms/step - loss: 4.2401 - accuracy: 0.2204\n",
            "Epoch 14/200\n",
            "320/320 [==============================] - 10s 31ms/step - loss: 4.0915 - accuracy: 0.2338\n",
            "Epoch 15/200\n",
            "320/320 [==============================] - 10s 31ms/step - loss: 3.9780 - accuracy: 0.2502\n",
            "Epoch 16/200\n",
            "320/320 [==============================] - 10s 31ms/step - loss: 3.8760 - accuracy: 0.2564\n",
            "Epoch 17/200\n",
            "320/320 [==============================] - 10s 31ms/step - loss: 3.7535 - accuracy: 0.2710\n",
            "Epoch 18/200\n",
            "320/320 [==============================] - 10s 31ms/step - loss: 3.6558 - accuracy: 0.2823\n",
            "Epoch 19/200\n",
            "320/320 [==============================] - 10s 31ms/step - loss: 3.5398 - accuracy: 0.2983\n",
            "Epoch 20/200\n",
            "320/320 [==============================] - 10s 31ms/step - loss: 3.4584 - accuracy: 0.3119\n",
            "Epoch 21/200\n",
            "320/320 [==============================] - 10s 31ms/step - loss: 3.3505 - accuracy: 0.3267\n",
            "Epoch 22/200\n",
            "320/320 [==============================] - 10s 31ms/step - loss: 3.2551 - accuracy: 0.3449\n",
            "Epoch 23/200\n",
            "320/320 [==============================] - 10s 31ms/step - loss: 3.1918 - accuracy: 0.3538\n",
            "Epoch 24/200\n",
            "320/320 [==============================] - 10s 31ms/step - loss: 3.1166 - accuracy: 0.3625\n",
            "Epoch 25/200\n",
            "320/320 [==============================] - 10s 30ms/step - loss: 3.0528 - accuracy: 0.3735\n",
            "Epoch 26/200\n",
            "320/320 [==============================] - 10s 31ms/step - loss: 2.9574 - accuracy: 0.3898\n",
            "Epoch 27/200\n",
            "320/320 [==============================] - 10s 31ms/step - loss: 2.8925 - accuracy: 0.4001\n",
            "Epoch 28/200\n",
            "320/320 [==============================] - 10s 31ms/step - loss: 2.8439 - accuracy: 0.4086\n",
            "Epoch 29/200\n",
            "320/320 [==============================] - 10s 31ms/step - loss: 2.7829 - accuracy: 0.4193\n",
            "Epoch 30/200\n",
            "320/320 [==============================] - 10s 31ms/step - loss: 2.7278 - accuracy: 0.4282\n",
            "Epoch 31/200\n",
            "320/320 [==============================] - 10s 31ms/step - loss: 2.6779 - accuracy: 0.4358\n",
            "Epoch 32/200\n",
            "320/320 [==============================] - 10s 31ms/step - loss: 2.6182 - accuracy: 0.4454\n",
            "Epoch 33/200\n",
            "320/320 [==============================] - 10s 31ms/step - loss: 2.5904 - accuracy: 0.4500\n",
            "Epoch 34/200\n",
            "320/320 [==============================] - 10s 31ms/step - loss: 2.5376 - accuracy: 0.4591\n",
            "Epoch 35/200\n",
            "320/320 [==============================] - 10s 31ms/step - loss: 2.5201 - accuracy: 0.4637\n",
            "Epoch 36/200\n",
            "320/320 [==============================] - 10s 31ms/step - loss: 2.4721 - accuracy: 0.4684\n",
            "Epoch 37/200\n",
            "320/320 [==============================] - 10s 31ms/step - loss: 2.4404 - accuracy: 0.4735\n",
            "Epoch 38/200\n",
            "320/320 [==============================] - 10s 31ms/step - loss: 2.4046 - accuracy: 0.4796\n",
            "Epoch 39/200\n",
            "320/320 [==============================] - 10s 31ms/step - loss: 2.3433 - accuracy: 0.4871\n",
            "Epoch 40/200\n",
            "320/320 [==============================] - 10s 31ms/step - loss: 2.3478 - accuracy: 0.4877\n",
            "Epoch 41/200\n",
            "320/320 [==============================] - 10s 31ms/step - loss: 2.2963 - accuracy: 0.4996\n",
            "Epoch 42/200\n",
            "320/320 [==============================] - 10s 31ms/step - loss: 2.2689 - accuracy: 0.4995\n",
            "Epoch 43/200\n",
            "320/320 [==============================] - 10s 31ms/step - loss: 2.2478 - accuracy: 0.5057\n",
            "Epoch 44/200\n",
            "320/320 [==============================] - 10s 31ms/step - loss: 2.1989 - accuracy: 0.5160\n",
            "Epoch 45/200\n",
            "320/320 [==============================] - 10s 31ms/step - loss: 2.1820 - accuracy: 0.5147\n",
            "Epoch 46/200\n",
            "320/320 [==============================] - 10s 31ms/step - loss: 2.1450 - accuracy: 0.5261\n",
            "Epoch 47/200\n",
            "320/320 [==============================] - 10s 31ms/step - loss: 2.1166 - accuracy: 0.5288\n",
            "Epoch 48/200\n",
            "320/320 [==============================] - 10s 31ms/step - loss: 2.0958 - accuracy: 0.5339\n",
            "Epoch 49/200\n",
            "320/320 [==============================] - 10s 31ms/step - loss: 2.0749 - accuracy: 0.5391\n",
            "Epoch 50/200\n",
            "320/320 [==============================] - 10s 31ms/step - loss: 2.0600 - accuracy: 0.5362\n",
            "Epoch 51/200\n",
            "320/320 [==============================] - 10s 31ms/step - loss: 2.0254 - accuracy: 0.5434\n",
            "Epoch 52/200\n",
            "320/320 [==============================] - 10s 31ms/step - loss: 2.0026 - accuracy: 0.5470\n",
            "Epoch 53/200\n",
            "320/320 [==============================] - 10s 31ms/step - loss: 1.9773 - accuracy: 0.5519\n",
            "Epoch 54/200\n",
            "320/320 [==============================] - 10s 31ms/step - loss: 1.9562 - accuracy: 0.5580\n",
            "Epoch 55/200\n",
            "320/320 [==============================] - 10s 31ms/step - loss: 1.9406 - accuracy: 0.5597\n",
            "Epoch 56/200\n",
            "320/320 [==============================] - 10s 31ms/step - loss: 1.9151 - accuracy: 0.5649\n",
            "Epoch 57/200\n",
            "320/320 [==============================] - 10s 31ms/step - loss: 1.8974 - accuracy: 0.5678\n",
            "Epoch 58/200\n",
            "320/320 [==============================] - 10s 31ms/step - loss: 1.8848 - accuracy: 0.5664\n",
            "Epoch 59/200\n",
            "320/320 [==============================] - 10s 31ms/step - loss: 1.8775 - accuracy: 0.5706\n",
            "Epoch 60/200\n",
            "320/320 [==============================] - 10s 31ms/step - loss: 1.8501 - accuracy: 0.5764\n",
            "Epoch 61/200\n",
            "320/320 [==============================] - 10s 31ms/step - loss: 1.8316 - accuracy: 0.5822\n",
            "Epoch 62/200\n",
            "320/320 [==============================] - 10s 31ms/step - loss: 1.8085 - accuracy: 0.5856\n",
            "Epoch 63/200\n",
            "320/320 [==============================] - 10s 31ms/step - loss: 1.7899 - accuracy: 0.5852\n",
            "Epoch 64/200\n",
            "320/320 [==============================] - 10s 31ms/step - loss: 1.7692 - accuracy: 0.5880\n",
            "Epoch 65/200\n",
            "320/320 [==============================] - 10s 31ms/step - loss: 1.7686 - accuracy: 0.5880\n",
            "Epoch 66/200\n",
            "320/320 [==============================] - 10s 31ms/step - loss: 1.7490 - accuracy: 0.5883\n",
            "Epoch 67/200\n",
            "320/320 [==============================] - 10s 31ms/step - loss: 1.7501 - accuracy: 0.5952\n",
            "Epoch 68/200\n",
            "320/320 [==============================] - 10s 31ms/step - loss: 1.7350 - accuracy: 0.5947\n",
            "Epoch 69/200\n",
            "320/320 [==============================] - 10s 31ms/step - loss: 1.7053 - accuracy: 0.6034\n",
            "Epoch 70/200\n",
            "320/320 [==============================] - 10s 31ms/step - loss: 1.6746 - accuracy: 0.6098\n",
            "Epoch 71/200\n",
            "320/320 [==============================] - 10s 31ms/step - loss: 1.6901 - accuracy: 0.6041\n",
            "Epoch 72/200\n",
            "320/320 [==============================] - 10s 31ms/step - loss: 1.6593 - accuracy: 0.6105\n",
            "Epoch 73/200\n",
            "320/320 [==============================] - 10s 31ms/step - loss: 1.6520 - accuracy: 0.6109\n",
            "Epoch 74/200\n",
            "320/320 [==============================] - 10s 31ms/step - loss: 1.6482 - accuracy: 0.6100\n",
            "Epoch 75/200\n",
            "320/320 [==============================] - 10s 31ms/step - loss: 1.6249 - accuracy: 0.6161\n",
            "Epoch 76/200\n",
            "320/320 [==============================] - 10s 31ms/step - loss: 1.6108 - accuracy: 0.6172\n",
            "Epoch 77/200\n",
            "320/320 [==============================] - 10s 31ms/step - loss: 1.5959 - accuracy: 0.6209\n",
            "Epoch 78/200\n",
            "320/320 [==============================] - 10s 31ms/step - loss: 1.5727 - accuracy: 0.6267\n",
            "Epoch 79/200\n",
            "320/320 [==============================] - 10s 31ms/step - loss: 1.5857 - accuracy: 0.6246\n",
            "Epoch 80/200\n",
            "320/320 [==============================] - 10s 31ms/step - loss: 1.5829 - accuracy: 0.6265\n",
            "Epoch 81/200\n",
            "320/320 [==============================] - 10s 31ms/step - loss: 1.5554 - accuracy: 0.6286\n",
            "Epoch 82/200\n",
            "320/320 [==============================] - 10s 31ms/step - loss: 1.5550 - accuracy: 0.6290\n",
            "Epoch 83/200\n",
            "320/320 [==============================] - 10s 31ms/step - loss: 1.5283 - accuracy: 0.6366\n",
            "Epoch 84/200\n",
            "320/320 [==============================] - 10s 31ms/step - loss: 1.5215 - accuracy: 0.6363\n",
            "Epoch 85/200\n",
            "320/320 [==============================] - 10s 31ms/step - loss: 1.5228 - accuracy: 0.6325\n",
            "Epoch 86/200\n",
            "320/320 [==============================] - 10s 31ms/step - loss: 1.4967 - accuracy: 0.6407\n",
            "Epoch 87/200\n",
            "320/320 [==============================] - 10s 31ms/step - loss: 1.4799 - accuracy: 0.6436\n",
            "Epoch 88/200\n",
            "320/320 [==============================] - 10s 31ms/step - loss: 1.4796 - accuracy: 0.6454\n",
            "Epoch 89/200\n",
            "320/320 [==============================] - 10s 31ms/step - loss: 1.4782 - accuracy: 0.6450\n",
            "Epoch 90/200\n",
            "320/320 [==============================] - 10s 31ms/step - loss: 1.4603 - accuracy: 0.6449\n",
            "Epoch 91/200\n",
            "320/320 [==============================] - 10s 31ms/step - loss: 1.4661 - accuracy: 0.6470\n",
            "Epoch 92/200\n",
            "320/320 [==============================] - 10s 31ms/step - loss: 1.4526 - accuracy: 0.6473\n",
            "Epoch 93/200\n",
            "320/320 [==============================] - 10s 31ms/step - loss: 1.4340 - accuracy: 0.6517\n",
            "Epoch 94/200\n",
            "320/320 [==============================] - 10s 31ms/step - loss: 1.4310 - accuracy: 0.6490\n",
            "Epoch 95/200\n",
            "320/320 [==============================] - 10s 31ms/step - loss: 1.4072 - accuracy: 0.6560\n",
            "Epoch 96/200\n",
            "320/320 [==============================] - 10s 31ms/step - loss: 1.4014 - accuracy: 0.6577\n",
            "Epoch 97/200\n",
            "320/320 [==============================] - 10s 31ms/step - loss: 1.4129 - accuracy: 0.6538\n",
            "Epoch 98/200\n",
            "320/320 [==============================] - 10s 31ms/step - loss: 1.3867 - accuracy: 0.6618\n",
            "Epoch 99/200\n",
            "320/320 [==============================] - 10s 31ms/step - loss: 1.4028 - accuracy: 0.6575\n",
            "Epoch 100/200\n",
            "320/320 [==============================] - 10s 31ms/step - loss: 1.3827 - accuracy: 0.6599\n",
            "Epoch 101/200\n",
            "320/320 [==============================] - 10s 31ms/step - loss: 1.3606 - accuracy: 0.6648\n",
            "Epoch 102/200\n",
            "320/320 [==============================] - 10s 31ms/step - loss: 1.3418 - accuracy: 0.6723\n",
            "Epoch 103/200\n",
            "320/320 [==============================] - 10s 31ms/step - loss: 1.3614 - accuracy: 0.6658\n",
            "Epoch 104/200\n",
            "320/320 [==============================] - 10s 31ms/step - loss: 1.3590 - accuracy: 0.6676\n",
            "Epoch 105/200\n",
            "320/320 [==============================] - 10s 31ms/step - loss: 1.3264 - accuracy: 0.6740\n",
            "Epoch 106/200\n",
            "320/320 [==============================] - 10s 31ms/step - loss: 1.3314 - accuracy: 0.6707\n",
            "Epoch 107/200\n",
            "320/320 [==============================] - 10s 31ms/step - loss: 1.3126 - accuracy: 0.6757\n",
            "Epoch 108/200\n",
            "320/320 [==============================] - 10s 31ms/step - loss: 1.3064 - accuracy: 0.6760\n",
            "Epoch 109/200\n",
            "320/320 [==============================] - 10s 31ms/step - loss: 1.3014 - accuracy: 0.6797\n",
            "Epoch 110/200\n",
            "320/320 [==============================] - 10s 31ms/step - loss: 1.2909 - accuracy: 0.6788\n",
            "Epoch 111/200\n",
            "320/320 [==============================] - 10s 31ms/step - loss: 1.2874 - accuracy: 0.6815\n",
            "Epoch 112/200\n",
            "320/320 [==============================] - 10s 31ms/step - loss: 1.2974 - accuracy: 0.6779\n",
            "Epoch 113/200\n",
            "320/320 [==============================] - 10s 31ms/step - loss: 1.2895 - accuracy: 0.6795\n",
            "Epoch 114/200\n",
            "320/320 [==============================] - 10s 31ms/step - loss: 1.2673 - accuracy: 0.6834\n",
            "Epoch 115/200\n",
            "320/320 [==============================] - 10s 31ms/step - loss: 1.2648 - accuracy: 0.6839\n",
            "Epoch 116/200\n",
            "320/320 [==============================] - 10s 31ms/step - loss: 1.2649 - accuracy: 0.6858\n",
            "Epoch 117/200\n",
            "320/320 [==============================] - 10s 31ms/step - loss: 1.2502 - accuracy: 0.6863\n",
            "Epoch 118/200\n",
            "320/320 [==============================] - 10s 31ms/step - loss: 1.2399 - accuracy: 0.6895\n",
            "Epoch 119/200\n",
            "320/320 [==============================] - 10s 31ms/step - loss: 1.2253 - accuracy: 0.6969\n",
            "Epoch 120/200\n",
            "320/320 [==============================] - 10s 31ms/step - loss: 1.2407 - accuracy: 0.6950\n",
            "Epoch 121/200\n",
            "320/320 [==============================] - 10s 31ms/step - loss: 1.2021 - accuracy: 0.7006\n",
            "Epoch 122/200\n",
            "320/320 [==============================] - 10s 31ms/step - loss: 1.2199 - accuracy: 0.6908\n",
            "Epoch 123/200\n",
            "320/320 [==============================] - 10s 31ms/step - loss: 1.2196 - accuracy: 0.6935\n",
            "Epoch 124/200\n",
            "320/320 [==============================] - 10s 31ms/step - loss: 1.2013 - accuracy: 0.6980\n",
            "Epoch 125/200\n",
            "320/320 [==============================] - 10s 31ms/step - loss: 1.1881 - accuracy: 0.7000\n",
            "Epoch 126/200\n",
            "320/320 [==============================] - 10s 31ms/step - loss: 1.1955 - accuracy: 0.6985\n",
            "Epoch 127/200\n",
            "320/320 [==============================] - 10s 31ms/step - loss: 1.1957 - accuracy: 0.6976\n",
            "Epoch 128/200\n",
            "320/320 [==============================] - 10s 31ms/step - loss: 1.1876 - accuracy: 0.7023\n",
            "Epoch 129/200\n",
            "320/320 [==============================] - 10s 31ms/step - loss: 1.1760 - accuracy: 0.7011\n",
            "Epoch 130/200\n",
            "320/320 [==============================] - 10s 31ms/step - loss: 1.1740 - accuracy: 0.7034\n",
            "Epoch 131/200\n",
            "320/320 [==============================] - 10s 31ms/step - loss: 1.1735 - accuracy: 0.7034\n",
            "Epoch 132/200\n",
            "320/320 [==============================] - 10s 31ms/step - loss: 1.1630 - accuracy: 0.7032\n",
            "Epoch 133/200\n",
            "320/320 [==============================] - 10s 31ms/step - loss: 1.1657 - accuracy: 0.7049\n",
            "Epoch 134/200\n",
            "320/320 [==============================] - 10s 31ms/step - loss: 1.1572 - accuracy: 0.7052\n",
            "Epoch 135/200\n",
            "320/320 [==============================] - 10s 31ms/step - loss: 1.1413 - accuracy: 0.7085\n",
            "Epoch 136/200\n",
            "320/320 [==============================] - 10s 31ms/step - loss: 1.1501 - accuracy: 0.7085\n",
            "Epoch 137/200\n",
            "320/320 [==============================] - 10s 31ms/step - loss: 1.1246 - accuracy: 0.7172\n",
            "Epoch 138/200\n",
            "320/320 [==============================] - 10s 31ms/step - loss: 1.1192 - accuracy: 0.7158\n",
            "Epoch 139/200\n",
            "320/320 [==============================] - 10s 31ms/step - loss: 1.1315 - accuracy: 0.7111\n",
            "Epoch 140/200\n",
            "320/320 [==============================] - 10s 31ms/step - loss: 1.1215 - accuracy: 0.7162\n",
            "Epoch 141/200\n",
            "320/320 [==============================] - 10s 31ms/step - loss: 1.1316 - accuracy: 0.7116\n",
            "Epoch 142/200\n",
            "320/320 [==============================] - 10s 31ms/step - loss: 1.1192 - accuracy: 0.7148\n",
            "Epoch 143/200\n",
            "320/320 [==============================] - 10s 31ms/step - loss: 1.1067 - accuracy: 0.7186\n",
            "Epoch 144/200\n",
            "320/320 [==============================] - 10s 31ms/step - loss: 1.1099 - accuracy: 0.7174\n",
            "Epoch 145/200\n",
            "320/320 [==============================] - 10s 31ms/step - loss: 1.1057 - accuracy: 0.7192\n",
            "Epoch 146/200\n",
            "320/320 [==============================] - 10s 31ms/step - loss: 1.1119 - accuracy: 0.7157\n",
            "Epoch 147/200\n",
            "320/320 [==============================] - 10s 31ms/step - loss: 1.0841 - accuracy: 0.7211\n",
            "Epoch 148/200\n",
            "320/320 [==============================] - 10s 31ms/step - loss: 1.0740 - accuracy: 0.7239\n",
            "Epoch 149/200\n",
            "320/320 [==============================] - 10s 31ms/step - loss: 1.0929 - accuracy: 0.7213\n",
            "Epoch 150/200\n",
            "320/320 [==============================] - 10s 31ms/step - loss: 1.0824 - accuracy: 0.7217\n",
            "Epoch 151/200\n",
            "320/320 [==============================] - 10s 31ms/step - loss: 1.0938 - accuracy: 0.7201\n",
            "Epoch 152/200\n",
            "320/320 [==============================] - 10s 31ms/step - loss: 1.0788 - accuracy: 0.7255\n",
            "Epoch 153/200\n",
            "320/320 [==============================] - 10s 31ms/step - loss: 1.0691 - accuracy: 0.7270\n",
            "Epoch 154/200\n",
            "320/320 [==============================] - 10s 31ms/step - loss: 1.0560 - accuracy: 0.7264\n",
            "Epoch 155/200\n",
            "320/320 [==============================] - 10s 31ms/step - loss: 1.0548 - accuracy: 0.7294\n",
            "Epoch 156/200\n",
            "320/320 [==============================] - 10s 31ms/step - loss: 1.0508 - accuracy: 0.7312\n",
            "Epoch 157/200\n",
            "320/320 [==============================] - 10s 31ms/step - loss: 1.0483 - accuracy: 0.7287\n",
            "Epoch 158/200\n",
            "320/320 [==============================] - 10s 31ms/step - loss: 1.0349 - accuracy: 0.7337\n",
            "Epoch 159/200\n",
            "320/320 [==============================] - 10s 31ms/step - loss: 1.0509 - accuracy: 0.7302\n",
            "Epoch 160/200\n",
            "320/320 [==============================] - 10s 31ms/step - loss: 1.0510 - accuracy: 0.7300\n",
            "Epoch 161/200\n",
            "320/320 [==============================] - 10s 31ms/step - loss: 1.0480 - accuracy: 0.7263\n",
            "Epoch 162/200\n",
            "320/320 [==============================] - 10s 31ms/step - loss: 1.0291 - accuracy: 0.7335\n",
            "Epoch 163/200\n",
            "320/320 [==============================] - 10s 31ms/step - loss: 1.0405 - accuracy: 0.7324\n",
            "Epoch 164/200\n",
            "320/320 [==============================] - 10s 31ms/step - loss: 1.0407 - accuracy: 0.7312\n",
            "Epoch 165/200\n",
            "320/320 [==============================] - 10s 31ms/step - loss: 1.0171 - accuracy: 0.7368\n",
            "Epoch 166/200\n",
            "320/320 [==============================] - 10s 31ms/step - loss: 1.0311 - accuracy: 0.7335\n",
            "Epoch 167/200\n",
            "320/320 [==============================] - 10s 31ms/step - loss: 1.0238 - accuracy: 0.7353\n",
            "Epoch 168/200\n",
            "320/320 [==============================] - 10s 31ms/step - loss: 1.0184 - accuracy: 0.7345\n",
            "Epoch 169/200\n",
            "320/320 [==============================] - 10s 31ms/step - loss: 1.0130 - accuracy: 0.7336\n",
            "Epoch 170/200\n",
            "320/320 [==============================] - 10s 31ms/step - loss: 1.0113 - accuracy: 0.7363\n",
            "Epoch 171/200\n",
            "320/320 [==============================] - 10s 31ms/step - loss: 0.9836 - accuracy: 0.7460\n",
            "Epoch 172/200\n",
            "320/320 [==============================] - 10s 31ms/step - loss: 1.0005 - accuracy: 0.7382\n",
            "Epoch 173/200\n",
            "320/320 [==============================] - 10s 31ms/step - loss: 0.9887 - accuracy: 0.7437\n",
            "Epoch 174/200\n",
            "320/320 [==============================] - 10s 31ms/step - loss: 0.9947 - accuracy: 0.7403\n",
            "Epoch 175/200\n",
            "320/320 [==============================] - 10s 31ms/step - loss: 0.9981 - accuracy: 0.7408\n",
            "Epoch 176/200\n",
            "320/320 [==============================] - 10s 31ms/step - loss: 0.9969 - accuracy: 0.7403\n",
            "Epoch 177/200\n",
            "320/320 [==============================] - 10s 31ms/step - loss: 0.9698 - accuracy: 0.7477\n",
            "Epoch 178/200\n",
            "320/320 [==============================] - 10s 31ms/step - loss: 0.9911 - accuracy: 0.7402\n",
            "Epoch 179/200\n",
            "320/320 [==============================] - 10s 31ms/step - loss: 0.9768 - accuracy: 0.7445\n",
            "Epoch 180/200\n",
            "320/320 [==============================] - 10s 31ms/step - loss: 0.9862 - accuracy: 0.7425\n",
            "Epoch 181/200\n",
            "320/320 [==============================] - 10s 31ms/step - loss: 0.9807 - accuracy: 0.7432\n",
            "Epoch 182/200\n",
            "320/320 [==============================] - 10s 31ms/step - loss: 0.9684 - accuracy: 0.7476\n",
            "Epoch 183/200\n",
            "320/320 [==============================] - 10s 31ms/step - loss: 0.9708 - accuracy: 0.7451\n",
            "Epoch 184/200\n",
            "320/320 [==============================] - 10s 31ms/step - loss: 0.9830 - accuracy: 0.7464\n",
            "Epoch 185/200\n",
            "320/320 [==============================] - 10s 31ms/step - loss: 0.9744 - accuracy: 0.7452\n",
            "Epoch 186/200\n",
            "320/320 [==============================] - 10s 31ms/step - loss: 0.9779 - accuracy: 0.7439\n",
            "Epoch 187/200\n",
            "320/320 [==============================] - 10s 31ms/step - loss: 0.9814 - accuracy: 0.7465\n",
            "Epoch 188/200\n",
            "320/320 [==============================] - 10s 31ms/step - loss: 0.9663 - accuracy: 0.7487\n",
            "Epoch 189/200\n",
            "320/320 [==============================] - 10s 31ms/step - loss: 0.9536 - accuracy: 0.7514\n",
            "Epoch 190/200\n",
            "320/320 [==============================] - 10s 31ms/step - loss: 0.9519 - accuracy: 0.7501\n",
            "Epoch 191/200\n",
            "320/320 [==============================] - 10s 31ms/step - loss: 0.9706 - accuracy: 0.7463\n",
            "Epoch 192/200\n",
            "320/320 [==============================] - 10s 31ms/step - loss: 0.9337 - accuracy: 0.7542\n",
            "Epoch 193/200\n",
            "320/320 [==============================] - 10s 31ms/step - loss: 0.9506 - accuracy: 0.7518\n",
            "Epoch 194/200\n",
            "320/320 [==============================] - 10s 31ms/step - loss: 0.9450 - accuracy: 0.7512\n",
            "Epoch 195/200\n",
            "320/320 [==============================] - 10s 31ms/step - loss: 0.9344 - accuracy: 0.7563\n",
            "Epoch 196/200\n",
            "320/320 [==============================] - 10s 31ms/step - loss: 0.9495 - accuracy: 0.7517\n",
            "Epoch 197/200\n",
            "320/320 [==============================] - 10s 31ms/step - loss: 0.9293 - accuracy: 0.7566\n",
            "Epoch 198/200\n",
            "320/320 [==============================] - 10s 31ms/step - loss: 0.9280 - accuracy: 0.7551\n",
            "Epoch 199/200\n",
            "320/320 [==============================] - 10s 31ms/step - loss: 0.9219 - accuracy: 0.7565\n",
            "Epoch 200/200\n",
            "320/320 [==============================] - 10s 31ms/step - loss: 0.9189 - accuracy: 0.7585\n"
          ],
          "name": "stdout"
        }
      ]
    },
    {
      "cell_type": "code",
      "metadata": {
        "colab": {
          "base_uri": "https://localhost:8080/",
          "height": 296
        },
        "id": "ImBWp2JQtHYW",
        "outputId": "64fd9503-555c-4448-e2de-266d6f0e4b38"
      },
      "source": [
        "import matplotlib.pyplot as plt\n",
        "\n",
        "plt.plot(history.history['loss'])\n",
        "plt.xlabel('epoch')\n",
        "plt.ylabel('loss')"
      ],
      "execution_count": 18,
      "outputs": [
        {
          "output_type": "execute_result",
          "data": {
            "text/plain": [
              "Text(0, 0.5, 'loss')"
            ]
          },
          "metadata": {
            "tags": []
          },
          "execution_count": 18
        },
        {
          "output_type": "display_data",
          "data": {
            "image/png": "[encoded data removed]",
            "text/plain": [
              "<Figure size 432x288 with 1 Axes>"
            ]
          },
          "metadata": {
            "tags": [],
            "needs_background": "light"
          }
        }
      ]
    },
    {
      "cell_type": "code",
      "metadata": {
        "id": "oO78Ex9O5lF_"
      },
      "source": [
        "def generateraplyrics():\n",
        "  seed_text  = random.choice(bars)\n",
        "  next_words = 100\n",
        "  token_list = sentence_to_integer(seed_text)\n",
        "  token_list = pad_sequences([token_list], maxlen = padding_length - 1, padding = 'pre')\n",
        "  predicted  = model.predict_classes(token_list, verbose = 0)\n",
        "  lyrics = int_to_word[predicted[0]]\n",
        "  for _ in range(next_words):\n",
        "      token_list = sentence_to_integer(lyrics)\n",
        "      token_list = pad_sequences([token_list], maxlen = padding_length - 1, padding = 'pre')\n",
        "      predicted  = model.predict_classes(token_list, verbose = 0)\n",
        "      lyrics += ' ' + int_to_word[predicted[0]]\n",
        "  return lyrics"
      ],
      "execution_count": 25,
      "outputs": []
    },
    {
      "cell_type": "code",
      "metadata": {
        "colab": {
          "base_uri": "https://localhost:8080/",
          "height": 123
        },
        "id": "ZsQYK-4RxjJB",
        "outputId": "4c2b8351-1f61-43c8-b6c4-f0ac07c73ac3"
      },
      "source": [
        "generateraplyrics()"
      ],
      "execution_count": 26,
      "outputs": [
        {
          "output_type": "stream",
          "text": [
            "/usr/local/lib/python3.7/dist-packages/tensorflow/python/keras/engine/sequential.py:450: UserWarning: `model.predict_classes()` is deprecated and will be removed after 2021-01-01. Please use instead:* `np.argmax(model.predict(x), axis=-1)`,   if your model does multi-class classification   (e.g. if it uses a `softmax` last-layer activation).* `(model.predict(x) > 0.5).astype(\"int32\")`,   if your model does binary classification   (e.g. if it uses a `sigmoid` last-layer activation).\n",
            "  warnings.warn('`model.predict_classes()` is deprecated and '\n"
          ],
          "name": "stderr"
        },
        {
          "output_type": "execute_result",
          "data": {
            "application/vnd.google.colaboratory.intrinsic+json": {
              "type": "string"
            },
            "text/plain": [
              "'in the veins hard to explain how i maintain to put my back in the house so i can i wanna flaunt you thats right with the grime of my ninja frick with the ds crept in blastin him you dont want to slit the clits alot used to lick the clits a lot of problems never be the beamer with the goldie sound like a steelo not my steelo oh no thats not my my steelo oh i steelo not my steelo oh no thats not my no steelo bust my no dough day but this sittin bodies not my'"
            ]
          },
          "metadata": {
            "tags": []
          },
          "execution_count": 26
        }
      ]
    },
    {
      "cell_type": "code",
      "metadata": {
        "id": "Vv4PFZPT56Kh"
      },
      "source": [
        ""
      ],
      "execution_count": null,
      "outputs": []
    }
  ]
}
